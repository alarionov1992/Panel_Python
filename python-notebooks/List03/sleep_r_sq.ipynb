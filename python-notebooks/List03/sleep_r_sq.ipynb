{
 "cells": [
  {
   "cell_type": "code",
   "execution_count": null,
   "id": "6b0656d9",
   "metadata": {},
   "outputs": [],
   "source": [
    "import pandas as pd\n",
    "import numpy as np\n",
    "import statsmodels.formula.api as smf\n",
    "import statsmodels.api as sm"
   ]
  },
  {
   "cell_type": "code",
   "execution_count": null,
   "id": "b22acfd4",
   "metadata": {},
   "outputs": [],
   "source": [
    "df_sleep = pd.read_csv('https://raw.githubusercontent.com/ryupepa/Econometrica/master/python-notebooks/data-csv/sleep75.csv')"
   ]
  },
  {
   "cell_type": "code",
   "execution_count": null,
   "id": "fa237497",
   "metadata": {},
   "outputs": [],
   "source": [
    "# Подгонка модели\n",
    "sleep_eq = smf.ols(formula='sleep~totwrk+age+male+smsa', data=df_sleep).fit()"
   ]
  },
  {
   "cell_type": "markdown",
   "id": "fc682745",
   "metadata": {},
   "source": [
    "## $R^2$ & $adj.R^2$"
   ]
  },
  {
   "cell_type": "code",
   "execution_count": null,
   "id": "58ec891f",
   "metadata": {},
   "outputs": [],
   "source": [
    "# R^2\n",
    "sleep_eq.rsquared"
   ]
  },
  {
   "cell_type": "code",
   "execution_count": null,
   "id": "0765e4b6",
   "metadata": {},
   "outputs": [],
   "source": [
    "# adj R^2\n",
    "sleep_eq.rsquared_adj"
   ]
  },
  {
   "cell_type": "markdown",
   "id": "ece5bc6a",
   "metadata": {},
   "source": [
    "## Суммы квадратов"
   ]
  },
  {
   "cell_type": "code",
   "execution_count": null,
   "id": "ddb171d3",
   "metadata": {},
   "outputs": [],
   "source": [
    "# TSS\n",
    "sleep_eq.centered_tss"
   ]
  },
  {
   "cell_type": "code",
   "execution_count": null,
   "id": "0f7e8b98",
   "metadata": {},
   "outputs": [],
   "source": [
    "# ESS\n",
    "sleep_eq.ess"
   ]
  },
  {
   "cell_type": "code",
   "execution_count": null,
   "id": "0ec7c265",
   "metadata": {},
   "outputs": [],
   "source": [
    "# RSS\n",
    "sleep_eq.ssr"
   ]
  },
  {
   "cell_type": "code",
   "execution_count": null,
   "id": "8f847da0",
   "metadata": {},
   "outputs": [],
   "source": [
    "sleep_eq.mse_resid**0.5"
   ]
  },
  {
   "cell_type": "markdown",
   "id": "3541e88a",
   "metadata": {},
   "source": [
    "## Предсказанные значения и остатки\n",
    "Зададим индексы (индексация начинается с 0!)"
   ]
  },
  {
   "cell_type": "code",
   "execution_count": null,
   "id": "be0b2b93",
   "metadata": {},
   "outputs": [],
   "source": [
    "ind = np.array([1, 4, 6, 10, 508, 700])-1"
   ]
  },
  {
   "cell_type": "code",
   "execution_count": null,
   "id": "16f604cb",
   "metadata": {},
   "outputs": [],
   "source": [
    "# Предсказанные\n",
    "sleep_eq.fittedvalues[ind]"
   ]
  },
  {
   "cell_type": "code",
   "execution_count": null,
   "id": "8ff63a3b",
   "metadata": {},
   "outputs": [],
   "source": [
    "# Остатки\n",
    "sleep_eq.resid[ind]"
   ]
  },
  {
   "cell_type": "code",
   "execution_count": null,
   "id": "7b2d030e",
   "metadata": {},
   "outputs": [],
   "source": [
    "# Фактические\n",
    "df_sleep['sleep'].iloc[ind]"
   ]
  },
  {
   "cell_type": "code",
   "execution_count": null,
   "id": "984dd4b0",
   "metadata": {},
   "outputs": [],
   "source": []
  }
 ],
 "metadata": {
  "kernelspec": {
   "display_name": "Python 3.8.8 ('base')",
   "language": "python",
   "name": "python3"
  },
  "language_info": {
   "codemirror_mode": {
    "name": "ipython",
    "version": 3
   },
   "file_extension": ".py",
   "mimetype": "text/x-python",
   "name": "python",
   "nbconvert_exporter": "python",
   "pygments_lexer": "ipython3",
   "version": "3.8.8"
  },
  "vscode": {
   "interpreter": {
    "hash": "40d3a090f54c6569ab1632332b64b2c03c39dcf918b08424e98f38b5ae0af88f"
   }
  }
 },
 "nbformat": 4,
 "nbformat_minor": 5
}
