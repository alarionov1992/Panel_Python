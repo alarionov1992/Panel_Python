{
 "cells": [
  {
   "cell_type": "markdown",
   "id": "5d687fde",
   "metadata": {},
   "source": [
    "# t-тест в Python"
   ]
  },
  {
   "cell_type": "code",
   "execution_count": 1,
   "id": "d9fa721f",
   "metadata": {},
   "outputs": [],
   "source": [
    "import pandas as pd\n",
    "import numpy as np\n",
    "import statsmodels.formula.api as smf\n",
    "import statsmodels.api as sm\n",
    "from statsmodels.iolib.summary2 import summary_params # вывод результатов тестирования\n",
    "from scipy.stats import t # t-распределение"
   ]
  },
  {
   "cell_type": "markdown",
   "id": "20df6f9c",
   "metadata": {},
   "source": [
    "## Значимость коэффициентов\n",
    "Тестируем гипотезу $H_0:\\beta=0$\n",
    "\n",
    "Тестовая статистика $$t=\\frac{\\hat{\\beta}}{s.e.(\\beta)}$$\n",
    "\n",
    "Критическое $t_{cr}=t_{df=n-k-1}(\\alpha)$"
   ]
  },
  {
   "cell_type": "markdown",
   "id": "7bb176c9",
   "metadata": {},
   "source": [
    "Для набора данных `sleep75` рассмотрим линейную регрессию\n",
    "**sleep на totwrk, age, south, male, smsa, yngkid, marr, union, log(hrwage)**"
   ]
  },
  {
   "cell_type": "code",
   "execution_count": 2,
   "id": "9d5237e2",
   "metadata": {},
   "outputs": [
    {
     "data": {
      "text/plain": [
       "Intercept         3431.804\n",
       "totwrk              -0.158\n",
       "age                  2.437\n",
       "south               78.046\n",
       "male                36.485\n",
       "smsa               -34.965\n",
       "yngkid              50.136\n",
       "marr                54.072\n",
       "union               27.019\n",
       "np.log(hrwage)      -2.727\n",
       "dtype: float64"
      ]
     },
     "execution_count": 2,
     "metadata": {},
     "output_type": "execute_result"
    }
   ],
   "source": [
    "# Загрузим данные\n",
    "df_sleep = pd.read_csv('https://raw.githubusercontent.com/ryupepa/Econometrica/master/python-notebooks/data-csv/sleep75.csv')\n",
    "mod1 = smf.ols(formula='sleep~totwrk+age+south+male+smsa+yngkid+marr+union+np.log(hrwage)', \n",
    "                       data=df_sleep).fit()\n",
    "# коэффициенты\n",
    "mod1.params.round(3)"
   ]
  },
  {
   "cell_type": "code",
   "execution_count": 3,
   "id": "0466d17e",
   "metadata": {},
   "outputs": [
    {
     "data": {
      "text/plain": [
       "(532.0, 9.0, 522.0)"
      ]
     },
     "execution_count": 3,
     "metadata": {},
     "output_type": "execute_result"
    }
   ],
   "source": [
    "# Число наблюдений в модели, число регрессоров и степени свободы для t_cr\n",
    "mod1.nobs, mod1.df_model, mod1.df_resid"
   ]
  },
  {
   "cell_type": "code",
   "execution_count": 4,
   "id": "3d778daf",
   "metadata": {},
   "outputs": [
    {
     "data": {
      "text/plain": [
       "1.9645189418326978"
      ]
     },
     "execution_count": 4,
     "metadata": {},
     "output_type": "execute_result"
    }
   ],
   "source": [
    "# 5%-критическое значение t-распределения\n",
    "t.ppf(q=1-0.05/2, df=mod1.df_resid)"
   ]
  },
  {
   "cell_type": "markdown",
   "id": "495f9bf9",
   "metadata": {},
   "source": [
    "### Значимость выбранных коэффициентов\n",
    "Потестируем значимость $\\beta_{totwrk}$ и $\\beta_{male}$"
   ]
  },
  {
   "cell_type": "code",
   "execution_count": 5,
   "id": "9e850fd9",
   "metadata": {},
   "outputs": [
    {
     "data": {
      "text/plain": [
       "<class 'statsmodels.stats.contrast.ContrastResults'>\n",
       "                             Test for Constraints                             \n",
       "==============================================================================\n",
       "                 coef    std err          t      P>|t|      [0.025      0.975]\n",
       "------------------------------------------------------------------------------\n",
       "c0            -0.1581      0.021     -7.576      0.000      -0.199      -0.117\n",
       "c1            36.4854     43.350      0.842      0.400     -48.677     121.648\n",
       "=============================================================================="
      ]
     },
     "execution_count": 5,
     "metadata": {},
     "output_type": "execute_result"
    }
   ],
   "source": [
    "mod1.t_test('totwrk=0, male=0')"
   ]
  },
  {
   "cell_type": "markdown",
   "id": "dec2766b",
   "metadata": {},
   "source": [
    "### Значимость всех коэффициентов"
   ]
  },
  {
   "cell_type": "code",
   "execution_count": 6,
   "id": "89396645",
   "metadata": {
    "scrolled": true
   },
   "outputs": [
    {
     "data": {
      "text/html": [
       "<div>\n",
       "<style scoped>\n",
       "    .dataframe tbody tr th:only-of-type {\n",
       "        vertical-align: middle;\n",
       "    }\n",
       "\n",
       "    .dataframe tbody tr th {\n",
       "        vertical-align: top;\n",
       "    }\n",
       "\n",
       "    .dataframe thead th {\n",
       "        text-align: right;\n",
       "    }\n",
       "</style>\n",
       "<table border=\"1\" class=\"dataframe\">\n",
       "  <thead>\n",
       "    <tr style=\"text-align: right;\">\n",
       "      <th></th>\n",
       "      <th>Coef.</th>\n",
       "      <th>Std.Err.</th>\n",
       "      <th>t</th>\n",
       "      <th>P&gt;|t|</th>\n",
       "      <th>[0.025</th>\n",
       "      <th>0.975]</th>\n",
       "    </tr>\n",
       "  </thead>\n",
       "  <tbody>\n",
       "    <tr>\n",
       "      <th>Intercept</th>\n",
       "      <td>3431.803558</td>\n",
       "      <td>96.309432</td>\n",
       "      <td>35.633099</td>\n",
       "      <td>6.698446e-142</td>\n",
       "      <td>3242.601854</td>\n",
       "      <td>3621.005262</td>\n",
       "    </tr>\n",
       "    <tr>\n",
       "      <th>totwrk</th>\n",
       "      <td>-0.158079</td>\n",
       "      <td>0.020867</td>\n",
       "      <td>-7.575548</td>\n",
       "      <td>1.638747e-13</td>\n",
       "      <td>-0.199073</td>\n",
       "      <td>-0.117086</td>\n",
       "    </tr>\n",
       "    <tr>\n",
       "      <th>age</th>\n",
       "      <td>2.437082</td>\n",
       "      <td>1.671818</td>\n",
       "      <td>1.457744</td>\n",
       "      <td>1.455125e-01</td>\n",
       "      <td>-0.847236</td>\n",
       "      <td>5.721400</td>\n",
       "    </tr>\n",
       "    <tr>\n",
       "      <th>south</th>\n",
       "      <td>78.046123</td>\n",
       "      <td>45.287154</td>\n",
       "      <td>1.723361</td>\n",
       "      <td>8.541540e-02</td>\n",
       "      <td>-10.921349</td>\n",
       "      <td>167.013595</td>\n",
       "    </tr>\n",
       "    <tr>\n",
       "      <th>male</th>\n",
       "      <td>36.485386</td>\n",
       "      <td>43.350193</td>\n",
       "      <td>0.841643</td>\n",
       "      <td>4.003732e-01</td>\n",
       "      <td>-48.676889</td>\n",
       "      <td>121.647661</td>\n",
       "    </tr>\n",
       "    <tr>\n",
       "      <th>smsa</th>\n",
       "      <td>-34.964643</td>\n",
       "      <td>38.231919</td>\n",
       "      <td>-0.914541</td>\n",
       "      <td>3.608551e-01</td>\n",
       "      <td>-110.071972</td>\n",
       "      <td>40.142686</td>\n",
       "    </tr>\n",
       "    <tr>\n",
       "      <th>yngkid</th>\n",
       "      <td>50.136466</td>\n",
       "      <td>54.789835</td>\n",
       "      <td>0.915069</td>\n",
       "      <td>3.605780e-01</td>\n",
       "      <td>-57.499204</td>\n",
       "      <td>157.772136</td>\n",
       "    </tr>\n",
       "    <tr>\n",
       "      <th>marr</th>\n",
       "      <td>54.071604</td>\n",
       "      <td>46.920123</td>\n",
       "      <td>1.152418</td>\n",
       "      <td>2.496767e-01</td>\n",
       "      <td>-38.103866</td>\n",
       "      <td>146.247073</td>\n",
       "    </tr>\n",
       "    <tr>\n",
       "      <th>union</th>\n",
       "      <td>27.018684</td>\n",
       "      <td>43.044039</td>\n",
       "      <td>0.627699</td>\n",
       "      <td>5.304759e-01</td>\n",
       "      <td>-57.542145</td>\n",
       "      <td>111.579514</td>\n",
       "    </tr>\n",
       "    <tr>\n",
       "      <th>np.log(hrwage)</th>\n",
       "      <td>-2.726776</td>\n",
       "      <td>32.202444</td>\n",
       "      <td>-0.084676</td>\n",
       "      <td>9.325514e-01</td>\n",
       "      <td>-65.989087</td>\n",
       "      <td>60.535535</td>\n",
       "    </tr>\n",
       "  </tbody>\n",
       "</table>\n",
       "</div>"
      ],
      "text/plain": [
       "                      Coef.   Std.Err.          t          P>|t|       [0.025  \\\n",
       "Intercept       3431.803558  96.309432  35.633099  6.698446e-142  3242.601854   \n",
       "totwrk            -0.158079   0.020867  -7.575548   1.638747e-13    -0.199073   \n",
       "age                2.437082   1.671818   1.457744   1.455125e-01    -0.847236   \n",
       "south             78.046123  45.287154   1.723361   8.541540e-02   -10.921349   \n",
       "male              36.485386  43.350193   0.841643   4.003732e-01   -48.676889   \n",
       "smsa             -34.964643  38.231919  -0.914541   3.608551e-01  -110.071972   \n",
       "yngkid            50.136466  54.789835   0.915069   3.605780e-01   -57.499204   \n",
       "marr              54.071604  46.920123   1.152418   2.496767e-01   -38.103866   \n",
       "union             27.018684  43.044039   0.627699   5.304759e-01   -57.542145   \n",
       "np.log(hrwage)    -2.726776  32.202444  -0.084676   9.325514e-01   -65.989087   \n",
       "\n",
       "                     0.975]  \n",
       "Intercept       3621.005262  \n",
       "totwrk            -0.117086  \n",
       "age                5.721400  \n",
       "south            167.013595  \n",
       "male             121.647661  \n",
       "smsa              40.142686  \n",
       "yngkid           157.772136  \n",
       "marr             146.247073  \n",
       "union            111.579514  \n",
       "np.log(hrwage)    60.535535  "
      ]
     },
     "execution_count": 6,
     "metadata": {},
     "output_type": "execute_result"
    }
   ],
   "source": [
    "summary_params(mod1) #.round(3)"
   ]
  },
  {
   "cell_type": "markdown",
   "id": "c9f31fc2",
   "metadata": {},
   "source": [
    "### Отдельные составляющие t-теста "
   ]
  },
  {
   "cell_type": "code",
   "execution_count": 7,
   "id": "ca90451c",
   "metadata": {},
   "outputs": [
    {
     "data": {
      "text/plain": [
       "Intercept         96.309432\n",
       "totwrk             0.020867\n",
       "age                1.671818\n",
       "south             45.287154\n",
       "male              43.350193\n",
       "smsa              38.231919\n",
       "yngkid            54.789835\n",
       "marr              46.920123\n",
       "union             43.044039\n",
       "np.log(hrwage)    32.202444\n",
       "dtype: float64"
      ]
     },
     "execution_count": 7,
     "metadata": {},
     "output_type": "execute_result"
    }
   ],
   "source": [
    "# стандарные ошибки s.e.(beta)\n",
    "mod1.bse"
   ]
  },
  {
   "cell_type": "code",
   "execution_count": 8,
   "id": "2bf85ce3",
   "metadata": {},
   "outputs": [
    {
     "data": {
      "text/plain": [
       "Intercept         35.633099\n",
       "totwrk            -7.575548\n",
       "age                1.457744\n",
       "south              1.723361\n",
       "male               0.841643\n",
       "smsa              -0.914541\n",
       "yngkid             0.915069\n",
       "marr               1.152418\n",
       "union              0.627699\n",
       "np.log(hrwage)    -0.084676\n",
       "dtype: float64"
      ]
     },
     "execution_count": 8,
     "metadata": {},
     "output_type": "execute_result"
    }
   ],
   "source": [
    "# t-статистики\n",
    "mod1.tvalues"
   ]
  },
  {
   "cell_type": "code",
   "execution_count": 9,
   "id": "4dd68baa",
   "metadata": {
    "scrolled": true
   },
   "outputs": [
    {
     "data": {
      "text/plain": [
       "Intercept         6.698446e-142\n",
       "totwrk             1.638747e-13\n",
       "age                1.455125e-01\n",
       "south              8.541540e-02\n",
       "male               4.003732e-01\n",
       "smsa               3.608551e-01\n",
       "yngkid             3.605780e-01\n",
       "marr               2.496767e-01\n",
       "union              5.304759e-01\n",
       "np.log(hrwage)     9.325514e-01\n",
       "dtype: float64"
      ]
     },
     "execution_count": 9,
     "metadata": {},
     "output_type": "execute_result"
    }
   ],
   "source": [
    "# p-values\n",
    "mod1.pvalues"
   ]
  },
  {
   "cell_type": "markdown",
   "id": "42dee16e",
   "metadata": {},
   "source": [
    "## Общий t-тест\n",
    "Тестируем $H_0:\\beta=\\theta$ ($\\theta$ -- заданное число)\n",
    "\n",
    "Тестовая статистика $$t=\\frac{\\hat{\\beta}-\\theta}{s.e.(\\beta)}$$\n",
    "\n",
    "Для набора данных `Labour` рассмотрим регрессию **log(output) на log(capital) и log(labour)**\n"
   ]
  },
  {
   "cell_type": "code",
   "execution_count": 10,
   "id": "e70adf1a",
   "metadata": {},
   "outputs": [
    {
     "data": {
      "text/html": [
       "<div>\n",
       "<style scoped>\n",
       "    .dataframe tbody tr th:only-of-type {\n",
       "        vertical-align: middle;\n",
       "    }\n",
       "\n",
       "    .dataframe tbody tr th {\n",
       "        vertical-align: top;\n",
       "    }\n",
       "\n",
       "    .dataframe thead th {\n",
       "        text-align: right;\n",
       "    }\n",
       "</style>\n",
       "<table border=\"1\" class=\"dataframe\">\n",
       "  <thead>\n",
       "    <tr style=\"text-align: right;\">\n",
       "      <th></th>\n",
       "      <th>Coef.</th>\n",
       "      <th>Std.Err.</th>\n",
       "      <th>t</th>\n",
       "      <th>P&gt;|t|</th>\n",
       "      <th>[0.025</th>\n",
       "      <th>0.975]</th>\n",
       "    </tr>\n",
       "  </thead>\n",
       "  <tbody>\n",
       "    <tr>\n",
       "      <th>Intercept</th>\n",
       "      <td>-1.711459</td>\n",
       "      <td>0.096711</td>\n",
       "      <td>-17.696720</td>\n",
       "      <td>4.187931e-56</td>\n",
       "      <td>-1.901415</td>\n",
       "      <td>-1.521504</td>\n",
       "    </tr>\n",
       "    <tr>\n",
       "      <th>np.log(capital)</th>\n",
       "      <td>0.207570</td>\n",
       "      <td>0.017188</td>\n",
       "      <td>12.076774</td>\n",
       "      <td>4.875689e-30</td>\n",
       "      <td>0.173811</td>\n",
       "      <td>0.241329</td>\n",
       "    </tr>\n",
       "    <tr>\n",
       "      <th>np.log(labour)</th>\n",
       "      <td>0.714847</td>\n",
       "      <td>0.023142</td>\n",
       "      <td>30.890017</td>\n",
       "      <td>1.569331e-123</td>\n",
       "      <td>0.669393</td>\n",
       "      <td>0.760301</td>\n",
       "    </tr>\n",
       "  </tbody>\n",
       "</table>\n",
       "</div>"
      ],
      "text/plain": [
       "                    Coef.  Std.Err.          t          P>|t|    [0.025  \\\n",
       "Intercept       -1.711459  0.096711 -17.696720   4.187931e-56 -1.901415   \n",
       "np.log(capital)  0.207570  0.017188  12.076774   4.875689e-30  0.173811   \n",
       "np.log(labour)   0.714847  0.023142  30.890017  1.569331e-123  0.669393   \n",
       "\n",
       "                   0.975]  \n",
       "Intercept       -1.521504  \n",
       "np.log(capital)  0.241329  \n",
       "np.log(labour)   0.760301  "
      ]
     },
     "execution_count": 10,
     "metadata": {},
     "output_type": "execute_result"
    }
   ],
   "source": [
    "# Загрузим данные\n",
    "df_labour = pd.read_csv('https://raw.githubusercontent.com/ryupepa/Econometrica/master/python-notebooks/data-csv/Labour.csv')\n",
    "# Результаты подгонки\n",
    "mod2 = smf.ols(formula='np.log(output)~np.log(capital)+np.log(labour)', data=df_labour).fit()\n",
    "summary_params(mod2)"
   ]
  },
  {
   "cell_type": "markdown",
   "id": "22fbf9a3",
   "metadata": {},
   "source": [
    "Тестируется гипотеза $H_0:\\beta_{capital}=0.5$ \n",
    "\n",
    "Результаты тестирования"
   ]
  },
  {
   "cell_type": "code",
   "execution_count": 11,
   "id": "e343de00",
   "metadata": {
    "scrolled": true
   },
   "outputs": [
    {
     "data": {
      "text/plain": [
       "<class 'statsmodels.stats.contrast.ContrastResults'>\n",
       "                             Test for Constraints                             \n",
       "==============================================================================\n",
       "                 coef    std err          t      P>|t|      [0.025      0.975]\n",
       "------------------------------------------------------------------------------\n",
       "c0             0.2076      0.017    -17.014      0.000       0.174       0.241\n",
       "=============================================================================="
      ]
     },
     "execution_count": 11,
     "metadata": {},
     "output_type": "execute_result"
    }
   ],
   "source": [
    "mod2.t_test('np.log(capital)=0.5')"
   ]
  },
  {
   "cell_type": "code",
   "execution_count": 12,
   "id": "183538ec",
   "metadata": {
    "scrolled": true
   },
   "outputs": [
    {
     "data": {
      "text/plain": [
       "1.9641641010840298"
      ]
     },
     "execution_count": 12,
     "metadata": {},
     "output_type": "execute_result"
    }
   ],
   "source": [
    "# 5%-критическое значение t-распределения\n",
    "t.ppf(q=1-0.05/2, df=mod2.df_resid)"
   ]
  },
  {
   "cell_type": "markdown",
   "id": "5e2b335c",
   "metadata": {},
   "source": [
    "## Стандарные ошибки коэффициентов\n",
    "Ковариационная матрица коэффициентов $\\hat{V}=s^2(X'X)^{-1}$\n",
    "\n",
    "Её диагоннальные коэффициенто – квадраты стандарных ошибок коэффициентов"
   ]
  },
  {
   "cell_type": "code",
   "execution_count": 13,
   "id": "cb24a369",
   "metadata": {},
   "outputs": [
    {
     "data": {
      "text/html": [
       "<div>\n",
       "<style scoped>\n",
       "    .dataframe tbody tr th:only-of-type {\n",
       "        vertical-align: middle;\n",
       "    }\n",
       "\n",
       "    .dataframe tbody tr th {\n",
       "        vertical-align: top;\n",
       "    }\n",
       "\n",
       "    .dataframe thead th {\n",
       "        text-align: right;\n",
       "    }\n",
       "</style>\n",
       "<table border=\"1\" class=\"dataframe\">\n",
       "  <thead>\n",
       "    <tr style=\"text-align: right;\">\n",
       "      <th></th>\n",
       "      <th>Intercept</th>\n",
       "      <th>np.log(capital)</th>\n",
       "      <th>np.log(labour)</th>\n",
       "    </tr>\n",
       "  </thead>\n",
       "  <tbody>\n",
       "    <tr>\n",
       "      <th>Intercept</th>\n",
       "      <td>0.009353</td>\n",
       "      <td>0.000948</td>\n",
       "      <td>-0.002175</td>\n",
       "    </tr>\n",
       "    <tr>\n",
       "      <th>np.log(capital)</th>\n",
       "      <td>0.000948</td>\n",
       "      <td>0.000295</td>\n",
       "      <td>-0.000267</td>\n",
       "    </tr>\n",
       "    <tr>\n",
       "      <th>np.log(labour)</th>\n",
       "      <td>-0.002175</td>\n",
       "      <td>-0.000267</td>\n",
       "      <td>0.000536</td>\n",
       "    </tr>\n",
       "  </tbody>\n",
       "</table>\n",
       "</div>"
      ],
      "text/plain": [
       "                 Intercept  np.log(capital)  np.log(labour)\n",
       "Intercept         0.009353         0.000948       -0.002175\n",
       "np.log(capital)   0.000948         0.000295       -0.000267\n",
       "np.log(labour)   -0.002175        -0.000267        0.000536"
      ]
     },
     "execution_count": 13,
     "metadata": {},
     "output_type": "execute_result"
    }
   ],
   "source": [
    "# Ковариационная матрица\n",
    "mod2.cov_params()"
   ]
  },
  {
   "cell_type": "code",
   "execution_count": 14,
   "id": "78190c48",
   "metadata": {},
   "outputs": [
    {
     "data": {
      "text/plain": [
       "array([0.00935293, 0.00029541, 0.00053554])"
      ]
     },
     "execution_count": 14,
     "metadata": {},
     "output_type": "execute_result"
    }
   ],
   "source": [
    "## диагональные элементы\n",
    "np.diag(mod2.cov_params())"
   ]
  },
  {
   "cell_type": "code",
   "execution_count": 15,
   "id": "491d05a0",
   "metadata": {},
   "outputs": [
    {
     "data": {
      "text/plain": [
       "array([0.09671054, 0.01718756, 0.02314168])"
      ]
     },
     "execution_count": 15,
     "metadata": {},
     "output_type": "execute_result"
    }
   ],
   "source": [
    "np.diag(mod2.cov_params())**0.5"
   ]
  }
 ],
 "metadata": {
  "kernelspec": {
   "display_name": "Python 3",
   "language": "python",
   "name": "python3"
  },
  "language_info": {
   "codemirror_mode": {
    "name": "ipython",
    "version": 3
   },
   "file_extension": ".py",
   "mimetype": "text/x-python",
   "name": "python",
   "nbconvert_exporter": "python",
   "pygments_lexer": "ipython3",
   "version": "3.8.8"
  }
 },
 "nbformat": 4,
 "nbformat_minor": 5
}
