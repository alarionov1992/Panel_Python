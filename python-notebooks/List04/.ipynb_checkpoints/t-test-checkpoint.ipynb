{
 "cells": [
  {
   "cell_type": "markdown",
   "id": "5d687fde",
   "metadata": {},
   "source": [
    "# t-тест в Python"
   ]
  },
  {
   "cell_type": "code",
   "execution_count": null,
   "id": "d9fa721f",
   "metadata": {},
   "outputs": [],
   "source": [
    "import pandas as pd\n",
    "import numpy as np\n",
    "import statsmodels.formula.api as smf\n",
    "import statsmodels.api as sm\n",
    "from statsmodels.iolib.summary2 import summary_params # вывод результатов тестирования\n",
    "from scipy.stats import t # t-распределение"
   ]
  },
  {
   "cell_type": "markdown",
   "id": "20df6f9c",
   "metadata": {},
   "source": [
    "## Значимость коэффициентов\n",
    "Тестируем гипотезу $H_0:\\beta=0$\n",
    "\n",
    "Тестовая статистика $$t=\\frac{\\hat{\\beta}}{s.e.(\\beta)}$$\n",
    "\n",
    "Критическое $t_{cr}=t_{df=n-k-1}(\\alpha)$"
   ]
  },
  {
   "cell_type": "markdown",
   "id": "7bb176c9",
   "metadata": {},
   "source": [
    "Для набора данных `sleep75` рассмотрим линейную регрессию\n",
    "**sleep на totwrk, age, south, male, smsa, yngkid, marr, union, log(hrwage)**"
   ]
  },
  {
   "cell_type": "code",
   "execution_count": null,
   "id": "9d5237e2",
   "metadata": {},
   "outputs": [],
   "source": [
    "# Загрузим данные\n",
    "df_sleep = pd.read_csv('sleep75.csv')\n",
    "mod1 = smf.ols(formula='sleep~totwrk+age+south+male+smsa+yngkid+marr+union+np.log(hrwage)', \n",
    "                       data=df_sleep).fit()\n",
    "# коэффициенты\n",
    "mod1.params.round(3)"
   ]
  },
  {
   "cell_type": "code",
   "execution_count": null,
   "id": "0466d17e",
   "metadata": {},
   "outputs": [],
   "source": [
    "# Число наблюдений в модели, число регрессоров и степени свободы для t_cr\n",
    "mod1.nobs, mod1.df_model, mod1.df_resid"
   ]
  },
  {
   "cell_type": "code",
   "execution_count": null,
   "id": "3d778daf",
   "metadata": {},
   "outputs": [],
   "source": [
    "# 5%-критическое значение t-распределения\n",
    "t.ppf(q=1-0.05/2, df=mod1.df_resid)"
   ]
  },
  {
   "cell_type": "markdown",
   "id": "495f9bf9",
   "metadata": {},
   "source": [
    "### Значимость выбранных коэффициентов\n",
    "Потестируем значимость $\\beta_{totwrk}$ и $\\beta_{male}$"
   ]
  },
  {
   "cell_type": "code",
   "execution_count": null,
   "id": "9e850fd9",
   "metadata": {},
   "outputs": [],
   "source": [
    "mod1.t_test('totwrk=0, male=0')"
   ]
  },
  {
   "cell_type": "markdown",
   "id": "dec2766b",
   "metadata": {},
   "source": [
    "### Значимость всех коэффициентов"
   ]
  },
  {
   "cell_type": "code",
   "execution_count": null,
   "id": "89396645",
   "metadata": {
    "scrolled": true
   },
   "outputs": [],
   "source": [
    "summary_params(mod1) #.round(3)"
   ]
  },
  {
   "cell_type": "markdown",
   "id": "c9f31fc2",
   "metadata": {},
   "source": [
    "### Отдельные составляющие t-теста "
   ]
  },
  {
   "cell_type": "code",
   "execution_count": null,
   "id": "ca90451c",
   "metadata": {},
   "outputs": [],
   "source": [
    "# стандарные ошибки s.e.(beta)\n",
    "mod1.bse"
   ]
  },
  {
   "cell_type": "code",
   "execution_count": null,
   "id": "2bf85ce3",
   "metadata": {},
   "outputs": [],
   "source": [
    "# t-статистики\n",
    "mod1.tvalues"
   ]
  },
  {
   "cell_type": "code",
   "execution_count": null,
   "id": "4dd68baa",
   "metadata": {
    "scrolled": true
   },
   "outputs": [],
   "source": [
    "# p-values\n",
    "mod1.pvalues"
   ]
  },
  {
   "cell_type": "markdown",
   "id": "42dee16e",
   "metadata": {},
   "source": [
    "## Общий t-тест\n",
    "Тестируем $H_0:\\beta=\\theta$ ($\\theta$ -- заданное число)\n",
    "\n",
    "Тестовая статистика $$t=\\frac{\\hat{\\beta}-\\theta}{s.e.(\\beta)}$$\n",
    "\n",
    "Для набора данных `Labour` рассмотрим регрессию **log(output) на log(capital) и log(labour)**\n"
   ]
  },
  {
   "cell_type": "code",
   "execution_count": null,
   "id": "e70adf1a",
   "metadata": {},
   "outputs": [],
   "source": [
    "# Загрузим данные\n",
    "df_labour = pd.read_csv('Labour.csv')\n",
    "# Результаты подгонки\n",
    "mod2 = smf.ols(formula='np.log(output)~np.log(capital)+np.log(labour)', data=df_labour).fit()\n",
    "summary_params(mod2)"
   ]
  },
  {
   "cell_type": "markdown",
   "id": "22fbf9a3",
   "metadata": {},
   "source": [
    "Тестируется гипотеза $H_0:\\beta_{capital}=0.5$ \n",
    "\n",
    "Результаты тестирования"
   ]
  },
  {
   "cell_type": "code",
   "execution_count": null,
   "id": "e343de00",
   "metadata": {
    "scrolled": true
   },
   "outputs": [],
   "source": [
    "mod2.t_test('np.log(capital)=0.5')"
   ]
  },
  {
   "cell_type": "code",
   "execution_count": null,
   "id": "183538ec",
   "metadata": {
    "scrolled": true
   },
   "outputs": [],
   "source": [
    "# 5%-критическое значение t-распределения\n",
    "t.ppf(q=1-0.05/2, df=mod2.df_resid)"
   ]
  },
  {
   "cell_type": "markdown",
   "id": "5e2b335c",
   "metadata": {},
   "source": [
    "## Стандарные ошибки коэффициентов\n",
    "Ковариационная матрица коэффициентов $\\hat{V}=s^2(X'X)^{-1}$\n",
    "\n",
    "Её диагоннальные коэффициенто – квадраты стандарных ошибок коэффициентов"
   ]
  },
  {
   "cell_type": "code",
   "execution_count": null,
   "id": "cb24a369",
   "metadata": {},
   "outputs": [],
   "source": [
    "# Ковариационная матрица\n",
    "mod2.cov_params()"
   ]
  },
  {
   "cell_type": "code",
   "execution_count": null,
   "id": "78190c48",
   "metadata": {},
   "outputs": [],
   "source": [
    "## диагональные элементы\n",
    "np.diag(mod2.cov_params())"
   ]
  },
  {
   "cell_type": "code",
   "execution_count": null,
   "id": "491d05a0",
   "metadata": {},
   "outputs": [],
   "source": [
    "np.diag(mod2.cov_params())**0.5"
   ]
  }
 ],
 "metadata": {
  "kernelspec": {
   "display_name": "Python 3",
   "language": "python",
   "name": "python3"
  },
  "language_info": {
   "codemirror_mode": {
    "name": "ipython",
    "version": 3
   },
   "file_extension": ".py",
   "mimetype": "text/x-python",
   "name": "python",
   "nbconvert_exporter": "python",
   "pygments_lexer": "ipython3",
   "version": "3.8.8"
  }
 },
 "nbformat": 4,
 "nbformat_minor": 5
}
