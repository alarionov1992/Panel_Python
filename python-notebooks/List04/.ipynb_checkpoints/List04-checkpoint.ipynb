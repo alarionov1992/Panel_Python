{
 "cells": [
  {
   "cell_type": "code",
   "execution_count": null,
   "id": "950dc801",
   "metadata": {},
   "outputs": [],
   "source": [
    "import numpy as np\n",
    "import pandas as pd\n",
    "import io\n",
    "import statsmodels.formula.api as smf\n",
    "import scipy.stats as stats"
   ]
  },
  {
   "cell_type": "markdown",
   "id": "8362f73c",
   "metadata": {},
   "source": [
    "## Решение задачи 1.1 из [Листка 04](https://nbviewer.org/github/artamonoff/Econometrica/blob/master/%D0%97%D0%B0%D0%B4%D0%B0%D1%87%D0%B8/List04-t-test.html)"
   ]
  },
  {
   "cell_type": "code",
   "execution_count": null,
   "id": "c2b5ab72",
   "metadata": {},
   "outputs": [],
   "source": [
    "date_string = '''Estimate Std. Error\n",
    "(Intercept) 3446.830     81.840\n",
    "totwrk        -0.169      0.018\n",
    "age            2.714      1.472\n",
    "south        102.272     41.925\n",
    "male          87.108     35.173\n",
    "smsa         -54.188     33.193\n",
    "yngkid       -13.051     50.459\n",
    "marr          31.360     42.263\n",
    "union         11.866     38.186'''"
   ]
  },
  {
   "cell_type": "code",
   "execution_count": null,
   "id": "b67a2c27",
   "metadata": {},
   "outputs": [],
   "source": [
    "df = pd.read_csv(io.StringIO(date_string), sep='\\s+')\n",
    "df"
   ]
  },
  {
   "cell_type": "markdown",
   "id": "a6c9a9a0",
   "metadata": {},
   "source": [
    "#### Тестируем гипотезу $$H_0:\\beta_{j}=0$$  $$H_1:\\beta_{j}\\ne 0$$ \n",
    "\n",
    "\n",
    "###### в столбце $Std.$: $\\hat{\\beta}_{j}$\n",
    "\n",
    "###### в столбце $Error$: $s.e.(\\beta_{j})$\n",
    "\n",
    "###### в столбце $t$:  $t$-value, $\\displaystyle t=\\frac{\\hat{\\beta_j}}{s.e.(\\beta_j)}$"
   ]
  },
  {
   "cell_type": "code",
   "execution_count": null,
   "id": "3bb78d0b",
   "metadata": {},
   "outputs": [],
   "source": [
    "df['t_value'] = df['Std.']/df['Error']"
   ]
  },
  {
   "cell_type": "code",
   "execution_count": null,
   "id": "68c22b42",
   "metadata": {},
   "outputs": [],
   "source": [
    "df"
   ]
  },
  {
   "cell_type": "markdown",
   "id": "f110be4a",
   "metadata": {},
   "source": [
    "Табличный критерий Стьюдента для $$\\alpha = 0.5$$, степеней свободы \n",
    "$$n-k$$\n",
    "n -- количество наблюдений -- 707\n",
    "k -- количество регрессоров +1 -- 9\n",
    "Тест двухсторонний, поэтому указываем значение \n",
    "$$\n",
    "1 - \\frac{\\alpha}{2}\n",
    "$$\n",
    "\n",
    "\n"
   ]
  },
  {
   "cell_type": "code",
   "execution_count": null,
   "id": "6e83514a",
   "metadata": {},
   "outputs": [],
   "source": [
    "t_critil = stats.t.ppf(1 - 0.025, 707 - 9)\n",
    "t_critil"
   ]
  },
  {
   "cell_type": "code",
   "execution_count": null,
   "id": "255f58e1",
   "metadata": {},
   "outputs": [],
   "source": [
    "df['znachimost'] = df.apply(lambda x: 'znachimo' if np.abs(x['t_value']) > t_critil else 'ne_znachimo', axis=1 )\n",
    "df"
   ]
  }
 ],
 "metadata": {
  "kernelspec": {
   "display_name": "Python 3 (ipykernel)",
   "language": "python",
   "name": "python3"
  },
  "language_info": {
   "codemirror_mode": {
    "name": "ipython",
    "version": 3
   },
   "file_extension": ".py",
   "mimetype": "text/x-python",
   "name": "python",
   "nbconvert_exporter": "python",
   "pygments_lexer": "ipython3",
   "version": "3.9.7"
  }
 },
 "nbformat": 4,
 "nbformat_minor": 5
}
