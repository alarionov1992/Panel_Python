{
 "cells": [
  {
   "cell_type": "markdown",
   "id": "e26c1d7d",
   "metadata": {},
   "source": [
    "# F-тест: Совместная значимость\n",
    "Тестируется гипотеза\n",
    "$$H_0:\\beta_1=\\cdots=\\beta_J=0 $$\n",
    "Тестовая статистика (неробастная) $$F=\\frac{R^2-R^2_{restr}}{1-R^2}\\cdot\\frac{n-k-1}{J}=\\frac{RSS_{restr}-RSS}{RSS}\\cdot\\frac{n-k-1}{J}$$\n",
    "$R^2_{restr}, RSS_{restr}$ – из промежуточной регрессии с ограничениями\n",
    "\n",
    "Критическое значение $$F_{cr}=F_{df1=J, df2=n-k-1}(\\alpha)$$\n",
    "\n",
    "Гипотеза отвергается если $F>F_{cr}$ или $P<\\alpha$"
   ]
  },
  {
   "cell_type": "code",
   "execution_count": null,
   "id": "2c972816",
   "metadata": {},
   "outputs": [],
   "source": [
    "import pandas as pd\n",
    "import numpy as np\n",
    "import statsmodels.formula.api as smf\n",
    "import statsmodels.api as sm\n",
    "from statsmodels.iolib.summary2 import summary_col # вывод подгонки\n",
    "from scipy.stats import f # F-распределение"
   ]
  },
  {
   "cell_type": "markdown",
   "id": "065e7ecd",
   "metadata": {},
   "source": [
    "## Sleep equation 1\n",
    "Для датасета `sleep75` рассмотрим регрессию **sleep на totwrk, age, male, south, smsa, yngkid, marr, union**\n",
    "\n",
    "Результаты подгонки"
   ]
  },
  {
   "cell_type": "code",
   "execution_count": null,
   "id": "5606f49a",
   "metadata": {},
   "outputs": [],
   "source": [
    "sleep_df = pd.read_csv('https://raw.githubusercontent.com/artamonoff/Econometrica/master/python-notebooks/data-csv/sleep75.csv')\n",
    "mod1 = smf.ols(formula='sleep~totwrk+age+male+south+smsa+yngkid+marr+union', data=sleep_df).fit()\n",
    "summary_col(mod1, stars=True)"
   ]
  },
  {
   "cell_type": "markdown",
   "id": "1aabd8ee",
   "metadata": {},
   "source": [
    "Потестируем совместную значимость `smsa, yngkid, marr, union`, т.е. гипотезу\n",
    "$$H_0:\\beta_{smsa}=\\beta_{yngkid}=\\beta_{marr}=\\beta_{union}=0$$\n",
    "Критическое значений: df1=4, df2=n-k-1"
   ]
  },
  {
   "cell_type": "code",
   "execution_count": null,
   "id": "b45b72c1",
   "metadata": {},
   "outputs": [],
   "source": [
    "f.ppf(q=1-0.05, dfn=4, dfd=mod1.df_resid)"
   ]
  },
  {
   "cell_type": "markdown",
   "id": "d7ef39bb",
   "metadata": {},
   "source": [
    "### Первый способ: через спецификацию гипотезы"
   ]
  },
  {
   "cell_type": "code",
   "execution_count": null,
   "id": "5df9ae8e",
   "metadata": {},
   "outputs": [],
   "source": [
    "print( mod1.f_test('smsa=yngkid=marr=union=0') )"
   ]
  },
  {
   "cell_type": "code",
   "execution_count": null,
   "id": "63ecb90f",
   "metadata": {},
   "outputs": [],
   "source": [
    "print( mod1.wald_test('smsa=yngkid=marr=union=0', use_f=True) )"
   ]
  },
  {
   "cell_type": "markdown",
   "id": "36142b1d",
   "metadata": {},
   "source": [
    "### Второй способ: через вспомогательную регрессию в ограничениями"
   ]
  },
  {
   "cell_type": "code",
   "execution_count": null,
   "id": "ca97bbe2",
   "metadata": {},
   "outputs": [],
   "source": [
    "mod1_restr = smf.ols(formula='sleep~totwrk+age+male+south', data=sleep_df).fit()\n",
    "mod1.compare_f_test(mod1_restr)"
   ]
  },
  {
   "cell_type": "markdown",
   "id": "d04c9346",
   "metadata": {},
   "source": [
    "### Явное вычисление"
   ]
  },
  {
   "cell_type": "code",
   "execution_count": null,
   "id": "431a5670",
   "metadata": {},
   "outputs": [],
   "source": [
    "(mod1.rsquared-mod1_restr.rsquared)/(1-mod1.rsquared)*mod1.df_resid/4"
   ]
  },
  {
   "cell_type": "code",
   "execution_count": null,
   "id": "0bc495d0",
   "metadata": {},
   "outputs": [],
   "source": [
    "(mod1_restr.ssr-mod1.ssr)/mod1.ssr*mod1.df_resid/4"
   ]
  }
 ],
 "metadata": {
  "kernelspec": {
   "display_name": "Python 3 (ipykernel)",
   "language": "python",
   "name": "python3"
  },
  "language_info": {
   "codemirror_mode": {
    "name": "ipython",
    "version": 3
   },
   "file_extension": ".py",
   "mimetype": "text/x-python",
   "name": "python",
   "nbconvert_exporter": "python",
   "pygments_lexer": "ipython3",
   "version": "3.9.16"
  }
 },
 "nbformat": 4,
 "nbformat_minor": 5
}
