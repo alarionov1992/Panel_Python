{
 "cells": [
  {
   "cell_type": "markdown",
   "id": "94fad690",
   "metadata": {},
   "source": [
    "# F-тест: Линейные ограничения\n",
    "Тестируется гипотеза о линейных ограничения на коэффициенты (в матричной форме)\n",
    "$$H_0: R\\beta=q$$\n",
    "Тестовая статистика (неробастная) $$F=\\frac{1}{J}(R\\hat{\\beta}-q)^\\top(R\\hat{V}R^\\top)^{-1} (R\\hat{\\beta}-q)\\quad \\hat{V}=s^2(X^\\top X)^{-1}$$\n",
    "\n",
    "\n",
    "Критическое значения ($J$ – число независимых ограничений) $$F_{cr}=F_{df1=J, df2=n-k-1}(\\alpha)$$\n",
    "\n",
    "Гипотеза отвергается если $F>F_{cr}$ или $P<\\alpha$"
   ]
  },
  {
   "cell_type": "code",
   "execution_count": null,
   "id": "3422bb73",
   "metadata": {},
   "outputs": [],
   "source": [
    "import pandas as pd\n",
    "import numpy as np\n",
    "import statsmodels.formula.api as smf\n",
    "import statsmodels.api as sm\n",
    "from statsmodels.iolib.summary2 import summary_col # вывод подгонки\n",
    "from scipy.stats import f # F-распределение"
   ]
  },
  {
   "cell_type": "markdown",
   "id": "91891117",
   "metadata": {},
   "source": [
    "## Output equation\n",
    "Для набора данных `Labour` рассмотрим линейную регрессию **log(output) на log(capital), log(labour), log(wage)**\n",
    "\n",
    "Вектор коэффициентов для этой модели $$\\beta=\\begin{pmatrix} const & \\beta_{capital} & \\beta_{labour} & \\beta_{wage} \\end{pmatrix}^\\top$$\n",
    "\n",
    "Результаты подгонки"
   ]
  },
  {
   "cell_type": "code",
   "execution_count": null,
   "id": "4729565b",
   "metadata": {},
   "outputs": [],
   "source": [
    "labour_df = pd.read_csv('https://raw.githubusercontent.com/artamonoff/Econometrica/master/python-notebooks/data-csv/Labour.csv')\n",
    "mod = smf.ols(formula='np.log(output)~np.log(capital)+np.log(labour)+np.log(wage)', data=labour_df).fit()\n",
    "mod.summary(slim=True)"
   ]
  },
  {
   "cell_type": "markdown",
   "id": "34ecd9a1",
   "metadata": {},
   "source": [
    "### Гипотеза 1\n",
    "Тестируем $H_0:\\beta_{capital}+\\beta_{labour}+\\beta_{wage}=1$"
   ]
  },
  {
   "cell_type": "code",
   "execution_count": null,
   "id": "ee663190",
   "metadata": {},
   "outputs": [],
   "source": [
    "print( mod.f_test('np.log(capital)+np.log(labour)+np.log(wage)=1') )"
   ]
  },
  {
   "cell_type": "code",
   "execution_count": null,
   "id": "366ed71d",
   "metadata": {},
   "outputs": [],
   "source": [
    "# критическое значени\n",
    "f.ppf(q=1-0.05, dfn=1, dfd=mod.df_resid)"
   ]
  },
  {
   "cell_type": "markdown",
   "id": "fce778b1",
   "metadata": {},
   "source": [
    "*Техничекие подробности*: Запишем ограничение в матричном виде $R\\beta=q$ как систему линейных уравнений. Имеем\n",
    "\\begin{align}\n",
    "    R&=\\begin{pmatrix} 0 & 1 & 1& 1 \\end{pmatrix}&  q&=1\n",
    "\\end{align}"
   ]
  },
  {
   "cell_type": "code",
   "execution_count": null,
   "id": "f9326b56",
   "metadata": {},
   "outputs": [],
   "source": [
    " print( mod.f_test( r_matrix=([0, 1, 1, 1], 1) ) )"
   ]
  },
  {
   "cell_type": "markdown",
   "id": "7c265865",
   "metadata": {},
   "source": [
    "### Гипотеза 2\n",
    "Тестируем $H_0:\\beta_{capital}=\\beta_{labour}$ \n",
    "\n",
    "Альтернативная запись $H_0:\\beta_{capital}-\\beta_{labour}=0$"
   ]
  },
  {
   "cell_type": "code",
   "execution_count": null,
   "id": "039f3ab4",
   "metadata": {},
   "outputs": [],
   "source": [
    "print( mod.f_test('np.log(capital)=np.log(labour)') )"
   ]
  },
  {
   "cell_type": "code",
   "execution_count": null,
   "id": "21cb3e9c",
   "metadata": {},
   "outputs": [],
   "source": [
    "# критическое значени\n",
    "f.ppf(q=1-0.05, dfn=1, dfd=mod.df_resid)"
   ]
  },
  {
   "cell_type": "markdown",
   "id": "8660ecf3",
   "metadata": {},
   "source": [
    "*Техничекие подробности*: Запишем ограничение в матричном виде $R\\beta=q$ как систему линейных уравнений. Имеем\n",
    "\\begin{align}\n",
    "    R&=\\begin{pmatrix} 0 & 1 & -1& 0 \\end{pmatrix}&  q&=0\n",
    "\\end{align}"
   ]
  },
  {
   "cell_type": "code",
   "execution_count": null,
   "id": "166657f9",
   "metadata": {},
   "outputs": [],
   "source": [
    " print( mod.f_test( r_matrix=([0, 1, -1, 0], 0) ) )"
   ]
  }
 ],
 "metadata": {
  "kernelspec": {
   "display_name": "Python 3 (ipykernel)",
   "language": "python",
   "name": "python3"
  },
  "language_info": {
   "codemirror_mode": {
    "name": "ipython",
    "version": 3
   },
   "file_extension": ".py",
   "mimetype": "text/x-python",
   "name": "python",
   "nbconvert_exporter": "python",
   "pygments_lexer": "ipython3",
   "version": "3.9.16"
  }
 },
 "nbformat": 4,
 "nbformat_minor": 5
}
