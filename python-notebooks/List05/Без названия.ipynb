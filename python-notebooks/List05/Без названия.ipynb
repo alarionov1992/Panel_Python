{
 "cells": [
  {
   "cell_type": "code",
   "execution_count": 1,
   "id": "b56a3d24",
   "metadata": {},
   "outputs": [],
   "source": [
    "import pandas as pd\n",
    "import numpy as np\n",
    "import io\n",
    "import statsmodels.formula.api as smf\n",
    "import scipy.stats as stats"
   ]
  },
  {
   "cell_type": "code",
   "execution_count": 8,
   "id": "b4a8e742",
   "metadata": {},
   "outputs": [],
   "source": [
    "date_string = '''log(q)                       0.403          (0.032)          \n",
    "                                               \n",
    "I(log(q)2)                   0.030***          (0.002)          \n",
    "                                               \n",
    "log(pf)                      0.685***          (0.043)          \n",
    "                                               \n",
    "log(pl)                       0.146**          (0.070)          \n",
    "                                               \n",
    "log(pk)                      0.157***          (0.058)          \n",
    "                                               \n",
    "Constant                     -6.739***         (0.706)          \n",
    "                                       '''"
   ]
  },
  {
   "cell_type": "code",
   "execution_count": 9,
   "id": "248d8441",
   "metadata": {},
   "outputs": [],
   "source": [
    "df = pd.read_csv(io.StringIO(date_string), header=None, index_col=0, sep='\\s+')"
   ]
  },
  {
   "cell_type": "code",
   "execution_count": 10,
   "id": "29932323",
   "metadata": {},
   "outputs": [
    {
     "data": {
      "text/html": [
       "<div>\n",
       "<style scoped>\n",
       "    .dataframe tbody tr th:only-of-type {\n",
       "        vertical-align: middle;\n",
       "    }\n",
       "\n",
       "    .dataframe tbody tr th {\n",
       "        vertical-align: top;\n",
       "    }\n",
       "\n",
       "    .dataframe thead th {\n",
       "        text-align: right;\n",
       "    }\n",
       "</style>\n",
       "<table border=\"1\" class=\"dataframe\">\n",
       "  <thead>\n",
       "    <tr style=\"text-align: right;\">\n",
       "      <th></th>\n",
       "      <th>1</th>\n",
       "      <th>2</th>\n",
       "    </tr>\n",
       "    <tr>\n",
       "      <th>0</th>\n",
       "      <th></th>\n",
       "      <th></th>\n",
       "    </tr>\n",
       "  </thead>\n",
       "  <tbody>\n",
       "    <tr>\n",
       "      <th>log(q)</th>\n",
       "      <td>0.403***</td>\n",
       "      <td>(0.032)</td>\n",
       "    </tr>\n",
       "    <tr>\n",
       "      <th>I(log(q)2)</th>\n",
       "      <td>0.030***</td>\n",
       "      <td>(0.002)</td>\n",
       "    </tr>\n",
       "    <tr>\n",
       "      <th>log(pf)</th>\n",
       "      <td>0.685***</td>\n",
       "      <td>(0.043)</td>\n",
       "    </tr>\n",
       "    <tr>\n",
       "      <th>log(pl)</th>\n",
       "      <td>0.146**</td>\n",
       "      <td>(0.070)</td>\n",
       "    </tr>\n",
       "    <tr>\n",
       "      <th>log(pk)</th>\n",
       "      <td>0.157***</td>\n",
       "      <td>(0.058)</td>\n",
       "    </tr>\n",
       "    <tr>\n",
       "      <th>Constant</th>\n",
       "      <td>-6.739***</td>\n",
       "      <td>(0.706)</td>\n",
       "    </tr>\n",
       "  </tbody>\n",
       "</table>\n",
       "</div>"
      ],
      "text/plain": [
       "                    1        2\n",
       "0                             \n",
       "log(q)       0.403***  (0.032)\n",
       "I(log(q)2)   0.030***  (0.002)\n",
       "log(pf)      0.685***  (0.043)\n",
       "log(pl)       0.146**  (0.070)\n",
       "log(pk)      0.157***  (0.058)\n",
       "Constant    -6.739***  (0.706)"
      ]
     },
     "execution_count": 10,
     "metadata": {},
     "output_type": "execute_result"
    }
   ],
   "source": [
    "df"
   ]
  },
  {
   "cell_type": "code",
   "execution_count": null,
   "id": "f9d04e09",
   "metadata": {},
   "outputs": [],
   "source": []
  }
 ],
 "metadata": {
  "kernelspec": {
   "display_name": "Python 3",
   "language": "python",
   "name": "python3"
  },
  "language_info": {
   "codemirror_mode": {
    "name": "ipython",
    "version": 3
   },
   "file_extension": ".py",
   "mimetype": "text/x-python",
   "name": "python",
   "nbconvert_exporter": "python",
   "pygments_lexer": "ipython3",
   "version": "3.8.8"
  }
 },
 "nbformat": 4,
 "nbformat_minor": 5
}
