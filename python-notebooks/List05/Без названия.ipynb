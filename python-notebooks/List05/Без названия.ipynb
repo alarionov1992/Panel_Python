{
 "cells": [
  {
   "cell_type": "code",
   "execution_count": 12,
   "id": "b56a3d24",
   "metadata": {},
   "outputs": [],
   "source": [
    "import pandas as pd\n",
    "import numpy as np\n",
    "import io\n",
    "import statsmodels.formula.api as smf\n",
    "import scipy.stats as stats"
   ]
  },
  {
   "cell_type": "code",
   "execution_count": 8,
   "id": "b4a8e742",
   "metadata": {},
   "outputs": [],
   "source": [
    "date_string = '''log(q)                       0.403          (0.032)          \n",
    "                                               \n",
    "I(log(q)2)                   0.030***          (0.002)          \n",
    "                                               \n",
    "log(pf)                      0.685***          (0.043)          \n",
    "                                               \n",
    "log(pl)                       0.146**          (0.070)          \n",
    "                                               \n",
    "log(pk)                      0.157***          (0.058)          \n",
    "                                               \n",
    "Constant                     -6.739***         (0.706)          \n",
    "                                       '''"
   ]
  },
  {
   "cell_type": "code",
   "execution_count": 9,
   "id": "248d8441",
   "metadata": {},
   "outputs": [],
   "source": [
    "df = pd.read_csv(io.StringIO(date_string), header=None, index_col=0, sep='\\s+')"
   ]
  },
  {
   "cell_type": "code",
   "execution_count": 10,
   "id": "29932323",
   "metadata": {},
   "outputs": [
    {
     "data": {
      "text/html": [
       "<div>\n",
       "<style scoped>\n",
       "    .dataframe tbody tr th:only-of-type {\n",
       "        vertical-align: middle;\n",
       "    }\n",
       "\n",
       "    .dataframe tbody tr th {\n",
       "        vertical-align: top;\n",
       "    }\n",
       "\n",
       "    .dataframe thead th {\n",
       "        text-align: right;\n",
       "    }\n",
       "</style>\n",
       "<table border=\"1\" class=\"dataframe\">\n",
       "  <thead>\n",
       "    <tr style=\"text-align: right;\">\n",
       "      <th></th>\n",
       "      <th>1</th>\n",
       "      <th>2</th>\n",
       "    </tr>\n",
       "    <tr>\n",
       "      <th>0</th>\n",
       "      <th></th>\n",
       "      <th></th>\n",
       "    </tr>\n",
       "  </thead>\n",
       "  <tbody>\n",
       "    <tr>\n",
       "      <th>log(q)</th>\n",
       "      <td>0.403***</td>\n",
       "      <td>(0.032)</td>\n",
       "    </tr>\n",
       "    <tr>\n",
       "      <th>I(log(q)2)</th>\n",
       "      <td>0.030***</td>\n",
       "      <td>(0.002)</td>\n",
       "    </tr>\n",
       "    <tr>\n",
       "      <th>log(pf)</th>\n",
       "      <td>0.685***</td>\n",
       "      <td>(0.043)</td>\n",
       "    </tr>\n",
       "    <tr>\n",
       "      <th>log(pl)</th>\n",
       "      <td>0.146**</td>\n",
       "      <td>(0.070)</td>\n",
       "    </tr>\n",
       "    <tr>\n",
       "      <th>log(pk)</th>\n",
       "      <td>0.157***</td>\n",
       "      <td>(0.058)</td>\n",
       "    </tr>\n",
       "    <tr>\n",
       "      <th>Constant</th>\n",
       "      <td>-6.739***</td>\n",
       "      <td>(0.706)</td>\n",
       "    </tr>\n",
       "  </tbody>\n",
       "</table>\n",
       "</div>"
      ],
      "text/plain": [
       "                    1        2\n",
       "0                             \n",
       "log(q)       0.403***  (0.032)\n",
       "I(log(q)2)   0.030***  (0.002)\n",
       "log(pf)      0.685***  (0.043)\n",
       "log(pl)       0.146**  (0.070)\n",
       "log(pk)      0.157***  (0.058)\n",
       "Constant    -6.739***  (0.706)"
      ]
     },
     "execution_count": 10,
     "metadata": {},
     "output_type": "execute_result"
    }
   ],
   "source": [
    "df"
   ]
  },
  {
   "cell_type": "code",
   "execution_count": 10,
   "id": "f9d04e09",
   "metadata": {},
   "outputs": [
    {
     "data": {
      "text/plain": [
       "'\\\\begin{table}[!htbp] \\\\centering\\n\\\\begin{tabular}{@{\\\\extracolsep{5pt}}lcc}\\n\\\\\\\\[-1.8ex]\\\\hline\\n\\\\hline \\\\\\\\[-1.8ex]\\n& \\\\multicolumn{2}{c}{\\\\textit{Dependent variable:}} \\\\\\n\\\\cr \\\\cline{2-3}\\n\\\\\\\\[-1.8ex] & (1) & (2) \\\\\\\\\\n\\\\hline \\\\\\\\[-1.8ex]\\n ABP & 416.674$^{***}$ & 397.583$^{***}$ \\\\\\\\\\n  & (69.495) & (70.870) \\\\\\\\\\n Age & 37.241$^{}$ & 24.704$^{}$ \\\\\\\\\\n  & (64.117) & (65.411) \\\\\\\\\\n BMI & 787.179$^{***}$ & 789.742$^{***}$ \\\\\\\\\\n  & (65.424) & (66.887) \\\\\\\\\\n S1 & & 197.852$^{}$ \\\\\\\\\\n  & & (143.812) \\\\\\\\\\n S2 & & -169.251$^{}$ \\\\\\\\\\n  & & (142.744) \\\\\\\\\\n Sex & -106.578$^{*}$ & -82.862$^{}$ \\\\\\\\\\n  & (62.125) & (64.851) \\\\\\\\\\n const & 152.133$^{***}$ & 152.133$^{***}$ \\\\\\\\\\n  & (2.853) & (2.853) \\\\\\\\\\n\\\\hline \\\\\\\\[-1.8ex]\\n Observations & 442 & 442 \\\\\\\\\\n $R^2$ & 0.400 & 0.403 \\\\\\\\\\n Adjusted $R^2$ & 0.395 & 0.395 \\\\\\\\\\n Residual Std. Error & 59.976(df = 437) & 59.982(df = 435)  \\\\\\\\\\n F Statistic & 72.913$^{***}$ (df = 4.0; 437.0) & 48.915$^{***}$ (df = 6.0; 435.0) \\\\\\\\\\n\\\\hline\\n\\\\hline \\\\\\\\[-1.8ex]\\n\\\\textit{Note:} & \\\\multicolumn{2}{r}{$^{*}$p$<$0.1; $^{**}$p$<$0.05; $^{***}$p$<$0.01} \\\\\\\\\\n\\\\end{tabular}\\n\\\\end{table}'"
      ]
     },
     "execution_count": 10,
     "metadata": {},
     "output_type": "execute_result"
    }
   ],
   "source": [
    "import pandas as pd\n",
    "from sklearn import datasets\n",
    "import statsmodels.api as sm\n",
    "from stargazer.stargazer import Stargazer\n",
    "\n",
    "diabetes = datasets.load_diabetes()\n",
    "df = pd.DataFrame(diabetes.data)\n",
    "df.columns = ['Age', 'Sex', 'BMI', 'ABP', 'S1', 'S2', 'S3', 'S4', 'S5', 'S6']\n",
    "df['target'] = diabetes.target\n",
    "\n",
    "est = sm.OLS(endog=df['target'], exog=sm.add_constant(df[df.columns[0:4]])).fit()\n",
    "est2 = sm.OLS(endog=df['target'], exog=sm.add_constant(df[df.columns[0:6]])).fit()\n",
    "\n",
    "\n",
    "stargazer = Stargazer([est, est2])\n",
    "stargazer.render_latex() "
   ]
  },
  {
   "cell_type": "code",
   "execution_count": 9,
   "id": "3766f810",
   "metadata": {},
   "outputs": [
    {
     "data": {
      "text/plain": [
       "'<table style=\"text-align:center\"><tr><td colspan=\"3\" style=\"border-bottom: 1px solid black\"></td></tr><tr><td style=\"text-align:left\"></td><td colspan=\"2\"><em>Dependent variable:target</em></td></tr><tr><td style=\"text-align:left\"></td><tr><td style=\"text-align:left\"></td><td>(1)</td><td>(2)</td></tr><tr><td colspan=\"3\" style=\"border-bottom: 1px solid black\"></td></tr><tr><td style=\"text-align:left\">ABP</td><td>416.674<sup>***</sup></td><td>397.583<sup>***</sup></td></tr><tr><td style=\"text-align:left\"></td><td>(69.495)</td><td>(70.870)</td></tr><tr><td style=\"text-align:left\">Age</td><td>37.241<sup></sup></td><td>24.704<sup></sup></td></tr><tr><td style=\"text-align:left\"></td><td>(64.117)</td><td>(65.411)</td></tr><tr><td style=\"text-align:left\">BMI</td><td>787.179<sup>***</sup></td><td>789.742<sup>***</sup></td></tr><tr><td style=\"text-align:left\"></td><td>(65.424)</td><td>(66.887)</td></tr><tr><td style=\"text-align:left\">S1</td><td></td><td>197.852<sup></sup></td></tr><tr><td style=\"text-align:left\"></td><td></td><td>(143.812)</td></tr><tr><td style=\"text-align:left\">S2</td><td></td><td>-169.251<sup></sup></td></tr><tr><td style=\"text-align:left\"></td><td></td><td>(142.744)</td></tr><tr><td style=\"text-align:left\">Sex</td><td>-106.578<sup>*</sup></td><td>-82.862<sup></sup></td></tr><tr><td style=\"text-align:left\"></td><td>(62.125)</td><td>(64.851)</td></tr><tr><td style=\"text-align:left\">const</td><td>152.133<sup>***</sup></td><td>152.133<sup>***</sup></td></tr><tr><td style=\"text-align:left\"></td><td>(2.853)</td><td>(2.853)</td></tr><td colspan=\"3\" style=\"border-bottom: 1px solid black\"></td></tr><tr><td style=\"text-align: left\">Observations</td><td>442</td><td>442</td></tr><tr><td style=\"text-align: left\">R<sup>2</sup></td><td>0.400</td><td>0.403</td></tr><tr><td style=\"text-align: left\">Adjusted R<sup>2</sup></td><td>0.395</td><td>0.395</td></tr><tr><td style=\"text-align: left\">Residual Std. Error</td><td>59.976 (df=437)</td><td>59.982 (df=435)</td></tr><tr><td style=\"text-align: left\">F Statistic</td><td>72.913<sup>***</sup> (df=4; 437)</td><td>48.915<sup>***</sup> (df=6; 435)</td></tr><tr><td colspan=\"3\" style=\"border-bottom: 1px solid black\"></td></tr><tr><td style=\"text-align: left\">Note:</td>\\n <td colspan=\"2\" style=\"text-align: right\">\\n  <sup>*</sup>p&lt;0.1;\\n  <sup>**</sup>p&lt;0.05;\\n  <sup>***</sup>p&lt;0.01\\n </td></tr></table>'"
      ]
     },
     "execution_count": 9,
     "metadata": {},
     "output_type": "execute_result"
    }
   ],
   "source": [
    "stargazer.render_html()"
   ]
  },
  {
   "cell_type": "code",
   "execution_count": 11,
   "id": "008318ef",
   "metadata": {},
   "outputs": [
    {
     "name": "stdout",
     "output_type": "stream",
     "text": [
      "2\n"
     ]
    }
   ],
   "source": [
    "print(2)"
   ]
  },
  {
   "cell_type": "code",
   "execution_count": null,
   "id": "0d10cd84",
   "metadata": {},
   "outputs": [],
   "source": []
  }
 ],
 "metadata": {
  "kernelspec": {
   "display_name": "Python 3",
   "language": "python",
   "name": "python3"
  },
  "language_info": {
   "codemirror_mode": {
    "name": "ipython",
    "version": 3
   },
   "file_extension": ".py",
   "mimetype": "text/x-python",
   "name": "python",
   "nbconvert_exporter": "python",
   "pygments_lexer": "ipython3",
   "version": "3.8.8"
  }
 },
 "nbformat": 4,
 "nbformat_minor": 5
}
