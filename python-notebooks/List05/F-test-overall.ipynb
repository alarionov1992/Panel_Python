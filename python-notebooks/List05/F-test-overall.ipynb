{
 "cells": [
  {
   "cell_type": "markdown",
   "id": "cddee05e",
   "metadata": {},
   "source": [
    "# F-тест: Значимость регрессии\n",
    "\n",
    "Тестируется гипотеза\n",
    "$$H_0:\\beta_1=\\cdots=\\beta_k=0 $$\n",
    "Тестовая статистика $$F=\\frac{R^2}{1-R^2}\\cdot\\frac{n-k-1}{k}$$\n",
    "Критическое значение $$F_{cr}=F_{df1=k, df2=n-k-1}(\\alpha)$$\n",
    "\n",
    "Гипотеза отвергается если $F>F_{cr}$ или $P<\\alpha$"
   ]
  },
  {
   "cell_type": "code",
   "execution_count": null,
   "id": "5efe2dca",
   "metadata": {},
   "outputs": [],
   "source": [
    "import pandas as pd\n",
    "import numpy as np\n",
    "import statsmodels.formula.api as smf\n",
    "import statsmodels.api as sm\n",
    "from statsmodels.iolib.summary2 import summary_params # вывод результатов тестирования\n",
    "from scipy.stats import f # t-распределение"
   ]
  },
  {
   "cell_type": "markdown",
   "id": "0bf08ab4",
   "metadata": {},
   "source": [
    "## Sleep equation 1\n",
    "Для датасета `sleep75` рассмотрим регрессию **sleep на totwrk, age, age^2, south, male, smsa, yngkid, marr, union**\n",
    "Подгонка модели"
   ]
  },
  {
   "cell_type": "code",
   "execution_count": null,
   "id": "a33affd8",
   "metadata": {},
   "outputs": [],
   "source": [
    "# загрузим данные\n",
    "df_sleep = pd.read_csv('https://raw.githubusercontent.com/artamonoff/Econometrica/master/python-notebooks/data-csv/sleep75.csv')\n",
    "# подгоним модель\n",
    "mod1 = smf.ols(formula='sleep~totwrk+age+I(age**2)+south+male+smsa+yngkid+marr+union', data=df_sleep).fit()"
   ]
  },
  {
   "cell_type": "markdown",
   "id": "f660cb98",
   "metadata": {},
   "source": [
    "Результаты F-теста на значимость регрессии (тестовая статистика и P-значение)"
   ]
  },
  {
   "cell_type": "code",
   "execution_count": null,
   "id": "645470c5",
   "metadata": {},
   "outputs": [],
   "source": [
    "mod1.fvalue, mod1.f_pvalue"
   ]
  },
  {
   "cell_type": "markdown",
   "id": "f52efb29",
   "metadata": {},
   "source": [
    "5%-критическое значение F-распределения"
   ]
  },
  {
   "cell_type": "code",
   "execution_count": null,
   "id": "e87c01b6",
   "metadata": {},
   "outputs": [],
   "source": [
    "f.ppf(q=1-0.05, dfn=mod1.df_model, dfd=mod1.df_resid)"
   ]
  },
  {
   "cell_type": "markdown",
   "id": "97dd4f29",
   "metadata": {},
   "source": [
    "*Вывод*: регрессия значима!"
   ]
  },
  {
   "cell_type": "code",
   "execution_count": null,
   "id": "364c7338",
   "metadata": {},
   "outputs": [],
   "source": [
    "# Тестовая статистика по формуле\n",
    "mod1.rsquared/(1-mod1.rsquared)*(mod1.df_resid/mod1.df_model)"
   ]
  },
  {
   "cell_type": "markdown",
   "id": "b261719e",
   "metadata": {},
   "source": [
    "### Sleep equation 2\n",
    "Для датасета `sleep75` рассмотрим регрессию **sleep на smsa, yngkid, marr, union**\n",
    "Подгонка модели"
   ]
  },
  {
   "cell_type": "code",
   "execution_count": null,
   "id": "2238f0b9",
   "metadata": {},
   "outputs": [],
   "source": [
    "# подгоним модель\n",
    "mod2 = smf.ols(formula='sleep~smsa+yngkid+marr+union', data=df_sleep).fit()"
   ]
  },
  {
   "cell_type": "markdown",
   "id": "c24e442d",
   "metadata": {},
   "source": [
    "Результаты F-теста на значимость регрессии (тестовая статистика и P-значение)"
   ]
  },
  {
   "cell_type": "code",
   "execution_count": null,
   "id": "8a7b086f",
   "metadata": {},
   "outputs": [],
   "source": [
    "mod2.fvalue, mod2.f_pvalue"
   ]
  },
  {
   "cell_type": "markdown",
   "id": "1e205358",
   "metadata": {},
   "source": [
    "5%-критическое значение F-распределения"
   ]
  },
  {
   "cell_type": "code",
   "execution_count": null,
   "id": "96ce13e1",
   "metadata": {},
   "outputs": [],
   "source": [
    "f.ppf(q=1-0.05, dfn=mod2.df_model, dfd=mod2.df_resid)"
   ]
  },
  {
   "cell_type": "markdown",
   "id": "74ff1c5b",
   "metadata": {},
   "source": [
    "*Вывод*: регрессия незначима"
   ]
  },
  {
   "cell_type": "markdown",
   "id": "cb18653a",
   "metadata": {},
   "source": [
    "Альтернативный способ: явно специфицируем тестируемую гипотезу"
   ]
  },
  {
   "cell_type": "code",
   "execution_count": null,
   "id": "5f498290",
   "metadata": {},
   "outputs": [],
   "source": [
    "mod2.f_test('smsa=0, yngkid=0, marr=0, union=0')"
   ]
  }
 ],
 "metadata": {
  "kernelspec": {
   "display_name": "Python 3 (ipykernel)",
   "language": "python",
   "name": "python3"
  },
  "language_info": {
   "codemirror_mode": {
    "name": "ipython",
    "version": 3
   },
   "file_extension": ".py",
   "mimetype": "text/x-python",
   "name": "python",
   "nbconvert_exporter": "python",
   "pygments_lexer": "ipython3",
   "version": "3.9.16"
  }
 },
 "nbformat": 4,
 "nbformat_minor": 5
}
