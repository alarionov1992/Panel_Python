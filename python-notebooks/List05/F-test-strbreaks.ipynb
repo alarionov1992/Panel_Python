{
 "cells": [
  {
   "cell_type": "markdown",
   "id": "21cb38e4",
   "metadata": {},
   "source": [
    "# F-тест: Структурные изменения"
   ]
  },
  {
   "cell_type": "code",
   "execution_count": null,
   "id": "1fbc0350",
   "metadata": {},
   "outputs": [],
   "source": [
    "import pandas as pd\n",
    "import numpy as np\n",
    "import statsmodels.formula.api as smf\n",
    "import statsmodels.api as sm\n",
    "from statsmodels.iolib.summary2 import summary_col # вывод подгонки\n",
    "from scipy.stats import f # F-распределение\n",
    "import seaborn as sns"
   ]
  },
  {
   "cell_type": "markdown",
   "id": "53ab31be",
   "metadata": {},
   "source": [
    "## Sleep equation\n",
    "Рассмотрим регрессию **sleep/60 на totwrk, age, age^2, south, smsa, marr**\n",
    "\n",
    "* для М $sleep/60=\\beta_0+\\beta_1totwrk+\\beta_2age+\\beta_3age^2+\\beta_4south+\\beta_5smsa+\\beta_6marr+u$\n",
    "* для Ж $sleep/60=\\gamma_0+\\gamma_1totwrk+\\gamma_2age+\\gamma_3age^2+\\gamma_4south+\\gamma_5smsa+\\gamma_6marr+v$\n",
    "\n",
    "Будем тестировать $H_0:\\beta_j=\\gamma_j$ (всего $k+1$ ограничение)\n",
    "\n",
    "Для тестовой статистики подговим модель\n",
    "* только по М\n",
    "* только по Ж\n",
    "* по полному датасету\n",
    "\n",
    "Результаты подгонки"
   ]
  },
  {
   "cell_type": "code",
   "execution_count": null,
   "id": "3bc5a2d1",
   "metadata": {},
   "outputs": [],
   "source": [
    "sleep_df = pd.read_csv('https://raw.githubusercontent.com/artamonoff/Econometrica/master/python-notebooks/data-csv/sleep75.csv')\n",
    "specification = 'I(sleep/60)~totwrk+age+I(age**2)+south+smsa+marr'\n",
    "# подгонка по полному датасету\n",
    "mod_overall = smf.ols(formula=specification, data=sleep_df).fit()\n",
    "# подгонка только по М\n",
    "mod_men_only = smf.ols(formula=specification, data=sleep_df[ sleep_df['male']==1 ]).fit()\n",
    "# подгонка только по Ж\n",
    "mod_women_only = smf.ols(formula=specification, data=sleep_df[ sleep_df['male']==0 ]).fit()\n",
    "# Вывод трёх регрессий в одной таблице\n",
    "summary_col(results=[mod_men_only, mod_women_only, mod_overall], stars=True, model_names=['муж', 'жен', 'Общая'],\n",
    "           info_dict={'N': lambda x: x.nobs, 'F-stat': lambda x: x.fvalue})"
   ]
  },
  {
   "cell_type": "code",
   "execution_count": null,
   "id": "655de07c",
   "metadata": {},
   "outputs": [],
   "source": [
    "# Ингредиенты тестовой статистики\n",
    "print('RSS (overall)=', mod_overall.ssr)\n",
    "print('RSS (men_only)=', mod_men_only.ssr)\n",
    "print('RSS (women_only)=', mod_women_only.ssr)\n",
    "print('n=', mod_overall.nobs)\n",
    "print('k=', mod_overall.df_model)"
   ]
  },
  {
   "cell_type": "markdown",
   "id": "88d95508",
   "metadata": {},
   "source": [
    "Тестовая статистика $$F=\\frac{RSS_{overall}-RSS_{men}-RSS_{women}}{RSS_{men}+RSS_{women}}*\\frac{n-2(k+1)}{k+1}$$\n",
    "Критическое значение $$F_{cr}=F_{df1=k+1, df2=n-2(k+1)}(\\alpha)$$"
   ]
  },
  {
   "cell_type": "code",
   "execution_count": null,
   "id": "62c1d720",
   "metadata": {},
   "outputs": [],
   "source": [
    "F = (mod_overall.ssr-mod_men_only.ssr-mod_women_only.ssr)/(mod_men_only.ssr+mod_women_only.ssr)*(mod_overall.nobs-2*(mod_overall.df_model+1))/(mod_overall.df_model+1)\n",
    "F_cr = f.ppf(q=1-0.05, dfn=mod_overall.df_model+1, dfd=mod_overall.nobs-2*(mod_overall.df_model+1))\n",
    "F, F_cr"
   ]
  },
  {
   "cell_type": "markdown",
   "id": "81d6f6e1",
   "metadata": {},
   "source": [
    "Некоторые графики"
   ]
  },
  {
   "cell_type": "code",
   "execution_count": null,
   "id": "2d75531e",
   "metadata": {},
   "outputs": [],
   "source": [
    "sns.lmplot(data=sleep_df, x='totwrk', y='sleep', hue='male', ci=False, markers='.')"
   ]
  },
  {
   "cell_type": "code",
   "execution_count": null,
   "id": "2535baf8",
   "metadata": {},
   "outputs": [],
   "source": [
    "sns.lmplot(data=sleep_df, x='age', y='sleep', hue='male', ci=False, markers='.', order=2)"
   ]
  }
 ],
 "metadata": {
  "kernelspec": {
   "display_name": "Python 3 (ipykernel)",
   "language": "python",
   "name": "python3"
  },
  "language_info": {
   "codemirror_mode": {
    "name": "ipython",
    "version": 3
   },
   "file_extension": ".py",
   "mimetype": "text/x-python",
   "name": "python",
   "nbconvert_exporter": "python",
   "pygments_lexer": "ipython3",
   "version": "3.9.16"
  }
 },
 "nbformat": 4,
 "nbformat_minor": 5
}
