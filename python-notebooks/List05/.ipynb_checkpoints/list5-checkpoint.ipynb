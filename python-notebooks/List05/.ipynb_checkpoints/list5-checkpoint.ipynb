{
 "cells": [
  {
   "cell_type": "markdown",
   "metadata": {},
   "source": [
    "## Листок 5: F-тест\n",
    "\n",
    "### Ссылка на листки и ноутбуки\n",
    "\n",
    "https://github.com/artamonoff/Econometrica"
   ]
  },
  {
   "cell_type": "markdown",
   "metadata": {},
   "source": [
    "## Ссылки на документацию\n",
    "\n",
    "https://www.statsmodels.org/stable/generated/statsmodels.regression.linear_model.OLSResults.html#statsmodels.regression.linear_model.OLSResults\n",
    "\n",
    "https://www.statsmodels.org/stable/generated/statsmodels.regression.linear_model.OLSResults.f_test.html#statsmodels.regression.linear_model.OLSResults.f_test\n",
    "\n",
    "https://www.statsmodels.org/stable/generated/statsmodels.regression.linear_model.OLSResults.compare_f_test.html#statsmodels.regression.linear_model.OLSResults.compare_f_test"
   ]
  },
  {
   "cell_type": "code",
   "execution_count": 1,
   "metadata": {},
   "outputs": [],
   "source": [
    "import pandas as pd\n",
    "import numpy as np\n",
    "import statsmodels.formula.api as smf\n",
    "import scipy\n",
    "# import statsmodels.api as smf"
   ]
  },
  {
   "cell_type": "code",
   "execution_count": 2,
   "metadata": {},
   "outputs": [
    {
     "name": "stdout",
     "output_type": "stream",
     "text": [
      "1.5.2 1.23.5 1.9.3\n"
     ]
    }
   ],
   "source": [
    "print(pd.__version__, np.__version__, scipy.__version__)"
   ]
  },
  {
   "cell_type": "markdown",
   "metadata": {},
   "source": [
    "### 1 F-тест: значимость регрессии"
   ]
  },
  {
   "cell_type": "markdown",
   "metadata": {},
   "source": [
    "#### $H_0: \\quad \\beta_1=\\ldots=\\beta_k=0$ (все коэффициенты при регрессорах нулевые, $J=k$) ####\n",
    "\n",
    "**Смысл: Все регрессоры не влияют на зависимую переменную (регрессия «ничего не объясняет»).**"
   ]
  },
  {
   "cell_type": "markdown",
   "metadata": {},
   "source": [
    "### Задача 1.1 sleep equation #1"
   ]
  },
  {
   "cell_type": "code",
   "execution_count": 9,
   "metadata": {},
   "outputs": [
    {
     "ename": "FileNotFoundError",
     "evalue": "[Errno 2] No such file or directory: 'sleep75.csv'",
     "output_type": "error",
     "traceback": [
      "\u001b[0;31m---------------------------------------------------------------------------\u001b[0m",
      "\u001b[0;31mFileNotFoundError\u001b[0m                         Traceback (most recent call last)",
      "\u001b[0;32m<ipython-input-9-ca7453b34d2d>\u001b[0m in \u001b[0;36m<module>\u001b[0;34m\u001b[0m\n\u001b[0;32m----> 1\u001b[0;31m \u001b[0mdata1\u001b[0m \u001b[0;34m=\u001b[0m \u001b[0mpd\u001b[0m\u001b[0;34m.\u001b[0m\u001b[0mread_csv\u001b[0m\u001b[0;34m(\u001b[0m\u001b[0;34m'sleep75.csv'\u001b[0m\u001b[0;34m)\u001b[0m\u001b[0;34m\u001b[0m\u001b[0;34m\u001b[0m\u001b[0m\n\u001b[0m\u001b[1;32m      2\u001b[0m \u001b[0mdata1\u001b[0m\u001b[0;34m.\u001b[0m\u001b[0mshape\u001b[0m\u001b[0;34m\u001b[0m\u001b[0;34m\u001b[0m\u001b[0m\n",
      "\u001b[0;32m/opt/anaconda3/lib/python3.8/site-packages/pandas/util/_decorators.py\u001b[0m in \u001b[0;36mwrapper\u001b[0;34m(*args, **kwargs)\u001b[0m\n\u001b[1;32m    209\u001b[0m                 \u001b[0;32melse\u001b[0m\u001b[0;34m:\u001b[0m\u001b[0;34m\u001b[0m\u001b[0;34m\u001b[0m\u001b[0m\n\u001b[1;32m    210\u001b[0m                     \u001b[0mkwargs\u001b[0m\u001b[0;34m[\u001b[0m\u001b[0mnew_arg_name\u001b[0m\u001b[0;34m]\u001b[0m \u001b[0;34m=\u001b[0m \u001b[0mnew_arg_value\u001b[0m\u001b[0;34m\u001b[0m\u001b[0;34m\u001b[0m\u001b[0m\n\u001b[0;32m--> 211\u001b[0;31m             \u001b[0;32mreturn\u001b[0m \u001b[0mfunc\u001b[0m\u001b[0;34m(\u001b[0m\u001b[0;34m*\u001b[0m\u001b[0margs\u001b[0m\u001b[0;34m,\u001b[0m \u001b[0;34m**\u001b[0m\u001b[0mkwargs\u001b[0m\u001b[0;34m)\u001b[0m\u001b[0;34m\u001b[0m\u001b[0;34m\u001b[0m\u001b[0m\n\u001b[0m\u001b[1;32m    212\u001b[0m \u001b[0;34m\u001b[0m\u001b[0m\n\u001b[1;32m    213\u001b[0m         \u001b[0;32mreturn\u001b[0m \u001b[0mcast\u001b[0m\u001b[0;34m(\u001b[0m\u001b[0mF\u001b[0m\u001b[0;34m,\u001b[0m \u001b[0mwrapper\u001b[0m\u001b[0;34m)\u001b[0m\u001b[0;34m\u001b[0m\u001b[0;34m\u001b[0m\u001b[0m\n",
      "\u001b[0;32m/opt/anaconda3/lib/python3.8/site-packages/pandas/util/_decorators.py\u001b[0m in \u001b[0;36mwrapper\u001b[0;34m(*args, **kwargs)\u001b[0m\n\u001b[1;32m    329\u001b[0m                     \u001b[0mstacklevel\u001b[0m\u001b[0;34m=\u001b[0m\u001b[0mfind_stack_level\u001b[0m\u001b[0;34m(\u001b[0m\u001b[0;34m)\u001b[0m\u001b[0;34m,\u001b[0m\u001b[0;34m\u001b[0m\u001b[0;34m\u001b[0m\u001b[0m\n\u001b[1;32m    330\u001b[0m                 )\n\u001b[0;32m--> 331\u001b[0;31m             \u001b[0;32mreturn\u001b[0m \u001b[0mfunc\u001b[0m\u001b[0;34m(\u001b[0m\u001b[0;34m*\u001b[0m\u001b[0margs\u001b[0m\u001b[0;34m,\u001b[0m \u001b[0;34m**\u001b[0m\u001b[0mkwargs\u001b[0m\u001b[0;34m)\u001b[0m\u001b[0;34m\u001b[0m\u001b[0;34m\u001b[0m\u001b[0m\n\u001b[0m\u001b[1;32m    332\u001b[0m \u001b[0;34m\u001b[0m\u001b[0m\n\u001b[1;32m    333\u001b[0m         \u001b[0;31m# error: \"Callable[[VarArg(Any), KwArg(Any)], Any]\" has no\u001b[0m\u001b[0;34m\u001b[0m\u001b[0;34m\u001b[0m\u001b[0;34m\u001b[0m\u001b[0m\n",
      "\u001b[0;32m/opt/anaconda3/lib/python3.8/site-packages/pandas/io/parsers/readers.py\u001b[0m in \u001b[0;36mread_csv\u001b[0;34m(filepath_or_buffer, sep, delimiter, header, names, index_col, usecols, squeeze, prefix, mangle_dupe_cols, dtype, engine, converters, true_values, false_values, skipinitialspace, skiprows, skipfooter, nrows, na_values, keep_default_na, na_filter, verbose, skip_blank_lines, parse_dates, infer_datetime_format, keep_date_col, date_parser, dayfirst, cache_dates, iterator, chunksize, compression, thousands, decimal, lineterminator, quotechar, quoting, doublequote, escapechar, comment, encoding, encoding_errors, dialect, error_bad_lines, warn_bad_lines, on_bad_lines, delim_whitespace, low_memory, memory_map, float_precision, storage_options)\u001b[0m\n\u001b[1;32m    948\u001b[0m     \u001b[0mkwds\u001b[0m\u001b[0;34m.\u001b[0m\u001b[0mupdate\u001b[0m\u001b[0;34m(\u001b[0m\u001b[0mkwds_defaults\u001b[0m\u001b[0;34m)\u001b[0m\u001b[0;34m\u001b[0m\u001b[0;34m\u001b[0m\u001b[0m\n\u001b[1;32m    949\u001b[0m \u001b[0;34m\u001b[0m\u001b[0m\n\u001b[0;32m--> 950\u001b[0;31m     \u001b[0;32mreturn\u001b[0m \u001b[0m_read\u001b[0m\u001b[0;34m(\u001b[0m\u001b[0mfilepath_or_buffer\u001b[0m\u001b[0;34m,\u001b[0m \u001b[0mkwds\u001b[0m\u001b[0;34m)\u001b[0m\u001b[0;34m\u001b[0m\u001b[0;34m\u001b[0m\u001b[0m\n\u001b[0m\u001b[1;32m    951\u001b[0m \u001b[0;34m\u001b[0m\u001b[0m\n\u001b[1;32m    952\u001b[0m \u001b[0;34m\u001b[0m\u001b[0m\n",
      "\u001b[0;32m/opt/anaconda3/lib/python3.8/site-packages/pandas/io/parsers/readers.py\u001b[0m in \u001b[0;36m_read\u001b[0;34m(filepath_or_buffer, kwds)\u001b[0m\n\u001b[1;32m    603\u001b[0m \u001b[0;34m\u001b[0m\u001b[0m\n\u001b[1;32m    604\u001b[0m     \u001b[0;31m# Create the parser.\u001b[0m\u001b[0;34m\u001b[0m\u001b[0;34m\u001b[0m\u001b[0;34m\u001b[0m\u001b[0m\n\u001b[0;32m--> 605\u001b[0;31m     \u001b[0mparser\u001b[0m \u001b[0;34m=\u001b[0m \u001b[0mTextFileReader\u001b[0m\u001b[0;34m(\u001b[0m\u001b[0mfilepath_or_buffer\u001b[0m\u001b[0;34m,\u001b[0m \u001b[0;34m**\u001b[0m\u001b[0mkwds\u001b[0m\u001b[0;34m)\u001b[0m\u001b[0;34m\u001b[0m\u001b[0;34m\u001b[0m\u001b[0m\n\u001b[0m\u001b[1;32m    606\u001b[0m \u001b[0;34m\u001b[0m\u001b[0m\n\u001b[1;32m    607\u001b[0m     \u001b[0;32mif\u001b[0m \u001b[0mchunksize\u001b[0m \u001b[0;32mor\u001b[0m \u001b[0miterator\u001b[0m\u001b[0;34m:\u001b[0m\u001b[0;34m\u001b[0m\u001b[0;34m\u001b[0m\u001b[0m\n",
      "\u001b[0;32m/opt/anaconda3/lib/python3.8/site-packages/pandas/io/parsers/readers.py\u001b[0m in \u001b[0;36m__init__\u001b[0;34m(self, f, engine, **kwds)\u001b[0m\n\u001b[1;32m   1440\u001b[0m \u001b[0;34m\u001b[0m\u001b[0m\n\u001b[1;32m   1441\u001b[0m         \u001b[0mself\u001b[0m\u001b[0;34m.\u001b[0m\u001b[0mhandles\u001b[0m\u001b[0;34m:\u001b[0m \u001b[0mIOHandles\u001b[0m \u001b[0;34m|\u001b[0m \u001b[0;32mNone\u001b[0m \u001b[0;34m=\u001b[0m \u001b[0;32mNone\u001b[0m\u001b[0;34m\u001b[0m\u001b[0;34m\u001b[0m\u001b[0m\n\u001b[0;32m-> 1442\u001b[0;31m         \u001b[0mself\u001b[0m\u001b[0;34m.\u001b[0m\u001b[0m_engine\u001b[0m \u001b[0;34m=\u001b[0m \u001b[0mself\u001b[0m\u001b[0;34m.\u001b[0m\u001b[0m_make_engine\u001b[0m\u001b[0;34m(\u001b[0m\u001b[0mf\u001b[0m\u001b[0;34m,\u001b[0m \u001b[0mself\u001b[0m\u001b[0;34m.\u001b[0m\u001b[0mengine\u001b[0m\u001b[0;34m)\u001b[0m\u001b[0;34m\u001b[0m\u001b[0;34m\u001b[0m\u001b[0m\n\u001b[0m\u001b[1;32m   1443\u001b[0m \u001b[0;34m\u001b[0m\u001b[0m\n\u001b[1;32m   1444\u001b[0m     \u001b[0;32mdef\u001b[0m \u001b[0mclose\u001b[0m\u001b[0;34m(\u001b[0m\u001b[0mself\u001b[0m\u001b[0;34m)\u001b[0m \u001b[0;34m->\u001b[0m \u001b[0;32mNone\u001b[0m\u001b[0;34m:\u001b[0m\u001b[0;34m\u001b[0m\u001b[0;34m\u001b[0m\u001b[0m\n",
      "\u001b[0;32m/opt/anaconda3/lib/python3.8/site-packages/pandas/io/parsers/readers.py\u001b[0m in \u001b[0;36m_make_engine\u001b[0;34m(self, f, engine)\u001b[0m\n\u001b[1;32m   1733\u001b[0m                 \u001b[0;32mif\u001b[0m \u001b[0;34m\"b\"\u001b[0m \u001b[0;32mnot\u001b[0m \u001b[0;32min\u001b[0m \u001b[0mmode\u001b[0m\u001b[0;34m:\u001b[0m\u001b[0;34m\u001b[0m\u001b[0;34m\u001b[0m\u001b[0m\n\u001b[1;32m   1734\u001b[0m                     \u001b[0mmode\u001b[0m \u001b[0;34m+=\u001b[0m \u001b[0;34m\"b\"\u001b[0m\u001b[0;34m\u001b[0m\u001b[0;34m\u001b[0m\u001b[0m\n\u001b[0;32m-> 1735\u001b[0;31m             self.handles = get_handle(\n\u001b[0m\u001b[1;32m   1736\u001b[0m                 \u001b[0mf\u001b[0m\u001b[0;34m,\u001b[0m\u001b[0;34m\u001b[0m\u001b[0;34m\u001b[0m\u001b[0m\n\u001b[1;32m   1737\u001b[0m                 \u001b[0mmode\u001b[0m\u001b[0;34m,\u001b[0m\u001b[0;34m\u001b[0m\u001b[0;34m\u001b[0m\u001b[0m\n",
      "\u001b[0;32m/opt/anaconda3/lib/python3.8/site-packages/pandas/io/common.py\u001b[0m in \u001b[0;36mget_handle\u001b[0;34m(path_or_buf, mode, encoding, compression, memory_map, is_text, errors, storage_options)\u001b[0m\n\u001b[1;32m    854\u001b[0m         \u001b[0;32mif\u001b[0m \u001b[0mioargs\u001b[0m\u001b[0;34m.\u001b[0m\u001b[0mencoding\u001b[0m \u001b[0;32mand\u001b[0m \u001b[0;34m\"b\"\u001b[0m \u001b[0;32mnot\u001b[0m \u001b[0;32min\u001b[0m \u001b[0mioargs\u001b[0m\u001b[0;34m.\u001b[0m\u001b[0mmode\u001b[0m\u001b[0;34m:\u001b[0m\u001b[0;34m\u001b[0m\u001b[0;34m\u001b[0m\u001b[0m\n\u001b[1;32m    855\u001b[0m             \u001b[0;31m# Encoding\u001b[0m\u001b[0;34m\u001b[0m\u001b[0;34m\u001b[0m\u001b[0;34m\u001b[0m\u001b[0m\n\u001b[0;32m--> 856\u001b[0;31m             handle = open(\n\u001b[0m\u001b[1;32m    857\u001b[0m                 \u001b[0mhandle\u001b[0m\u001b[0;34m,\u001b[0m\u001b[0;34m\u001b[0m\u001b[0;34m\u001b[0m\u001b[0m\n\u001b[1;32m    858\u001b[0m                 \u001b[0mioargs\u001b[0m\u001b[0;34m.\u001b[0m\u001b[0mmode\u001b[0m\u001b[0;34m,\u001b[0m\u001b[0;34m\u001b[0m\u001b[0;34m\u001b[0m\u001b[0m\n",
      "\u001b[0;31mFileNotFoundError\u001b[0m: [Errno 2] No such file or directory: 'sleep75.csv'"
     ]
    }
   ],
   "source": [
    "data1 = pd.read_csv('sleep75.csv')\n",
    "data1.shape"
   ]
  },
  {
   "cell_type": "code",
   "execution_count": null,
   "metadata": {},
   "outputs": [],
   "source": [
    "# Модель 1\n",
    "# Создаем спецификацию модели через формулу\n",
    "mod111 =smf.ols(formula='sleep~totwrk+age+I(age**2)+south+male+smsa+yngkid+marr+union', data=data1)\n",
    "#Подгоняем модель\n",
    "Sleep_eq111 = mod111.fit()\n",
    "Sleep_eq111.summary()"
   ]
  },
  {
   "cell_type": "code",
   "execution_count": null,
   "metadata": {},
   "outputs": [],
   "source": [
    "# F-statistic and Prob (F-statistic)  of the fully specified model of summary() \n",
    "print(\"F-statistic: \", Sleep_eq111.fvalue)\n",
    "print(\"Prob (F-statistic): \", Sleep_eq111.f_pvalue)"
   ]
  },
  {
   "cell_type": "code",
   "execution_count": 4,
   "metadata": {},
   "outputs": [
    {
     "ename": "NameError",
     "evalue": "name 'Sleep_eq111' is not defined",
     "output_type": "error",
     "traceback": [
      "\u001b[0;31m---------------------------------------------------------------------------\u001b[0m",
      "\u001b[0;31mNameError\u001b[0m                                 Traceback (most recent call last)",
      "\u001b[0;32m<ipython-input-4-0193863a0301>\u001b[0m in \u001b[0;36m<module>\u001b[0;34m\u001b[0m\n\u001b[1;32m      1\u001b[0m \u001b[0;31m# задаем матрицу R\u001b[0m\u001b[0;34m\u001b[0m\u001b[0;34m\u001b[0m\u001b[0;34m\u001b[0m\u001b[0m\n\u001b[0;32m----> 2\u001b[0;31m \u001b[0mR\u001b[0m \u001b[0;34m=\u001b[0m \u001b[0mnp\u001b[0m\u001b[0;34m.\u001b[0m\u001b[0midentity\u001b[0m\u001b[0;34m(\u001b[0m\u001b[0mlen\u001b[0m\u001b[0;34m(\u001b[0m\u001b[0mSleep_eq111\u001b[0m\u001b[0;34m.\u001b[0m\u001b[0mparams\u001b[0m\u001b[0;34m)\u001b[0m\u001b[0;34m)\u001b[0m \u001b[0;31m# создает массив длины равной количеству регрессоров (k) + константанта (1) : k+1\u001b[0m\u001b[0;34m\u001b[0m\u001b[0;34m\u001b[0m\u001b[0m\n\u001b[0m\u001b[1;32m      3\u001b[0m \u001b[0mR\u001b[0m \u001b[0;34m=\u001b[0m \u001b[0mR\u001b[0m\u001b[0;34m[\u001b[0m\u001b[0;36m1\u001b[0m\u001b[0;34m:\u001b[0m\u001b[0;34m,\u001b[0m\u001b[0;34m:\u001b[0m\u001b[0;34m]\u001b[0m \u001b[0;31m# заполняет каждый элемент массивом, на i+1 позиции которого стоит 1 (исключая константу beta_0)   Чтобы самим для каждого коэффициента не создавать массив на i позиции которого стоит 1\u001b[0m\u001b[0;34m\u001b[0m\u001b[0;34m\u001b[0m\u001b[0m\n\u001b[1;32m      4\u001b[0m \u001b[0mR\u001b[0m\u001b[0;34m\u001b[0m\u001b[0;34m\u001b[0m\u001b[0m\n",
      "\u001b[0;31mNameError\u001b[0m: name 'Sleep_eq111' is not defined"
     ]
    }
   ],
   "source": [
    "# задаем матрицу R \n",
    "R = np.identity(len(Sleep_eq111.params)) # создает массив длины равной количеству регрессоров (k) + константанта (1) : k+1\n",
    "R = R[1:,:] # заполняет каждый элемент массивом, на i+1 позиции которого стоит 1 (исключая константу beta_0)   Чтобы самим для каждого коэффициента не создавать массив на i позиции которого стоит 1\n",
    "R"
   ]
  },
  {
   "cell_type": "code",
   "execution_count": 5,
   "metadata": {},
   "outputs": [
    {
     "ename": "NameError",
     "evalue": "name 'Sleep_eq111' is not defined",
     "output_type": "error",
     "traceback": [
      "\u001b[0;31m---------------------------------------------------------------------------\u001b[0m",
      "\u001b[0;31mNameError\u001b[0m                                 Traceback (most recent call last)",
      "\u001b[0;32m<ipython-input-5-bb7119826456>\u001b[0m in \u001b[0;36m<module>\u001b[0;34m\u001b[0m\n\u001b[1;32m      1\u001b[0m \u001b[0;31m# F-statistic and Prob (F-statistic) of the fully specified model\u001b[0m\u001b[0;34m\u001b[0m\u001b[0;34m\u001b[0m\u001b[0;34m\u001b[0m\u001b[0m\n\u001b[0;32m----> 2\u001b[0;31m \u001b[0mSleep_eq111\u001b[0m\u001b[0;34m.\u001b[0m\u001b[0mf_test\u001b[0m\u001b[0;34m(\u001b[0m\u001b[0mR\u001b[0m\u001b[0;34m)\u001b[0m \u001b[0;31m# сравнить с отчетом\u001b[0m\u001b[0;34m\u001b[0m\u001b[0;34m\u001b[0m\u001b[0m\n\u001b[0m",
      "\u001b[0;31mNameError\u001b[0m: name 'Sleep_eq111' is not defined"
     ]
    }
   ],
   "source": [
    "# F-statistic and Prob (F-statistic) of the fully specified model\n",
    "Sleep_eq111.f_test(R) # сравнить с отчетом"
   ]
  },
  {
   "cell_type": "code",
   "execution_count": 6,
   "metadata": {},
   "outputs": [
    {
     "name": "stdout",
     "output_type": "stream",
     "text": [
      "Уровень значимости alpha:  0.05\n"
     ]
    },
    {
     "ename": "NameError",
     "evalue": "name 'Sleep_eq111' is not defined",
     "output_type": "error",
     "traceback": [
      "\u001b[0;31m---------------------------------------------------------------------------\u001b[0m",
      "\u001b[0;31mNameError\u001b[0m                                 Traceback (most recent call last)",
      "\u001b[0;32m<ipython-input-6-9e40905d949b>\u001b[0m in \u001b[0;36m<module>\u001b[0;34m\u001b[0m\n\u001b[1;32m      1\u001b[0m \u001b[0malpha\u001b[0m \u001b[0;34m=\u001b[0m \u001b[0;36m0.05\u001b[0m \u001b[0;31m# уровень значимости\u001b[0m\u001b[0;34m\u001b[0m\u001b[0;34m\u001b[0m\u001b[0m\n\u001b[1;32m      2\u001b[0m \u001b[0mprint\u001b[0m\u001b[0;34m(\u001b[0m\u001b[0;34m'Уровень значимости alpha: '\u001b[0m\u001b[0;34m,\u001b[0m \u001b[0malpha\u001b[0m\u001b[0;34m)\u001b[0m\u001b[0;34m\u001b[0m\u001b[0;34m\u001b[0m\u001b[0m\n\u001b[0;32m----> 3\u001b[0;31m \u001b[0mdfn\u001b[0m \u001b[0;34m=\u001b[0m \u001b[0mint\u001b[0m\u001b[0;34m(\u001b[0m\u001b[0mSleep_eq111\u001b[0m\u001b[0;34m.\u001b[0m\u001b[0mdf_model\u001b[0m\u001b[0;34m)\u001b[0m \u001b[0;31m# J=k : число регрессоров k\u001b[0m\u001b[0;34m\u001b[0m\u001b[0;34m\u001b[0m\u001b[0m\n\u001b[0m\u001b[1;32m      4\u001b[0m \u001b[0mdfd\u001b[0m \u001b[0;34m=\u001b[0m \u001b[0mint\u001b[0m\u001b[0;34m(\u001b[0m\u001b[0mSleep_eq111\u001b[0m\u001b[0;34m.\u001b[0m\u001b[0mdf_resid\u001b[0m\u001b[0;34m)\u001b[0m \u001b[0;31m# остаточные степени свободы n-k-1\u001b[0m\u001b[0;34m\u001b[0m\u001b[0;34m\u001b[0m\u001b[0m\n\u001b[1;32m      5\u001b[0m \u001b[0mprint\u001b[0m\u001b[0;34m(\u001b[0m\u001b[0;34m\"J =\"\u001b[0m\u001b[0;34m,\u001b[0m \u001b[0mdfn\u001b[0m\u001b[0;34m,\u001b[0m\u001b[0;34m\", \"\u001b[0m\u001b[0;34m,\u001b[0m \u001b[0;34m\"n-k-1 =\"\u001b[0m\u001b[0;34m,\u001b[0m \u001b[0mdfd\u001b[0m\u001b[0;34m)\u001b[0m\u001b[0;34m\u001b[0m\u001b[0;34m\u001b[0m\u001b[0m\n",
      "\u001b[0;31mNameError\u001b[0m: name 'Sleep_eq111' is not defined"
     ]
    }
   ],
   "source": [
    "alpha = 0.05 # уровень значимости\n",
    "print('Уровень значимости alpha: ', alpha)\n",
    "dfn = int(Sleep_eq111.df_model) # J=k : число регрессоров k\n",
    "dfd = int(Sleep_eq111.df_resid) # остаточные степени свободы n-k-1\n",
    "print(\"J =\", dfn,\", \", \"n-k-1 =\", dfd)\n",
    "F_crit = scipy.stats.f.ppf(1-alpha, dfn, dfd)\n",
    "#F_crit = scipy.stats.f.ppf(1-alpha, 9, 696)\n",
    "print(\"F-critical: \", F_crit.round(2))"
   ]
  },
  {
   "cell_type": "code",
   "execution_count": 9,
   "metadata": {},
   "outputs": [
    {
     "name": "stdout",
     "output_type": "stream",
     "text": [
      "<F test: F=11.803442098458113, p=2.1244304583231132e-17, df_denom=696, df_num=9>\n"
     ]
    }
   ],
   "source": [
    "# Можно также использовать синтаксис, похожий на формулу, для проверки гипотез\n",
    "# F-statistic and Prob (F-statistic) of the fully specified model\n",
    "print(Sleep_eq111.f_test(\"totwrk = age = I(age ** 2) = south = male = smsa = yngkid = marr = union = 0\")) # может возникнуть ошибка из-за I(age ** 2) смотрите как названы регрессоры в модели в summary() Error: PatsyError unrecognized token in constraint"
   ]
  },
  {
   "cell_type": "code",
   "execution_count": 11,
   "metadata": {},
   "outputs": [
    {
     "name": "stdout",
     "output_type": "stream",
     "text": [
      "F-stat:  11.803442151355267\n",
      "отвергаем H0, регрессия 1 значима\n"
     ]
    }
   ],
   "source": [
    "# Тестовая F-статистика, вычисленная самостоятельно по формуле\n",
    "F_stat=Sleep_eq111.rsquared/(1-Sleep_eq111.rsquared)*Sleep_eq111.df_resid/Sleep_eq111.df_model\n",
    "print(\"F-stat: \", F_stat)\n",
    "# Вывод\n",
    "if (F_stat > F_crit):\n",
    "    print('отвергаем H0, регрессия 1 значима')\n",
    "else:\n",
    "    print('не отвергаем H0, регрессия 1 незначима')"
   ]
  },
  {
   "cell_type": "code",
   "execution_count": null,
   "metadata": {},
   "outputs": [],
   "source": [
    "# p_value = 1-scipy.stats.f.cdf(F, dfn, dfd) #find p-value of F test statistic\n",
    "#if (p_value<0.05):\n",
    "#    print('Reject H0', p_value)\n",
    "#else:\n",
    "#    print('Cant Reject H0', p_value)"
   ]
  },
  {
   "cell_type": "code",
   "execution_count": 74,
   "metadata": {},
   "outputs": [],
   "source": [
    "# Модель 2\n",
    "# Создаем спецификацию модели через формулу\n",
    "mod112 =smf.ols(formula='sleep~totwrk+age+I(age**2)+south+male+smsa+yngkid', data=data1)\n",
    "#Подгоняем модель\n",
    "Sleep_eq112 = mod12.fit()"
   ]
  },
  {
   "cell_type": "code",
   "execution_count": 5,
   "metadata": {},
   "outputs": [],
   "source": [
    "# Модель 3\n",
    "# Создаем спецификацию модели через формулу\n",
    "mod113 =smf.ols(formula='sleep~totwrk+age+I(age**2)+south+male', data=data1)\n",
    "#Подгоняем модель\n",
    "Sleep_eq113 = mod13.fit()"
   ]
  },
  {
   "cell_type": "code",
   "execution_count": 75,
   "metadata": {},
   "outputs": [],
   "source": [
    "# Модель 4\n",
    "# Создаем спецификацию модели через формулу\n",
    "mod114 =smf.ols(formula='sleep~smsa+yngkid+marr+union', data=data1)\n",
    "#Подгоняем модель\n",
    "Sleep_eq114 = mod14.fit()"
   ]
  },
  {
   "cell_type": "markdown",
   "metadata": {},
   "source": [
    "### 2 F-тест: совместная значимость"
   ]
  },
  {
   "cell_type": "markdown",
   "metadata": {},
   "source": [
    "#### $H_0: \\quad \\beta_1=\\ldots=\\beta_J=0$ (несколько коэффициентов нулевые, $1<J<k$) ####\n",
    "\n",
    "**Смысл: В генеральной совокупности регрессоры $x_1, \\ldots, x_J$ не влияют на зависимую переменную.**"
   ]
  },
  {
   "cell_type": "markdown",
   "metadata": {},
   "source": [
    "#### Задача 2.1 sleep equation #1"
   ]
  },
  {
   "cell_type": "code",
   "execution_count": 12,
   "metadata": {},
   "outputs": [
    {
     "data": {
      "text/plain": [
       "(706, 34)"
      ]
     },
     "execution_count": 12,
     "metadata": {},
     "output_type": "execute_result"
    }
   ],
   "source": [
    "data1 = pd.read_csv('data-csv/sleep75.csv')\n",
    "data1.shape"
   ]
  },
  {
   "cell_type": "code",
   "execution_count": 13,
   "metadata": {},
   "outputs": [
    {
     "data": {
      "text/html": [
       "<table class=\"simpletable\">\n",
       "<caption>OLS Regression Results</caption>\n",
       "<tr>\n",
       "  <th>Dep. Variable:</th>          <td>sleep</td>      <th>  R-squared:         </th> <td>   0.131</td> \n",
       "</tr>\n",
       "<tr>\n",
       "  <th>Model:</th>                   <td>OLS</td>       <th>  Adj. R-squared:    </th> <td>   0.121</td> \n",
       "</tr>\n",
       "<tr>\n",
       "  <th>Method:</th>             <td>Least Squares</td>  <th>  F-statistic:       </th> <td>   13.18</td> \n",
       "</tr>\n",
       "<tr>\n",
       "  <th>Date:</th>             <td>Tue, 14 Mar 2023</td> <th>  Prob (F-statistic):</th> <td>8.33e-18</td> \n",
       "</tr>\n",
       "<tr>\n",
       "  <th>Time:</th>                 <td>15:15:24</td>     <th>  Log-Likelihood:    </th> <td> -5255.9</td> \n",
       "</tr>\n",
       "<tr>\n",
       "  <th>No. Observations:</th>      <td>   706</td>      <th>  AIC:               </th> <td>1.053e+04</td>\n",
       "</tr>\n",
       "<tr>\n",
       "  <th>Df Residuals:</th>          <td>   697</td>      <th>  BIC:               </th> <td>1.057e+04</td>\n",
       "</tr>\n",
       "<tr>\n",
       "  <th>Df Model:</th>              <td>     8</td>      <th>                     </th>     <td> </td>    \n",
       "</tr>\n",
       "<tr>\n",
       "  <th>Covariance Type:</th>      <td>nonrobust</td>    <th>                     </th>     <td> </td>    \n",
       "</tr>\n",
       "</table>\n",
       "<table class=\"simpletable\">\n",
       "<tr>\n",
       "      <td></td>         <th>coef</th>     <th>std err</th>      <th>t</th>      <th>P>|t|</th>  <th>[0.025</th>    <th>0.975]</th>  \n",
       "</tr>\n",
       "<tr>\n",
       "  <th>Intercept</th> <td> 3446.8303</td> <td>   81.840</td> <td>   42.117</td> <td> 0.000</td> <td> 3286.148</td> <td> 3607.513</td>\n",
       "</tr>\n",
       "<tr>\n",
       "  <th>totwrk</th>    <td>   -0.1691</td> <td>    0.018</td> <td>   -9.358</td> <td> 0.000</td> <td>   -0.205</td> <td>   -0.134</td>\n",
       "</tr>\n",
       "<tr>\n",
       "  <th>age</th>       <td>    2.7145</td> <td>    1.472</td> <td>    1.844</td> <td> 0.066</td> <td>   -0.176</td> <td>    5.605</td>\n",
       "</tr>\n",
       "<tr>\n",
       "  <th>male</th>      <td>   87.1081</td> <td>   35.173</td> <td>    2.477</td> <td> 0.014</td> <td>   18.050</td> <td>  156.166</td>\n",
       "</tr>\n",
       "<tr>\n",
       "  <th>south</th>     <td>  102.2718</td> <td>   41.925</td> <td>    2.439</td> <td> 0.015</td> <td>   19.957</td> <td>  184.586</td>\n",
       "</tr>\n",
       "<tr>\n",
       "  <th>smsa</th>      <td>  -54.1877</td> <td>   33.193</td> <td>   -1.632</td> <td> 0.103</td> <td> -119.359</td> <td>   10.983</td>\n",
       "</tr>\n",
       "<tr>\n",
       "  <th>yngkid</th>    <td>  -13.0513</td> <td>   50.459</td> <td>   -0.259</td> <td> 0.796</td> <td> -112.121</td> <td>   86.019</td>\n",
       "</tr>\n",
       "<tr>\n",
       "  <th>marr</th>      <td>   31.3604</td> <td>   42.263</td> <td>    0.742</td> <td> 0.458</td> <td>  -51.618</td> <td>  114.339</td>\n",
       "</tr>\n",
       "<tr>\n",
       "  <th>union</th>     <td>   11.8657</td> <td>   38.186</td> <td>    0.311</td> <td> 0.756</td> <td>  -63.107</td> <td>   86.839</td>\n",
       "</tr>\n",
       "</table>\n",
       "<table class=\"simpletable\">\n",
       "<tr>\n",
       "  <th>Omnibus:</th>       <td>61.853</td> <th>  Durbin-Watson:     </th> <td>   1.946</td>\n",
       "</tr>\n",
       "<tr>\n",
       "  <th>Prob(Omnibus):</th> <td> 0.000</td> <th>  Jarque-Bera (JB):  </th> <td> 166.463</td>\n",
       "</tr>\n",
       "<tr>\n",
       "  <th>Skew:</th>          <td>-0.443</td> <th>  Prob(JB):          </th> <td>7.13e-37</td>\n",
       "</tr>\n",
       "<tr>\n",
       "  <th>Kurtosis:</th>      <td> 5.208</td> <th>  Cond. No.          </th> <td>1.28e+04</td>\n",
       "</tr>\n",
       "</table><br/><br/>Notes:<br/>[1] Standard Errors assume that the covariance matrix of the errors is correctly specified.<br/>[2] The condition number is large, 1.28e+04. This might indicate that there are<br/>strong multicollinearity or other numerical problems."
      ],
      "text/plain": [
       "<class 'statsmodels.iolib.summary.Summary'>\n",
       "\"\"\"\n",
       "                            OLS Regression Results                            \n",
       "==============================================================================\n",
       "Dep. Variable:                  sleep   R-squared:                       0.131\n",
       "Model:                            OLS   Adj. R-squared:                  0.121\n",
       "Method:                 Least Squares   F-statistic:                     13.18\n",
       "Date:                Tue, 14 Mar 2023   Prob (F-statistic):           8.33e-18\n",
       "Time:                        15:15:24   Log-Likelihood:                -5255.9\n",
       "No. Observations:                 706   AIC:                         1.053e+04\n",
       "Df Residuals:                     697   BIC:                         1.057e+04\n",
       "Df Model:                           8                                         \n",
       "Covariance Type:            nonrobust                                         \n",
       "==============================================================================\n",
       "                 coef    std err          t      P>|t|      [0.025      0.975]\n",
       "------------------------------------------------------------------------------\n",
       "Intercept   3446.8303     81.840     42.117      0.000    3286.148    3607.513\n",
       "totwrk        -0.1691      0.018     -9.358      0.000      -0.205      -0.134\n",
       "age            2.7145      1.472      1.844      0.066      -0.176       5.605\n",
       "male          87.1081     35.173      2.477      0.014      18.050     156.166\n",
       "south        102.2718     41.925      2.439      0.015      19.957     184.586\n",
       "smsa         -54.1877     33.193     -1.632      0.103    -119.359      10.983\n",
       "yngkid       -13.0513     50.459     -0.259      0.796    -112.121      86.019\n",
       "marr          31.3604     42.263      0.742      0.458     -51.618     114.339\n",
       "union         11.8657     38.186      0.311      0.756     -63.107      86.839\n",
       "==============================================================================\n",
       "Omnibus:                       61.853   Durbin-Watson:                   1.946\n",
       "Prob(Omnibus):                  0.000   Jarque-Bera (JB):              166.463\n",
       "Skew:                          -0.443   Prob(JB):                     7.13e-37\n",
       "Kurtosis:                       5.208   Cond. No.                     1.28e+04\n",
       "==============================================================================\n",
       "\n",
       "Notes:\n",
       "[1] Standard Errors assume that the covariance matrix of the errors is correctly specified.\n",
       "[2] The condition number is large, 1.28e+04. This might indicate that there are\n",
       "strong multicollinearity or other numerical problems.\n",
       "\"\"\""
      ]
     },
     "execution_count": 13,
     "metadata": {},
     "output_type": "execute_result"
    }
   ],
   "source": [
    "# Модель 5\n",
    "# Создаем спецификацию модели через формулу\n",
    "mod211 =smf.ols(formula='sleep~totwrk+age+male+south+smsa+yngkid+marr+union', data=data1)\n",
    "#Подгоняем модель\n",
    "Sleep_eq211 = mod211.fit()\n",
    "Sleep_eq211.summary()"
   ]
  },
  {
   "cell_type": "code",
   "execution_count": 14,
   "metadata": {},
   "outputs": [
    {
     "data": {
      "text/html": [
       "<table class=\"simpletable\">\n",
       "<tr>\n",
       "      <td></td>         <th>coef</th>     <th>std err</th>      <th>t</th>      <th>P>|t|</th>  <th>[0.025</th>    <th>0.975]</th>  \n",
       "</tr>\n",
       "<tr>\n",
       "  <th>Intercept</th> <td> 3446.8303</td> <td>   81.840</td> <td>   42.117</td> <td> 0.000</td> <td> 3286.148</td> <td> 3607.513</td>\n",
       "</tr>\n",
       "<tr>\n",
       "  <th>totwrk</th>    <td>   -0.1691</td> <td>    0.018</td> <td>   -9.358</td> <td> 0.000</td> <td>   -0.205</td> <td>   -0.134</td>\n",
       "</tr>\n",
       "<tr>\n",
       "  <th>age</th>       <td>    2.7145</td> <td>    1.472</td> <td>    1.844</td> <td> 0.066</td> <td>   -0.176</td> <td>    5.605</td>\n",
       "</tr>\n",
       "<tr>\n",
       "  <th>male</th>      <td>   87.1081</td> <td>   35.173</td> <td>    2.477</td> <td> 0.014</td> <td>   18.050</td> <td>  156.166</td>\n",
       "</tr>\n",
       "<tr>\n",
       "  <th>south</th>     <td>  102.2718</td> <td>   41.925</td> <td>    2.439</td> <td> 0.015</td> <td>   19.957</td> <td>  184.586</td>\n",
       "</tr>\n",
       "<tr>\n",
       "  <th>smsa</th>      <td>  -54.1877</td> <td>   33.193</td> <td>   -1.632</td> <td> 0.103</td> <td> -119.359</td> <td>   10.983</td>\n",
       "</tr>\n",
       "<tr>\n",
       "  <th>yngkid</th>    <td>  -13.0513</td> <td>   50.459</td> <td>   -0.259</td> <td> 0.796</td> <td> -112.121</td> <td>   86.019</td>\n",
       "</tr>\n",
       "<tr>\n",
       "  <th>marr</th>      <td>   31.3604</td> <td>   42.263</td> <td>    0.742</td> <td> 0.458</td> <td>  -51.618</td> <td>  114.339</td>\n",
       "</tr>\n",
       "<tr>\n",
       "  <th>union</th>     <td>   11.8657</td> <td>   38.186</td> <td>    0.311</td> <td> 0.756</td> <td>  -63.107</td> <td>   86.839</td>\n",
       "</tr>\n",
       "</table>"
      ],
      "text/plain": [
       "<class 'statsmodels.iolib.table.SimpleTable'>"
      ]
     },
     "execution_count": 14,
     "metadata": {},
     "output_type": "execute_result"
    }
   ],
   "source": [
    "Sleep_eq211.summary().tables[1] "
   ]
  },
  {
   "cell_type": "code",
   "execution_count": 15,
   "metadata": {},
   "outputs": [
    {
     "name": "stdout",
     "output_type": "stream",
     "text": [
      "Уровень значимости alpha:  0.05\n",
      "Критическое значение t_crit:  1.963\n"
     ]
    }
   ],
   "source": [
    "alpha = 0.05 # уровень значимости\n",
    "print('Уровень значимости alpha: ', alpha)\n",
    "DF = int(Sleep_eq211.df_resid) # число степеней свободы \n",
    "t_crit = scipy.stats.t.ppf(1-alpha/2, DF)\n",
    "print('Критическое значение t_crit: ', t_crit.round(3))"
   ]
  },
  {
   "cell_type": "code",
   "execution_count": 16,
   "metadata": {},
   "outputs": [
    {
     "data": {
      "text/html": [
       "<div>\n",
       "<style scoped>\n",
       "    .dataframe tbody tr th:only-of-type {\n",
       "        vertical-align: middle;\n",
       "    }\n",
       "\n",
       "    .dataframe tbody tr th {\n",
       "        vertical-align: top;\n",
       "    }\n",
       "\n",
       "    .dataframe thead th {\n",
       "        text-align: right;\n",
       "    }\n",
       "</style>\n",
       "<table border=\"1\" class=\"dataframe\">\n",
       "  <thead>\n",
       "    <tr style=\"text-align: right;\">\n",
       "      <th></th>\n",
       "      <th>coef</th>\n",
       "      <th>std err</th>\n",
       "      <th>t</th>\n",
       "      <th>P&gt;|t|</th>\n",
       "      <th>[0.025</th>\n",
       "      <th>0.975]</th>\n",
       "      <th>significance</th>\n",
       "    </tr>\n",
       "  </thead>\n",
       "  <tbody>\n",
       "    <tr>\n",
       "      <th>Intercept</th>\n",
       "      <td>3446.8303</td>\n",
       "      <td>81.840</td>\n",
       "      <td>42.117</td>\n",
       "      <td>0.000</td>\n",
       "      <td>3286.148</td>\n",
       "      <td>3607.513</td>\n",
       "      <td>Значим</td>\n",
       "    </tr>\n",
       "    <tr>\n",
       "      <th>totwrk</th>\n",
       "      <td>-0.1691</td>\n",
       "      <td>0.018</td>\n",
       "      <td>-9.358</td>\n",
       "      <td>0.000</td>\n",
       "      <td>-0.205</td>\n",
       "      <td>-0.134</td>\n",
       "      <td>Значим</td>\n",
       "    </tr>\n",
       "    <tr>\n",
       "      <th>age</th>\n",
       "      <td>2.7145</td>\n",
       "      <td>1.472</td>\n",
       "      <td>1.844</td>\n",
       "      <td>0.066</td>\n",
       "      <td>-0.176</td>\n",
       "      <td>5.605</td>\n",
       "      <td>Незначим</td>\n",
       "    </tr>\n",
       "    <tr>\n",
       "      <th>male</th>\n",
       "      <td>87.1081</td>\n",
       "      <td>35.173</td>\n",
       "      <td>2.477</td>\n",
       "      <td>0.014</td>\n",
       "      <td>18.050</td>\n",
       "      <td>156.166</td>\n",
       "      <td>Значим</td>\n",
       "    </tr>\n",
       "    <tr>\n",
       "      <th>south</th>\n",
       "      <td>102.2718</td>\n",
       "      <td>41.925</td>\n",
       "      <td>2.439</td>\n",
       "      <td>0.015</td>\n",
       "      <td>19.957</td>\n",
       "      <td>184.586</td>\n",
       "      <td>Значим</td>\n",
       "    </tr>\n",
       "    <tr>\n",
       "      <th>smsa</th>\n",
       "      <td>-54.1877</td>\n",
       "      <td>33.193</td>\n",
       "      <td>-1.632</td>\n",
       "      <td>0.103</td>\n",
       "      <td>-119.359</td>\n",
       "      <td>10.983</td>\n",
       "      <td>Незначим</td>\n",
       "    </tr>\n",
       "    <tr>\n",
       "      <th>yngkid</th>\n",
       "      <td>-13.0513</td>\n",
       "      <td>50.459</td>\n",
       "      <td>-0.259</td>\n",
       "      <td>0.796</td>\n",
       "      <td>-112.121</td>\n",
       "      <td>86.019</td>\n",
       "      <td>Незначим</td>\n",
       "    </tr>\n",
       "    <tr>\n",
       "      <th>marr</th>\n",
       "      <td>31.3604</td>\n",
       "      <td>42.263</td>\n",
       "      <td>0.742</td>\n",
       "      <td>0.458</td>\n",
       "      <td>-51.618</td>\n",
       "      <td>114.339</td>\n",
       "      <td>Незначим</td>\n",
       "    </tr>\n",
       "    <tr>\n",
       "      <th>union</th>\n",
       "      <td>11.8657</td>\n",
       "      <td>38.186</td>\n",
       "      <td>0.311</td>\n",
       "      <td>0.756</td>\n",
       "      <td>-63.107</td>\n",
       "      <td>86.839</td>\n",
       "      <td>Незначим</td>\n",
       "    </tr>\n",
       "  </tbody>\n",
       "</table>\n",
       "</div>"
      ],
      "text/plain": [
       "                coef  std err       t  P>|t|    [0.025    0.975] significance\n",
       "Intercept  3446.8303   81.840  42.117  0.000  3286.148  3607.513       Значим\n",
       "totwrk       -0.1691    0.018  -9.358  0.000    -0.205    -0.134       Значим\n",
       "age           2.7145    1.472   1.844  0.066    -0.176     5.605     Незначим\n",
       "male         87.1081   35.173   2.477  0.014    18.050   156.166       Значим\n",
       "south       102.2718   41.925   2.439  0.015    19.957   184.586       Значим\n",
       "smsa        -54.1877   33.193  -1.632  0.103  -119.359    10.983     Незначим\n",
       "yngkid      -13.0513   50.459  -0.259  0.796  -112.121    86.019     Незначим\n",
       "marr         31.3604   42.263   0.742  0.458   -51.618   114.339     Незначим\n",
       "union        11.8657   38.186   0.311  0.756   -63.107    86.839     Незначим"
      ]
     },
     "execution_count": 16,
     "metadata": {},
     "output_type": "execute_result"
    }
   ],
   "source": [
    "# Извлечь данные из данной таблицы можно вручную (Ctrl - C, Ctrl - V) и получить строку, чтобу преобразовать её в DataFrame\n",
    "# А можно сохранить в виде html файла и уже его преобразовать в DataFrame\n",
    "table = pd.read_html(Sleep_eq211.summary().tables[1].as_html(), header=0, index_col=0)[0] # Эту строку запоминать не нужно\n",
    "table['significance'] = table.apply(lambda x : 'Значим' if np.abs(x['t']) > t_crit else 'Незначим', axis = 1 )\n",
    "table"
   ]
  },
  {
   "cell_type": "markdown",
   "metadata": {},
   "source": [
    "### Потестируем совместную значимость `smsa, yngkid, marr, union`, т.е. гипотезу $H_0:\\beta_{smsa}=\\beta_{yngkid}=\\beta_{marr}=\\beta_{union}=0$\n"
   ]
  },
  {
   "cell_type": "markdown",
   "metadata": {},
   "source": [
    "Регрессия с ограниченияим: **sleep на totwrk, age, male, south**"
   ]
  },
  {
   "cell_type": "code",
   "execution_count": 17,
   "metadata": {},
   "outputs": [
    {
     "data": {
      "text/html": [
       "<table class=\"simpletable\">\n",
       "<caption>OLS Regression Results</caption>\n",
       "<tr>\n",
       "  <th>Dep. Variable:</th>          <td>sleep</td>      <th>  R-squared:         </th> <td>   0.127</td> \n",
       "</tr>\n",
       "<tr>\n",
       "  <th>Model:</th>                   <td>OLS</td>       <th>  Adj. R-squared:    </th> <td>   0.122</td> \n",
       "</tr>\n",
       "<tr>\n",
       "  <th>Method:</th>             <td>Least Squares</td>  <th>  F-statistic:       </th> <td>   25.46</td> \n",
       "</tr>\n",
       "<tr>\n",
       "  <th>Date:</th>             <td>Tue, 14 Mar 2023</td> <th>  Prob (F-statistic):</th> <td>1.03e-19</td> \n",
       "</tr>\n",
       "<tr>\n",
       "  <th>Time:</th>                 <td>15:20:25</td>     <th>  Log-Likelihood:    </th> <td> -5257.7</td> \n",
       "</tr>\n",
       "<tr>\n",
       "  <th>No. Observations:</th>      <td>   706</td>      <th>  AIC:               </th> <td>1.053e+04</td>\n",
       "</tr>\n",
       "<tr>\n",
       "  <th>Df Residuals:</th>          <td>   701</td>      <th>  BIC:               </th> <td>1.055e+04</td>\n",
       "</tr>\n",
       "<tr>\n",
       "  <th>Df Model:</th>              <td>     4</td>      <th>                     </th>     <td> </td>    \n",
       "</tr>\n",
       "<tr>\n",
       "  <th>Covariance Type:</th>      <td>nonrobust</td>    <th>                     </th>     <td> </td>    \n",
       "</tr>\n",
       "</table>\n",
       "<table class=\"simpletable\">\n",
       "<tr>\n",
       "      <td></td>         <th>coef</th>     <th>std err</th>      <th>t</th>      <th>P>|t|</th>  <th>[0.025</th>    <th>0.975]</th>  \n",
       "</tr>\n",
       "<tr>\n",
       "  <th>Intercept</th> <td> 3444.9975</td> <td>   67.882</td> <td>   50.750</td> <td> 0.000</td> <td> 3311.721</td> <td> 3578.273</td>\n",
       "</tr>\n",
       "<tr>\n",
       "  <th>totwrk</th>    <td>   -0.1694</td> <td>    0.018</td> <td>   -9.437</td> <td> 0.000</td> <td>   -0.205</td> <td>   -0.134</td>\n",
       "</tr>\n",
       "<tr>\n",
       "  <th>age</th>       <td>    2.7848</td> <td>    1.387</td> <td>    2.008</td> <td> 0.045</td> <td>    0.062</td> <td>    5.507</td>\n",
       "</tr>\n",
       "<tr>\n",
       "  <th>male</th>      <td>   90.7432</td> <td>   34.247</td> <td>    2.650</td> <td> 0.008</td> <td>   23.504</td> <td>  157.982</td>\n",
       "</tr>\n",
       "<tr>\n",
       "  <th>south</th>     <td>  116.4434</td> <td>   40.561</td> <td>    2.871</td> <td> 0.004</td> <td>   36.809</td> <td>  196.078</td>\n",
       "</tr>\n",
       "</table>\n",
       "<table class=\"simpletable\">\n",
       "<tr>\n",
       "  <th>Omnibus:</th>       <td>60.057</td> <th>  Durbin-Watson:     </th> <td>   1.948</td>\n",
       "</tr>\n",
       "<tr>\n",
       "  <th>Prob(Omnibus):</th> <td> 0.000</td> <th>  Jarque-Bera (JB):  </th> <td> 160.194</td>\n",
       "</tr>\n",
       "<tr>\n",
       "  <th>Skew:</th>          <td>-0.431</td> <th>  Prob(JB):          </th> <td>1.64e-35</td>\n",
       "</tr>\n",
       "<tr>\n",
       "  <th>Kurtosis:</th>      <td> 5.168</td> <th>  Cond. No.          </th> <td>1.01e+04</td>\n",
       "</tr>\n",
       "</table><br/><br/>Notes:<br/>[1] Standard Errors assume that the covariance matrix of the errors is correctly specified.<br/>[2] The condition number is large, 1.01e+04. This might indicate that there are<br/>strong multicollinearity or other numerical problems."
      ],
      "text/plain": [
       "<class 'statsmodels.iolib.summary.Summary'>\n",
       "\"\"\"\n",
       "                            OLS Regression Results                            \n",
       "==============================================================================\n",
       "Dep. Variable:                  sleep   R-squared:                       0.127\n",
       "Model:                            OLS   Adj. R-squared:                  0.122\n",
       "Method:                 Least Squares   F-statistic:                     25.46\n",
       "Date:                Tue, 14 Mar 2023   Prob (F-statistic):           1.03e-19\n",
       "Time:                        15:20:25   Log-Likelihood:                -5257.7\n",
       "No. Observations:                 706   AIC:                         1.053e+04\n",
       "Df Residuals:                     701   BIC:                         1.055e+04\n",
       "Df Model:                           4                                         \n",
       "Covariance Type:            nonrobust                                         \n",
       "==============================================================================\n",
       "                 coef    std err          t      P>|t|      [0.025      0.975]\n",
       "------------------------------------------------------------------------------\n",
       "Intercept   3444.9975     67.882     50.750      0.000    3311.721    3578.273\n",
       "totwrk        -0.1694      0.018     -9.437      0.000      -0.205      -0.134\n",
       "age            2.7848      1.387      2.008      0.045       0.062       5.507\n",
       "male          90.7432     34.247      2.650      0.008      23.504     157.982\n",
       "south        116.4434     40.561      2.871      0.004      36.809     196.078\n",
       "==============================================================================\n",
       "Omnibus:                       60.057   Durbin-Watson:                   1.948\n",
       "Prob(Omnibus):                  0.000   Jarque-Bera (JB):              160.194\n",
       "Skew:                          -0.431   Prob(JB):                     1.64e-35\n",
       "Kurtosis:                       5.168   Cond. No.                     1.01e+04\n",
       "==============================================================================\n",
       "\n",
       "Notes:\n",
       "[1] Standard Errors assume that the covariance matrix of the errors is correctly specified.\n",
       "[2] The condition number is large, 1.01e+04. This might indicate that there are\n",
       "strong multicollinearity or other numerical problems.\n",
       "\"\"\""
      ]
     },
     "execution_count": 17,
     "metadata": {},
     "output_type": "execute_result"
    }
   ],
   "source": [
    "# Модель 6\n",
    "# Создаем спецификацию модели через формулу\n",
    "mod212 =smf.ols(formula='sleep~totwrk+age+male+south', data=data1)\n",
    "#Подгоняем модель\n",
    "Sleep_eq212 = mod212.fit()\n",
    "Sleep_eq212.summary() "
   ]
  },
  {
   "cell_type": "code",
   "execution_count": 18,
   "metadata": {},
   "outputs": [
    {
     "name": "stdout",
     "output_type": "stream",
     "text": [
      "Уровень значимости alpha:  0.05\n",
      "J = 4 ,  n-k-1 = 697\n",
      "F-critical:  2.385\n"
     ]
    }
   ],
   "source": [
    "alpha = 0.05 # уровень значимости\n",
    "print('Уровень значимости alpha: ', alpha)\n",
    "dfn = int(4) # J=4 \n",
    "dfd = int(Sleep_eq211.df_resid) # остаточные степени свободы n-k-1\n",
    "print(\"J =\", dfn,\", \", \"n-k-1 =\", dfd)\n",
    "F_crit = scipy.stats.f.ppf(1-alpha, dfn, dfd)\n",
    "print(\"F-critical: \", F_crit.round(3))"
   ]
  },
  {
   "cell_type": "code",
   "execution_count": 19,
   "metadata": {},
   "outputs": [
    {
     "name": "stdout",
     "output_type": "stream",
     "text": [
      "F-stat:  0.9097649568071449\n",
      "не отвергаем H0, коэффициенты совместно незначимы\n"
     ]
    }
   ],
   "source": [
    "#совместная значимость: Тестовая F-статистика, вычисленная самостоятельно по формуле\n",
    "F_stat=(Sleep_eq211.rsquared-Sleep_eq212.rsquared)/(1-Sleep_eq211.rsquared)*Sleep_eq211.df_resid/dfn\n",
    "print(\"F-stat: \", F_stat)\n",
    "if (F_stat > F_crit):\n",
    "    print('отвергаем H0, коэффициенты совместно значимы')\n",
    "else:\n",
    "    print('не отвергаем H0, коэффициенты совместно незначимы')"
   ]
  },
  {
   "cell_type": "code",
   "execution_count": 20,
   "metadata": {},
   "outputs": [
    {
     "data": {
      "text/plain": [
       "<class 'statsmodels.stats.contrast.ContrastResults'>\n",
       "<F test: F=0.9097649568071127, p=0.4576805992248939, df_denom=697, df_num=4>"
      ]
     },
     "execution_count": 20,
     "metadata": {},
     "output_type": "execute_result"
    }
   ],
   "source": [
    "# F-statistic and Prob (F-statistic) \n",
    "Sleep_eq211.f_test(\"smsa = yngkid = marr = union = 0\") "
   ]
  },
  {
   "cell_type": "code",
   "execution_count": 22,
   "metadata": {},
   "outputs": [
    {
     "name": "stdout",
     "output_type": "stream",
     "text": [
      "0.9097649568071127\n",
      "0.4576805992248939\n",
      "697.0\n",
      "4.0\n"
     ]
    }
   ],
   "source": [
    "#Пример работы с отчетом для f теста\n",
    "A = Sleep_eq211.f_test(\"smsa = yngkid = marr = union = 0\") \n",
    "print(A.fvalue)\n",
    "print(A.pvalue)\n",
    "print(A.df_denom)\n",
    "print(A.df_num)"
   ]
  },
  {
   "cell_type": "code",
   "execution_count": 21,
   "metadata": {},
   "outputs": [
    {
     "data": {
      "text/plain": [
       "(0.909764956807138, 0.45768059922488336, 4.0)"
      ]
     },
     "execution_count": 21,
     "metadata": {},
     "output_type": "execute_result"
    }
   ],
   "source": [
    "# F-statistic and Prob (F-statistic) and df_num=J\n",
    "Sleep_eq211.compare_f_test(Sleep_eq212)"
   ]
  },
  {
   "cell_type": "code",
   "execution_count": 20,
   "metadata": {},
   "outputs": [
    {
     "name": "stdout",
     "output_type": "stream",
     "text": [
      "0.909764956807138 0.45768059922488336 4 False\n"
     ]
    }
   ],
   "source": [
    "f_val, p_val, df_num = Sleep_eq211.compare_f_test(Sleep_eq212)\n",
    "print(f_val, p_val, int(df_num), p_val<0.05)"
   ]
  },
  {
   "cell_type": "markdown",
   "metadata": {},
   "source": [
    "### 3 F-тест: структурные ограничения"
   ]
  },
  {
   "cell_type": "markdown",
   "metadata": {},
   "source": [
    "#### Задача 3.1 cost equation"
   ]
  },
  {
   "cell_type": "code",
   "execution_count": 23,
   "metadata": {},
   "outputs": [
    {
     "data": {
      "text/plain": [
       "(158, 8)"
      ]
     },
     "execution_count": 23,
     "metadata": {},
     "output_type": "execute_result"
    }
   ],
   "source": [
    "data2 = pd.read_csv('data-csv/Electricity.csv')\n",
    "data2.shape"
   ]
  },
  {
   "cell_type": "code",
   "execution_count": 24,
   "metadata": {},
   "outputs": [
    {
     "data": {
      "text/html": [
       "<table class=\"simpletable\">\n",
       "<caption>OLS Regression Results</caption>\n",
       "<tr>\n",
       "  <th>Dep. Variable:</th>      <td>np.log(cost)</td>   <th>  R-squared:         </th> <td>   0.992</td> \n",
       "</tr>\n",
       "<tr>\n",
       "  <th>Model:</th>                   <td>OLS</td>       <th>  Adj. R-squared:    </th> <td>   0.992</td> \n",
       "</tr>\n",
       "<tr>\n",
       "  <th>Method:</th>             <td>Least Squares</td>  <th>  F-statistic:       </th> <td>   3880.</td> \n",
       "</tr>\n",
       "<tr>\n",
       "  <th>Date:</th>             <td>Tue, 14 Mar 2023</td> <th>  Prob (F-statistic):</th> <td>2.45e-158</td>\n",
       "</tr>\n",
       "<tr>\n",
       "  <th>Time:</th>                 <td>15:33:03</td>     <th>  Log-Likelihood:    </th> <td>  91.515</td> \n",
       "</tr>\n",
       "<tr>\n",
       "  <th>No. Observations:</th>      <td>   158</td>      <th>  AIC:               </th> <td>  -171.0</td> \n",
       "</tr>\n",
       "<tr>\n",
       "  <th>Df Residuals:</th>          <td>   152</td>      <th>  BIC:               </th> <td>  -152.7</td> \n",
       "</tr>\n",
       "<tr>\n",
       "  <th>Df Model:</th>              <td>     5</td>      <th>                     </th>     <td> </td>    \n",
       "</tr>\n",
       "<tr>\n",
       "  <th>Covariance Type:</th>      <td>nonrobust</td>    <th>                     </th>     <td> </td>    \n",
       "</tr>\n",
       "</table>\n",
       "<table class=\"simpletable\">\n",
       "<tr>\n",
       "          <td></td>             <th>coef</th>     <th>std err</th>      <th>t</th>      <th>P>|t|</th>  <th>[0.025</th>    <th>0.975]</th>  \n",
       "</tr>\n",
       "<tr>\n",
       "  <th>Intercept</th>         <td>   -6.7387</td> <td>    0.706</td> <td>   -9.541</td> <td> 0.000</td> <td>   -8.134</td> <td>   -5.343</td>\n",
       "</tr>\n",
       "<tr>\n",
       "  <th>np.log(q)</th>         <td>    0.4030</td> <td>    0.032</td> <td>   12.734</td> <td> 0.000</td> <td>    0.340</td> <td>    0.466</td>\n",
       "</tr>\n",
       "<tr>\n",
       "  <th>I(np.log(q) ** 2)</th> <td>    0.0304</td> <td>    0.002</td> <td>   14.024</td> <td> 0.000</td> <td>    0.026</td> <td>    0.035</td>\n",
       "</tr>\n",
       "<tr>\n",
       "  <th>np.log(pl)</th>        <td>    0.1461</td> <td>    0.070</td> <td>    2.073</td> <td> 0.040</td> <td>    0.007</td> <td>    0.285</td>\n",
       "</tr>\n",
       "<tr>\n",
       "  <th>np.log(pk)</th>        <td>    0.1571</td> <td>    0.058</td> <td>    2.721</td> <td> 0.007</td> <td>    0.043</td> <td>    0.271</td>\n",
       "</tr>\n",
       "<tr>\n",
       "  <th>np.log(pf)</th>        <td>    0.6847</td> <td>    0.043</td> <td>   16.043</td> <td> 0.000</td> <td>    0.600</td> <td>    0.769</td>\n",
       "</tr>\n",
       "</table>\n",
       "<table class=\"simpletable\">\n",
       "<tr>\n",
       "  <th>Omnibus:</th>       <td> 2.342</td> <th>  Durbin-Watson:     </th> <td>   1.798</td>\n",
       "</tr>\n",
       "<tr>\n",
       "  <th>Prob(Omnibus):</th> <td> 0.310</td> <th>  Jarque-Bera (JB):  </th> <td>   2.078</td>\n",
       "</tr>\n",
       "<tr>\n",
       "  <th>Skew:</th>          <td> 0.109</td> <th>  Prob(JB):          </th> <td>   0.354</td>\n",
       "</tr>\n",
       "<tr>\n",
       "  <th>Kurtosis:</th>      <td> 3.518</td> <th>  Cond. No.          </th> <td>4.99e+03</td>\n",
       "</tr>\n",
       "</table><br/><br/>Notes:<br/>[1] Standard Errors assume that the covariance matrix of the errors is correctly specified.<br/>[2] The condition number is large, 4.99e+03. This might indicate that there are<br/>strong multicollinearity or other numerical problems."
      ],
      "text/plain": [
       "<class 'statsmodels.iolib.summary.Summary'>\n",
       "\"\"\"\n",
       "                            OLS Regression Results                            \n",
       "==============================================================================\n",
       "Dep. Variable:           np.log(cost)   R-squared:                       0.992\n",
       "Model:                            OLS   Adj. R-squared:                  0.992\n",
       "Method:                 Least Squares   F-statistic:                     3880.\n",
       "Date:                Tue, 14 Mar 2023   Prob (F-statistic):          2.45e-158\n",
       "Time:                        15:33:03   Log-Likelihood:                 91.515\n",
       "No. Observations:                 158   AIC:                            -171.0\n",
       "Df Residuals:                     152   BIC:                            -152.7\n",
       "Df Model:                           5                                         \n",
       "Covariance Type:            nonrobust                                         \n",
       "=====================================================================================\n",
       "                        coef    std err          t      P>|t|      [0.025      0.975]\n",
       "-------------------------------------------------------------------------------------\n",
       "Intercept            -6.7387      0.706     -9.541      0.000      -8.134      -5.343\n",
       "np.log(q)             0.4030      0.032     12.734      0.000       0.340       0.466\n",
       "I(np.log(q) ** 2)     0.0304      0.002     14.024      0.000       0.026       0.035\n",
       "np.log(pl)            0.1461      0.070      2.073      0.040       0.007       0.285\n",
       "np.log(pk)            0.1571      0.058      2.721      0.007       0.043       0.271\n",
       "np.log(pf)            0.6847      0.043     16.043      0.000       0.600       0.769\n",
       "==============================================================================\n",
       "Omnibus:                        2.342   Durbin-Watson:                   1.798\n",
       "Prob(Omnibus):                  0.310   Jarque-Bera (JB):                2.078\n",
       "Skew:                           0.109   Prob(JB):                        0.354\n",
       "Kurtosis:                       3.518   Cond. No.                     4.99e+03\n",
       "==============================================================================\n",
       "\n",
       "Notes:\n",
       "[1] Standard Errors assume that the covariance matrix of the errors is correctly specified.\n",
       "[2] The condition number is large, 4.99e+03. This might indicate that there are\n",
       "strong multicollinearity or other numerical problems.\n",
       "\"\"\""
      ]
     },
     "execution_count": 24,
     "metadata": {},
     "output_type": "execute_result"
    }
   ],
   "source": [
    "# Модель \n",
    "# Создаем спецификацию модели через формулу\n",
    "mod31 =smf.ols(formula='np.log(cost) ~ np.log(q)+I(np.log(q)**2)+np.log(pl)+np.log(pk)+np.log(pf)', data=data2)\n",
    "#Подгоняем модель\n",
    "Cost_eq31 = mod31.fit()\n",
    "Cost_eq31.summary()"
   ]
  },
  {
   "cell_type": "code",
   "execution_count": 25,
   "metadata": {},
   "outputs": [
    {
     "name": "stdout",
     "output_type": "stream",
     "text": [
      "Уровень значимости alpha:  0.01\n",
      "Критическое значение t_crit:  2.609\n"
     ]
    }
   ],
   "source": [
    "alpha = 0.01 # уровень значимости\n",
    "print('Уровень значимости alpha: ', alpha)\n",
    "DF = int(Cost_eq31.df_resid) # число степеней свободы \n",
    "t_crit = scipy.stats.t.ppf(1-alpha/2, DF)\n",
    "print('Критическое значение t_crit: ', t_crit.round(3))"
   ]
  },
  {
   "cell_type": "code",
   "execution_count": 26,
   "metadata": {},
   "outputs": [
    {
     "data": {
      "text/html": [
       "<div>\n",
       "<style scoped>\n",
       "    .dataframe tbody tr th:only-of-type {\n",
       "        vertical-align: middle;\n",
       "    }\n",
       "\n",
       "    .dataframe tbody tr th {\n",
       "        vertical-align: top;\n",
       "    }\n",
       "\n",
       "    .dataframe thead th {\n",
       "        text-align: right;\n",
       "    }\n",
       "</style>\n",
       "<table border=\"1\" class=\"dataframe\">\n",
       "  <thead>\n",
       "    <tr style=\"text-align: right;\">\n",
       "      <th></th>\n",
       "      <th>coef</th>\n",
       "      <th>std err</th>\n",
       "      <th>t</th>\n",
       "      <th>P&gt;|t|</th>\n",
       "      <th>[0.025</th>\n",
       "      <th>0.975]</th>\n",
       "      <th>significance</th>\n",
       "    </tr>\n",
       "  </thead>\n",
       "  <tbody>\n",
       "    <tr>\n",
       "      <th>Intercept</th>\n",
       "      <td>-6.7387</td>\n",
       "      <td>0.706</td>\n",
       "      <td>-9.541</td>\n",
       "      <td>0.000</td>\n",
       "      <td>-8.134</td>\n",
       "      <td>-5.343</td>\n",
       "      <td>Значим</td>\n",
       "    </tr>\n",
       "    <tr>\n",
       "      <th>np.log(q)</th>\n",
       "      <td>0.4030</td>\n",
       "      <td>0.032</td>\n",
       "      <td>12.734</td>\n",
       "      <td>0.000</td>\n",
       "      <td>0.340</td>\n",
       "      <td>0.466</td>\n",
       "      <td>Значим</td>\n",
       "    </tr>\n",
       "    <tr>\n",
       "      <th>I(np.log(q) ** 2)</th>\n",
       "      <td>0.0304</td>\n",
       "      <td>0.002</td>\n",
       "      <td>14.024</td>\n",
       "      <td>0.000</td>\n",
       "      <td>0.026</td>\n",
       "      <td>0.035</td>\n",
       "      <td>Значим</td>\n",
       "    </tr>\n",
       "    <tr>\n",
       "      <th>np.log(pl)</th>\n",
       "      <td>0.1461</td>\n",
       "      <td>0.070</td>\n",
       "      <td>2.073</td>\n",
       "      <td>0.040</td>\n",
       "      <td>0.007</td>\n",
       "      <td>0.285</td>\n",
       "      <td>Незначим</td>\n",
       "    </tr>\n",
       "    <tr>\n",
       "      <th>np.log(pk)</th>\n",
       "      <td>0.1571</td>\n",
       "      <td>0.058</td>\n",
       "      <td>2.721</td>\n",
       "      <td>0.007</td>\n",
       "      <td>0.043</td>\n",
       "      <td>0.271</td>\n",
       "      <td>Значим</td>\n",
       "    </tr>\n",
       "    <tr>\n",
       "      <th>np.log(pf)</th>\n",
       "      <td>0.6847</td>\n",
       "      <td>0.043</td>\n",
       "      <td>16.043</td>\n",
       "      <td>0.000</td>\n",
       "      <td>0.600</td>\n",
       "      <td>0.769</td>\n",
       "      <td>Значим</td>\n",
       "    </tr>\n",
       "  </tbody>\n",
       "</table>\n",
       "</div>"
      ],
      "text/plain": [
       "                     coef  std err       t  P>|t|  [0.025  0.975] significance\n",
       "Intercept         -6.7387    0.706  -9.541  0.000  -8.134  -5.343       Значим\n",
       "np.log(q)          0.4030    0.032  12.734  0.000   0.340   0.466       Значим\n",
       "I(np.log(q) ** 2)  0.0304    0.002  14.024  0.000   0.026   0.035       Значим\n",
       "np.log(pl)         0.1461    0.070   2.073  0.040   0.007   0.285     Незначим\n",
       "np.log(pk)         0.1571    0.058   2.721  0.007   0.043   0.271       Значим\n",
       "np.log(pf)         0.6847    0.043  16.043  0.000   0.600   0.769       Значим"
      ]
     },
     "execution_count": 26,
     "metadata": {},
     "output_type": "execute_result"
    }
   ],
   "source": [
    "# Извлечь данные из данной таблицы можно вручную (Ctrl - C, Ctrl - V) и получить строку, чтобу преобразовать её в DataFrame\n",
    "# А можно сохранить в виде html файла и уже его преобразовать в DataFrame\n",
    "table2 = pd.read_html(Cost_eq31.summary().tables[1].as_html(), header=0, index_col=0)[0] # Эту строку запоминать не нужно\n",
    "table2['significance'] = table2.apply(lambda x : 'Значим' if np.abs(x['t']) > t_crit else 'Незначим', axis = 1 )\n",
    "table2"
   ]
  },
  {
   "cell_type": "markdown",
   "metadata": {},
   "source": [
    "#### Гипотеза 1\n",
    "\n",
    "#### Потестируем гипотезу $H_0: \\beta_{pf}+\\beta_{pl}+\\beta_{pk}=1$\n",
    "\n",
    "#### Интерпретация: Постоянная отдача от $\\log(pl),\\log(pk)$ и $\\log(pf)$"
   ]
  },
  {
   "cell_type": "code",
   "execution_count": 27,
   "metadata": {},
   "outputs": [
    {
     "name": "stdout",
     "output_type": "stream",
     "text": [
      "<F test: F=0.014541184876269155, p=0.9041775484872097, df_denom=152, df_num=1>\n"
     ]
    }
   ],
   "source": [
    "# F-statistic and Prob (F-statistic) \n",
    "print(Cost_eq31.f_test(\"np.log(pl)+np.log(pk)+np.log(pf) = 1\")) "
   ]
  },
  {
   "cell_type": "code",
   "execution_count": 28,
   "metadata": {},
   "outputs": [
    {
     "name": "stdout",
     "output_type": "stream",
     "text": [
      "Уровень значимости alpha:  0.01\n",
      "J = 1 ,  n-k-1 = 152\n",
      "F-critical:  6.805\n"
     ]
    }
   ],
   "source": [
    "alpha = 0.01 # уровень значимости\n",
    "print('Уровень значимости alpha: ', alpha)\n",
    "dfn = int(1) # J=1 \n",
    "dfd = int(Cost_eq31.df_resid) # остаточные степени свободы n-k-1\n",
    "print(\"J =\", dfn,\", \", \"n-k-1 =\", dfd)\n",
    "F_crit = scipy.stats.f.ppf(1-alpha, dfn, dfd)\n",
    "print(\"F-critical: \", F_crit.round(3))"
   ]
  },
  {
   "cell_type": "markdown",
   "metadata": {},
   "source": [
    "Гипотеза 1 не отвергается"
   ]
  },
  {
   "cell_type": "markdown",
   "metadata": {},
   "source": [
    "#### Гипотеза 2\n",
    "\n",
    "#### Потестируем гипотезу $H_0: \\beta_{pl}=\\beta_{pk}$\n",
    "\n",
    "#### Интерпретация: отдача от $\\log(pl)$ и отдача от $\\log(pk)$ равны."
   ]
  },
  {
   "cell_type": "code",
   "execution_count": 30,
   "metadata": {},
   "outputs": [
    {
     "name": "stdout",
     "output_type": "stream",
     "text": [
      "<F test: F=0.0200862758985161, p=0.8874840609151591, df_denom=152, df_num=1>\n"
     ]
    }
   ],
   "source": [
    "# F-statistic and Prob (F-statistic) \n",
    "print(Cost_eq31.f_test(\"np.log(pl) = np.log(pk)\")) "
   ]
  },
  {
   "cell_type": "code",
   "execution_count": 31,
   "metadata": {},
   "outputs": [
    {
     "name": "stdout",
     "output_type": "stream",
     "text": [
      "Уровень значимости alpha:  0.01\n",
      "J = 1 ,  n-k-1 = 152\n",
      "F-critical:  6.805\n"
     ]
    }
   ],
   "source": [
    "alpha = 0.01 # уровень значимости\n",
    "print('Уровень значимости alpha: ', alpha)\n",
    "dfn = int(1) # J=1 \n",
    "dfd = int(Cost_eq31.df_resid) # остаточные степени свободы n-k-1\n",
    "print(\"J =\", dfn,\", \", \"n-k-1 =\", dfd)\n",
    "F_crit = scipy.stats.f.ppf(1-alpha, dfn, dfd)\n",
    "print(\"F-critical: \", F_crit.round(3))"
   ]
  },
  {
   "cell_type": "markdown",
   "metadata": {},
   "source": [
    "Гипотеза 2 не отвергается"
   ]
  },
  {
   "cell_type": "markdown",
   "metadata": {},
   "source": [
    "#### Гипотеза 3\n",
    "\n",
    "#### Потестируем гипотезу $H_0: \\beta_{pf}=\\beta_{pl}=\\beta_{pk}$\n",
    "\n",
    "#### Интерпретация: отдача от $\\log(pf)$, отдача от $\\log(pl)$ и отдача от $\\log(pk)$ равны."
   ]
  },
  {
   "cell_type": "code",
   "execution_count": 41,
   "metadata": {},
   "outputs": [
    {
     "name": "stdout",
     "output_type": "stream",
     "text": [
      "<F test: F=26.417080686252, p=1.4240695015056917e-10, df_denom=152, df_num=2>\n"
     ]
    }
   ],
   "source": [
    "# F-statistic and Prob (F-statistic) \n",
    "print(Cost_eq31.f_test(\"np.log(pf)=np.log(pl)=np.log(pk)\")) "
   ]
  },
  {
   "cell_type": "code",
   "execution_count": 32,
   "metadata": {},
   "outputs": [
    {
     "name": "stdout",
     "output_type": "stream",
     "text": [
      "Уровень значимости alpha:  0.01\n",
      "J = 2 ,  n-k-1 = 697\n",
      "F-critical:  4.636\n"
     ]
    }
   ],
   "source": [
    "alpha = 0.01 # уровень значимости\n",
    "print('Уровень значимости alpha: ', alpha)\n",
    "dfn = int(2) # J=2 \n",
    "dfd = int(Sleep_eq211.df_resid) # остаточные степени свободы n-k-1\n",
    "print(\"J =\", dfn,\", \", \"n-k-1 =\", dfd)\n",
    "F_crit = scipy.stats.f.ppf(1-alpha, dfn, dfd)\n",
    "print(\"F-critical: \", F_crit.round(3))"
   ]
  },
  {
   "cell_type": "markdown",
   "metadata": {},
   "source": [
    "Гипотеза 3 отвергается"
   ]
  },
  {
   "cell_type": "markdown",
   "metadata": {},
   "source": [
    "### Задача 3.2 output equation"
   ]
  },
  {
   "cell_type": "markdown",
   "metadata": {},
   "source": [
    "#### Для набора данных `Labour` рассмотрим линейную регрессию **log(output) на log(capital), log(labour), log(wage)**"
   ]
  },
  {
   "cell_type": "code",
   "execution_count": 123,
   "metadata": {},
   "outputs": [
    {
     "data": {
      "text/plain": [
       "(569, 4)"
      ]
     },
     "execution_count": 123,
     "metadata": {},
     "output_type": "execute_result"
    }
   ],
   "source": [
    "data3 = pd.read_csv('data-csv/Labour.csv')\n",
    "data3.shape"
   ]
  },
  {
   "cell_type": "code",
   "execution_count": 133,
   "metadata": {},
   "outputs": [
    {
     "data": {
      "text/html": [
       "<table class=\"simpletable\">\n",
       "<caption>OLS Regression Results</caption>\n",
       "<tr>\n",
       "  <th>Dep. Variable:</th>     <td>np.log(output)</td>  <th>  R-squared:         </th> <td>   0.888</td> \n",
       "</tr>\n",
       "<tr>\n",
       "  <th>Model:</th>                   <td>OLS</td>       <th>  Adj. R-squared:    </th> <td>   0.888</td> \n",
       "</tr>\n",
       "<tr>\n",
       "  <th>Method:</th>             <td>Least Squares</td>  <th>  F-statistic:       </th> <td>   1499.</td> \n",
       "</tr>\n",
       "<tr>\n",
       "  <th>Date:</th>             <td>Tue, 14 Mar 2023</td> <th>  Prob (F-statistic):</th> <td>1.65e-268</td>\n",
       "</tr>\n",
       "<tr>\n",
       "  <th>Time:</th>                 <td>00:31:14</td>     <th>  Log-Likelihood:    </th> <td> -279.62</td> \n",
       "</tr>\n",
       "<tr>\n",
       "  <th>No. Observations:</th>      <td>   569</td>      <th>  AIC:               </th> <td>   567.2</td> \n",
       "</tr>\n",
       "<tr>\n",
       "  <th>Df Residuals:</th>          <td>   565</td>      <th>  BIC:               </th> <td>   584.6</td> \n",
       "</tr>\n",
       "<tr>\n",
       "  <th>Df Model:</th>              <td>     3</td>      <th>                     </th>     <td> </td>    \n",
       "</tr>\n",
       "<tr>\n",
       "  <th>Covariance Type:</th>      <td>nonrobust</td>    <th>                     </th>     <td> </td>    \n",
       "</tr>\n",
       "</table>\n",
       "<table class=\"simpletable\">\n",
       "<tr>\n",
       "         <td></td>            <th>coef</th>     <th>std err</th>      <th>t</th>      <th>P>|t|</th>  <th>[0.025</th>    <th>0.975]</th>  \n",
       "</tr>\n",
       "<tr>\n",
       "  <th>Intercept</th>       <td>   -5.0073</td> <td>    0.221</td> <td>  -22.649</td> <td> 0.000</td> <td>   -5.442</td> <td>   -4.573</td>\n",
       "</tr>\n",
       "<tr>\n",
       "  <th>np.log(capital)</th> <td>    0.1493</td> <td>    0.015</td> <td>   10.141</td> <td> 0.000</td> <td>    0.120</td> <td>    0.178</td>\n",
       "</tr>\n",
       "<tr>\n",
       "  <th>np.log(labour)</th>  <td>    0.7204</td> <td>    0.019</td> <td>   37.487</td> <td> 0.000</td> <td>    0.683</td> <td>    0.758</td>\n",
       "</tr>\n",
       "<tr>\n",
       "  <th>np.log(wage)</th>    <td>    0.9214</td> <td>    0.058</td> <td>   16.001</td> <td> 0.000</td> <td>    0.808</td> <td>    1.034</td>\n",
       "</tr>\n",
       "</table>\n",
       "<table class=\"simpletable\">\n",
       "<tr>\n",
       "  <th>Omnibus:</th>       <td>252.010</td> <th>  Durbin-Watson:     </th> <td>   2.008</td>\n",
       "</tr>\n",
       "<tr>\n",
       "  <th>Prob(Omnibus):</th> <td> 0.000</td>  <th>  Jarque-Bera (JB):  </th> <td>3723.965</td>\n",
       "</tr>\n",
       "<tr>\n",
       "  <th>Skew:</th>          <td> 1.547</td>  <th>  Prob(JB):          </th> <td>    0.00</td>\n",
       "</tr>\n",
       "<tr>\n",
       "  <th>Kurtosis:</th>      <td>15.145</td>  <th>  Cond. No.          </th> <td>    82.3</td>\n",
       "</tr>\n",
       "</table><br/><br/>Notes:<br/>[1] Standard Errors assume that the covariance matrix of the errors is correctly specified."
      ],
      "text/plain": [
       "<class 'statsmodels.iolib.summary.Summary'>\n",
       "\"\"\"\n",
       "                            OLS Regression Results                            \n",
       "==============================================================================\n",
       "Dep. Variable:         np.log(output)   R-squared:                       0.888\n",
       "Model:                            OLS   Adj. R-squared:                  0.888\n",
       "Method:                 Least Squares   F-statistic:                     1499.\n",
       "Date:                Tue, 14 Mar 2023   Prob (F-statistic):          1.65e-268\n",
       "Time:                        00:31:14   Log-Likelihood:                -279.62\n",
       "No. Observations:                 569   AIC:                             567.2\n",
       "Df Residuals:                     565   BIC:                             584.6\n",
       "Df Model:                           3                                         \n",
       "Covariance Type:            nonrobust                                         \n",
       "===================================================================================\n",
       "                      coef    std err          t      P>|t|      [0.025      0.975]\n",
       "-----------------------------------------------------------------------------------\n",
       "Intercept          -5.0073      0.221    -22.649      0.000      -5.442      -4.573\n",
       "np.log(capital)     0.1493      0.015     10.141      0.000       0.120       0.178\n",
       "np.log(labour)      0.7204      0.019     37.487      0.000       0.683       0.758\n",
       "np.log(wage)        0.9214      0.058     16.001      0.000       0.808       1.034\n",
       "==============================================================================\n",
       "Omnibus:                      252.010   Durbin-Watson:                   2.008\n",
       "Prob(Omnibus):                  0.000   Jarque-Bera (JB):             3723.965\n",
       "Skew:                           1.547   Prob(JB):                         0.00\n",
       "Kurtosis:                      15.145   Cond. No.                         82.3\n",
       "==============================================================================\n",
       "\n",
       "Notes:\n",
       "[1] Standard Errors assume that the covariance matrix of the errors is correctly specified.\n",
       "\"\"\""
      ]
     },
     "execution_count": 133,
     "metadata": {},
     "output_type": "execute_result"
    }
   ],
   "source": [
    "# Результаты подгонки\n",
    " \n",
    "# Создаем спецификацию модели через формулу\n",
    "mod32 =smf.ols(formula='np.log(output)~np.log(capital)+np.log(labour)+np.log(wage)', data=data3)\n",
    "#Подгоняем модель\n",
    "Output_eq31 = mod32.fit()\n",
    "Output_eq31.summary()"
   ]
  },
  {
   "cell_type": "code",
   "execution_count": null,
   "metadata": {},
   "outputs": [],
   "source": []
  },
  {
   "cell_type": "markdown",
   "metadata": {},
   "source": [
    "#### Гипотеза 1\n",
    "\n",
    "#### Потестируем гипотезу $H_0: \\beta_{capital}+\\beta_{labour}+\\beta_{wage}=1$\n",
    "\n",
    "#### Интерпретация: Постоянная отдача от масштаба"
   ]
  },
  {
   "cell_type": "code",
   "execution_count": 143,
   "metadata": {},
   "outputs": [
    {
     "name": "stdout",
     "output_type": "stream",
     "text": [
      "198.58693315849214\n",
      "7.280959454662618e-39\n",
      "565.0\n",
      "1.0\n",
      "<F test: F=198.58693315849214, p=7.280959454662618e-39, df_denom=565, df_num=1>\n"
     ]
    }
   ],
   "source": [
    "# F-statistic and Prob (F-statistic) \n",
    "A = Output_eq31.f_test(\"np.log(capital)+np.log(labour)+np.log(wage) = 1\")\n",
    "print(A.fvalue)\n",
    "print(A.pvalue)\n",
    "print(A.df_denom)\n",
    "print(A.df_num)\n",
    "print(Output_eq31.f_test(\"np.log(capital)+np.log(labour)+np.log(wage) = 1\")) "
   ]
  },
  {
   "cell_type": "code",
   "execution_count": 131,
   "metadata": {},
   "outputs": [
    {
     "data": {
      "text/plain": [
       "statsmodels.stats.contrast.ContrastResults"
      ]
     },
     "execution_count": 131,
     "metadata": {},
     "output_type": "execute_result"
    }
   ],
   "source": [
    "type(Output_eq31.f_test(\"np.log(capital)+np.log(labour)+np.log(wage) = 1\"))"
   ]
  },
  {
   "cell_type": "code",
   "execution_count": 130,
   "metadata": {},
   "outputs": [
    {
     "name": "stdout",
     "output_type": "stream",
     "text": [
      "Уровень значимости alpha:  0.05\n",
      "J = 1 ,  n-k-1 = 565\n",
      "F-critical:  3.858\n"
     ]
    }
   ],
   "source": [
    "alpha = 0.05 # уровень значимости\n",
    "print('Уровень значимости alpha: ', alpha)\n",
    "dfn = int(1) # J=1 \n",
    "dfd = int(Output_eq31.df_resid) # остаточные степени свободы n-k-1\n",
    "print(\"J =\", dfn,\", \", \"n-k-1 =\", dfd)\n",
    "F_crit = scipy.stats.f.ppf(1-alpha, dfn, dfd)\n",
    "print(\"F-critical: \", F_crit.round(3))"
   ]
  },
  {
   "cell_type": "code",
   "execution_count": 144,
   "metadata": {},
   "outputs": [
    {
     "name": "stdout",
     "output_type": "stream",
     "text": [
      "отвергаем H0 (гипотезу 1)\n"
     ]
    }
   ],
   "source": [
    "F_stat = A.fvalue\n",
    "if (F_stat > F_crit):\n",
    "    print('отвергаем H0 (гипотезу 1)')\n",
    "else:\n",
    "    print('не отвергаем H0 (гипотезу 1)')"
   ]
  },
  {
   "cell_type": "markdown",
   "metadata": {},
   "source": [
    "#### Гипотеза 2\n",
    "\n",
    "#### Потестируем гипотезу $H_0: \\beta_{labour}=\\beta_{wage}$\n",
    "\n",
    "#### Интерпретация: отдача от labour и отдача от wage равны"
   ]
  },
  {
   "cell_type": "code",
   "execution_count": null,
   "metadata": {},
   "outputs": [],
   "source": []
  },
  {
   "cell_type": "markdown",
   "metadata": {},
   "source": [
    "#### Гипотеза 3\n",
    "\n",
    "#### Потестируем гипотезу $H_0: \\beta_{capital}=\\beta_{labour}=\\beta_{wage}$\n",
    "\n",
    "#### Интерпретация: отдача от capital, отдача от labour и отдача от wage равны"
   ]
  },
  {
   "cell_type": "code",
   "execution_count": null,
   "metadata": {},
   "outputs": [],
   "source": []
  },
  {
   "cell_type": "markdown",
   "metadata": {},
   "source": [
    "### 4 F-тест: структурные изменения/сдвиги"
   ]
  },
  {
   "cell_type": "markdown",
   "metadata": {},
   "source": [
    "#### Задача 4.1 sleep equation #1\n",
    "\n",
    "Рассмотрим регрессию **sleep/60 на totwrk, age, age^2, south, smsa, marr**:"
   ]
  },
  {
   "cell_type": "code",
   "execution_count": 33,
   "metadata": {},
   "outputs": [
    {
     "data": {
      "text/plain": [
       "(706, 34)"
      ]
     },
     "execution_count": 33,
     "metadata": {},
     "output_type": "execute_result"
    }
   ],
   "source": [
    "data1 = pd.read_csv('data-csv/sleep75.csv')\n",
    "data1.shape"
   ]
  },
  {
   "cell_type": "markdown",
   "metadata": {},
   "source": [
    "для M: $sleep/60=\\beta_0+\\beta_1totwrk+\\beta_2age+\\beta_3age^2+\\beta_4south+\\beta_5smsa+\\beta_6marr+u$"
   ]
  },
  {
   "cell_type": "code",
   "execution_count": 35,
   "metadata": {},
   "outputs": [
    {
     "data": {
      "text/html": [
       "<div>\n",
       "<style scoped>\n",
       "    .dataframe tbody tr th:only-of-type {\n",
       "        vertical-align: middle;\n",
       "    }\n",
       "\n",
       "    .dataframe tbody tr th {\n",
       "        vertical-align: top;\n",
       "    }\n",
       "\n",
       "    .dataframe thead th {\n",
       "        text-align: right;\n",
       "    }\n",
       "</style>\n",
       "<table border=\"1\" class=\"dataframe\">\n",
       "  <thead>\n",
       "    <tr style=\"text-align: right;\">\n",
       "      <th></th>\n",
       "      <th>age</th>\n",
       "      <th>black</th>\n",
       "      <th>case</th>\n",
       "      <th>clerical</th>\n",
       "      <th>construc</th>\n",
       "      <th>educ</th>\n",
       "      <th>earns74</th>\n",
       "      <th>gdhlth</th>\n",
       "      <th>inlf</th>\n",
       "      <th>leis1</th>\n",
       "      <th>...</th>\n",
       "      <th>spwrk75</th>\n",
       "      <th>totwrk</th>\n",
       "      <th>union</th>\n",
       "      <th>worknrm</th>\n",
       "      <th>workscnd</th>\n",
       "      <th>exper</th>\n",
       "      <th>yngkid</th>\n",
       "      <th>yrsmarr</th>\n",
       "      <th>hrwage</th>\n",
       "      <th>agesq</th>\n",
       "    </tr>\n",
       "  </thead>\n",
       "  <tbody>\n",
       "    <tr>\n",
       "      <th>0</th>\n",
       "      <td>32</td>\n",
       "      <td>0</td>\n",
       "      <td>1</td>\n",
       "      <td>0.000000</td>\n",
       "      <td>0.000000</td>\n",
       "      <td>12</td>\n",
       "      <td>0</td>\n",
       "      <td>0</td>\n",
       "      <td>1</td>\n",
       "      <td>3529</td>\n",
       "      <td>...</td>\n",
       "      <td>0</td>\n",
       "      <td>3438</td>\n",
       "      <td>0</td>\n",
       "      <td>3438</td>\n",
       "      <td>0</td>\n",
       "      <td>14</td>\n",
       "      <td>0</td>\n",
       "      <td>13</td>\n",
       "      <td>7.070004</td>\n",
       "      <td>1024</td>\n",
       "    </tr>\n",
       "    <tr>\n",
       "      <th>1</th>\n",
       "      <td>31</td>\n",
       "      <td>0</td>\n",
       "      <td>2</td>\n",
       "      <td>0.000000</td>\n",
       "      <td>0.000000</td>\n",
       "      <td>14</td>\n",
       "      <td>9500</td>\n",
       "      <td>1</td>\n",
       "      <td>1</td>\n",
       "      <td>2140</td>\n",
       "      <td>...</td>\n",
       "      <td>0</td>\n",
       "      <td>5020</td>\n",
       "      <td>0</td>\n",
       "      <td>5020</td>\n",
       "      <td>0</td>\n",
       "      <td>11</td>\n",
       "      <td>0</td>\n",
       "      <td>0</td>\n",
       "      <td>1.429999</td>\n",
       "      <td>961</td>\n",
       "    </tr>\n",
       "    <tr>\n",
       "      <th>2</th>\n",
       "      <td>44</td>\n",
       "      <td>0</td>\n",
       "      <td>3</td>\n",
       "      <td>0.000000</td>\n",
       "      <td>0.000000</td>\n",
       "      <td>17</td>\n",
       "      <td>42500</td>\n",
       "      <td>1</td>\n",
       "      <td>1</td>\n",
       "      <td>4595</td>\n",
       "      <td>...</td>\n",
       "      <td>1</td>\n",
       "      <td>2815</td>\n",
       "      <td>0</td>\n",
       "      <td>2815</td>\n",
       "      <td>0</td>\n",
       "      <td>21</td>\n",
       "      <td>0</td>\n",
       "      <td>0</td>\n",
       "      <td>20.529997</td>\n",
       "      <td>1936</td>\n",
       "    </tr>\n",
       "    <tr>\n",
       "      <th>4</th>\n",
       "      <td>64</td>\n",
       "      <td>0</td>\n",
       "      <td>5</td>\n",
       "      <td>0.000000</td>\n",
       "      <td>0.000000</td>\n",
       "      <td>14</td>\n",
       "      <td>2500</td>\n",
       "      <td>1</td>\n",
       "      <td>1</td>\n",
       "      <td>4052</td>\n",
       "      <td>...</td>\n",
       "      <td>1</td>\n",
       "      <td>2580</td>\n",
       "      <td>0</td>\n",
       "      <td>2580</td>\n",
       "      <td>0</td>\n",
       "      <td>44</td>\n",
       "      <td>0</td>\n",
       "      <td>33</td>\n",
       "      <td>2.750000</td>\n",
       "      <td>4096</td>\n",
       "    </tr>\n",
       "    <tr>\n",
       "      <th>5</th>\n",
       "      <td>41</td>\n",
       "      <td>0</td>\n",
       "      <td>6</td>\n",
       "      <td>0.000000</td>\n",
       "      <td>0.000000</td>\n",
       "      <td>12</td>\n",
       "      <td>0</td>\n",
       "      <td>1</td>\n",
       "      <td>1</td>\n",
       "      <td>4812</td>\n",
       "      <td>...</td>\n",
       "      <td>0</td>\n",
       "      <td>1205</td>\n",
       "      <td>0</td>\n",
       "      <td>0</td>\n",
       "      <td>1205</td>\n",
       "      <td>23</td>\n",
       "      <td>0</td>\n",
       "      <td>23</td>\n",
       "      <td>19.249998</td>\n",
       "      <td>1681</td>\n",
       "    </tr>\n",
       "    <tr>\n",
       "      <th>...</th>\n",
       "      <td>...</td>\n",
       "      <td>...</td>\n",
       "      <td>...</td>\n",
       "      <td>...</td>\n",
       "      <td>...</td>\n",
       "      <td>...</td>\n",
       "      <td>...</td>\n",
       "      <td>...</td>\n",
       "      <td>...</td>\n",
       "      <td>...</td>\n",
       "      <td>...</td>\n",
       "      <td>...</td>\n",
       "      <td>...</td>\n",
       "      <td>...</td>\n",
       "      <td>...</td>\n",
       "      <td>...</td>\n",
       "      <td>...</td>\n",
       "      <td>...</td>\n",
       "      <td>...</td>\n",
       "      <td>...</td>\n",
       "      <td>...</td>\n",
       "    </tr>\n",
       "    <tr>\n",
       "      <th>692</th>\n",
       "      <td>50</td>\n",
       "      <td>0</td>\n",
       "      <td>693</td>\n",
       "      <td>0.182331</td>\n",
       "      <td>0.030075</td>\n",
       "      <td>12</td>\n",
       "      <td>2500</td>\n",
       "      <td>1</td>\n",
       "      <td>0</td>\n",
       "      <td>4417</td>\n",
       "      <td>...</td>\n",
       "      <td>1</td>\n",
       "      <td>2603</td>\n",
       "      <td>0</td>\n",
       "      <td>2603</td>\n",
       "      <td>0</td>\n",
       "      <td>32</td>\n",
       "      <td>0</td>\n",
       "      <td>22</td>\n",
       "      <td>NaN</td>\n",
       "      <td>2500</td>\n",
       "    </tr>\n",
       "    <tr>\n",
       "      <th>694</th>\n",
       "      <td>44</td>\n",
       "      <td>0</td>\n",
       "      <td>695</td>\n",
       "      <td>0.182331</td>\n",
       "      <td>0.030075</td>\n",
       "      <td>16</td>\n",
       "      <td>16250</td>\n",
       "      <td>1</td>\n",
       "      <td>0</td>\n",
       "      <td>4539</td>\n",
       "      <td>...</td>\n",
       "      <td>0</td>\n",
       "      <td>2513</td>\n",
       "      <td>0</td>\n",
       "      <td>2513</td>\n",
       "      <td>0</td>\n",
       "      <td>22</td>\n",
       "      <td>0</td>\n",
       "      <td>19</td>\n",
       "      <td>NaN</td>\n",
       "      <td>1936</td>\n",
       "    </tr>\n",
       "    <tr>\n",
       "      <th>695</th>\n",
       "      <td>29</td>\n",
       "      <td>0</td>\n",
       "      <td>696</td>\n",
       "      <td>0.182331</td>\n",
       "      <td>0.030075</td>\n",
       "      <td>16</td>\n",
       "      <td>16250</td>\n",
       "      <td>1</td>\n",
       "      <td>0</td>\n",
       "      <td>4639</td>\n",
       "      <td>...</td>\n",
       "      <td>0</td>\n",
       "      <td>2418</td>\n",
       "      <td>0</td>\n",
       "      <td>2418</td>\n",
       "      <td>0</td>\n",
       "      <td>7</td>\n",
       "      <td>1</td>\n",
       "      <td>5</td>\n",
       "      <td>NaN</td>\n",
       "      <td>841</td>\n",
       "    </tr>\n",
       "    <tr>\n",
       "      <th>699</th>\n",
       "      <td>61</td>\n",
       "      <td>0</td>\n",
       "      <td>700</td>\n",
       "      <td>0.182331</td>\n",
       "      <td>0.030075</td>\n",
       "      <td>17</td>\n",
       "      <td>27500</td>\n",
       "      <td>1</td>\n",
       "      <td>0</td>\n",
       "      <td>4362</td>\n",
       "      <td>...</td>\n",
       "      <td>0</td>\n",
       "      <td>2725</td>\n",
       "      <td>0</td>\n",
       "      <td>2725</td>\n",
       "      <td>0</td>\n",
       "      <td>38</td>\n",
       "      <td>0</td>\n",
       "      <td>30</td>\n",
       "      <td>NaN</td>\n",
       "      <td>3721</td>\n",
       "    </tr>\n",
       "    <tr>\n",
       "      <th>702</th>\n",
       "      <td>34</td>\n",
       "      <td>0</td>\n",
       "      <td>703</td>\n",
       "      <td>0.182331</td>\n",
       "      <td>0.030075</td>\n",
       "      <td>10</td>\n",
       "      <td>2500</td>\n",
       "      <td>0</td>\n",
       "      <td>0</td>\n",
       "      <td>5885</td>\n",
       "      <td>...</td>\n",
       "      <td>0</td>\n",
       "      <td>675</td>\n",
       "      <td>1</td>\n",
       "      <td>465</td>\n",
       "      <td>210</td>\n",
       "      <td>18</td>\n",
       "      <td>0</td>\n",
       "      <td>4</td>\n",
       "      <td>NaN</td>\n",
       "      <td>1156</td>\n",
       "    </tr>\n",
       "  </tbody>\n",
       "</table>\n",
       "<p>400 rows × 34 columns</p>\n",
       "</div>"
      ],
      "text/plain": [
       "     age  black  case  clerical  construc  educ  earns74  gdhlth  inlf  leis1  \\\n",
       "0     32      0     1  0.000000  0.000000    12        0       0     1   3529   \n",
       "1     31      0     2  0.000000  0.000000    14     9500       1     1   2140   \n",
       "2     44      0     3  0.000000  0.000000    17    42500       1     1   4595   \n",
       "4     64      0     5  0.000000  0.000000    14     2500       1     1   4052   \n",
       "5     41      0     6  0.000000  0.000000    12        0       1     1   4812   \n",
       "..   ...    ...   ...       ...       ...   ...      ...     ...   ...    ...   \n",
       "692   50      0   693  0.182331  0.030075    12     2500       1     0   4417   \n",
       "694   44      0   695  0.182331  0.030075    16    16250       1     0   4539   \n",
       "695   29      0   696  0.182331  0.030075    16    16250       1     0   4639   \n",
       "699   61      0   700  0.182331  0.030075    17    27500       1     0   4362   \n",
       "702   34      0   703  0.182331  0.030075    10     2500       0     0   5885   \n",
       "\n",
       "     ...  spwrk75  totwrk  union  worknrm  workscnd  exper  yngkid  yrsmarr  \\\n",
       "0    ...        0    3438      0     3438         0     14       0       13   \n",
       "1    ...        0    5020      0     5020         0     11       0        0   \n",
       "2    ...        1    2815      0     2815         0     21       0        0   \n",
       "4    ...        1    2580      0     2580         0     44       0       33   \n",
       "5    ...        0    1205      0        0      1205     23       0       23   \n",
       "..   ...      ...     ...    ...      ...       ...    ...     ...      ...   \n",
       "692  ...        1    2603      0     2603         0     32       0       22   \n",
       "694  ...        0    2513      0     2513         0     22       0       19   \n",
       "695  ...        0    2418      0     2418         0      7       1        5   \n",
       "699  ...        0    2725      0     2725         0     38       0       30   \n",
       "702  ...        0     675      1      465       210     18       0        4   \n",
       "\n",
       "        hrwage  agesq  \n",
       "0     7.070004   1024  \n",
       "1     1.429999    961  \n",
       "2    20.529997   1936  \n",
       "4     2.750000   4096  \n",
       "5    19.249998   1681  \n",
       "..         ...    ...  \n",
       "692        NaN   2500  \n",
       "694        NaN   1936  \n",
       "695        NaN    841  \n",
       "699        NaN   3721  \n",
       "702        NaN   1156  \n",
       "\n",
       "[400 rows x 34 columns]"
      ]
     },
     "execution_count": 35,
     "metadata": {},
     "output_type": "execute_result"
    }
   ],
   "source": [
    "data1_male = data1.loc[data1['male'] == 1]\n",
    "data1_male"
   ]
  },
  {
   "cell_type": "code",
   "execution_count": 36,
   "metadata": {},
   "outputs": [
    {
     "data": {
      "text/html": [
       "<table class=\"simpletable\">\n",
       "<caption>OLS Regression Results</caption>\n",
       "<tr>\n",
       "  <th>Dep. Variable:</th>      <td>I(sleep / 60)</td>  <th>  R-squared:         </th> <td>   0.161</td>\n",
       "</tr>\n",
       "<tr>\n",
       "  <th>Model:</th>                   <td>OLS</td>       <th>  Adj. R-squared:    </th> <td>   0.148</td>\n",
       "</tr>\n",
       "<tr>\n",
       "  <th>Method:</th>             <td>Least Squares</td>  <th>  F-statistic:       </th> <td>   12.54</td>\n",
       "</tr>\n",
       "<tr>\n",
       "  <th>Date:</th>             <td>Tue, 14 Mar 2023</td> <th>  Prob (F-statistic):</th> <td>6.03e-13</td>\n",
       "</tr>\n",
       "<tr>\n",
       "  <th>Time:</th>                 <td>15:47:55</td>     <th>  Log-Likelihood:    </th> <td> -1324.6</td>\n",
       "</tr>\n",
       "<tr>\n",
       "  <th>No. Observations:</th>      <td>   400</td>      <th>  AIC:               </th> <td>   2663.</td>\n",
       "</tr>\n",
       "<tr>\n",
       "  <th>Df Residuals:</th>          <td>   393</td>      <th>  BIC:               </th> <td>   2691.</td>\n",
       "</tr>\n",
       "<tr>\n",
       "  <th>Df Model:</th>              <td>     6</td>      <th>                     </th>     <td> </td>   \n",
       "</tr>\n",
       "<tr>\n",
       "  <th>Covariance Type:</th>      <td>nonrobust</td>    <th>                     </th>     <td> </td>   \n",
       "</tr>\n",
       "</table>\n",
       "<table class=\"simpletable\">\n",
       "<tr>\n",
       "       <td></td>          <th>coef</th>     <th>std err</th>      <th>t</th>      <th>P>|t|</th>  <th>[0.025</th>    <th>0.975]</th>  \n",
       "</tr>\n",
       "<tr>\n",
       "  <th>Intercept</th>   <td>   58.6338</td> <td>    4.811</td> <td>   12.186</td> <td> 0.000</td> <td>   49.174</td> <td>   68.093</td>\n",
       "</tr>\n",
       "<tr>\n",
       "  <th>totwrk</th>      <td>   -0.0031</td> <td>    0.000</td> <td>   -7.695</td> <td> 0.000</td> <td>   -0.004</td> <td>   -0.002</td>\n",
       "</tr>\n",
       "<tr>\n",
       "  <th>age</th>         <td>    0.1221</td> <td>    0.237</td> <td>    0.516</td> <td> 0.606</td> <td>   -0.343</td> <td>    0.587</td>\n",
       "</tr>\n",
       "<tr>\n",
       "  <th>I(age ** 2)</th> <td>   -0.0008</td> <td>    0.003</td> <td>   -0.287</td> <td> 0.774</td> <td>   -0.006</td> <td>    0.005</td>\n",
       "</tr>\n",
       "<tr>\n",
       "  <th>south</th>       <td>    1.0267</td> <td>    0.933</td> <td>    1.100</td> <td> 0.272</td> <td>   -0.808</td> <td>    2.861</td>\n",
       "</tr>\n",
       "<tr>\n",
       "  <th>smsa</th>        <td>   -1.2918</td> <td>    0.719</td> <td>   -1.796</td> <td> 0.073</td> <td>   -2.706</td> <td>    0.122</td>\n",
       "</tr>\n",
       "<tr>\n",
       "  <th>marr</th>        <td>    0.1365</td> <td>    1.029</td> <td>    0.133</td> <td> 0.895</td> <td>   -1.886</td> <td>    2.159</td>\n",
       "</tr>\n",
       "</table>\n",
       "<table class=\"simpletable\">\n",
       "<tr>\n",
       "  <th>Omnibus:</th>       <td>19.867</td> <th>  Durbin-Watson:     </th> <td>   2.077</td>\n",
       "</tr>\n",
       "<tr>\n",
       "  <th>Prob(Omnibus):</th> <td> 0.000</td> <th>  Jarque-Bera (JB):  </th> <td>  41.893</td>\n",
       "</tr>\n",
       "<tr>\n",
       "  <th>Skew:</th>          <td>-0.243</td> <th>  Prob(JB):          </th> <td>8.00e-10</td>\n",
       "</tr>\n",
       "<tr>\n",
       "  <th>Kurtosis:</th>      <td> 4.509</td> <th>  Cond. No.          </th> <td>4.39e+04</td>\n",
       "</tr>\n",
       "</table><br/><br/>Notes:<br/>[1] Standard Errors assume that the covariance matrix of the errors is correctly specified.<br/>[2] The condition number is large, 4.39e+04. This might indicate that there are<br/>strong multicollinearity or other numerical problems."
      ],
      "text/plain": [
       "<class 'statsmodels.iolib.summary.Summary'>\n",
       "\"\"\"\n",
       "                            OLS Regression Results                            \n",
       "==============================================================================\n",
       "Dep. Variable:          I(sleep / 60)   R-squared:                       0.161\n",
       "Model:                            OLS   Adj. R-squared:                  0.148\n",
       "Method:                 Least Squares   F-statistic:                     12.54\n",
       "Date:                Tue, 14 Mar 2023   Prob (F-statistic):           6.03e-13\n",
       "Time:                        15:47:55   Log-Likelihood:                -1324.6\n",
       "No. Observations:                 400   AIC:                             2663.\n",
       "Df Residuals:                     393   BIC:                             2691.\n",
       "Df Model:                           6                                         \n",
       "Covariance Type:            nonrobust                                         \n",
       "===============================================================================\n",
       "                  coef    std err          t      P>|t|      [0.025      0.975]\n",
       "-------------------------------------------------------------------------------\n",
       "Intercept      58.6338      4.811     12.186      0.000      49.174      68.093\n",
       "totwrk         -0.0031      0.000     -7.695      0.000      -0.004      -0.002\n",
       "age             0.1221      0.237      0.516      0.606      -0.343       0.587\n",
       "I(age ** 2)    -0.0008      0.003     -0.287      0.774      -0.006       0.005\n",
       "south           1.0267      0.933      1.100      0.272      -0.808       2.861\n",
       "smsa           -1.2918      0.719     -1.796      0.073      -2.706       0.122\n",
       "marr            0.1365      1.029      0.133      0.895      -1.886       2.159\n",
       "==============================================================================\n",
       "Omnibus:                       19.867   Durbin-Watson:                   2.077\n",
       "Prob(Omnibus):                  0.000   Jarque-Bera (JB):               41.893\n",
       "Skew:                          -0.243   Prob(JB):                     8.00e-10\n",
       "Kurtosis:                       4.509   Cond. No.                     4.39e+04\n",
       "==============================================================================\n",
       "\n",
       "Notes:\n",
       "[1] Standard Errors assume that the covariance matrix of the errors is correctly specified.\n",
       "[2] The condition number is large, 4.39e+04. This might indicate that there are\n",
       "strong multicollinearity or other numerical problems.\n",
       "\"\"\""
      ]
     },
     "execution_count": 36,
     "metadata": {},
     "output_type": "execute_result"
    }
   ],
   "source": [
    "# Результаты подгонки для М\n",
    "# Создаем спецификацию модели через формулу\n",
    "mod411 =smf.ols(formula='I(sleep/60) ~ totwrk+age+I(age**2)+south+smsa+marr', data=data1_male)\n",
    "#Подгоняем модель\n",
    "Sleep_eq411 = mod411.fit()\n",
    "Sleep_eq411.summary()"
   ]
  },
  {
   "cell_type": "markdown",
   "metadata": {},
   "source": [
    "для Ж: $sleep/60=\\gamma_0+\\gamma_1totwrk+\\gamma_2age+\\gamma_3age^2+\\gamma_4south+\\gamma_5smsa+\\gamma_6marr+v$"
   ]
  },
  {
   "cell_type": "code",
   "execution_count": 37,
   "metadata": {},
   "outputs": [
    {
     "data": {
      "text/html": [
       "<div>\n",
       "<style scoped>\n",
       "    .dataframe tbody tr th:only-of-type {\n",
       "        vertical-align: middle;\n",
       "    }\n",
       "\n",
       "    .dataframe tbody tr th {\n",
       "        vertical-align: top;\n",
       "    }\n",
       "\n",
       "    .dataframe thead th {\n",
       "        text-align: right;\n",
       "    }\n",
       "</style>\n",
       "<table border=\"1\" class=\"dataframe\">\n",
       "  <thead>\n",
       "    <tr style=\"text-align: right;\">\n",
       "      <th></th>\n",
       "      <th>age</th>\n",
       "      <th>black</th>\n",
       "      <th>case</th>\n",
       "      <th>clerical</th>\n",
       "      <th>construc</th>\n",
       "      <th>educ</th>\n",
       "      <th>earns74</th>\n",
       "      <th>gdhlth</th>\n",
       "      <th>inlf</th>\n",
       "      <th>leis1</th>\n",
       "      <th>...</th>\n",
       "      <th>spwrk75</th>\n",
       "      <th>totwrk</th>\n",
       "      <th>union</th>\n",
       "      <th>worknrm</th>\n",
       "      <th>workscnd</th>\n",
       "      <th>exper</th>\n",
       "      <th>yngkid</th>\n",
       "      <th>yrsmarr</th>\n",
       "      <th>hrwage</th>\n",
       "      <th>agesq</th>\n",
       "    </tr>\n",
       "  </thead>\n",
       "  <tbody>\n",
       "    <tr>\n",
       "      <th>3</th>\n",
       "      <td>30</td>\n",
       "      <td>0</td>\n",
       "      <td>4</td>\n",
       "      <td>0.000000</td>\n",
       "      <td>0.000000</td>\n",
       "      <td>12</td>\n",
       "      <td>42500</td>\n",
       "      <td>1</td>\n",
       "      <td>1</td>\n",
       "      <td>3211</td>\n",
       "      <td>...</td>\n",
       "      <td>1</td>\n",
       "      <td>3786</td>\n",
       "      <td>0</td>\n",
       "      <td>3786</td>\n",
       "      <td>0</td>\n",
       "      <td>12</td>\n",
       "      <td>0</td>\n",
       "      <td>12</td>\n",
       "      <td>9.619998</td>\n",
       "      <td>900</td>\n",
       "    </tr>\n",
       "    <tr>\n",
       "      <th>11</th>\n",
       "      <td>23</td>\n",
       "      <td>0</td>\n",
       "      <td>12</td>\n",
       "      <td>0.000000</td>\n",
       "      <td>0.000000</td>\n",
       "      <td>16</td>\n",
       "      <td>1000</td>\n",
       "      <td>1</td>\n",
       "      <td>1</td>\n",
       "      <td>6415</td>\n",
       "      <td>...</td>\n",
       "      <td>1</td>\n",
       "      <td>370</td>\n",
       "      <td>0</td>\n",
       "      <td>370</td>\n",
       "      <td>0</td>\n",
       "      <td>1</td>\n",
       "      <td>0</td>\n",
       "      <td>4</td>\n",
       "      <td>1.230000</td>\n",
       "      <td>529</td>\n",
       "    </tr>\n",
       "    <tr>\n",
       "      <th>27</th>\n",
       "      <td>35</td>\n",
       "      <td>0</td>\n",
       "      <td>28</td>\n",
       "      <td>1.000000</td>\n",
       "      <td>0.000000</td>\n",
       "      <td>12</td>\n",
       "      <td>6750</td>\n",
       "      <td>1</td>\n",
       "      <td>1</td>\n",
       "      <td>4904</td>\n",
       "      <td>...</td>\n",
       "      <td>0</td>\n",
       "      <td>2250</td>\n",
       "      <td>0</td>\n",
       "      <td>2250</td>\n",
       "      <td>0</td>\n",
       "      <td>17</td>\n",
       "      <td>0</td>\n",
       "      <td>0</td>\n",
       "      <td>2.690000</td>\n",
       "      <td>1225</td>\n",
       "    </tr>\n",
       "    <tr>\n",
       "      <th>42</th>\n",
       "      <td>44</td>\n",
       "      <td>0</td>\n",
       "      <td>43</td>\n",
       "      <td>0.000000</td>\n",
       "      <td>0.000000</td>\n",
       "      <td>17</td>\n",
       "      <td>6750</td>\n",
       "      <td>1</td>\n",
       "      <td>1</td>\n",
       "      <td>4804</td>\n",
       "      <td>...</td>\n",
       "      <td>0</td>\n",
       "      <td>2511</td>\n",
       "      <td>0</td>\n",
       "      <td>2511</td>\n",
       "      <td>0</td>\n",
       "      <td>21</td>\n",
       "      <td>0</td>\n",
       "      <td>0</td>\n",
       "      <td>2.159999</td>\n",
       "      <td>1936</td>\n",
       "    </tr>\n",
       "    <tr>\n",
       "      <th>55</th>\n",
       "      <td>24</td>\n",
       "      <td>0</td>\n",
       "      <td>56</td>\n",
       "      <td>0.000000</td>\n",
       "      <td>0.000000</td>\n",
       "      <td>14</td>\n",
       "      <td>1000</td>\n",
       "      <td>1</td>\n",
       "      <td>1</td>\n",
       "      <td>5490</td>\n",
       "      <td>...</td>\n",
       "      <td>0</td>\n",
       "      <td>1800</td>\n",
       "      <td>1</td>\n",
       "      <td>1800</td>\n",
       "      <td>0</td>\n",
       "      <td>4</td>\n",
       "      <td>0</td>\n",
       "      <td>0</td>\n",
       "      <td>1.050000</td>\n",
       "      <td>576</td>\n",
       "    </tr>\n",
       "    <tr>\n",
       "      <th>...</th>\n",
       "      <td>...</td>\n",
       "      <td>...</td>\n",
       "      <td>...</td>\n",
       "      <td>...</td>\n",
       "      <td>...</td>\n",
       "      <td>...</td>\n",
       "      <td>...</td>\n",
       "      <td>...</td>\n",
       "      <td>...</td>\n",
       "      <td>...</td>\n",
       "      <td>...</td>\n",
       "      <td>...</td>\n",
       "      <td>...</td>\n",
       "      <td>...</td>\n",
       "      <td>...</td>\n",
       "      <td>...</td>\n",
       "      <td>...</td>\n",
       "      <td>...</td>\n",
       "      <td>...</td>\n",
       "      <td>...</td>\n",
       "      <td>...</td>\n",
       "    </tr>\n",
       "    <tr>\n",
       "      <th>700</th>\n",
       "      <td>32</td>\n",
       "      <td>0</td>\n",
       "      <td>701</td>\n",
       "      <td>0.182331</td>\n",
       "      <td>0.030075</td>\n",
       "      <td>16</td>\n",
       "      <td>10500</td>\n",
       "      <td>1</td>\n",
       "      <td>0</td>\n",
       "      <td>4707</td>\n",
       "      <td>...</td>\n",
       "      <td>0</td>\n",
       "      <td>2388</td>\n",
       "      <td>0</td>\n",
       "      <td>2388</td>\n",
       "      <td>0</td>\n",
       "      <td>10</td>\n",
       "      <td>0</td>\n",
       "      <td>0</td>\n",
       "      <td>NaN</td>\n",
       "      <td>1024</td>\n",
       "    </tr>\n",
       "    <tr>\n",
       "      <th>701</th>\n",
       "      <td>45</td>\n",
       "      <td>0</td>\n",
       "      <td>702</td>\n",
       "      <td>0.182331</td>\n",
       "      <td>0.030075</td>\n",
       "      <td>12</td>\n",
       "      <td>5500</td>\n",
       "      <td>1</td>\n",
       "      <td>0</td>\n",
       "      <td>5069</td>\n",
       "      <td>...</td>\n",
       "      <td>1</td>\n",
       "      <td>2026</td>\n",
       "      <td>0</td>\n",
       "      <td>2026</td>\n",
       "      <td>0</td>\n",
       "      <td>27</td>\n",
       "      <td>0</td>\n",
       "      <td>18</td>\n",
       "      <td>NaN</td>\n",
       "      <td>2025</td>\n",
       "    </tr>\n",
       "    <tr>\n",
       "      <th>703</th>\n",
       "      <td>37</td>\n",
       "      <td>0</td>\n",
       "      <td>704</td>\n",
       "      <td>0.182331</td>\n",
       "      <td>0.030075</td>\n",
       "      <td>12</td>\n",
       "      <td>3500</td>\n",
       "      <td>1</td>\n",
       "      <td>0</td>\n",
       "      <td>4719</td>\n",
       "      <td>...</td>\n",
       "      <td>1</td>\n",
       "      <td>1851</td>\n",
       "      <td>0</td>\n",
       "      <td>1851</td>\n",
       "      <td>0</td>\n",
       "      <td>19</td>\n",
       "      <td>0</td>\n",
       "      <td>17</td>\n",
       "      <td>NaN</td>\n",
       "      <td>1369</td>\n",
       "    </tr>\n",
       "    <tr>\n",
       "      <th>704</th>\n",
       "      <td>54</td>\n",
       "      <td>0</td>\n",
       "      <td>705</td>\n",
       "      <td>0.182331</td>\n",
       "      <td>0.030075</td>\n",
       "      <td>17</td>\n",
       "      <td>32500</td>\n",
       "      <td>1</td>\n",
       "      <td>0</td>\n",
       "      <td>5149</td>\n",
       "      <td>...</td>\n",
       "      <td>1</td>\n",
       "      <td>1961</td>\n",
       "      <td>1</td>\n",
       "      <td>1481</td>\n",
       "      <td>480</td>\n",
       "      <td>31</td>\n",
       "      <td>0</td>\n",
       "      <td>22</td>\n",
       "      <td>NaN</td>\n",
       "      <td>2916</td>\n",
       "    </tr>\n",
       "    <tr>\n",
       "      <th>705</th>\n",
       "      <td>30</td>\n",
       "      <td>0</td>\n",
       "      <td>706</td>\n",
       "      <td>0.182331</td>\n",
       "      <td>0.030075</td>\n",
       "      <td>16</td>\n",
       "      <td>6750</td>\n",
       "      <td>1</td>\n",
       "      <td>0</td>\n",
       "      <td>4747</td>\n",
       "      <td>...</td>\n",
       "      <td>0</td>\n",
       "      <td>2363</td>\n",
       "      <td>0</td>\n",
       "      <td>2363</td>\n",
       "      <td>0</td>\n",
       "      <td>8</td>\n",
       "      <td>1</td>\n",
       "      <td>9</td>\n",
       "      <td>NaN</td>\n",
       "      <td>900</td>\n",
       "    </tr>\n",
       "  </tbody>\n",
       "</table>\n",
       "<p>306 rows × 34 columns</p>\n",
       "</div>"
      ],
      "text/plain": [
       "     age  black  case  clerical  construc  educ  earns74  gdhlth  inlf  leis1  \\\n",
       "3     30      0     4  0.000000  0.000000    12    42500       1     1   3211   \n",
       "11    23      0    12  0.000000  0.000000    16     1000       1     1   6415   \n",
       "27    35      0    28  1.000000  0.000000    12     6750       1     1   4904   \n",
       "42    44      0    43  0.000000  0.000000    17     6750       1     1   4804   \n",
       "55    24      0    56  0.000000  0.000000    14     1000       1     1   5490   \n",
       "..   ...    ...   ...       ...       ...   ...      ...     ...   ...    ...   \n",
       "700   32      0   701  0.182331  0.030075    16    10500       1     0   4707   \n",
       "701   45      0   702  0.182331  0.030075    12     5500       1     0   5069   \n",
       "703   37      0   704  0.182331  0.030075    12     3500       1     0   4719   \n",
       "704   54      0   705  0.182331  0.030075    17    32500       1     0   5149   \n",
       "705   30      0   706  0.182331  0.030075    16     6750       1     0   4747   \n",
       "\n",
       "     ...  spwrk75  totwrk  union  worknrm  workscnd  exper  yngkid  yrsmarr  \\\n",
       "3    ...        1    3786      0     3786         0     12       0       12   \n",
       "11   ...        1     370      0      370         0      1       0        4   \n",
       "27   ...        0    2250      0     2250         0     17       0        0   \n",
       "42   ...        0    2511      0     2511         0     21       0        0   \n",
       "55   ...        0    1800      1     1800         0      4       0        0   \n",
       "..   ...      ...     ...    ...      ...       ...    ...     ...      ...   \n",
       "700  ...        0    2388      0     2388         0     10       0        0   \n",
       "701  ...        1    2026      0     2026         0     27       0       18   \n",
       "703  ...        1    1851      0     1851         0     19       0       17   \n",
       "704  ...        1    1961      1     1481       480     31       0       22   \n",
       "705  ...        0    2363      0     2363         0      8       1        9   \n",
       "\n",
       "       hrwage  agesq  \n",
       "3    9.619998    900  \n",
       "11   1.230000    529  \n",
       "27   2.690000   1225  \n",
       "42   2.159999   1936  \n",
       "55   1.050000    576  \n",
       "..        ...    ...  \n",
       "700       NaN   1024  \n",
       "701       NaN   2025  \n",
       "703       NaN   1369  \n",
       "704       NaN   2916  \n",
       "705       NaN    900  \n",
       "\n",
       "[306 rows x 34 columns]"
      ]
     },
     "execution_count": 37,
     "metadata": {},
     "output_type": "execute_result"
    }
   ],
   "source": [
    "data1_female = data1.loc[data1['male'] == 0]\n",
    "data1_female"
   ]
  },
  {
   "cell_type": "code",
   "execution_count": 41,
   "metadata": {},
   "outputs": [
    {
     "data": {
      "text/html": [
       "<table class=\"simpletable\">\n",
       "<caption>OLS Regression Results</caption>\n",
       "<tr>\n",
       "  <th>Dep. Variable:</th>      <td>I(sleep / 60)</td>  <th>  R-squared:         </th> <td>   0.109</td>\n",
       "</tr>\n",
       "<tr>\n",
       "  <th>Model:</th>                   <td>OLS</td>       <th>  Adj. R-squared:    </th> <td>   0.091</td>\n",
       "</tr>\n",
       "<tr>\n",
       "  <th>Method:</th>             <td>Least Squares</td>  <th>  F-statistic:       </th> <td>   6.082</td>\n",
       "</tr>\n",
       "<tr>\n",
       "  <th>Date:</th>             <td>Tue, 14 Mar 2023</td> <th>  Prob (F-statistic):</th> <td>5.02e-06</td>\n",
       "</tr>\n",
       "<tr>\n",
       "  <th>Time:</th>                 <td>15:49:50</td>     <th>  Log-Likelihood:    </th> <td> -1036.9</td>\n",
       "</tr>\n",
       "<tr>\n",
       "  <th>No. Observations:</th>      <td>   306</td>      <th>  AIC:               </th> <td>   2088.</td>\n",
       "</tr>\n",
       "<tr>\n",
       "  <th>Df Residuals:</th>          <td>   299</td>      <th>  BIC:               </th> <td>   2114.</td>\n",
       "</tr>\n",
       "<tr>\n",
       "  <th>Df Model:</th>              <td>     6</td>      <th>                     </th>     <td> </td>   \n",
       "</tr>\n",
       "<tr>\n",
       "  <th>Covariance Type:</th>      <td>nonrobust</td>    <th>                     </th>     <td> </td>   \n",
       "</tr>\n",
       "</table>\n",
       "<table class=\"simpletable\">\n",
       "<tr>\n",
       "       <td></td>          <th>coef</th>     <th>std err</th>      <th>t</th>      <th>P>|t|</th>  <th>[0.025</th>    <th>0.975]</th>  \n",
       "</tr>\n",
       "<tr>\n",
       "  <th>Intercept</th>   <td>   65.5581</td> <td>    5.833</td> <td>   11.240</td> <td> 0.000</td> <td>   54.080</td> <td>   77.036</td>\n",
       "</tr>\n",
       "<tr>\n",
       "  <th>totwrk</th>      <td>   -0.0023</td> <td>    0.000</td> <td>   -4.935</td> <td> 0.000</td> <td>   -0.003</td> <td>   -0.001</td>\n",
       "</tr>\n",
       "<tr>\n",
       "  <th>age</th>         <td>   -0.4440</td> <td>    0.306</td> <td>   -1.450</td> <td> 0.148</td> <td>   -1.046</td> <td>    0.158</td>\n",
       "</tr>\n",
       "<tr>\n",
       "  <th>I(age ** 2)</th> <td>    0.0057</td> <td>    0.004</td> <td>    1.551</td> <td> 0.122</td> <td>   -0.002</td> <td>    0.013</td>\n",
       "</tr>\n",
       "<tr>\n",
       "  <th>south</th>       <td>    2.1532</td> <td>    1.065</td> <td>    2.022</td> <td> 0.044</td> <td>    0.058</td> <td>    4.249</td>\n",
       "</tr>\n",
       "<tr>\n",
       "  <th>smsa</th>        <td>   -0.5610</td> <td>    0.868</td> <td>   -0.647</td> <td> 0.518</td> <td>   -2.269</td> <td>    1.147</td>\n",
       "</tr>\n",
       "<tr>\n",
       "  <th>marr</th>        <td>    1.0552</td> <td>    0.987</td> <td>    1.069</td> <td> 0.286</td> <td>   -0.887</td> <td>    2.998</td>\n",
       "</tr>\n",
       "</table>\n",
       "<table class=\"simpletable\">\n",
       "<tr>\n",
       "  <th>Omnibus:</th>       <td>49.517</td> <th>  Durbin-Watson:     </th> <td>   1.994</td>\n",
       "</tr>\n",
       "<tr>\n",
       "  <th>Prob(Omnibus):</th> <td> 0.000</td> <th>  Jarque-Bera (JB):  </th> <td> 154.141</td>\n",
       "</tr>\n",
       "<tr>\n",
       "  <th>Skew:</th>          <td>-0.690</td> <th>  Prob(JB):          </th> <td>3.38e-34</td>\n",
       "</tr>\n",
       "<tr>\n",
       "  <th>Kurtosis:</th>      <td> 6.191</td> <th>  Cond. No.          </th> <td>3.58e+04</td>\n",
       "</tr>\n",
       "</table><br/><br/>Notes:<br/>[1] Standard Errors assume that the covariance matrix of the errors is correctly specified.<br/>[2] The condition number is large, 3.58e+04. This might indicate that there are<br/>strong multicollinearity or other numerical problems."
      ],
      "text/plain": [
       "<class 'statsmodels.iolib.summary.Summary'>\n",
       "\"\"\"\n",
       "                            OLS Regression Results                            \n",
       "==============================================================================\n",
       "Dep. Variable:          I(sleep / 60)   R-squared:                       0.109\n",
       "Model:                            OLS   Adj. R-squared:                  0.091\n",
       "Method:                 Least Squares   F-statistic:                     6.082\n",
       "Date:                Tue, 14 Mar 2023   Prob (F-statistic):           5.02e-06\n",
       "Time:                        15:49:50   Log-Likelihood:                -1036.9\n",
       "No. Observations:                 306   AIC:                             2088.\n",
       "Df Residuals:                     299   BIC:                             2114.\n",
       "Df Model:                           6                                         \n",
       "Covariance Type:            nonrobust                                         \n",
       "===============================================================================\n",
       "                  coef    std err          t      P>|t|      [0.025      0.975]\n",
       "-------------------------------------------------------------------------------\n",
       "Intercept      65.5581      5.833     11.240      0.000      54.080      77.036\n",
       "totwrk         -0.0023      0.000     -4.935      0.000      -0.003      -0.001\n",
       "age            -0.4440      0.306     -1.450      0.148      -1.046       0.158\n",
       "I(age ** 2)     0.0057      0.004      1.551      0.122      -0.002       0.013\n",
       "south           2.1532      1.065      2.022      0.044       0.058       4.249\n",
       "smsa           -0.5610      0.868     -0.647      0.518      -2.269       1.147\n",
       "marr            1.0552      0.987      1.069      0.286      -0.887       2.998\n",
       "==============================================================================\n",
       "Omnibus:                       49.517   Durbin-Watson:                   1.994\n",
       "Prob(Omnibus):                  0.000   Jarque-Bera (JB):              154.141\n",
       "Skew:                          -0.690   Prob(JB):                     3.38e-34\n",
       "Kurtosis:                       6.191   Cond. No.                     3.58e+04\n",
       "==============================================================================\n",
       "\n",
       "Notes:\n",
       "[1] Standard Errors assume that the covariance matrix of the errors is correctly specified.\n",
       "[2] The condition number is large, 3.58e+04. This might indicate that there are\n",
       "strong multicollinearity or other numerical problems.\n",
       "\"\"\""
      ]
     },
     "execution_count": 41,
     "metadata": {},
     "output_type": "execute_result"
    }
   ],
   "source": [
    "# Результаты подгонки для Ж\n",
    " \n",
    "# Создаем спецификацию модели через формулу\n",
    "mod412 =smf.ols(formula='I(sleep/60) ~ totwrk+age+I(age**2)+south+smsa+marr', data=data1_female)\n",
    "#Подгоняем модель\n",
    "Sleep_eq412 = mod412.fit()\n",
    "Sleep_eq412.summary()"
   ]
  },
  {
   "cell_type": "markdown",
   "metadata": {},
   "source": [
    "Общая: $sleep/60=\\tau_0+\\tau_1totwrk+\\tau_2age+\\tau_3age^2+\\tau_4south+\\tau_5smsa+\\tau_6marr+w$"
   ]
  },
  {
   "cell_type": "code",
   "execution_count": 38,
   "metadata": {},
   "outputs": [
    {
     "data": {
      "text/html": [
       "<table class=\"simpletable\">\n",
       "<caption>OLS Regression Results</caption>\n",
       "<tr>\n",
       "  <th>Dep. Variable:</th>      <td>I(sleep / 60)</td>  <th>  R-squared:         </th> <td>   0.125</td>\n",
       "</tr>\n",
       "<tr>\n",
       "  <th>Model:</th>                   <td>OLS</td>       <th>  Adj. R-squared:    </th> <td>   0.117</td>\n",
       "</tr>\n",
       "<tr>\n",
       "  <th>Method:</th>             <td>Least Squares</td>  <th>  F-statistic:       </th> <td>   16.58</td>\n",
       "</tr>\n",
       "<tr>\n",
       "  <th>Date:</th>             <td>Tue, 14 Mar 2023</td> <th>  Prob (F-statistic):</th> <td>6.38e-18</td>\n",
       "</tr>\n",
       "<tr>\n",
       "  <th>Time:</th>                 <td>15:48:45</td>     <th>  Log-Likelihood:    </th> <td> -2368.0</td>\n",
       "</tr>\n",
       "<tr>\n",
       "  <th>No. Observations:</th>      <td>   706</td>      <th>  AIC:               </th> <td>   4750.</td>\n",
       "</tr>\n",
       "<tr>\n",
       "  <th>Df Residuals:</th>          <td>   699</td>      <th>  BIC:               </th> <td>   4782.</td>\n",
       "</tr>\n",
       "<tr>\n",
       "  <th>Df Model:</th>              <td>     6</td>      <th>                     </th>     <td> </td>   \n",
       "</tr>\n",
       "<tr>\n",
       "  <th>Covariance Type:</th>      <td>nonrobust</td>    <th>                     </th>     <td> </td>   \n",
       "</tr>\n",
       "</table>\n",
       "<table class=\"simpletable\">\n",
       "<tr>\n",
       "       <td></td>          <th>coef</th>     <th>std err</th>      <th>t</th>      <th>P>|t|</th>  <th>[0.025</th>    <th>0.975]</th>  \n",
       "</tr>\n",
       "<tr>\n",
       "  <th>Intercept</th>   <td>   60.4212</td> <td>    3.672</td> <td>   16.457</td> <td> 0.000</td> <td>   53.213</td> <td>   67.630</td>\n",
       "</tr>\n",
       "<tr>\n",
       "  <th>totwrk</th>      <td>   -0.0025</td> <td>    0.000</td> <td>   -8.857</td> <td> 0.000</td> <td>   -0.003</td> <td>   -0.002</td>\n",
       "</tr>\n",
       "<tr>\n",
       "  <th>age</th>         <td>   -0.1229</td> <td>    0.188</td> <td>   -0.655</td> <td> 0.513</td> <td>   -0.491</td> <td>    0.245</td>\n",
       "</tr>\n",
       "<tr>\n",
       "  <th>I(age ** 2)</th> <td>    0.0021</td> <td>    0.002</td> <td>    0.929</td> <td> 0.353</td> <td>   -0.002</td> <td>    0.006</td>\n",
       "</tr>\n",
       "<tr>\n",
       "  <th>south</th>       <td>    1.5738</td> <td>    0.699</td> <td>    2.253</td> <td> 0.025</td> <td>    0.202</td> <td>    2.945</td>\n",
       "</tr>\n",
       "<tr>\n",
       "  <th>smsa</th>        <td>   -0.8667</td> <td>    0.553</td> <td>   -1.566</td> <td> 0.118</td> <td>   -1.953</td> <td>    0.220</td>\n",
       "</tr>\n",
       "<tr>\n",
       "  <th>marr</th>        <td>    0.8740</td> <td>    0.690</td> <td>    1.267</td> <td> 0.206</td> <td>   -0.480</td> <td>    2.228</td>\n",
       "</tr>\n",
       "</table>\n",
       "<table class=\"simpletable\">\n",
       "<tr>\n",
       "  <th>Omnibus:</th>       <td>66.118</td> <th>  Durbin-Watson:     </th> <td>   1.946</td>\n",
       "</tr>\n",
       "<tr>\n",
       "  <th>Prob(Omnibus):</th> <td> 0.000</td> <th>  Jarque-Bera (JB):  </th> <td> 185.421</td>\n",
       "</tr>\n",
       "<tr>\n",
       "  <th>Skew:</th>          <td>-0.463</td> <th>  Prob(JB):          </th> <td>5.45e-41</td>\n",
       "</tr>\n",
       "<tr>\n",
       "  <th>Kurtosis:</th>      <td> 5.334</td> <th>  Cond. No.          </th> <td>3.98e+04</td>\n",
       "</tr>\n",
       "</table><br/><br/>Notes:<br/>[1] Standard Errors assume that the covariance matrix of the errors is correctly specified.<br/>[2] The condition number is large, 3.98e+04. This might indicate that there are<br/>strong multicollinearity or other numerical problems."
      ],
      "text/plain": [
       "<class 'statsmodels.iolib.summary.Summary'>\n",
       "\"\"\"\n",
       "                            OLS Regression Results                            \n",
       "==============================================================================\n",
       "Dep. Variable:          I(sleep / 60)   R-squared:                       0.125\n",
       "Model:                            OLS   Adj. R-squared:                  0.117\n",
       "Method:                 Least Squares   F-statistic:                     16.58\n",
       "Date:                Tue, 14 Mar 2023   Prob (F-statistic):           6.38e-18\n",
       "Time:                        15:48:45   Log-Likelihood:                -2368.0\n",
       "No. Observations:                 706   AIC:                             4750.\n",
       "Df Residuals:                     699   BIC:                             4782.\n",
       "Df Model:                           6                                         \n",
       "Covariance Type:            nonrobust                                         \n",
       "===============================================================================\n",
       "                  coef    std err          t      P>|t|      [0.025      0.975]\n",
       "-------------------------------------------------------------------------------\n",
       "Intercept      60.4212      3.672     16.457      0.000      53.213      67.630\n",
       "totwrk         -0.0025      0.000     -8.857      0.000      -0.003      -0.002\n",
       "age            -0.1229      0.188     -0.655      0.513      -0.491       0.245\n",
       "I(age ** 2)     0.0021      0.002      0.929      0.353      -0.002       0.006\n",
       "south           1.5738      0.699      2.253      0.025       0.202       2.945\n",
       "smsa           -0.8667      0.553     -1.566      0.118      -1.953       0.220\n",
       "marr            0.8740      0.690      1.267      0.206      -0.480       2.228\n",
       "==============================================================================\n",
       "Omnibus:                       66.118   Durbin-Watson:                   1.946\n",
       "Prob(Omnibus):                  0.000   Jarque-Bera (JB):              185.421\n",
       "Skew:                          -0.463   Prob(JB):                     5.45e-41\n",
       "Kurtosis:                       5.334   Cond. No.                     3.98e+04\n",
       "==============================================================================\n",
       "\n",
       "Notes:\n",
       "[1] Standard Errors assume that the covariance matrix of the errors is correctly specified.\n",
       "[2] The condition number is large, 3.98e+04. This might indicate that there are\n",
       "strong multicollinearity or other numerical problems.\n",
       "\"\"\""
      ]
     },
     "execution_count": 38,
     "metadata": {},
     "output_type": "execute_result"
    }
   ],
   "source": [
    "# Результаты подгонки\n",
    " \n",
    "# Создаем спецификацию модели через формулу\n",
    "mod413 =smf.ols(formula='I(sleep/60)~totwrk+age+I(age**2)+south+smsa+marr', data=data1)\n",
    "#Подгоняем модель\n",
    "Sleep_eq413 = mod413.fit()\n",
    "Sleep_eq413.summary()"
   ]
  },
  {
   "cell_type": "code",
   "execution_count": 39,
   "metadata": {},
   "outputs": [
    {
     "data": {
      "text/plain": [
       "17618.979195001313"
      ]
     },
     "execution_count": 39,
     "metadata": {},
     "output_type": "execute_result"
    }
   ],
   "source": [
    "# Остаточная сумма квадратов только для М\n",
    "Sleep_eq411.ssr"
   ]
  },
  {
   "cell_type": "code",
   "execution_count": 42,
   "metadata": {},
   "outputs": [
    {
     "data": {
      "text/plain": [
       "15717.914859424825"
      ]
     },
     "execution_count": 42,
     "metadata": {},
     "output_type": "execute_result"
    }
   ],
   "source": [
    "# Остаточная сумма квадратов только для Ж\n",
    "Sleep_eq412.ssr"
   ]
  },
  {
   "cell_type": "code",
   "execution_count": 43,
   "metadata": {},
   "outputs": [
    {
     "data": {
      "text/plain": [
       "33859.796879006404"
      ]
     },
     "execution_count": 43,
     "metadata": {},
     "output_type": "execute_result"
    }
   ],
   "source": [
    "# Остаточная сумма квадратов общая\n",
    "Sleep_eq413.ssr"
   ]
  },
  {
   "cell_type": "markdown",
   "metadata": {},
   "source": [
    "### Тест Чоу на однородность выборок $H_0:\\beta_j=\\gamma_j (j=0,\\ldots,6)$."
   ]
  },
  {
   "cell_type": "code",
   "execution_count": 44,
   "metadata": {},
   "outputs": [
    {
     "name": "stdout",
     "output_type": "stream",
     "text": [
      "F-stat:  1.5506147376999444\n"
     ]
    }
   ],
   "source": [
    "# Тестовая F-статистика, вычисленная самостоятельно по формуле\n",
    "F_stat = (Sleep_eq413.ssr-Sleep_eq411.ssr-Sleep_eq412.ssr)/(Sleep_eq411.ssr+Sleep_eq412.ssr)*(Sleep_eq413.nobs-2*(Sleep_eq413.df_model+1))/(Sleep_eq413.df_model+1)\n",
    "print(\"F-stat: \", F_stat)"
   ]
  },
  {
   "cell_type": "code",
   "execution_count": 45,
   "metadata": {},
   "outputs": [
    {
     "name": "stdout",
     "output_type": "stream",
     "text": [
      "Уровень значимости alpha:  0.01\n",
      "J = 7 ,  n-k-1 = 692\n",
      "F-critical:  2.665\n"
     ]
    }
   ],
   "source": [
    "# F-crit, вычисленная самостоятельно по формуле поправить\n",
    "alpha = 0.01 # уровень значимости\n",
    "print('Уровень значимости alpha: ', alpha)\n",
    "dfn = int(Sleep_eq413.df_model+1) # J=k+1\n",
    "dfd = int(Sleep_eq413.nobs-2*(Sleep_eq413.df_model+1)) # n-2(k+1)\n",
    "print(\"J =\", dfn,\", \", \"n-k-1 =\", dfd)\n",
    "F_crit = scipy.stats.f.ppf(1-alpha, dfn, dfd)\n",
    "print(\"F-critical: \", F_crit.round(3))"
   ]
  },
  {
   "cell_type": "code",
   "execution_count": 46,
   "metadata": {},
   "outputs": [
    {
     "name": "stdout",
     "output_type": "stream",
     "text": [
      "не отвергаем H0, структурные изменения незначимы\n"
     ]
    }
   ],
   "source": [
    "# Вывод\n",
    "if (F_stat > F_crit):\n",
    "    print('отвергаем H0, структурные изменения значимы')\n",
    "else:\n",
    "    print('не отвергаем H0, структурные изменения незначимы')"
   ]
  },
  {
   "cell_type": "code",
   "execution_count": null,
   "metadata": {},
   "outputs": [],
   "source": []
  }
 ],
 "metadata": {
  "kernelspec": {
   "display_name": "Python 3",
   "language": "python",
   "name": "python3"
  },
  "language_info": {
   "codemirror_mode": {
    "name": "ipython",
    "version": 3
   },
   "file_extension": ".py",
   "mimetype": "text/x-python",
   "name": "python",
   "nbconvert_exporter": "python",
   "pygments_lexer": "ipython3",
   "version": "3.8.8"
  }
 },
 "nbformat": 4,
 "nbformat_minor": 2
}
