{
 "cells": [
  {
   "cell_type": "code",
   "execution_count": null,
   "id": "3307d321",
   "metadata": {},
   "outputs": [],
   "source": [
    "import numpy as np\n",
    "import pandas as pd\n",
    "import io\n",
    "import statsmodels.formula.api as smf"
   ]
  },
  {
   "cell_type": "code",
   "execution_count": null,
   "id": "fb516e8b",
   "metadata": {},
   "outputs": [],
   "source": [
    "# определяем данные\n",
    "data_string ='''log(output) log(capital) log(labour) y.hat\n",
    "2.22            0.96        5.21     2.19 \n",
    "1.30            0.28        4.51     1.47 \n",
    "3.36            3.10        6.05     3.23 \n",
    "1.42            2.37        4.28     1.56 \n",
    "1.06            0.15        3.83     0.85 \n",
    "6.17            5.62        8.94     6.15 \n",
    "0.77            0.52        3.87     0.94 \n",
    "1.42            0.15        4.68     1.61 \n",
    "0.90           -0.13        3.56     0.57 \n",
    "1.35            1.25        4.28     1.40 '''"
   ]
  },
  {
   "cell_type": "code",
   "execution_count": null,
   "id": "462e0cf7",
   "metadata": {},
   "outputs": [],
   "source": [
    "# создаём DataFrame\n",
    "df = pd.read_csv(io.StringIO(data_string), sep='\\s+')\n",
    "df"
   ]
  },
  {
   "cell_type": "code",
   "execution_count": null,
   "id": "146db22d",
   "metadata": {},
   "outputs": [],
   "source": [
    "# Переименуем столбцы, так как log(output) интерпреитуется как функция логарифма от outpu\n",
    "df =df.rename(columns={\"log(output)\": \"LOGoutput\", \"log(capital)\": \"LOGcapital\", \"log(labour)\":'LOGlabour'})\n",
    "df"
   ]
  },
  {
   "cell_type": "code",
   "execution_count": null,
   "id": "27128a1e",
   "metadata": {},
   "outputs": [],
   "source": [
    "# Построем регрессионную модель. Обратите внимание, что так как в таблице даны значения логарифмом, то функция\n",
    "# np.log() мы не применяем\n",
    "fitted_line = smf.ols(formula='LOGoutput~LOGcapital+LOGlabour', data=df).fit()"
   ]
  },
  {
   "cell_type": "code",
   "execution_count": null,
   "id": "4b8c6bbe",
   "metadata": {},
   "outputs": [],
   "source": [
    "# Предсказанные значения регрессии \n",
    "fitted_line.predict().round(2)"
   ]
  },
  {
   "cell_type": "code",
   "execution_count": null,
   "id": "f0c7a5ea",
   "metadata": {},
   "outputs": [],
   "source": [
    "# Параметры регрессии\n",
    "fitted_line.params"
   ]
  },
  {
   "cell_type": "code",
   "execution_count": null,
   "id": "86a6f619",
   "metadata": {},
   "outputs": [],
   "source": [
    "# Вычислим объяснённую сумму квадратов\n",
    "ESS = ((fitted_line.predict() - np.mean(df['LOGoutput']))**2).sum()\n",
    "ESS"
   ]
  },
  {
   "cell_type": "code",
   "execution_count": null,
   "id": "5fe8a957",
   "metadata": {},
   "outputs": [],
   "source": [
    "# Сравним полученное нами значение с тем, что выдано моделью\n",
    "fitted_line.ess"
   ]
  },
  {
   "cell_type": "code",
   "execution_count": null,
   "id": "54b25bff",
   "metadata": {},
   "outputs": [],
   "source": [
    "# Вычислим общую сумму квадратов\n",
    "TSS = ((df['LOGoutput'] - np.mean(df['LOGoutput']))**2).sum()\n",
    "TSS"
   ]
  },
  {
   "cell_type": "code",
   "execution_count": null,
   "id": "eb9c4411",
   "metadata": {},
   "outputs": [],
   "source": [
    "# Сравним с значением, которое получено моделью\n",
    "fitted_line.centered_tss"
   ]
  },
  {
   "cell_type": "code",
   "execution_count": null,
   "id": "e0dce44b",
   "metadata": {},
   "outputs": [],
   "source": [
    "# Коэффициент детерминации равен\n",
    "R2 = ESS/TSS\n",
    "R2"
   ]
  },
  {
   "cell_type": "code",
   "execution_count": null,
   "id": "4d383a04",
   "metadata": {},
   "outputs": [],
   "source": [
    "#Сравним с значением модели\n",
    "fitted_line.rsquared"
   ]
  },
  {
   "cell_type": "markdown",
   "id": "0ffa3615",
   "metadata": {},
   "source": [
    "Сформированная нами модель не обладает атрибутом, который бы расчитывал остаточную сумму квадратов. Вместо этого она содержит атрибут, который вычисляет функцию потерь MSE, связанную с RSS формулой\n",
    "$$\n",
    "MSE = \\frac{RSS}{n-k}\n",
    "$$\n",
    "где $n$ –– количество измерений(в нашем примере их 10) , $k$ –– количество регрессоров(в нашем примере их 3)."
   ]
  },
  {
   "cell_type": "code",
   "execution_count": null,
   "id": "d9521477",
   "metadata": {},
   "outputs": [],
   "source": [
    "# Вычисли остаточную сумму квадртов\n",
    "RSS = TSS - ESS\n",
    "RSS"
   ]
  },
  {
   "cell_type": "code",
   "execution_count": null,
   "id": "2ec81db5",
   "metadata": {},
   "outputs": [],
   "source": [
    "fitted_line.mse_resid*(10 - 3)"
   ]
  }
 ],
 "metadata": {
  "kernelspec": {
   "display_name": "Python 3",
   "language": "python",
   "name": "python3"
  },
  "language_info": {
   "codemirror_mode": {
    "name": "ipython",
    "version": 3
   },
   "file_extension": ".py",
   "mimetype": "text/x-python",
   "name": "python",
   "nbconvert_exporter": "python",
   "pygments_lexer": "ipython3",
   "version": "3.8.8"
  }
 },
 "nbformat": 4,
 "nbformat_minor": 5
}
