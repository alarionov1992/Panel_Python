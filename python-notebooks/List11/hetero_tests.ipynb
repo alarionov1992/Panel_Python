{
 "cells": [
  {
   "attachments": {},
   "cell_type": "markdown",
   "id": "7c472be3",
   "metadata": {},
   "source": [
    "# Гетероскедаcтичность: оценивание и тестирование гипотез"
   ]
  },
  {
   "cell_type": "code",
   "execution_count": 1,
   "id": "63ba6ec6",
   "metadata": {},
   "outputs": [],
   "source": [
    "import pandas as pd\n",
    "import numpy as np\n",
    "import statsmodels.formula.api as smf\n",
    "import statsmodels.api as sm\n",
    "import statsmodels.stats.api as sms # тесты\n",
    "from statsmodels.iolib.summary2 import summary_col # вывод подгонки\n",
    "from scipy.stats import t, f # t & F распределения"
   ]
  },
  {
   "attachments": {},
   "cell_type": "markdown",
   "id": "68c97d15",
   "metadata": {},
   "source": [
    "## Output equation\n",
    "Для набора данных `Labour` рассмотрим линейную регрессию **log(output) на log(capital), log(labour), log(wage), log(capital)^2, log(labour)^2, log(wage)^2.**"
   ]
  },
  {
   "cell_type": "code",
   "execution_count": 2,
   "id": "379679e9",
   "metadata": {},
   "outputs": [
    {
     "data": {
      "text/html": [
       "<table class=\"simpletable\">\n",
       "<caption>OLS Regression Results</caption>\n",
       "<tr>\n",
       "  <th>Dep. Variable:</th>    <td>np.log(output)</td> <th>  R-squared:         </th> <td>   0.896</td> \n",
       "</tr>\n",
       "<tr>\n",
       "  <th>Model:</th>                  <td>OLS</td>      <th>  Adj. R-squared:    </th> <td>   0.895</td> \n",
       "</tr>\n",
       "<tr>\n",
       "  <th>No. Observations:</th>     <td>   569</td>     <th>  F-statistic:       </th> <td>   805.2</td> \n",
       "</tr>\n",
       "<tr>\n",
       "  <th>Covariance Type:</th>     <td>nonrobust</td>   <th>  Prob (F-statistic):</th> <td>3.40e-272</td>\n",
       "</tr>\n",
       "</table>\n",
       "<table class=\"simpletable\">\n",
       "<tr>\n",
       "             <td></td>                <th>coef</th>     <th>std err</th>      <th>t</th>      <th>P>|t|</th>  <th>[0.025</th>    <th>0.975]</th>  \n",
       "</tr>\n",
       "<tr>\n",
       "  <th>Intercept</th>               <td>   -3.5683</td> <td>    1.129</td> <td>   -3.161</td> <td> 0.002</td> <td>   -5.786</td> <td>   -1.351</td>\n",
       "</tr>\n",
       "<tr>\n",
       "  <th>np.log(capital)</th>         <td>    0.1404</td> <td>    0.014</td> <td>    9.754</td> <td> 0.000</td> <td>    0.112</td> <td>    0.169</td>\n",
       "</tr>\n",
       "<tr>\n",
       "  <th>np.log(labour)</th>          <td>    0.4716</td> <td>    0.071</td> <td>    6.642</td> <td> 0.000</td> <td>    0.332</td> <td>    0.611</td>\n",
       "</tr>\n",
       "<tr>\n",
       "  <th>np.log(wage)</th>            <td>    0.4762</td> <td>    0.604</td> <td>    0.789</td> <td> 0.430</td> <td>   -0.709</td> <td>    1.662</td>\n",
       "</tr>\n",
       "<tr>\n",
       "  <th>I(np.log(capital) ** 2)</th> <td>    0.0071</td> <td>    0.004</td> <td>    1.583</td> <td> 0.114</td> <td>   -0.002</td> <td>    0.016</td>\n",
       "</tr>\n",
       "<tr>\n",
       "  <th>I(np.log(labour) ** 2)</th>  <td>    0.0275</td> <td>    0.008</td> <td>    3.368</td> <td> 0.001</td> <td>    0.011</td> <td>    0.044</td>\n",
       "</tr>\n",
       "<tr>\n",
       "  <th>I(np.log(wage) ** 2)</th>    <td>    0.0516</td> <td>    0.082</td> <td>    0.628</td> <td> 0.531</td> <td>   -0.110</td> <td>    0.213</td>\n",
       "</tr>\n",
       "</table><br/><br/>Notes:<br/>[1] Standard Errors assume that the covariance matrix of the errors is correctly specified.<br/>[2] The condition number is large, 2.22e+03. This might indicate that there are<br/>strong multicollinearity or other numerical problems."
      ],
      "text/plain": [
       "<class 'statsmodels.iolib.summary.Summary'>\n",
       "\"\"\"\n",
       "                            OLS Regression Results                            \n",
       "==============================================================================\n",
       "Dep. Variable:         np.log(output)   R-squared:                       0.896\n",
       "Model:                            OLS   Adj. R-squared:                  0.895\n",
       "No. Observations:                 569   F-statistic:                     805.2\n",
       "Covariance Type:            nonrobust   Prob (F-statistic):          3.40e-272\n",
       "===========================================================================================\n",
       "                              coef    std err          t      P>|t|      [0.025      0.975]\n",
       "-------------------------------------------------------------------------------------------\n",
       "Intercept                  -3.5683      1.129     -3.161      0.002      -5.786      -1.351\n",
       "np.log(capital)             0.1404      0.014      9.754      0.000       0.112       0.169\n",
       "np.log(labour)              0.4716      0.071      6.642      0.000       0.332       0.611\n",
       "np.log(wage)                0.4762      0.604      0.789      0.430      -0.709       1.662\n",
       "I(np.log(capital) ** 2)     0.0071      0.004      1.583      0.114      -0.002       0.016\n",
       "I(np.log(labour) ** 2)      0.0275      0.008      3.368      0.001       0.011       0.044\n",
       "I(np.log(wage) ** 2)        0.0516      0.082      0.628      0.531      -0.110       0.213\n",
       "===========================================================================================\n",
       "\n",
       "Notes:\n",
       "[1] Standard Errors assume that the covariance matrix of the errors is correctly specified.\n",
       "[2] The condition number is large, 2.22e+03. This might indicate that there are\n",
       "strong multicollinearity or other numerical problems.\n",
       "\"\"\""
      ]
     },
     "execution_count": 2,
     "metadata": {},
     "output_type": "execute_result"
    }
   ],
   "source": [
    "Labour_df = pd.read_csv('https://raw.githubusercontent.com/artamonoff/Econometrica/master/python-notebooks/data-csv/Labour.csv')\n",
    "specification = 'np.log(output)~np.log(capital)+np.log(labour)+np.log(wage)+I(np.log(capital)**2)+I(np.log(labour)**2)+I(np.log(wage)**2)'\n",
    "mod=smf.ols(formula = specification, data=Labour_df).fit()\n",
    "mod.summary(slim=True)"
   ]
  },
  {
   "attachments": {},
   "cell_type": "markdown",
   "id": "ef2157c1",
   "metadata": {},
   "source": [
    "Тестирование на гетероскедастичность"
   ]
  },
  {
   "cell_type": "code",
   "execution_count": 3,
   "id": "6b9aa589",
   "metadata": {},
   "outputs": [
    {
     "data": {
      "text/plain": [
       "(85.11654789604265,\n",
       " 3.122601985450384e-16,\n",
       " 16.476247089935967,\n",
       " 1.562870715336653e-17)"
      ]
     },
     "execution_count": 3,
     "metadata": {},
     "output_type": "execute_result"
    }
   ],
   "source": [
    "sms.het_breuschpagan(resid=mod.resid, exog_het=mod.model.exog)"
   ]
  },
  {
   "attachments": {},
   "cell_type": "markdown",
   "id": "4b7df6e8",
   "metadata": {},
   "source": [
    "Подгоним модель с поправкого на гетероскедастичность (робастная HC3-оценка ковариационной матрицы)"
   ]
  },
  {
   "cell_type": "code",
   "execution_count": 4,
   "id": "7b580ff5",
   "metadata": {},
   "outputs": [
    {
     "data": {
      "text/html": [
       "<table class=\"simpletable\">\n",
       "<caption>OLS Regression Results</caption>\n",
       "<tr>\n",
       "  <th>Dep. Variable:</th>    <td>np.log(output)</td> <th>  R-squared:         </th> <td>   0.896</td> \n",
       "</tr>\n",
       "<tr>\n",
       "  <th>Model:</th>                  <td>OLS</td>      <th>  Adj. R-squared:    </th> <td>   0.895</td> \n",
       "</tr>\n",
       "<tr>\n",
       "  <th>No. Observations:</th>     <td>   569</td>     <th>  F-statistic:       </th> <td>   489.4</td> \n",
       "</tr>\n",
       "<tr>\n",
       "  <th>Covariance Type:</th>        <td>HC3</td>      <th>  Prob (F-statistic):</th> <td>2.00e-219</td>\n",
       "</tr>\n",
       "</table>\n",
       "<table class=\"simpletable\">\n",
       "<tr>\n",
       "             <td></td>                <th>coef</th>     <th>std err</th>      <th>z</th>      <th>P>|z|</th>  <th>[0.025</th>    <th>0.975]</th>  \n",
       "</tr>\n",
       "<tr>\n",
       "  <th>Intercept</th>               <td>   -3.5683</td> <td>    1.651</td> <td>   -2.161</td> <td> 0.031</td> <td>   -6.805</td> <td>   -0.332</td>\n",
       "</tr>\n",
       "<tr>\n",
       "  <th>np.log(capital)</th>         <td>    0.1404</td> <td>    0.030</td> <td>    4.720</td> <td> 0.000</td> <td>    0.082</td> <td>    0.199</td>\n",
       "</tr>\n",
       "<tr>\n",
       "  <th>np.log(labour)</th>          <td>    0.4716</td> <td>    0.198</td> <td>    2.387</td> <td> 0.017</td> <td>    0.084</td> <td>    0.859</td>\n",
       "</tr>\n",
       "<tr>\n",
       "  <th>np.log(wage)</th>            <td>    0.4762</td> <td>    0.895</td> <td>    0.532</td> <td> 0.595</td> <td>   -1.278</td> <td>    2.231</td>\n",
       "</tr>\n",
       "<tr>\n",
       "  <th>I(np.log(capital) ** 2)</th> <td>    0.0071</td> <td>    0.009</td> <td>    0.831</td> <td> 0.406</td> <td>   -0.010</td> <td>    0.024</td>\n",
       "</tr>\n",
       "<tr>\n",
       "  <th>I(np.log(labour) ** 2)</th>  <td>    0.0275</td> <td>    0.020</td> <td>    1.376</td> <td> 0.169</td> <td>   -0.012</td> <td>    0.067</td>\n",
       "</tr>\n",
       "<tr>\n",
       "  <th>I(np.log(wage) ** 2)</th>    <td>    0.0516</td> <td>    0.126</td> <td>    0.410</td> <td> 0.682</td> <td>   -0.195</td> <td>    0.298</td>\n",
       "</tr>\n",
       "</table><br/><br/>Notes:<br/>[1] Standard Errors are heteroscedasticity robust (HC3)<br/>[2] The condition number is large, 2.22e+03. This might indicate that there are<br/>strong multicollinearity or other numerical problems."
      ],
      "text/plain": [
       "<class 'statsmodels.iolib.summary.Summary'>\n",
       "\"\"\"\n",
       "                            OLS Regression Results                            \n",
       "==============================================================================\n",
       "Dep. Variable:         np.log(output)   R-squared:                       0.896\n",
       "Model:                            OLS   Adj. R-squared:                  0.895\n",
       "No. Observations:                 569   F-statistic:                     489.4\n",
       "Covariance Type:                  HC3   Prob (F-statistic):          2.00e-219\n",
       "===========================================================================================\n",
       "                              coef    std err          z      P>|z|      [0.025      0.975]\n",
       "-------------------------------------------------------------------------------------------\n",
       "Intercept                  -3.5683      1.651     -2.161      0.031      -6.805      -0.332\n",
       "np.log(capital)             0.1404      0.030      4.720      0.000       0.082       0.199\n",
       "np.log(labour)              0.4716      0.198      2.387      0.017       0.084       0.859\n",
       "np.log(wage)                0.4762      0.895      0.532      0.595      -1.278       2.231\n",
       "I(np.log(capital) ** 2)     0.0071      0.009      0.831      0.406      -0.010       0.024\n",
       "I(np.log(labour) ** 2)      0.0275      0.020      1.376      0.169      -0.012       0.067\n",
       "I(np.log(wage) ** 2)        0.0516      0.126      0.410      0.682      -0.195       0.298\n",
       "===========================================================================================\n",
       "\n",
       "Notes:\n",
       "[1] Standard Errors are heteroscedasticity robust (HC3)\n",
       "[2] The condition number is large, 2.22e+03. This might indicate that there are\n",
       "strong multicollinearity or other numerical problems.\n",
       "\"\"\""
      ]
     },
     "execution_count": 4,
     "metadata": {},
     "output_type": "execute_result"
    }
   ],
   "source": [
    "mod_hc=smf.ols(formula=specification, data=Labour_df).fit(cov_type='HC3')\n",
    "mod_hc.summary(slim=True)"
   ]
  },
  {
   "attachments": {},
   "cell_type": "markdown",
   "id": "aa46b38e",
   "metadata": {},
   "source": [
    "## t-тест\n",
    "Сравним результаты и исходной оценкой модели"
   ]
  },
  {
   "cell_type": "code",
   "execution_count": 5,
   "id": "93ca209b",
   "metadata": {},
   "outputs": [
    {
     "data": {
      "text/html": [
       "<table class=\"simpletable\">\n",
       "<tr>\n",
       "             <td></td>              <th>OLS-s.e.</th>  <th>HC3-s.e.</th> \n",
       "</tr>\n",
       "<tr>\n",
       "  <th>Intercept</th>               <td>-3.5683***</td> <td>-3.5683**</td>\n",
       "</tr>\n",
       "<tr>\n",
       "  <th></th>                         <td>(1.1290)</td>  <td>(1.6513)</td> \n",
       "</tr>\n",
       "<tr>\n",
       "  <th>np.log(capital)</th>          <td>0.1404***</td> <td>0.1404***</td>\n",
       "</tr>\n",
       "<tr>\n",
       "  <th></th>                         <td>(0.0144)</td>  <td>(0.0297)</td> \n",
       "</tr>\n",
       "<tr>\n",
       "  <th>np.log(labour)</th>           <td>0.4716***</td> <td>0.4716**</td> \n",
       "</tr>\n",
       "<tr>\n",
       "  <th></th>                         <td>(0.0710)</td>  <td>(0.1975)</td> \n",
       "</tr>\n",
       "<tr>\n",
       "  <th>np.log(wage)</th>              <td>0.4762</td>    <td>0.4762</td>  \n",
       "</tr>\n",
       "<tr>\n",
       "  <th></th>                         <td>(0.6035)</td>  <td>(0.8952)</td> \n",
       "</tr>\n",
       "<tr>\n",
       "  <th>I(np.log(capital) ** 2)</th>   <td>0.0071</td>    <td>0.0071</td>  \n",
       "</tr>\n",
       "<tr>\n",
       "  <th></th>                         <td>(0.0045)</td>  <td>(0.0085)</td> \n",
       "</tr>\n",
       "<tr>\n",
       "  <th>I(np.log(labour) ** 2)</th>   <td>0.0275***</td>  <td>0.0275</td>  \n",
       "</tr>\n",
       "<tr>\n",
       "  <th></th>                         <td>(0.0082)</td>  <td>(0.0200)</td> \n",
       "</tr>\n",
       "<tr>\n",
       "  <th>I(np.log(wage) ** 2)</th>      <td>0.0516</td>    <td>0.0516</td>  \n",
       "</tr>\n",
       "<tr>\n",
       "  <th></th>                         <td>(0.0822)</td>  <td>(0.1257)</td> \n",
       "</tr>\n",
       "<tr>\n",
       "  <th>R-squared</th>                 <td>0.8958</td>    <td>0.8958</td>  \n",
       "</tr>\n",
       "<tr>\n",
       "  <th>R-squared Adj.</th>            <td>0.8947</td>    <td>0.8947</td>  \n",
       "</tr>\n",
       "</table>"
      ],
      "text/plain": [
       "<class 'statsmodels.iolib.summary2.Summary'>\n",
       "\"\"\"\n",
       "\n",
       "============================================\n",
       "                         OLS-s.e.   HC3-s.e.\n",
       "--------------------------------------------\n",
       "Intercept               -3.5683*** -3.5683**\n",
       "                        (1.1290)   (1.6513) \n",
       "np.log(capital)         0.1404***  0.1404***\n",
       "                        (0.0144)   (0.0297) \n",
       "np.log(labour)          0.4716***  0.4716** \n",
       "                        (0.0710)   (0.1975) \n",
       "np.log(wage)            0.4762     0.4762   \n",
       "                        (0.6035)   (0.8952) \n",
       "I(np.log(capital) ** 2) 0.0071     0.0071   \n",
       "                        (0.0045)   (0.0085) \n",
       "I(np.log(labour) ** 2)  0.0275***  0.0275   \n",
       "                        (0.0082)   (0.0200) \n",
       "I(np.log(wage) ** 2)    0.0516     0.0516   \n",
       "                        (0.0822)   (0.1257) \n",
       "R-squared               0.8958     0.8958   \n",
       "R-squared Adj.          0.8947     0.8947   \n",
       "============================================\n",
       "Standard errors in parentheses.\n",
       "* p<.1, ** p<.05, ***p<.01\n",
       "\"\"\""
      ]
     },
     "execution_count": 5,
     "metadata": {},
     "output_type": "execute_result"
    }
   ],
   "source": [
    "summary_col(results=[mod, mod_hc], stars=True, model_names=['OLS-s.e.', 'HC3-s.e.'])"
   ]
  },
  {
   "attachments": {},
   "cell_type": "markdown",
   "id": "d0a46f90",
   "metadata": {},
   "source": [
    "### F-тест: Значимость регрессии\n",
    "Сравним неробастную и робастную тестовые статистики"
   ]
  },
  {
   "cell_type": "code",
   "execution_count": 6,
   "id": "2703567d",
   "metadata": {},
   "outputs": [
    {
     "data": {
      "text/plain": [
       "(805.2110956320433, 489.38888031823245)"
      ]
     },
     "execution_count": 6,
     "metadata": {},
     "output_type": "execute_result"
    }
   ],
   "source": [
    "mod.fvalue, mod_hc.fvalue"
   ]
  },
  {
   "attachments": {},
   "cell_type": "markdown",
   "id": "599a6d3f",
   "metadata": {},
   "source": [
    "### F-тест: Совместная значимость\n",
    "Сравним неробастный и робастный тесты\n",
    "\n",
    "ПОтестируем значимость квадратов"
   ]
  },
  {
   "cell_type": "code",
   "execution_count": 7,
   "id": "87a80e35",
   "metadata": {},
   "outputs": [
    {
     "data": {
      "text/plain": [
       "<class 'statsmodels.stats.contrast.ContrastResults'>\n",
       "<F test: F=13.296975637794796, p=2.137658114100016e-08, df_denom=562, df_num=3>"
      ]
     },
     "execution_count": 7,
     "metadata": {},
     "output_type": "execute_result"
    }
   ],
   "source": [
    "mod.f_test('I(np.log(capital) ** 2)=I(np.log(labour) ** 2)=I(np.log(wage) ** 2)=0')"
   ]
  },
  {
   "cell_type": "code",
   "execution_count": 8,
   "id": "9391f09c",
   "metadata": {},
   "outputs": [
    {
     "data": {
      "text/plain": [
       "<class 'statsmodels.stats.contrast.ContrastResults'>\n",
       "<F test: F=2.0641355692907495, p=0.1038978006829745, df_denom=562, df_num=3>"
      ]
     },
     "execution_count": 8,
     "metadata": {},
     "output_type": "execute_result"
    }
   ],
   "source": [
    "mod_hc.f_test('I(np.log(capital) ** 2)=I(np.log(labour) ** 2)=I(np.log(wage) ** 2)=0')"
   ]
  }
 ],
 "metadata": {
  "kernelspec": {
   "display_name": "Python 3 (ipykernel)",
   "language": "python",
   "name": "python3"
  },
  "language_info": {
   "codemirror_mode": {
    "name": "ipython",
    "version": 3
   },
   "file_extension": ".py",
   "mimetype": "text/x-python",
   "name": "python",
   "nbconvert_exporter": "python",
   "pygments_lexer": "ipython3",
   "version": "3.9.16"
  }
 },
 "nbformat": 4,
 "nbformat_minor": 5
}
