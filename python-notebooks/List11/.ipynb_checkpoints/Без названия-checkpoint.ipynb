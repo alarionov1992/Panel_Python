{
 "cells": [
  {
   "cell_type": "code",
   "execution_count": 43,
   "id": "bac04913",
   "metadata": {},
   "outputs": [],
   "source": [
    "import pandas as pd\n",
    "import numpy as np\n",
    "import statsmodels.formula.api as smf\n",
    "import scipy.stats as stats"
   ]
  },
  {
   "cell_type": "code",
   "execution_count": 34,
   "id": "7086ea27",
   "metadata": {},
   "outputs": [],
   "source": [
    "df = pd.read_csv('https://raw.githubusercontent.com/ryupepa/Econometrica/master/python-notebooks/data-csv/sleep75.csv')"
   ]
  },
  {
   "cell_type": "code",
   "execution_count": 35,
   "id": "46c0715f",
   "metadata": {},
   "outputs": [],
   "source": [
    "model = smf.ols(data=df, formula='sleep~totwrk+age+I(age**2)+male+smsa+south').fit()"
   ]
  },
  {
   "cell_type": "code",
   "execution_count": 39,
   "id": "b935f0cb",
   "metadata": {},
   "outputs": [
    {
     "data": {
      "text/plain": [
       "171319.64419318622"
      ]
     },
     "execution_count": 39,
     "metadata": {},
     "output_type": "execute_result"
    }
   ],
   "source": [
    "(sum(model.resid**2)/len(df))"
   ]
  },
  {
   "cell_type": "code",
   "execution_count": 40,
   "id": "438bb06a",
   "metadata": {},
   "outputs": [
    {
     "data": {
      "text/plain": [
       "0        2293.443965\n",
       "1         573.476946\n",
       "2      219030.340655\n",
       "3       28387.963146\n",
       "4       10619.996605\n",
       "           ...      \n",
       "701     39281.141585\n",
       "702       137.364246\n",
       "703     68869.905163\n",
       "704    175991.230735\n",
       "705     79214.427990\n",
       "Length: 706, dtype: float64"
      ]
     },
     "execution_count": 40,
     "metadata": {},
     "output_type": "execute_result"
    }
   ],
   "source": [
    "model.resid**2"
   ]
  },
  {
   "cell_type": "code",
   "execution_count": 41,
   "id": "583fb41f",
   "metadata": {},
   "outputs": [
    {
     "data": {
      "text/plain": [
       "0      0.013387\n",
       "1      0.003347\n",
       "2      1.278489\n",
       "3      0.165702\n",
       "4      0.061989\n",
       "         ...   \n",
       "701    0.229286\n",
       "702    0.000802\n",
       "703    0.401997\n",
       "704    1.027268\n",
       "705    0.462378\n",
       "Length: 706, dtype: float64"
      ]
     },
     "execution_count": 41,
     "metadata": {},
     "output_type": "execute_result"
    }
   ],
   "source": [
    "model.resid**2/(sum(model.resid**2)/len(df))"
   ]
  },
  {
   "cell_type": "code",
   "execution_count": 36,
   "id": "6985f5d9",
   "metadata": {},
   "outputs": [
    {
     "data": {
      "text/plain": [
       "0      0.013387\n",
       "1      0.003347\n",
       "2      1.278489\n",
       "3      0.165702\n",
       "4      0.061989\n",
       "         ...   \n",
       "701    0.229286\n",
       "702    0.000802\n",
       "703    0.401997\n",
       "704    1.027268\n",
       "705    0.462378\n",
       "Name: res, Length: 706, dtype: float64"
      ]
     },
     "execution_count": 36,
     "metadata": {},
     "output_type": "execute_result"
    }
   ],
   "source": [
    "df['res']=(model.resid**2)/(sum(model.resid**2)/len(df))\n",
    "df['res']"
   ]
  },
  {
   "cell_type": "code",
   "execution_count": 37,
   "id": "be2a230f",
   "metadata": {},
   "outputs": [],
   "source": [
    "model2 = smf.ols(data=df, formula='res~totwrk+age+I(age**2)+male+smsa+south').fit()"
   ]
  },
  {
   "cell_type": "code",
   "execution_count": 42,
   "id": "6ba4c96f",
   "metadata": {},
   "outputs": [
    {
     "data": {
      "text/plain": [
       "8.894178676871206"
      ]
     },
     "execution_count": 42,
     "metadata": {},
     "output_type": "execute_result"
    }
   ],
   "source": [
    "model2.ess/4"
   ]
  },
  {
   "cell_type": "code",
   "execution_count": 44,
   "id": "72193a92",
   "metadata": {},
   "outputs": [
    {
     "data": {
      "text/plain": [
       "12.591587243743977"
      ]
     },
     "execution_count": 44,
     "metadata": {},
     "output_type": "execute_result"
    }
   ],
   "source": [
    "stats.chi2.ppf(1-0.05,6)"
   ]
  },
  {
   "cell_type": "code",
   "execution_count": null,
   "id": "1ee158e9",
   "metadata": {},
   "outputs": [],
   "source": []
  }
 ],
 "metadata": {
  "kernelspec": {
   "display_name": "Python 3 (ipykernel)",
   "language": "python",
   "name": "python3"
  },
  "language_info": {
   "codemirror_mode": {
    "name": "ipython",
    "version": 3
   },
   "file_extension": ".py",
   "mimetype": "text/x-python",
   "name": "python",
   "nbconvert_exporter": "python",
   "pygments_lexer": "ipython3",
   "version": "3.8.8"
  }
 },
 "nbformat": 4,
 "nbformat_minor": 5
}
