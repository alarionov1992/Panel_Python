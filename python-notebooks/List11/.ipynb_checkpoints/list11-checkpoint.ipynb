{
 "cells": [
  {
   "cell_type": "code",
   "execution_count": 1,
   "id": "fe66b748",
   "metadata": {},
   "outputs": [],
   "source": [
    "import pandas as pd\n",
    "import numpy as np\n",
    "import statsmodels.formula.api as smf\n",
    "import seaborn as sns\n",
    "import matplotlib.pyplot as plt\n",
    "import scipy.stats as stats"
   ]
  },
  {
   "cell_type": "code",
   "execution_count": 2,
   "id": "6d8ac793",
   "metadata": {},
   "outputs": [],
   "source": [
    "df = pd.read_csv('https://raw.githubusercontent.com/ryupepa/Econometrica/master/python-notebooks/data-csv/sleep75.csv')"
   ]
  },
  {
   "cell_type": "code",
   "execution_count": 3,
   "id": "c14025eb",
   "metadata": {},
   "outputs": [],
   "source": [
    "model = smf.ols(data=df, formula='sleep~totwrk+age+I(age**2)+male+smsa+south').fit()"
   ]
  },
  {
   "cell_type": "code",
   "execution_count": 4,
   "id": "55cf8f5b",
   "metadata": {},
   "outputs": [],
   "source": [
    "# Для того, чтобы проверить наличие гетероскедастичности с помощью теста Бройша-Пагана,\n",
    "# необходимо построить вспомогательную регрессию,\n",
    "#зависимой переменной в которой будут квадраты остатков исходной регресси."
   ]
  },
  {
   "cell_type": "markdown",
   "id": "6f3f2655",
   "metadata": {},
   "source": [
    "$$e_i = y_i - \\hat{y}_i$$\n",
    "$$\n",
    "e_i^2 = \\gamma_0 + \\gamma_1*totwrk+age+\\gamma_2*I(age**2)+\\gamma_3*male+\\gamma_3*smsa+\\gamma_4*south\n",
    "$$"
   ]
  },
  {
   "cell_type": "code",
   "execution_count": 5,
   "id": "732669c7",
   "metadata": {},
   "outputs": [],
   "source": [
    "# квадраты остатков добавим в датафрейм, воспользовавшись методом '.resid', возвращающий значения остатков\n",
    "df['res2']=model.resid**2\n",
    "df['res']=model.resid"
   ]
  },
  {
   "cell_type": "code",
   "execution_count": 6,
   "id": "28b6d74b",
   "metadata": {},
   "outputs": [],
   "source": [
    " sub_model= smf.ols(data=df, formula='res2~totwrk+age+I(age**2)+male+smsa+south').fit()"
   ]
  },
  {
   "cell_type": "markdown",
   "id": "a5451a95",
   "metadata": {},
   "source": [
    "## Сформулируем проверямемую гипотезу, о характере зависимости дисперсии ошибок от факторов регресси\n",
    "$$\n",
    "H_0: \\sigma_i^2 \\equiv \\sigma^2=f(\\gamma_0),\n",
    "$$\n",
    "$$\n",
    "H_1:\\sigma_i^2 = f(\\gamma_0 + z_{i1}\\gamma_1 + z_{i2}*\\gamma_2 + \\dots + \\gamma_{ip}\\gamma_p).\n",
    "$$\n",
    "### Другими словами, значимость вспомогательной регресси в целом, т.е.\n",
    "$$\n",
    "H_0: \\gamma_1=\\gamma_2=\\gamma_3=\\gamma_4=\\gamma_5=\\gamma_6=0,\n",
    "$$\n",
    "$$\n",
    "H_1:  \\gamma_1^2+\\gamma_2^2+\\gamma_3^2+\\gamma_4^2+\\gamma_5^2+\\gamma_6^2>0.\n",
    "$$"
   ]
  },
  {
   "cell_type": "markdown",
   "id": "6e68d7cf",
   "metadata": {},
   "source": [
    "### При справедливости нулевой гипотезы статистика $n*R_0^2 $ имеет распределение хи-квадрат:\n",
    "$$\n",
    "nR_0^2 \\approx_{H_0} \\chi^2_p\n",
    "$$"
   ]
  },
  {
   "cell_type": "code",
   "execution_count": 7,
   "id": "d04fe694",
   "metadata": {},
   "outputs": [
    {
     "data": {
      "text/plain": [
       "8.31"
      ]
     },
     "execution_count": 7,
     "metadata": {},
     "output_type": "execute_result"
    }
   ],
   "source": [
    "St = np.round(len(df)*sub_model.rsquared,2)\n",
    "St"
   ]
  },
  {
   "cell_type": "code",
   "execution_count": 8,
   "id": "5ef210bf",
   "metadata": {},
   "outputs": [
    {
     "data": {
      "text/plain": [
       "12.591587243743977"
      ]
     },
     "execution_count": 8,
     "metadata": {},
     "output_type": "execute_result"
    }
   ],
   "source": [
    "Hi2 = stats.chi2.ppf(1-0.05,6)\n",
    "Hi2"
   ]
  },
  {
   "cell_type": "markdown",
   "id": "316b89d7",
   "metadata": {},
   "source": [
    "$$\n",
    "nR_0^2 < \\chi_p^2.\n",
    "$$\n",
    "### Нет оснований отвергнуть нулевую гипотезу. Тест указывает на гомоскедастичность."
   ]
  },
  {
   "cell_type": "code",
   "execution_count": null,
   "id": "7824b993",
   "metadata": {},
   "outputs": [],
   "source": []
  }
 ],
 "metadata": {
  "kernelspec": {
   "display_name": "Python 3 (ipykernel)",
   "language": "python",
   "name": "python3"
  },
  "language_info": {
   "codemirror_mode": {
    "name": "ipython",
    "version": 3
   },
   "file_extension": ".py",
   "mimetype": "text/x-python",
   "name": "python",
   "nbconvert_exporter": "python",
   "pygments_lexer": "ipython3",
   "version": "3.8.8"
  }
 },
 "nbformat": 4,
 "nbformat_minor": 5
}
