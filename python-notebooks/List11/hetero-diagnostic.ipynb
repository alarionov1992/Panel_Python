{
 "cells": [
  {
   "attachments": {},
   "cell_type": "markdown",
   "id": "400de8b5",
   "metadata": {},
   "source": [
    "# Диагностические тесты на гетероскедастичность"
   ]
  },
  {
   "cell_type": "code",
   "execution_count": 1,
   "id": "42047cb4",
   "metadata": {},
   "outputs": [],
   "source": [
    "import pandas as pd\n",
    "import numpy as np\n",
    "import statsmodels.formula.api as smf\n",
    "import statsmodels.api as sm\n",
    "import statsmodels.stats.api as sms # тесты\n",
    "from scipy.stats import chi2 # 𝜒2-распределение"
   ]
  },
  {
   "attachments": {},
   "cell_type": "markdown",
   "id": "cb45a14b",
   "metadata": {},
   "source": [
    "## Sleep equation\n",
    "Для набора данных `sleep75` рассмотрим линейную регрессию **sleep на totwrk, age, age^2, male, smsa, south.**"
   ]
  },
  {
   "cell_type": "code",
   "execution_count": 2,
   "id": "b0dbc223",
   "metadata": {},
   "outputs": [
    {
     "data": {
      "text/html": [
       "<table class=\"simpletable\">\n",
       "<caption>OLS Regression Results</caption>\n",
       "<tr>\n",
       "  <th>Dep. Variable:</th>      <td>sleep</td>   <th>  R-squared:         </th> <td>   0.131</td>\n",
       "</tr>\n",
       "<tr>\n",
       "  <th>Model:</th>               <td>OLS</td>    <th>  Adj. R-squared:    </th> <td>   0.124</td>\n",
       "</tr>\n",
       "<tr>\n",
       "  <th>No. Observations:</th>  <td>   706</td>   <th>  F-statistic:       </th> <td>   17.62</td>\n",
       "</tr>\n",
       "<tr>\n",
       "  <th>Covariance Type:</th>  <td>nonrobust</td> <th>  Prob (F-statistic):</th> <td>4.68e-19</td>\n",
       "</tr>\n",
       "</table>\n",
       "<table class=\"simpletable\">\n",
       "<tr>\n",
       "       <td></td>          <th>coef</th>     <th>std err</th>      <th>t</th>      <th>P>|t|</th>  <th>[0.025</th>    <th>0.975]</th>  \n",
       "</tr>\n",
       "<tr>\n",
       "  <th>Intercept</th>   <td> 3638.6263</td> <td>  218.595</td> <td>   16.645</td> <td> 0.000</td> <td> 3209.444</td> <td> 4067.809</td>\n",
       "</tr>\n",
       "<tr>\n",
       "  <th>totwrk</th>      <td>   -0.1682</td> <td>    0.018</td> <td>   -9.284</td> <td> 0.000</td> <td>   -0.204</td> <td>   -0.133</td>\n",
       "</tr>\n",
       "<tr>\n",
       "  <th>age</th>         <td>   -6.1651</td> <td>   11.176</td> <td>   -0.552</td> <td> 0.581</td> <td>  -28.107</td> <td>   15.777</td>\n",
       "</tr>\n",
       "<tr>\n",
       "  <th>I(age ** 2)</th> <td>    0.1083</td> <td>    0.134</td> <td>    0.811</td> <td> 0.417</td> <td>   -0.154</td> <td>    0.371</td>\n",
       "</tr>\n",
       "<tr>\n",
       "  <th>male</th>        <td>   90.9715</td> <td>   34.210</td> <td>    2.659</td> <td> 0.008</td> <td>   23.804</td> <td>  158.139</td>\n",
       "</tr>\n",
       "<tr>\n",
       "  <th>smsa</th>        <td>  -56.6990</td> <td>   32.931</td> <td>   -1.722</td> <td> 0.086</td> <td> -121.355</td> <td>    7.957</td>\n",
       "</tr>\n",
       "<tr>\n",
       "  <th>south</th>       <td>   97.6396</td> <td>   41.752</td> <td>    2.339</td> <td> 0.020</td> <td>   15.666</td> <td>  179.613</td>\n",
       "</tr>\n",
       "</table><br/><br/>Notes:<br/>[1] Standard Errors assume that the covariance matrix of the errors is correctly specified.<br/>[2] The condition number is large, 3.96e+04. This might indicate that there are<br/>strong multicollinearity or other numerical problems."
      ],
      "text/plain": [
       "<class 'statsmodels.iolib.summary.Summary'>\n",
       "\"\"\"\n",
       "                            OLS Regression Results                            \n",
       "==============================================================================\n",
       "Dep. Variable:                  sleep   R-squared:                       0.131\n",
       "Model:                            OLS   Adj. R-squared:                  0.124\n",
       "No. Observations:                 706   F-statistic:                     17.62\n",
       "Covariance Type:            nonrobust   Prob (F-statistic):           4.68e-19\n",
       "===============================================================================\n",
       "                  coef    std err          t      P>|t|      [0.025      0.975]\n",
       "-------------------------------------------------------------------------------\n",
       "Intercept    3638.6263    218.595     16.645      0.000    3209.444    4067.809\n",
       "totwrk         -0.1682      0.018     -9.284      0.000      -0.204      -0.133\n",
       "age            -6.1651     11.176     -0.552      0.581     -28.107      15.777\n",
       "I(age ** 2)     0.1083      0.134      0.811      0.417      -0.154       0.371\n",
       "male           90.9715     34.210      2.659      0.008      23.804     158.139\n",
       "smsa          -56.6990     32.931     -1.722      0.086    -121.355       7.957\n",
       "south          97.6396     41.752      2.339      0.020      15.666     179.613\n",
       "===============================================================================\n",
       "\n",
       "Notes:\n",
       "[1] Standard Errors assume that the covariance matrix of the errors is correctly specified.\n",
       "[2] The condition number is large, 3.96e+04. This might indicate that there are\n",
       "strong multicollinearity or other numerical problems.\n",
       "\"\"\""
      ]
     },
     "execution_count": 2,
     "metadata": {},
     "output_type": "execute_result"
    }
   ],
   "source": [
    "sleep_df = pd.read_csv('https://raw.githubusercontent.com/artamonoff/Econometrica/master/python-notebooks/data-csv/sleep75.csv')\n",
    "mod = smf.ols(formula='sleep~totwrk+age+I(age**2)+male+smsa+south', data=sleep_df).fit()\n",
    "mod.summary(slim=True)"
   ]
  },
  {
   "attachments": {},
   "cell_type": "markdown",
   "id": "5c109b8f",
   "metadata": {},
   "source": [
    "## Диагностические тесты на гетероскедастичность\n",
    "Выбререм уровень значимости 1%\n",
    "\n",
    "Для тестрования нужна матрица наблюдений регрессоров модели. Её можно получить как `mod.model.exog`\n",
    "\n",
    "BP-тест "
   ]
  },
  {
   "cell_type": "code",
   "execution_count": 3,
   "id": "3a1fb31d",
   "metadata": {},
   "outputs": [
    {
     "data": {
      "text/plain": [
       "(8.310032306323215, 0.21625801124844152)"
      ]
     },
     "execution_count": 3,
     "metadata": {},
     "output_type": "execute_result"
    }
   ],
   "source": [
    "BP_stat, p_val, F_stat, p_val_F = sms.het_breuschpagan(resid=mod.resid, exog_het=mod.model.exog)\n",
    "BP_stat, p_val"
   ]
  },
  {
   "attachments": {},
   "cell_type": "markdown",
   "id": "03c50951",
   "metadata": {},
   "source": [
    "1%-критическое значение распределения $\\chi^2_{df}$"
   ]
  },
  {
   "cell_type": "code",
   "execution_count": 4,
   "id": "f014954d",
   "metadata": {},
   "outputs": [
    {
     "data": {
      "text/plain": [
       "16.811893829770927"
      ]
     },
     "execution_count": 4,
     "metadata": {},
     "output_type": "execute_result"
    }
   ],
   "source": [
    "chi2.ppf(q=1-0.01, df=mod.df_model)"
   ]
  },
  {
   "attachments": {},
   "cell_type": "markdown",
   "id": "4c7181f4",
   "metadata": {},
   "source": [
    "White-тест"
   ]
  },
  {
   "cell_type": "code",
   "execution_count": 5,
   "id": "8f3f1974",
   "metadata": {},
   "outputs": [
    {
     "data": {
      "text/plain": [
       "(35.33104965768161, 0.04820736979373692)"
      ]
     },
     "execution_count": 5,
     "metadata": {},
     "output_type": "execute_result"
    }
   ],
   "source": [
    "test_stat, p_val, F_stat, pval_f = sms.het_white(resid=mod.resid, exog=mod.model.exog)\n",
    "test_stat, p_val"
   ]
  }
 ],
 "metadata": {
  "kernelspec": {
   "display_name": "Python 3 (ipykernel)",
   "language": "python",
   "name": "python3"
  },
  "language_info": {
   "codemirror_mode": {
    "name": "ipython",
    "version": 3
   },
   "file_extension": ".py",
   "mimetype": "text/x-python",
   "name": "python",
   "nbconvert_exporter": "python",
   "pygments_lexer": "ipython3",
   "version": "3.9.16"
  }
 },
 "nbformat": 4,
 "nbformat_minor": 5
}
