{
 "cells": [
  {
   "cell_type": "markdown",
   "id": "4d2529d0",
   "metadata": {},
   "source": [
    "# МУХА\n",
    "\n",
    "> Бык с плугом на покой тащился по трудах \\\n",
    "А Муха у него сидела на рогах,\\\n",
    "И Муху же они дорогой повстречали.\\\n",
    "«Откуда ты, сестра?» — от этой был вопрос.\\\n",
    "А та, поднявши нос,\\\n",
    "В ответ ей говорит: «Откуда? — мы пахали!»\\\n",
    "От басни завсегда\\\n",
    "Нечаянно дойдешь до были.\\\n",
    "Случалось ли подчас вам слышать, господа:\\\n",
    "«Мы сбили! Мы решили!»\\\n",
    "*(И.И. Дмитриев)*"
   ]
  },
  {
   "cell_type": "code",
   "execution_count": null,
   "id": "b7009f02",
   "metadata": {},
   "outputs": [],
   "source": [
    "import numpy as np\n",
    "import pandas as pd\n",
    "import matplotlib.pyplot as plt\n",
    "import statsmodels.formula.api as smf"
   ]
  },
  {
   "cell_type": "code",
   "execution_count": null,
   "id": "4db79b24",
   "metadata": {},
   "outputs": [],
   "source": [
    "df = pd.read_csv('https://raw.githubusercontent.com/ryupepa/Econometrica/master/python-notebooks/data-csv/sleep75.csv')\n",
    "df['totwrk2_10000'] = df['totwrk']**2/10000"
   ]
  },
  {
   "cell_type": "code",
   "execution_count": null,
   "id": "50993647",
   "metadata": {},
   "outputs": [],
   "source": [
    "model = smf.ols(data = df , formula = 'sleep~I(totwrk/100)+totwrk2_10000 +  age + smsa + male + south').fit()\n",
    "model_1 = smf.ols(data = df , formula = 'I(totwrk/100)~totwrk2_10000 +  age + smsa + male + south').fit()\n",
    "model_2 = smf.ols(data = df , formula = 'totwrk2_10000~ I(totwrk/100)+  age + smsa + male + south').fit()\n",
    "model_3 = smf.ols(data = df , formula = 'male~I(totwrk/100)+ I(totwrk/100)+  age + smsa  + south').fit()\n",
    "model_1.params.round(3)"
   ]
  },
  {
   "cell_type": "code",
   "execution_count": null,
   "id": "e1737d58",
   "metadata": {},
   "outputs": [],
   "source": [
    "model_2.params.round(3)"
   ]
  },
  {
   "cell_type": "code",
   "execution_count": null,
   "id": "546fb13b",
   "metadata": {},
   "outputs": [],
   "source": [
    "model_3.params.round(3)"
   ]
  },
  {
   "cell_type": "code",
   "execution_count": null,
   "id": "17ce964d",
   "metadata": {},
   "outputs": [],
   "source": [
    "model.params"
   ]
  },
  {
   "cell_type": "code",
   "execution_count": null,
   "id": "d8b911f3",
   "metadata": {},
   "outputs": [],
   "source": [
    "model.rsquared"
   ]
  },
  {
   "cell_type": "code",
   "execution_count": null,
   "id": "59661a15",
   "metadata": {},
   "outputs": [],
   "source": [
    "VIF_1 = 1/(1 - model_1.rsquared.round(3))\n",
    "VIF_1.round(3)"
   ]
  },
  {
   "cell_type": "code",
   "execution_count": null,
   "id": "4a901e38",
   "metadata": {},
   "outputs": [],
   "source": [
    "VIF_2 = 1/(1 - model_2.rsquared.round(3))\n",
    "VIF_2.round(3)"
   ]
  },
  {
   "cell_type": "code",
   "execution_count": null,
   "id": "6ec0e424",
   "metadata": {},
   "outputs": [],
   "source": [
    "VIF_3 = 1/(1 - model_3.rsquared.round(3))\n",
    "VIF_3.round(3)"
   ]
  },
  {
   "cell_type": "markdown",
   "id": "d8c38084",
   "metadata": {},
   "source": [
    "## Рассмотрим первую модель в деталях"
   ]
  },
  {
   "cell_type": "code",
   "execution_count": null,
   "id": "fa24069a",
   "metadata": {},
   "outputs": [],
   "source": [
    "X = df[['totwrk2_10000' , 'age',  'smsa', 'male', 'south']]\n",
    "X"
   ]
  },
  {
   "attachments": {},
   "cell_type": "markdown",
   "id": "4448aff7",
   "metadata": {},
   "source": [
    "## Формула для вычисления коэффициентов регрессии известна\n",
    "## $$\\hat{\\beta} = (X' X)^{-1}(X')Y$$"
   ]
  },
  {
   "cell_type": "code",
   "execution_count": null,
   "id": "a93f4dc3",
   "metadata": {},
   "outputs": [],
   "source": [
    "np.linalg.inv(X.T@X).round(2)"
   ]
  },
  {
   "cell_type": "code",
   "execution_count": null,
   "id": "9dc3b9a6",
   "metadata": {},
   "outputs": [],
   "source": [
    "np.linalg.det(np.linalg.inv(X.T@X).round(5))"
   ]
  },
  {
   "cell_type": "markdown",
   "id": "b3eb6202",
   "metadata": {},
   "source": [
    "## <span style=\"color:red\"> Вывод.</span>\n",
    "## Из курса линейной алгебры известно, что определитель матрицы равен нулю, если её столбцы/строки являются линейно зависимыми. Равенство нулю определителя матрицы $(X' X)^{-1}$ указывает на то, что в матрице есть зависимые параметры. В конкретно нашем примере это параметры $totwrk^2/1000$ и $totwrk/100$."
   ]
  },
  {
   "cell_type": "code",
   "execution_count": null,
   "id": "b858dc8a",
   "metadata": {},
   "outputs": [],
   "source": []
  }
 ],
 "metadata": {
  "kernelspec": {
   "display_name": "Python 3",
   "language": "python",
   "name": "python3"
  },
  "language_info": {
   "codemirror_mode": {
    "name": "ipython",
    "version": 3
   },
   "file_extension": ".py",
   "mimetype": "text/x-python",
   "name": "python",
   "nbconvert_exporter": "python",
   "pygments_lexer": "ipython3",
   "version": "3.8.8"
  }
 },
 "nbformat": 4,
 "nbformat_minor": 5
}
