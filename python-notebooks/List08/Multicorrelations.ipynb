{
 "cells": [
  {
   "cell_type": "markdown",
   "id": "4d2529d0",
   "metadata": {},
   "source": [
    "# МУХА\n",
    "\n",
    "> Бык с плугом на покой тащился по трудах \\\n",
    "А Муха у него сидела на рогах,\\\n",
    "И Муху же они дорогой повстречали.\\\n",
    "«Откуда ты, сестра?» — от этой был вопрос.\\\n",
    "А та, поднявши нос,\\\n",
    "В ответ ей говорит: «Откуда? — мы пахали!»\\\n",
    "От басни завсегда\\\n",
    "Нечаянно дойдешь до были.\\\n",
    "Случалось ли подчас вам слышать, господа:\\\n",
    "«Мы сбили! Мы решили!»\\\n",
    "*(И.И. Дмитриев)*"
   ]
  },
  {
   "cell_type": "code",
   "execution_count": 1,
   "id": "b7009f02",
   "metadata": {},
   "outputs": [],
   "source": [
    "import numpy as np\n",
    "import pandas as pd\n",
    "import matplotlib.pyplot as plt\n",
    "import statsmodels.formula.api as smf"
   ]
  },
  {
   "cell_type": "code",
   "execution_count": 2,
   "id": "4db79b24",
   "metadata": {},
   "outputs": [],
   "source": [
    "df = pd.read_csv('https://raw.githubusercontent.com/ryupepa/Econometrica/master/python-notebooks/data-csv/sleep75.csv')\n",
    "df['totwrk2_10000'] = df['totwrk']**2/10000"
   ]
  },
  {
   "cell_type": "code",
   "execution_count": 3,
   "id": "50993647",
   "metadata": {},
   "outputs": [
    {
     "data": {
      "text/plain": [
       "Intercept        9.003\n",
       "totwrk2_10000    0.021\n",
       "age             -0.008\n",
       "smsa             0.357\n",
       "male             1.071\n",
       "south            0.989\n",
       "dtype: float64"
      ]
     },
     "execution_count": 3,
     "metadata": {},
     "output_type": "execute_result"
    }
   ],
   "source": [
    "model = smf.ols(data = df , formula = 'sleep~I(totwrk/100)+totwrk2_10000 +  age + smsa + male + south').fit()\n",
    "model_1 = smf.ols(data = df , formula = 'I(totwrk/100)~totwrk2_10000 +  age + smsa + male + south').fit()\n",
    "model_2 = smf.ols(data = df , formula = 'totwrk2_10000~ I(totwrk/100)+  age + smsa + male + south').fit()\n",
    "model_3 = smf.ols(data = df , formula = 'male~I(totwrk/100)+ I(totwrk/100)+  age + smsa  + south').fit()\n",
    "model_1.params.round(3)"
   ]
  },
  {
   "cell_type": "code",
   "execution_count": 4,
   "id": "e1737d58",
   "metadata": {},
   "outputs": [
    {
     "data": {
      "text/plain": [
       "Intercept         -296.595\n",
       "I(totwrk / 100)     40.125\n",
       "age                  0.038\n",
       "smsa               -19.824\n",
       "male                -2.883\n",
       "south              -37.165\n",
       "dtype: float64"
      ]
     },
     "execution_count": 4,
     "metadata": {},
     "output_type": "execute_result"
    }
   ],
   "source": [
    "model_2.params.round(3)"
   ]
  },
  {
   "cell_type": "code",
   "execution_count": 5,
   "id": "546fb13b",
   "metadata": {},
   "outputs": [
    {
     "data": {
      "text/plain": [
       "Intercept          0.067\n",
       "I(totwrk / 100)    0.020\n",
       "age                0.002\n",
       "smsa               0.008\n",
       "south             -0.065\n",
       "dtype: float64"
      ]
     },
     "execution_count": 5,
     "metadata": {},
     "output_type": "execute_result"
    }
   ],
   "source": [
    "model_3.params.round(3)"
   ]
  },
  {
   "cell_type": "code",
   "execution_count": 6,
   "id": "17ce964d",
   "metadata": {},
   "outputs": [
    {
     "data": {
      "text/plain": [
       "Intercept          3414.144351\n",
       "I(totwrk / 100)      -9.403265\n",
       "totwrk2_10000        -0.189875\n",
       "age                   2.838689\n",
       "smsa                -60.523328\n",
       "male                 90.709723\n",
       "south                92.451937\n",
       "dtype: float64"
      ]
     },
     "execution_count": 6,
     "metadata": {},
     "output_type": "execute_result"
    }
   ],
   "source": [
    "model.params"
   ]
  },
  {
   "cell_type": "code",
   "execution_count": 7,
   "id": "d8b911f3",
   "metadata": {},
   "outputs": [
    {
     "data": {
      "text/plain": [
       "0.1341373804431093"
      ]
     },
     "execution_count": 7,
     "metadata": {},
     "output_type": "execute_result"
    }
   ],
   "source": [
    "model.rsquared"
   ]
  },
  {
   "cell_type": "code",
   "execution_count": 8,
   "id": "59661a15",
   "metadata": {},
   "outputs": [
    {
     "data": {
      "text/plain": [
       "8.475"
      ]
     },
     "execution_count": 8,
     "metadata": {},
     "output_type": "execute_result"
    }
   ],
   "source": [
    "VIF_1 = 1/(1 - model_1.rsquared.round(3))\n",
    "VIF_1.round(3)"
   ]
  },
  {
   "cell_type": "code",
   "execution_count": 9,
   "id": "4a901e38",
   "metadata": {},
   "outputs": [
    {
     "data": {
      "text/plain": [
       "8.264"
      ]
     },
     "execution_count": 9,
     "metadata": {},
     "output_type": "execute_result"
    }
   ],
   "source": [
    "VIF_2 = 1/(1 - model_2.rsquared.round(3))\n",
    "VIF_2.round(3)"
   ]
  },
  {
   "cell_type": "code",
   "execution_count": 10,
   "id": "6ec0e424",
   "metadata": {},
   "outputs": [
    {
     "data": {
      "text/plain": [
       "1.172"
      ]
     },
     "execution_count": 10,
     "metadata": {},
     "output_type": "execute_result"
    }
   ],
   "source": [
    "VIF_3 = 1/(1 - model_3.rsquared.round(3))\n",
    "VIF_3.round(3)"
   ]
  },
  {
   "cell_type": "markdown",
   "id": "d8c38084",
   "metadata": {},
   "source": [
    "## Рассмотрим первую модель в деталях"
   ]
  },
  {
   "cell_type": "code",
   "execution_count": 11,
   "id": "fa24069a",
   "metadata": {},
   "outputs": [
    {
     "data": {
      "text/html": [
       "<div>\n",
       "<style scoped>\n",
       "    .dataframe tbody tr th:only-of-type {\n",
       "        vertical-align: middle;\n",
       "    }\n",
       "\n",
       "    .dataframe tbody tr th {\n",
       "        vertical-align: top;\n",
       "    }\n",
       "\n",
       "    .dataframe thead th {\n",
       "        text-align: right;\n",
       "    }\n",
       "</style>\n",
       "<table border=\"1\" class=\"dataframe\">\n",
       "  <thead>\n",
       "    <tr style=\"text-align: right;\">\n",
       "      <th></th>\n",
       "      <th>totwrk2_10000</th>\n",
       "      <th>age</th>\n",
       "      <th>smsa</th>\n",
       "      <th>male</th>\n",
       "      <th>south</th>\n",
       "    </tr>\n",
       "  </thead>\n",
       "  <tbody>\n",
       "    <tr>\n",
       "      <th>0</th>\n",
       "      <td>1181.9844</td>\n",
       "      <td>32</td>\n",
       "      <td>0</td>\n",
       "      <td>1</td>\n",
       "      <td>0</td>\n",
       "    </tr>\n",
       "    <tr>\n",
       "      <th>1</th>\n",
       "      <td>2520.0400</td>\n",
       "      <td>31</td>\n",
       "      <td>0</td>\n",
       "      <td>1</td>\n",
       "      <td>1</td>\n",
       "    </tr>\n",
       "    <tr>\n",
       "      <th>2</th>\n",
       "      <td>792.4225</td>\n",
       "      <td>44</td>\n",
       "      <td>1</td>\n",
       "      <td>1</td>\n",
       "      <td>0</td>\n",
       "    </tr>\n",
       "    <tr>\n",
       "      <th>3</th>\n",
       "      <td>1433.3796</td>\n",
       "      <td>30</td>\n",
       "      <td>0</td>\n",
       "      <td>0</td>\n",
       "      <td>0</td>\n",
       "    </tr>\n",
       "    <tr>\n",
       "      <th>4</th>\n",
       "      <td>665.6400</td>\n",
       "      <td>64</td>\n",
       "      <td>0</td>\n",
       "      <td>1</td>\n",
       "      <td>0</td>\n",
       "    </tr>\n",
       "    <tr>\n",
       "      <th>...</th>\n",
       "      <td>...</td>\n",
       "      <td>...</td>\n",
       "      <td>...</td>\n",
       "      <td>...</td>\n",
       "      <td>...</td>\n",
       "    </tr>\n",
       "    <tr>\n",
       "      <th>701</th>\n",
       "      <td>410.4676</td>\n",
       "      <td>45</td>\n",
       "      <td>1</td>\n",
       "      <td>0</td>\n",
       "      <td>0</td>\n",
       "    </tr>\n",
       "    <tr>\n",
       "      <th>702</th>\n",
       "      <td>45.5625</td>\n",
       "      <td>34</td>\n",
       "      <td>0</td>\n",
       "      <td>1</td>\n",
       "      <td>0</td>\n",
       "    </tr>\n",
       "    <tr>\n",
       "      <th>703</th>\n",
       "      <td>342.6201</td>\n",
       "      <td>37</td>\n",
       "      <td>0</td>\n",
       "      <td>0</td>\n",
       "      <td>0</td>\n",
       "    </tr>\n",
       "    <tr>\n",
       "      <th>704</th>\n",
       "      <td>384.5521</td>\n",
       "      <td>54</td>\n",
       "      <td>0</td>\n",
       "      <td>0</td>\n",
       "      <td>1</td>\n",
       "    </tr>\n",
       "    <tr>\n",
       "      <th>705</th>\n",
       "      <td>558.3769</td>\n",
       "      <td>30</td>\n",
       "      <td>0</td>\n",
       "      <td>0</td>\n",
       "      <td>1</td>\n",
       "    </tr>\n",
       "  </tbody>\n",
       "</table>\n",
       "<p>706 rows × 5 columns</p>\n",
       "</div>"
      ],
      "text/plain": [
       "     totwrk2_10000  age  smsa  male  south\n",
       "0        1181.9844   32     0     1      0\n",
       "1        2520.0400   31     0     1      1\n",
       "2         792.4225   44     1     1      0\n",
       "3        1433.3796   30     0     0      0\n",
       "4         665.6400   64     0     1      0\n",
       "..             ...  ...   ...   ...    ...\n",
       "701       410.4676   45     1     0      0\n",
       "702        45.5625   34     0     1      0\n",
       "703       342.6201   37     0     0      0\n",
       "704       384.5521   54     0     0      1\n",
       "705       558.3769   30     0     0      1\n",
       "\n",
       "[706 rows x 5 columns]"
      ]
     },
     "execution_count": 11,
     "metadata": {},
     "output_type": "execute_result"
    }
   ],
   "source": [
    "X = df[['totwrk2_10000' , 'age',  'smsa', 'male', 'south']]\n",
    "X"
   ]
  },
  {
   "attachments": {},
   "cell_type": "markdown",
   "id": "4448aff7",
   "metadata": {},
   "source": [
    "## Формула для вычисления коэффициентов регрессии известна\n",
    "## $$\\hat{\\beta} = (X' X)^{-1}(X')Y$$"
   ]
  },
  {
   "cell_type": "code",
   "execution_count": 12,
   "id": "a93f4dc3",
   "metadata": {},
   "outputs": [
    {
     "data": {
      "text/plain": [
       "array([[ 0.  , -0.  , -0.  , -0.  , -0.  ],\n",
       "       [-0.  ,  0.  , -0.  , -0.  , -0.  ],\n",
       "       [-0.  , -0.  ,  0.01, -0.  ,  0.  ],\n",
       "       [-0.  , -0.  , -0.  ,  0.01,  0.  ],\n",
       "       [-0.  , -0.  ,  0.  ,  0.  ,  0.01]])"
      ]
     },
     "execution_count": 12,
     "metadata": {},
     "output_type": "execute_result"
    }
   ],
   "source": [
    "np.linalg.inv(X.T@X).round(2)"
   ]
  },
  {
   "cell_type": "code",
   "execution_count": 13,
   "id": "9dc3b9a6",
   "metadata": {},
   "outputs": [
    {
     "data": {
      "text/plain": [
       "0.0"
      ]
     },
     "execution_count": 13,
     "metadata": {},
     "output_type": "execute_result"
    }
   ],
   "source": [
    "np.linalg.det(np.linalg.inv(X.T@X).round(5))"
   ]
  },
  {
   "cell_type": "markdown",
   "id": "b3eb6202",
   "metadata": {},
   "source": [
    "## <span style=\"color:red\"> Вывод.</span>\n",
    "## Из курса линейной алгебры известно, что определитель матрицы равен нулю, если её столбцы/строки являются линейно зависимыми. Равенство нулю определителя матрицы $(X' X)^{-1}$ указывает на то, что в матрице есть зависимые параметры. В конкретно нашем примере это параметры $totwrk^2/1000$ и $totwrk/100$."
   ]
  },
  {
   "cell_type": "code",
   "execution_count": null,
   "id": "b858dc8a",
   "metadata": {},
   "outputs": [],
   "source": []
  }
 ],
 "metadata": {
  "kernelspec": {
   "display_name": "Python 3",
   "language": "python",
   "name": "python3"
  },
  "language_info": {
   "codemirror_mode": {
    "name": "ipython",
    "version": 3
   },
   "file_extension": ".py",
   "mimetype": "text/x-python",
   "name": "python",
   "nbconvert_exporter": "python",
   "pygments_lexer": "ipython3",
   "version": "3.8.8"
  }
 },
 "nbformat": 4,
 "nbformat_minor": 5
}
