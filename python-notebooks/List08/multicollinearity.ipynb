{
 "cells": [
  {
   "cell_type": "markdown",
   "id": "4260722c",
   "metadata": {},
   "source": [
    "# Мультиколлинеарность\n",
    "Идентификация основана на\n",
    "\n",
    "* $VIF_j=\\frac{1}{1-R^2_j}$\n",
    "* корреляциях между регрессорами"
   ]
  },
  {
   "cell_type": "code",
   "execution_count": 45,
   "id": "6b4cfb8b",
   "metadata": {},
   "outputs": [],
   "source": [
    "import pandas as pd\n",
    "import numpy as np\n",
    "import statsmodels.formula.api as smf\n",
    "import statsmodels.api as sm\n",
    "from statsmodels.iolib.summary2 import summary_params # вывод результатов тестирования\n",
    "from statsmodels.stats.outliers_influence import variance_inflation_factor as VIF# VIF\n",
    "import patsy # матрицы регрессионного дизайна\n",
    "import seaborn as sns # Визуализация"
   ]
  },
  {
   "cell_type": "markdown",
   "id": "abc95c7c",
   "metadata": {},
   "source": [
    "## Sleep equation\n",
    "Для набора данных `sleep75` рассмотрим линейную регрессию **sleep на totwrk/100, totwrk^2/10000, age, smsa, male, south**.\n",
    "\n",
    "Результаты подгонки и t-тестя для коэффициентов"
   ]
  },
  {
   "cell_type": "code",
   "execution_count": 46,
   "id": "d172b1dc",
   "metadata": {},
   "outputs": [
    {
     "data": {
      "text/html": [
       "<div>\n",
       "<style scoped>\n",
       "    .dataframe tbody tr th:only-of-type {\n",
       "        vertical-align: middle;\n",
       "    }\n",
       "\n",
       "    .dataframe tbody tr th {\n",
       "        vertical-align: top;\n",
       "    }\n",
       "\n",
       "    .dataframe thead th {\n",
       "        text-align: right;\n",
       "    }\n",
       "</style>\n",
       "<table border=\"1\" class=\"dataframe\">\n",
       "  <thead>\n",
       "    <tr style=\"text-align: right;\">\n",
       "      <th></th>\n",
       "      <th>Coef.</th>\n",
       "      <th>Std.Err.</th>\n",
       "      <th>t</th>\n",
       "      <th>P&gt;|t|</th>\n",
       "      <th>[0.025</th>\n",
       "      <th>0.975]</th>\n",
       "    </tr>\n",
       "  </thead>\n",
       "  <tbody>\n",
       "    <tr>\n",
       "      <th>Intercept</th>\n",
       "      <td>3414.144351</td>\n",
       "      <td>76.730347</td>\n",
       "      <td>44.495359</td>\n",
       "      <td>4.193054e-206</td>\n",
       "      <td>3263.494784</td>\n",
       "      <td>3564.793919</td>\n",
       "    </tr>\n",
       "    <tr>\n",
       "      <th>I(totwrk / 100)</th>\n",
       "      <td>-9.403265</td>\n",
       "      <td>4.807369</td>\n",
       "      <td>-1.956011</td>\n",
       "      <td>5.086179e-02</td>\n",
       "      <td>-18.841878</td>\n",
       "      <td>0.035347</td>\n",
       "    </tr>\n",
       "    <tr>\n",
       "      <th>I(totwrk ** 2 / 10000)</th>\n",
       "      <td>-0.189875</td>\n",
       "      <td>0.111188</td>\n",
       "      <td>-1.707691</td>\n",
       "      <td>8.813776e-02</td>\n",
       "      <td>-0.408177</td>\n",
       "      <td>0.028428</td>\n",
       "    </tr>\n",
       "    <tr>\n",
       "      <th>age</th>\n",
       "      <td>2.838689</td>\n",
       "      <td>1.383128</td>\n",
       "      <td>2.052369</td>\n",
       "      <td>4.050571e-02</td>\n",
       "      <td>0.123105</td>\n",
       "      <td>5.554273</td>\n",
       "    </tr>\n",
       "    <tr>\n",
       "      <th>smsa</th>\n",
       "      <td>-60.523328</td>\n",
       "      <td>32.951843</td>\n",
       "      <td>-1.836721</td>\n",
       "      <td>6.667560e-02</td>\n",
       "      <td>-125.219776</td>\n",
       "      <td>4.173120</td>\n",
       "    </tr>\n",
       "    <tr>\n",
       "      <th>male</th>\n",
       "      <td>90.709723</td>\n",
       "      <td>34.155108</td>\n",
       "      <td>2.655817</td>\n",
       "      <td>8.091988e-03</td>\n",
       "      <td>23.650828</td>\n",
       "      <td>157.768617</td>\n",
       "    </tr>\n",
       "    <tr>\n",
       "      <th>south</th>\n",
       "      <td>92.451937</td>\n",
       "      <td>41.825526</td>\n",
       "      <td>2.210419</td>\n",
       "      <td>2.739925e-02</td>\n",
       "      <td>10.333222</td>\n",
       "      <td>174.570652</td>\n",
       "    </tr>\n",
       "  </tbody>\n",
       "</table>\n",
       "</div>"
      ],
      "text/plain": [
       "                              Coef.   Std.Err.          t          P>|t|  \\\n",
       "Intercept               3414.144351  76.730347  44.495359  4.193054e-206   \n",
       "I(totwrk / 100)           -9.403265   4.807369  -1.956011   5.086179e-02   \n",
       "I(totwrk ** 2 / 10000)    -0.189875   0.111188  -1.707691   8.813776e-02   \n",
       "age                        2.838689   1.383128   2.052369   4.050571e-02   \n",
       "smsa                     -60.523328  32.951843  -1.836721   6.667560e-02   \n",
       "male                      90.709723  34.155108   2.655817   8.091988e-03   \n",
       "south                     92.451937  41.825526   2.210419   2.739925e-02   \n",
       "\n",
       "                             [0.025       0.975]  \n",
       "Intercept               3263.494784  3564.793919  \n",
       "I(totwrk / 100)          -18.841878     0.035347  \n",
       "I(totwrk ** 2 / 10000)    -0.408177     0.028428  \n",
       "age                        0.123105     5.554273  \n",
       "smsa                    -125.219776     4.173120  \n",
       "male                      23.650828   157.768617  \n",
       "south                     10.333222   174.570652  "
      ]
     },
     "execution_count": 46,
     "metadata": {},
     "output_type": "execute_result"
    }
   ],
   "source": [
    "sleep_df = pd.read_csv('https://raw.githubusercontent.com/artamonoff/Econometrica/master/python-notebooks/data-csv/sleep75.csv')\n",
    "specification = 'sleep~I(totwrk/100)+I(totwrk**2/10000)+age+smsa+male+south'\n",
    "mod = smf.ols(formula=specification, data=sleep_df).fit()\n",
    "summary_params(mod)"
   ]
  },
  {
   "cell_type": "code",
   "execution_count": 47,
   "id": "c5ae8475",
   "metadata": {},
   "outputs": [
    {
     "data": {
      "text/html": [
       "<div>\n",
       "<style scoped>\n",
       "    .dataframe tbody tr th:only-of-type {\n",
       "        vertical-align: middle;\n",
       "    }\n",
       "\n",
       "    .dataframe tbody tr th {\n",
       "        vertical-align: top;\n",
       "    }\n",
       "\n",
       "    .dataframe thead th {\n",
       "        text-align: right;\n",
       "    }\n",
       "</style>\n",
       "<table border=\"1\" class=\"dataframe\">\n",
       "  <thead>\n",
       "    <tr style=\"text-align: right;\">\n",
       "      <th></th>\n",
       "      <th>Intercept</th>\n",
       "      <th>I(totwrk / 100)</th>\n",
       "      <th>I(totwrk ** 2 / 10000)</th>\n",
       "      <th>age</th>\n",
       "      <th>smsa</th>\n",
       "      <th>male</th>\n",
       "      <th>south</th>\n",
       "    </tr>\n",
       "  </thead>\n",
       "  <tbody>\n",
       "    <tr>\n",
       "      <th>0</th>\n",
       "      <td>1.0</td>\n",
       "      <td>34.38</td>\n",
       "      <td>1181.9844</td>\n",
       "      <td>32.0</td>\n",
       "      <td>0.0</td>\n",
       "      <td>1.0</td>\n",
       "      <td>0.0</td>\n",
       "    </tr>\n",
       "    <tr>\n",
       "      <th>1</th>\n",
       "      <td>1.0</td>\n",
       "      <td>50.20</td>\n",
       "      <td>2520.0400</td>\n",
       "      <td>31.0</td>\n",
       "      <td>0.0</td>\n",
       "      <td>1.0</td>\n",
       "      <td>1.0</td>\n",
       "    </tr>\n",
       "    <tr>\n",
       "      <th>2</th>\n",
       "      <td>1.0</td>\n",
       "      <td>28.15</td>\n",
       "      <td>792.4225</td>\n",
       "      <td>44.0</td>\n",
       "      <td>1.0</td>\n",
       "      <td>1.0</td>\n",
       "      <td>0.0</td>\n",
       "    </tr>\n",
       "    <tr>\n",
       "      <th>3</th>\n",
       "      <td>1.0</td>\n",
       "      <td>37.86</td>\n",
       "      <td>1433.3796</td>\n",
       "      <td>30.0</td>\n",
       "      <td>0.0</td>\n",
       "      <td>0.0</td>\n",
       "      <td>0.0</td>\n",
       "    </tr>\n",
       "    <tr>\n",
       "      <th>4</th>\n",
       "      <td>1.0</td>\n",
       "      <td>25.80</td>\n",
       "      <td>665.6400</td>\n",
       "      <td>64.0</td>\n",
       "      <td>0.0</td>\n",
       "      <td>1.0</td>\n",
       "      <td>0.0</td>\n",
       "    </tr>\n",
       "  </tbody>\n",
       "</table>\n",
       "</div>"
      ],
      "text/plain": [
       "   Intercept  I(totwrk / 100)  I(totwrk ** 2 / 10000)   age  smsa  male  south\n",
       "0        1.0            34.38               1181.9844  32.0   0.0   1.0    0.0\n",
       "1        1.0            50.20               2520.0400  31.0   0.0   1.0    1.0\n",
       "2        1.0            28.15                792.4225  44.0   1.0   1.0    0.0\n",
       "3        1.0            37.86               1433.3796  30.0   0.0   0.0    0.0\n",
       "4        1.0            25.80                665.6400  64.0   0.0   1.0    0.0"
      ]
     },
     "execution_count": 47,
     "metadata": {},
     "output_type": "execute_result"
    }
   ],
   "source": [
    "# Матрицы регрессионного дизайна\n",
    "y, X = patsy.dmatrices(specification, sleep_df, return_type='dataframe')\n",
    "X.head()"
   ]
  },
  {
   "cell_type": "markdown",
   "id": "7ad1c80b",
   "metadata": {},
   "source": [
    "### Корреляции между регрессорами"
   ]
  },
  {
   "cell_type": "code",
   "execution_count": 48,
   "id": "c6321a72",
   "metadata": {},
   "outputs": [
    {
     "data": {
      "text/html": [
       "<div>\n",
       "<style scoped>\n",
       "    .dataframe tbody tr th:only-of-type {\n",
       "        vertical-align: middle;\n",
       "    }\n",
       "\n",
       "    .dataframe tbody tr th {\n",
       "        vertical-align: top;\n",
       "    }\n",
       "\n",
       "    .dataframe thead th {\n",
       "        text-align: right;\n",
       "    }\n",
       "</style>\n",
       "<table border=\"1\" class=\"dataframe\">\n",
       "  <thead>\n",
       "    <tr style=\"text-align: right;\">\n",
       "      <th></th>\n",
       "      <th>I(totwrk / 100)</th>\n",
       "      <th>I(totwrk ** 2 / 10000)</th>\n",
       "      <th>age</th>\n",
       "      <th>smsa</th>\n",
       "      <th>male</th>\n",
       "      <th>south</th>\n",
       "    </tr>\n",
       "  </thead>\n",
       "  <tbody>\n",
       "    <tr>\n",
       "      <th>I(totwrk / 100)</th>\n",
       "      <td>1.000</td>\n",
       "      <td>0.937</td>\n",
       "      <td>-0.050</td>\n",
       "      <td>-0.038</td>\n",
       "      <td>0.376</td>\n",
       "      <td>0.051</td>\n",
       "    </tr>\n",
       "    <tr>\n",
       "      <th>I(totwrk ** 2 / 10000)</th>\n",
       "      <td>0.937</td>\n",
       "      <td>1.000</td>\n",
       "      <td>-0.046</td>\n",
       "      <td>-0.051</td>\n",
       "      <td>0.351</td>\n",
       "      <td>0.018</td>\n",
       "    </tr>\n",
       "    <tr>\n",
       "      <th>age</th>\n",
       "      <td>-0.050</td>\n",
       "      <td>-0.046</td>\n",
       "      <td>1.000</td>\n",
       "      <td>0.025</td>\n",
       "      <td>0.032</td>\n",
       "      <td>-0.018</td>\n",
       "    </tr>\n",
       "    <tr>\n",
       "      <th>smsa</th>\n",
       "      <td>-0.038</td>\n",
       "      <td>-0.051</td>\n",
       "      <td>0.025</td>\n",
       "      <td>1.000</td>\n",
       "      <td>0.007</td>\n",
       "      <td>-0.238</td>\n",
       "    </tr>\n",
       "    <tr>\n",
       "      <th>male</th>\n",
       "      <td>0.376</td>\n",
       "      <td>0.351</td>\n",
       "      <td>0.032</td>\n",
       "      <td>0.007</td>\n",
       "      <td>1.000</td>\n",
       "      <td>-0.034</td>\n",
       "    </tr>\n",
       "    <tr>\n",
       "      <th>south</th>\n",
       "      <td>0.051</td>\n",
       "      <td>0.018</td>\n",
       "      <td>-0.018</td>\n",
       "      <td>-0.238</td>\n",
       "      <td>-0.034</td>\n",
       "      <td>1.000</td>\n",
       "    </tr>\n",
       "  </tbody>\n",
       "</table>\n",
       "</div>"
      ],
      "text/plain": [
       "                        I(totwrk / 100)  I(totwrk ** 2 / 10000)    age   smsa  \\\n",
       "I(totwrk / 100)                   1.000                   0.937 -0.050 -0.038   \n",
       "I(totwrk ** 2 / 10000)            0.937                   1.000 -0.046 -0.051   \n",
       "age                              -0.050                  -0.046  1.000  0.025   \n",
       "smsa                             -0.038                  -0.051  0.025  1.000   \n",
       "male                              0.376                   0.351  0.032  0.007   \n",
       "south                             0.051                   0.018 -0.018 -0.238   \n",
       "\n",
       "                         male  south  \n",
       "I(totwrk / 100)         0.376  0.051  \n",
       "I(totwrk ** 2 / 10000)  0.351  0.018  \n",
       "age                     0.032 -0.018  \n",
       "smsa                    0.007 -0.238  \n",
       "male                    1.000 -0.034  \n",
       "south                  -0.034  1.000  "
      ]
     },
     "execution_count": 48,
     "metadata": {},
     "output_type": "execute_result"
    }
   ],
   "source": [
    "# Удалим первый столбец с единицами\n",
    "# X.drop(labels='Intercept', axis=1)\n",
    "# Корреляционная матрицы для регрессоров\n",
    "X.drop(labels='Intercept', axis=1).corr().round(3)"
   ]
  },
  {
   "cell_type": "code",
   "execution_count": 49,
   "id": "d3393ade",
   "metadata": {},
   "outputs": [
    {
     "data": {
      "text/plain": [
       "<Axes: >"
      ]
     },
     "execution_count": 49,
     "metadata": {},
     "output_type": "execute_result"
    },
    {
     "data": {
      "image/png": "[encoded data removed]",
      "text/plain": [
       "<Figure size 640x480 with 2 Axes>"
      ]
     },
     "metadata": {},
     "output_type": "display_data"
    }
   ],
   "source": [
    "# Визуализация корреляционной матрицы\n",
    "sns.heatmap(X.drop(labels='Intercept', axis=1).corr(), annot=True)"
   ]
  },
  {
   "cell_type": "markdown",
   "id": "721c58e6",
   "metadata": {},
   "source": [
    "**Вывод**: есть сильная корреляция между \n",
    "\n",
    "### Variance Inflation Factors для регрессоров\n",
    "\n",
    "Вычислим [VIF](https://www.statsmodels.org/stable/generated/statsmodels.stats.outliers_influence.variance_inflation_factor.html) для totwrk/100, totwrk,2 / 10000 (индексы 1 и 2 в матрице дизайна для регрессоров)"
   ]
  },
  {
   "cell_type": "code",
   "execution_count": 54,
   "id": "ae6e67ac",
   "metadata": {},
   "outputs": [
    {
     "data": {
      "text/plain": [
       "(8.48007551271243, 8.280111865499434)"
      ]
     },
     "execution_count": 54,
     "metadata": {},
     "output_type": "execute_result"
    }
   ],
   "source": [
    "VIF(exog=X, exog_idx=1), VIF(exog=X, exog_idx=2)"
   ]
  },
  {
   "cell_type": "code",
   "execution_count": 52,
   "id": "e1046871",
   "metadata": {},
   "outputs": [
    {
     "data": {
      "text/plain": [
       "8.48007551271243"
      ]
     },
     "execution_count": 52,
     "metadata": {},
     "output_type": "execute_result"
    }
   ],
   "source": [
    "# Непосредственное вычисление VIF\n",
    "var = 'I(totwrk / 100)'\n",
    "mod_aux = sm.OLS(X[var], X.drop(labels=var, axis=1) ).fit()\n",
    "1/(1-mod_aux.rsquared)"
   ]
  },
  {
   "cell_type": "markdown",
   "id": "7ab2275b",
   "metadata": {},
   "source": [
    "### Последствия\n",
    "Значимость totwrk/100, totwrk^2/10000 (t-тест)"
   ]
  },
  {
   "cell_type": "code",
   "execution_count": 55,
   "id": "14605101",
   "metadata": {},
   "outputs": [
    {
     "data": {
      "text/plain": [
       "<class 'statsmodels.stats.contrast.ContrastResults'>\n",
       "                             Test for Constraints                             \n",
       "==============================================================================\n",
       "                 coef    std err          t      P>|t|      [0.025      0.975]\n",
       "------------------------------------------------------------------------------\n",
       "c0            -9.4033      4.807     -1.956      0.051     -18.842       0.035\n",
       "c1            -0.1899      0.111     -1.708      0.088      -0.408       0.028\n",
       "=============================================================================="
      ]
     },
     "execution_count": 55,
     "metadata": {},
     "output_type": "execute_result"
    }
   ],
   "source": [
    "mod.t_test('I(totwrk / 100)=0, I(totwrk ** 2 / 10000)=0')"
   ]
  },
  {
   "cell_type": "markdown",
   "id": "f92bd47b",
   "metadata": {},
   "source": [
    "Совместная значимость (F-тест): $H_0:\\beta_{totwrk/100}=\\beta_{totwrk^2/10000}=0$"
   ]
  },
  {
   "cell_type": "code",
   "execution_count": 56,
   "id": "0b8fadb8",
   "metadata": {},
   "outputs": [
    {
     "data": {
      "text/plain": [
       "<class 'statsmodels.stats.contrast.ContrastResults'>\n",
       "<F test: F=46.640706224692366, p=9.691681941476581e-20, df_denom=699, df_num=2>"
      ]
     },
     "execution_count": 56,
     "metadata": {},
     "output_type": "execute_result"
    }
   ],
   "source": [
    "mod.f_test('I(totwrk / 100)=I(totwrk ** 2 / 10000)=0')"
   ]
  },
  {
   "cell_type": "code",
   "execution_count": null,
   "id": "91be9c24",
   "metadata": {},
   "outputs": [],
   "source": []
  }
 ],
 "metadata": {
  "kernelspec": {
   "display_name": "Python 3 (ipykernel)",
   "language": "python",
   "name": "python3"
  },
  "language_info": {
   "codemirror_mode": {
    "name": "ipython",
    "version": 3
   },
   "file_extension": ".py",
   "mimetype": "text/x-python",
   "name": "python",
   "nbconvert_exporter": "python",
   "pygments_lexer": "ipython3",
   "version": "3.9.16"
  }
 },
 "nbformat": 4,
 "nbformat_minor": 5
}
