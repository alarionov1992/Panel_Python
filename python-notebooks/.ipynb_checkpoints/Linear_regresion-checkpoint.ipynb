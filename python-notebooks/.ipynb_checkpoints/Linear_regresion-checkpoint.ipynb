{
 "cells": [
  {
   "cell_type": "code",
   "execution_count": 1,
   "id": "3307d321",
   "metadata": {},
   "outputs": [],
   "source": [
    "import numpy as np\n",
    "import pandas as pd\n",
    "import io\n",
    "import statsmodels.formula.api as smf"
   ]
  },
  {
   "cell_type": "code",
   "execution_count": 21,
   "id": "fb516e8b",
   "metadata": {},
   "outputs": [],
   "source": [
    "# определяем данные\n",
    "data_string ='''log(output) log(capital) log(labour) y.hat\n",
    "2.22            0.96        5.21     2.19 \n",
    "1.30            0.28        4.51     1.47 \n",
    "3.36            3.10        6.05     3.23 \n",
    "1.42            2.37        4.28     1.56 \n",
    "1.06            0.15        3.83     0.85 \n",
    "6.17            5.62        8.94     6.15 \n",
    "0.77            0.52        3.87     0.94 \n",
    "1.42            0.15        4.68     1.61 \n",
    "0.90           -0.13        3.56     0.57 \n",
    "1.35            1.25        4.28     1.40 '''"
   ]
  },
  {
   "cell_type": "code",
   "execution_count": 22,
   "id": "462e0cf7",
   "metadata": {},
   "outputs": [
    {
     "data": {
      "text/html": [
       "<div>\n",
       "<style scoped>\n",
       "    .dataframe tbody tr th:only-of-type {\n",
       "        vertical-align: middle;\n",
       "    }\n",
       "\n",
       "    .dataframe tbody tr th {\n",
       "        vertical-align: top;\n",
       "    }\n",
       "\n",
       "    .dataframe thead th {\n",
       "        text-align: right;\n",
       "    }\n",
       "</style>\n",
       "<table border=\"1\" class=\"dataframe\">\n",
       "  <thead>\n",
       "    <tr style=\"text-align: right;\">\n",
       "      <th></th>\n",
       "      <th>log(output)</th>\n",
       "      <th>log(capital)</th>\n",
       "      <th>log(labour)</th>\n",
       "      <th>y.hat</th>\n",
       "    </tr>\n",
       "  </thead>\n",
       "  <tbody>\n",
       "    <tr>\n",
       "      <th>0</th>\n",
       "      <td>2.22</td>\n",
       "      <td>0.96</td>\n",
       "      <td>5.21</td>\n",
       "      <td>2.19</td>\n",
       "    </tr>\n",
       "    <tr>\n",
       "      <th>1</th>\n",
       "      <td>1.30</td>\n",
       "      <td>0.28</td>\n",
       "      <td>4.51</td>\n",
       "      <td>1.47</td>\n",
       "    </tr>\n",
       "    <tr>\n",
       "      <th>2</th>\n",
       "      <td>3.36</td>\n",
       "      <td>3.10</td>\n",
       "      <td>6.05</td>\n",
       "      <td>3.23</td>\n",
       "    </tr>\n",
       "    <tr>\n",
       "      <th>3</th>\n",
       "      <td>1.42</td>\n",
       "      <td>2.37</td>\n",
       "      <td>4.28</td>\n",
       "      <td>1.56</td>\n",
       "    </tr>\n",
       "    <tr>\n",
       "      <th>4</th>\n",
       "      <td>1.06</td>\n",
       "      <td>0.15</td>\n",
       "      <td>3.83</td>\n",
       "      <td>0.85</td>\n",
       "    </tr>\n",
       "    <tr>\n",
       "      <th>5</th>\n",
       "      <td>6.17</td>\n",
       "      <td>5.62</td>\n",
       "      <td>8.94</td>\n",
       "      <td>6.15</td>\n",
       "    </tr>\n",
       "    <tr>\n",
       "      <th>6</th>\n",
       "      <td>0.77</td>\n",
       "      <td>0.52</td>\n",
       "      <td>3.87</td>\n",
       "      <td>0.94</td>\n",
       "    </tr>\n",
       "    <tr>\n",
       "      <th>7</th>\n",
       "      <td>1.42</td>\n",
       "      <td>0.15</td>\n",
       "      <td>4.68</td>\n",
       "      <td>1.61</td>\n",
       "    </tr>\n",
       "    <tr>\n",
       "      <th>8</th>\n",
       "      <td>0.90</td>\n",
       "      <td>-0.13</td>\n",
       "      <td>3.56</td>\n",
       "      <td>0.57</td>\n",
       "    </tr>\n",
       "    <tr>\n",
       "      <th>9</th>\n",
       "      <td>1.35</td>\n",
       "      <td>1.25</td>\n",
       "      <td>4.28</td>\n",
       "      <td>1.40</td>\n",
       "    </tr>\n",
       "  </tbody>\n",
       "</table>\n",
       "</div>"
      ],
      "text/plain": [
       "   log(output)  log(capital)  log(labour)  y.hat\n",
       "0         2.22          0.96         5.21   2.19\n",
       "1         1.30          0.28         4.51   1.47\n",
       "2         3.36          3.10         6.05   3.23\n",
       "3         1.42          2.37         4.28   1.56\n",
       "4         1.06          0.15         3.83   0.85\n",
       "5         6.17          5.62         8.94   6.15\n",
       "6         0.77          0.52         3.87   0.94\n",
       "7         1.42          0.15         4.68   1.61\n",
       "8         0.90         -0.13         3.56   0.57\n",
       "9         1.35          1.25         4.28   1.40"
      ]
     },
     "execution_count": 22,
     "metadata": {},
     "output_type": "execute_result"
    }
   ],
   "source": [
    "# создаём DataFrame\n",
    "df = pd.read_csv(io.StringIO(data_string), sep='\\s+')\n",
    "df"
   ]
  },
  {
   "cell_type": "code",
   "execution_count": 23,
   "id": "146db22d",
   "metadata": {},
   "outputs": [
    {
     "data": {
      "text/html": [
       "<div>\n",
       "<style scoped>\n",
       "    .dataframe tbody tr th:only-of-type {\n",
       "        vertical-align: middle;\n",
       "    }\n",
       "\n",
       "    .dataframe tbody tr th {\n",
       "        vertical-align: top;\n",
       "    }\n",
       "\n",
       "    .dataframe thead th {\n",
       "        text-align: right;\n",
       "    }\n",
       "</style>\n",
       "<table border=\"1\" class=\"dataframe\">\n",
       "  <thead>\n",
       "    <tr style=\"text-align: right;\">\n",
       "      <th></th>\n",
       "      <th>LOGoutput</th>\n",
       "      <th>LOGcapital</th>\n",
       "      <th>LOGlabour</th>\n",
       "      <th>y.hat</th>\n",
       "    </tr>\n",
       "  </thead>\n",
       "  <tbody>\n",
       "    <tr>\n",
       "      <th>0</th>\n",
       "      <td>2.22</td>\n",
       "      <td>0.96</td>\n",
       "      <td>5.21</td>\n",
       "      <td>2.19</td>\n",
       "    </tr>\n",
       "    <tr>\n",
       "      <th>1</th>\n",
       "      <td>1.30</td>\n",
       "      <td>0.28</td>\n",
       "      <td>4.51</td>\n",
       "      <td>1.47</td>\n",
       "    </tr>\n",
       "    <tr>\n",
       "      <th>2</th>\n",
       "      <td>3.36</td>\n",
       "      <td>3.10</td>\n",
       "      <td>6.05</td>\n",
       "      <td>3.23</td>\n",
       "    </tr>\n",
       "    <tr>\n",
       "      <th>3</th>\n",
       "      <td>1.42</td>\n",
       "      <td>2.37</td>\n",
       "      <td>4.28</td>\n",
       "      <td>1.56</td>\n",
       "    </tr>\n",
       "    <tr>\n",
       "      <th>4</th>\n",
       "      <td>1.06</td>\n",
       "      <td>0.15</td>\n",
       "      <td>3.83</td>\n",
       "      <td>0.85</td>\n",
       "    </tr>\n",
       "    <tr>\n",
       "      <th>5</th>\n",
       "      <td>6.17</td>\n",
       "      <td>5.62</td>\n",
       "      <td>8.94</td>\n",
       "      <td>6.15</td>\n",
       "    </tr>\n",
       "    <tr>\n",
       "      <th>6</th>\n",
       "      <td>0.77</td>\n",
       "      <td>0.52</td>\n",
       "      <td>3.87</td>\n",
       "      <td>0.94</td>\n",
       "    </tr>\n",
       "    <tr>\n",
       "      <th>7</th>\n",
       "      <td>1.42</td>\n",
       "      <td>0.15</td>\n",
       "      <td>4.68</td>\n",
       "      <td>1.61</td>\n",
       "    </tr>\n",
       "    <tr>\n",
       "      <th>8</th>\n",
       "      <td>0.90</td>\n",
       "      <td>-0.13</td>\n",
       "      <td>3.56</td>\n",
       "      <td>0.57</td>\n",
       "    </tr>\n",
       "    <tr>\n",
       "      <th>9</th>\n",
       "      <td>1.35</td>\n",
       "      <td>1.25</td>\n",
       "      <td>4.28</td>\n",
       "      <td>1.40</td>\n",
       "    </tr>\n",
       "  </tbody>\n",
       "</table>\n",
       "</div>"
      ],
      "text/plain": [
       "   LOGoutput  LOGcapital  LOGlabour  y.hat\n",
       "0       2.22        0.96       5.21   2.19\n",
       "1       1.30        0.28       4.51   1.47\n",
       "2       3.36        3.10       6.05   3.23\n",
       "3       1.42        2.37       4.28   1.56\n",
       "4       1.06        0.15       3.83   0.85\n",
       "5       6.17        5.62       8.94   6.15\n",
       "6       0.77        0.52       3.87   0.94\n",
       "7       1.42        0.15       4.68   1.61\n",
       "8       0.90       -0.13       3.56   0.57\n",
       "9       1.35        1.25       4.28   1.40"
      ]
     },
     "execution_count": 23,
     "metadata": {},
     "output_type": "execute_result"
    }
   ],
   "source": [
    "# Переименуем столбцы, так как log(output) интерпреитуется как функция логарифма от outpu\n",
    "df =df.rename(columns={\"log(output)\": \"LOGoutput\", \"log(capital)\": \"LOGcapital\", \"log(labour)\":'LOGlabour'})\n",
    "df"
   ]
  },
  {
   "cell_type": "code",
   "execution_count": 24,
   "id": "27128a1e",
   "metadata": {},
   "outputs": [],
   "source": [
    "# Построем регрессионную модель. Обратите внимание, что так как в таблице даны значения логарифмом, то функция\n",
    "# np.log() мы не применяем\n",
    "fitted_line = smf.ols(formula='LOGoutput~LOGcapital+LOGlabour', data=df).fit()"
   ]
  },
  {
   "cell_type": "code",
   "execution_count": 25,
   "id": "4b8c6bbe",
   "metadata": {},
   "outputs": [
    {
     "data": {
      "text/plain": [
       "array([2.19, 1.47, 3.23, 1.56, 0.85, 6.14, 0.94, 1.61, 0.57, 1.4 ])"
      ]
     },
     "execution_count": 25,
     "metadata": {},
     "output_type": "execute_result"
    }
   ],
   "source": [
    "# Предсказанные значения регрессии \n",
    "fitted_line.predict().round(2)"
   ]
  },
  {
   "cell_type": "code",
   "execution_count": 27,
   "id": "bfd8b544",
   "metadata": {},
   "outputs": [
    {
     "data": {
      "text/plain": [
       "array([2.19, 1.47, 3.23, 1.56, 0.85, 6.15, 0.94, 1.61, 0.57, 1.4 ])"
      ]
     },
     "execution_count": 27,
     "metadata": {},
     "output_type": "execute_result"
    }
   ],
   "source": [
    "# Предсказанные значения регрессии в исходной таблице\n",
    "np.array(df['y.hat'])"
   ]
  },
  {
   "cell_type": "code",
   "execution_count": 26,
   "id": "f0c7a5ea",
   "metadata": {},
   "outputs": [
    {
     "data": {
      "text/plain": [
       "Intercept    -2.568462\n",
       "LOGcapital    0.138515\n",
       "LOGlabour     0.887584\n",
       "dtype: float64"
      ]
     },
     "execution_count": 26,
     "metadata": {},
     "output_type": "execute_result"
    }
   ],
   "source": [
    "# Параметры регрессии\n",
    "fitted_line.params"
   ]
  },
  {
   "cell_type": "code",
   "execution_count": 8,
   "id": "86a6f619",
   "metadata": {},
   "outputs": [
    {
     "data": {
      "text/plain": [
       "24.195037061253572"
      ]
     },
     "execution_count": 8,
     "metadata": {},
     "output_type": "execute_result"
    }
   ],
   "source": [
    "# Вычислим объяснённую сумму квадратов\n",
    "ESS = ((fitted_line.predict() - np.mean(df['LOGoutput']))**2).sum()\n",
    "ESS"
   ]
  },
  {
   "cell_type": "code",
   "execution_count": 9,
   "id": "5fe8a957",
   "metadata": {},
   "outputs": [
    {
     "data": {
      "text/plain": [
       "24.19503706125352"
      ]
     },
     "execution_count": 9,
     "metadata": {},
     "output_type": "execute_result"
    }
   ],
   "source": [
    "# Сравним полученное нами значение с тем, что выдано моделью\n",
    "fitted_line.ess"
   ]
  },
  {
   "cell_type": "code",
   "execution_count": 10,
   "id": "54b25bff",
   "metadata": {},
   "outputs": [
    {
     "data": {
      "text/plain": [
       "24.47861"
      ]
     },
     "execution_count": 10,
     "metadata": {},
     "output_type": "execute_result"
    }
   ],
   "source": [
    "# Вычислим общую сумму квадратов\n",
    "TSS = ((df['LOGoutput'] - np.mean(df['LOGoutput']))**2).sum()\n",
    "TSS"
   ]
  },
  {
   "cell_type": "code",
   "execution_count": 11,
   "id": "eb9c4411",
   "metadata": {},
   "outputs": [
    {
     "data": {
      "text/plain": [
       "24.47861"
      ]
     },
     "execution_count": 11,
     "metadata": {},
     "output_type": "execute_result"
    }
   ],
   "source": [
    "# Сравним с значением, которое получено моделью\n",
    "fitted_line.centered_tss"
   ]
  },
  {
   "cell_type": "code",
   "execution_count": 12,
   "id": "e0dce44b",
   "metadata": {},
   "outputs": [
    {
     "data": {
      "text/plain": [
       "0.9884154803419627"
      ]
     },
     "execution_count": 12,
     "metadata": {},
     "output_type": "execute_result"
    }
   ],
   "source": [
    "# Коэффициент детерминации равен\n",
    "R2 = ESS/TSS\n",
    "R2"
   ]
  },
  {
   "cell_type": "code",
   "execution_count": 13,
   "id": "4d383a04",
   "metadata": {},
   "outputs": [
    {
     "data": {
      "text/plain": [
       "0.9884154803419606"
      ]
     },
     "execution_count": 13,
     "metadata": {},
     "output_type": "execute_result"
    }
   ],
   "source": [
    "#Сравним с значением модели\n",
    "fitted_line.rsquared"
   ]
  },
  {
   "cell_type": "code",
   "execution_count": 14,
   "id": "d9521477",
   "metadata": {},
   "outputs": [
    {
     "data": {
      "text/plain": [
       "0.28357293874642764"
      ]
     },
     "execution_count": 14,
     "metadata": {},
     "output_type": "execute_result"
    }
   ],
   "source": [
    "# Вычисли остаточную сумму квадртов\n",
    "RSS = TSS - ESS\n",
    "RSS"
   ]
  },
  {
   "cell_type": "code",
   "execution_count": 17,
   "id": "2ec81db5",
   "metadata": {},
   "outputs": [
    {
     "data": {
      "text/plain": [
       "0.28357293874647954"
      ]
     },
     "execution_count": 17,
     "metadata": {},
     "output_type": "execute_result"
    }
   ],
   "source": [
    "# Сравним с значением нашей модели\n",
    "fitted_line.ssr"
   ]
  },
  {
   "cell_type": "code",
   "execution_count": null,
   "id": "19520ebd",
   "metadata": {},
   "outputs": [],
   "source": []
  }
 ],
 "metadata": {
  "kernelspec": {
   "display_name": "Python 3",
   "language": "python",
   "name": "python3"
  },
  "language_info": {
   "codemirror_mode": {
    "name": "ipython",
    "version": 3
   },
   "file_extension": ".py",
   "mimetype": "text/x-python",
   "name": "python",
   "nbconvert_exporter": "python",
   "pygments_lexer": "ipython3",
   "version": "3.8.8"
  }
 },
 "nbformat": 4,
 "nbformat_minor": 5
}
