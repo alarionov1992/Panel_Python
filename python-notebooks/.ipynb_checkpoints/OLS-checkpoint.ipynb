{
 "cells": [
  {
   "cell_type": "code",
   "execution_count": 17,
   "id": "33529d5b",
   "metadata": {},
   "outputs": [],
   "source": [
    "import scipy.stats as stats\n",
    "import numpy as np\n",
    "import pandas as pd\n",
    "import matplotlib.pyplot as plt\n",
    "import statsmodels.formula.api as smf\n",
    "from pylab import rcParams\n",
    "import io\n",
    "%matplotlib inline\n",
    "rcParams['figure.figsize'] = 11,7"
   ]
  },
  {
   "cell_type": "code",
   "execution_count": 18,
   "id": "de59059d",
   "metadata": {},
   "outputs": [
    {
     "data": {
      "image/png": "[encoded data removed]",
      "text/plain": [
       "<Figure size 792x504 with 1 Axes>"
      ]
     },
     "metadata": {
      "needs_background": "light"
     },
     "output_type": "display_data"
    }
   ],
   "source": [
    "x = np.linspace(-1.2,1.2,10)\n",
    "y = 3*x - 2\n",
    "dy = 4*np.random.rand(10)-2\n",
    "fig, ax = plt.subplots()\n",
    "ax.plot(x,y, color = 'blue')\n",
    "ax.scatter(x,y+dy,color='black')\n",
    "ax.vlines(x,y,y+dy, colors='r', linestyles='--')\n",
    "ax.legend( ['Theorethical line', 'Empirical value', 'Residual'])\n",
    "# Комментарии к объектам на ваше усмотрение, Никита Вячеславович.\n",
    "plt.show()"
   ]
  },
  {
   "cell_type": "markdown",
   "id": "d7be9b4f",
   "metadata": {},
   "source": [
    "# Построим прямую, пользуясь методом наименьших квадратов"
   ]
  },
  {
   "cell_type": "code",
   "execution_count": 19,
   "id": "fe2fd648",
   "metadata": {},
   "outputs": [],
   "source": [
    "n = 20 # Определяем количестов точек, в которых производим измерения\n",
    "a = -5 # Левая граница отрезка\n",
    "b = 5 # Правая граница отрезка\n",
    "x = np.linspace(a,b,n) # Разбиваем отрезок измерения на N \n",
    "y = np.random.randint(-10, 10, n) # Значения для игра выбереме случайным образом.\n",
    "# В теории это зависимая величина, которая получается эмпирически"
   ]
  },
  {
   "cell_type": "markdown",
   "id": "cac91a9d",
   "metadata": {},
   "source": [
    "# Вычислим коэффициенты для подгоночной прямой\n",
    "\n",
    "## $$\\hat{\\beta_1} = \\frac{cov(x,y)}{Var(x)}$$\n",
    "## $$\\hat{\\beta_0} = \\bar{y} - \\bar{x}\\cdot{\\hat{\\beta_1}}$$"
   ]
  },
  {
   "cell_type": "markdown",
   "id": "9721ba53",
   "metadata": {},
   "source": [
    "### np.sum(x*y) --- сумма произведений элементов массива.\n",
    "### np.sum(x**2) --- сумма квадратов элементов массива\n",
    "### np.sum(x)**2--- квадрат суммы элементов массива\n",
    "### np.mean(x) --- среднее значение массива "
   ]
  },
  {
   "cell_type": "code",
   "execution_count": 20,
   "id": "68b09fa7",
   "metadata": {},
   "outputs": [
    {
     "data": {
      "text/plain": [
       "-0.23285714285714285"
      ]
     },
     "execution_count": 20,
     "metadata": {},
     "output_type": "execute_result"
    }
   ],
   "source": [
    "beta1 = (np.sum(x*y)/n - (np.sum(x)/n)*np.sum(y)/n)/(np.sum(x**2)/n - np.sum(x)**2/n)\n",
    "beta1"
   ]
  },
  {
   "cell_type": "code",
   "execution_count": 21,
   "id": "b5078f58",
   "metadata": {},
   "outputs": [
    {
     "data": {
      "text/plain": [
       "-0.85"
      ]
     },
     "execution_count": 21,
     "metadata": {},
     "output_type": "execute_result"
    }
   ],
   "source": [
    "beta0 = np.mean(y) - np.mean(x)*beta1\n",
    "beta0"
   ]
  },
  {
   "cell_type": "markdown",
   "id": "0cc512ac",
   "metadata": {},
   "source": [
    "# Вычислим массив предсказанных значений <span style=\"color:red\"> y_pred </span>\n",
    "# $$ \\hat{y_i} = \\hat{\\beta_0} + \\hat{\\beta_1} x_i $$"
   ]
  },
  {
   "cell_type": "code",
   "execution_count": 22,
   "id": "826082e3",
   "metadata": {},
   "outputs": [],
   "source": [
    "pred_y = beta0 + beta1*x"
   ]
  },
  {
   "cell_type": "markdown",
   "id": "1858bb66",
   "metadata": {},
   "source": [
    "# Строим график "
   ]
  },
  {
   "cell_type": "code",
   "execution_count": 23,
   "id": "fbd5cd9c",
   "metadata": {},
   "outputs": [
    {
     "ename": "NameError",
     "evalue": "name 'lid_y' is not defined",
     "output_type": "error",
     "traceback": [
      "\u001b[0;31m---------------------------------------------------------------------------\u001b[0m",
      "\u001b[0;31mNameError\u001b[0m                                 Traceback (most recent call last)",
      "\u001b[0;32m<ipython-input-23-0690a3001593>\u001b[0m in \u001b[0;36m<module>\u001b[0;34m\u001b[0m\n\u001b[1;32m      1\u001b[0m \u001b[0mdy\u001b[0m \u001b[0;34m=\u001b[0m \u001b[0my\u001b[0m\u001b[0;34m\u001b[0m\u001b[0;34m\u001b[0m\u001b[0m\n\u001b[1;32m      2\u001b[0m \u001b[0mfig\u001b[0m\u001b[0;34m,\u001b[0m \u001b[0max\u001b[0m \u001b[0;34m=\u001b[0m \u001b[0mplt\u001b[0m\u001b[0;34m.\u001b[0m\u001b[0msubplots\u001b[0m\u001b[0;34m(\u001b[0m\u001b[0;34m)\u001b[0m\u001b[0;34m\u001b[0m\u001b[0;34m\u001b[0m\u001b[0m\n\u001b[0;32m----> 3\u001b[0;31m \u001b[0max\u001b[0m\u001b[0;34m.\u001b[0m\u001b[0mplot\u001b[0m\u001b[0;34m(\u001b[0m\u001b[0mx\u001b[0m\u001b[0;34m,\u001b[0m\u001b[0mlid_y\u001b[0m\u001b[0;34m,\u001b[0m \u001b[0mcolor\u001b[0m \u001b[0;34m=\u001b[0m \u001b[0;34m'blue'\u001b[0m\u001b[0;34m)\u001b[0m\u001b[0;34m\u001b[0m\u001b[0;34m\u001b[0m\u001b[0m\n\u001b[0m\u001b[1;32m      4\u001b[0m \u001b[0max\u001b[0m\u001b[0;34m.\u001b[0m\u001b[0mscatter\u001b[0m\u001b[0;34m(\u001b[0m\u001b[0mx\u001b[0m\u001b[0;34m,\u001b[0m\u001b[0mpred_y\u001b[0m\u001b[0;34m+\u001b[0m\u001b[0mdy\u001b[0m\u001b[0;34m,\u001b[0m\u001b[0mcolor\u001b[0m\u001b[0;34m=\u001b[0m\u001b[0;34m'black'\u001b[0m\u001b[0;34m)\u001b[0m\u001b[0;34m\u001b[0m\u001b[0;34m\u001b[0m\u001b[0m\n\u001b[1;32m      5\u001b[0m \u001b[0max\u001b[0m\u001b[0;34m.\u001b[0m\u001b[0mvlines\u001b[0m\u001b[0;34m(\u001b[0m\u001b[0mx\u001b[0m\u001b[0;34m,\u001b[0m\u001b[0mlid_y\u001b[0m\u001b[0;34m,\u001b[0m\u001b[0mlid_y\u001b[0m\u001b[0;34m+\u001b[0m\u001b[0mdy\u001b[0m\u001b[0;34m,\u001b[0m \u001b[0mcolors\u001b[0m\u001b[0;34m=\u001b[0m\u001b[0;34m'r'\u001b[0m\u001b[0;34m,\u001b[0m \u001b[0mlinestyles\u001b[0m\u001b[0;34m=\u001b[0m\u001b[0;34m'--'\u001b[0m\u001b[0;34m)\u001b[0m\u001b[0;34m\u001b[0m\u001b[0;34m\u001b[0m\u001b[0m\n",
      "\u001b[0;31mNameError\u001b[0m: name 'lid_y' is not defined"
     ]
    },
    {
     "data": {
      "image/png": "[encoded data removed]",
      "text/plain": [
       "<Figure size 792x504 with 1 Axes>"
      ]
     },
     "metadata": {
      "needs_background": "light"
     },
     "output_type": "display_data"
    }
   ],
   "source": [
    "dy = y\n",
    "fig, ax = plt.subplots()\n",
    "ax.plot(x,lid_y, color = 'blue')\n",
    "ax.scatter(x,pred_y+dy,color='black')\n",
    "ax.vlines(x,lid_y,lid_y+dy, colors='r', linestyles='--')\n",
    "ax.legend( ['Theorethical line', 'Empirical value', 'Residual'])\n",
    "plt.show()"
   ]
  },
  {
   "cell_type": "markdown",
   "id": "3945cead",
   "metadata": {},
   "source": [
    "# Рассчитаем коэффициент детерминации регресии\n",
    "\n",
    "\n",
    "## $$ R^2 = \\frac{ESS}{TSS} = 1 - \\frac{RSS}{TSS} $$\n",
    "### $$ TSS = \\sum\\limits_{i=1}^{i=n}{(y_i - \\bar{y})^2} $$\n",
    "### $$ ESS = \\sum\\limits_{i=1}^{i=n}{(\\hat{y_i} - \\bar{y_i})^2} $$\n",
    "### $$ RSS = \\sum\\limits_{i=1}^{i=n}{(y_i - \\hat{y})^2} $$"
   ]
  },
  {
   "cell_type": "code",
   "execution_count": null,
   "id": "529dec59",
   "metadata": {},
   "outputs": [],
   "source": [
    "# полная сумма квадратов\n",
    "TSS = np.sum(((y-np.mean(y))**2)) \n",
    "TSS"
   ]
  },
  {
   "cell_type": "code",
   "execution_count": null,
   "id": "795f3119",
   "metadata": {},
   "outputs": [],
   "source": [
    "# объяснённая сумма квадратов\n",
    "ESS = np.sum(((pred_y - np.mean(y))**2)) \n",
    "ESS"
   ]
  },
  {
   "cell_type": "code",
   "execution_count": null,
   "id": "20e96cd7",
   "metadata": {},
   "outputs": [],
   "source": [
    "#остаточная сумма квадратов\n",
    "RSS = np.sum((y-pred_y)**2)\n",
    "RSS"
   ]
  },
  {
   "cell_type": "code",
   "execution_count": null,
   "id": "25cfd48e",
   "metadata": {},
   "outputs": [],
   "source": [
    "# коэффициент детерминации\n",
    "R2det = ESS/TSS \n",
    "R2det"
   ]
  },
  {
   "cell_type": "code",
   "execution_count": 8,
   "id": "de9c00f6",
   "metadata": {},
   "outputs": [],
   "source": [
    "data_string = ''' sleep/60 totwrk age y.hat\n",
    "51.88     3438  32  51.00\n",
    "48.67     5020  31  44.43\n",
    "44.50     2815  44  53.72\n",
    "51.38     3786  30  49.53\n",
    "57.47     2580  64  54.92\n",
    "67.72     1205  41  60.36\n",
    "53        2113  35  56.53\n",
    "48.80     3608  47  50.46\n",
    "56.13     2353  32  55.50\n",
    "50.30     2851  30  53.41'''\n",
    "df = pd.read_csv(io.StringIO(data_string), sep='\\s+')\n",
    "df.drop(columns='y.hat', inplace=True)\n",
    "df.rename(columns={'sleep/60':'sleep'},inplace=True)"
   ]
  },
  {
   "cell_type": "markdown",
   "id": "478fdd6e",
   "metadata": {},
   "source": [
    "## Рассмотрим небольшой набор данных"
   ]
  },
  {
   "cell_type": "code",
   "execution_count": 9,
   "id": "1f771f8b",
   "metadata": {},
   "outputs": [
    {
     "data": {
      "text/html": [
       "<div>\n",
       "<style scoped>\n",
       "    .dataframe tbody tr th:only-of-type {\n",
       "        vertical-align: middle;\n",
       "    }\n",
       "\n",
       "    .dataframe tbody tr th {\n",
       "        vertical-align: top;\n",
       "    }\n",
       "\n",
       "    .dataframe thead th {\n",
       "        text-align: right;\n",
       "    }\n",
       "</style>\n",
       "<table border=\"1\" class=\"dataframe\">\n",
       "  <thead>\n",
       "    <tr style=\"text-align: right;\">\n",
       "      <th></th>\n",
       "      <th>sleep</th>\n",
       "      <th>totwrk</th>\n",
       "      <th>age</th>\n",
       "    </tr>\n",
       "  </thead>\n",
       "  <tbody>\n",
       "    <tr>\n",
       "      <th>0</th>\n",
       "      <td>51.88</td>\n",
       "      <td>3438</td>\n",
       "      <td>32</td>\n",
       "    </tr>\n",
       "    <tr>\n",
       "      <th>1</th>\n",
       "      <td>48.67</td>\n",
       "      <td>5020</td>\n",
       "      <td>31</td>\n",
       "    </tr>\n",
       "    <tr>\n",
       "      <th>2</th>\n",
       "      <td>44.50</td>\n",
       "      <td>2815</td>\n",
       "      <td>44</td>\n",
       "    </tr>\n",
       "    <tr>\n",
       "      <th>3</th>\n",
       "      <td>51.38</td>\n",
       "      <td>3786</td>\n",
       "      <td>30</td>\n",
       "    </tr>\n",
       "    <tr>\n",
       "      <th>4</th>\n",
       "      <td>57.47</td>\n",
       "      <td>2580</td>\n",
       "      <td>64</td>\n",
       "    </tr>\n",
       "    <tr>\n",
       "      <th>5</th>\n",
       "      <td>67.72</td>\n",
       "      <td>1205</td>\n",
       "      <td>41</td>\n",
       "    </tr>\n",
       "    <tr>\n",
       "      <th>6</th>\n",
       "      <td>53.00</td>\n",
       "      <td>2113</td>\n",
       "      <td>35</td>\n",
       "    </tr>\n",
       "    <tr>\n",
       "      <th>7</th>\n",
       "      <td>48.80</td>\n",
       "      <td>3608</td>\n",
       "      <td>47</td>\n",
       "    </tr>\n",
       "    <tr>\n",
       "      <th>8</th>\n",
       "      <td>56.13</td>\n",
       "      <td>2353</td>\n",
       "      <td>32</td>\n",
       "    </tr>\n",
       "    <tr>\n",
       "      <th>9</th>\n",
       "      <td>50.30</td>\n",
       "      <td>2851</td>\n",
       "      <td>30</td>\n",
       "    </tr>\n",
       "  </tbody>\n",
       "</table>\n",
       "</div>"
      ],
      "text/plain": [
       "   sleep  totwrk  age\n",
       "0  51.88    3438   32\n",
       "1  48.67    5020   31\n",
       "2  44.50    2815   44\n",
       "3  51.38    3786   30\n",
       "4  57.47    2580   64\n",
       "5  67.72    1205   41\n",
       "6  53.00    2113   35\n",
       "7  48.80    3608   47\n",
       "8  56.13    2353   32\n",
       "9  50.30    2851   30"
      ]
     },
     "execution_count": 9,
     "metadata": {},
     "output_type": "execute_result"
    }
   ],
   "source": [
    "df"
   ]
  },
  {
   "cell_type": "code",
   "execution_count": 10,
   "id": "f24eb87f",
   "metadata": {},
   "outputs": [
    {
     "data": {
      "text/html": [
       "<div>\n",
       "<style scoped>\n",
       "    .dataframe tbody tr th:only-of-type {\n",
       "        vertical-align: middle;\n",
       "    }\n",
       "\n",
       "    .dataframe tbody tr th {\n",
       "        vertical-align: top;\n",
       "    }\n",
       "\n",
       "    .dataframe thead th {\n",
       "        text-align: right;\n",
       "    }\n",
       "</style>\n",
       "<table border=\"1\" class=\"dataframe\">\n",
       "  <thead>\n",
       "    <tr style=\"text-align: right;\">\n",
       "      <th></th>\n",
       "      <th>totwrk</th>\n",
       "      <th>age</th>\n",
       "    </tr>\n",
       "  </thead>\n",
       "  <tbody>\n",
       "    <tr>\n",
       "      <th>0</th>\n",
       "      <td>3438</td>\n",
       "      <td>32</td>\n",
       "    </tr>\n",
       "    <tr>\n",
       "      <th>1</th>\n",
       "      <td>5020</td>\n",
       "      <td>31</td>\n",
       "    </tr>\n",
       "    <tr>\n",
       "      <th>2</th>\n",
       "      <td>2815</td>\n",
       "      <td>44</td>\n",
       "    </tr>\n",
       "    <tr>\n",
       "      <th>3</th>\n",
       "      <td>3786</td>\n",
       "      <td>30</td>\n",
       "    </tr>\n",
       "    <tr>\n",
       "      <th>4</th>\n",
       "      <td>2580</td>\n",
       "      <td>64</td>\n",
       "    </tr>\n",
       "    <tr>\n",
       "      <th>5</th>\n",
       "      <td>1205</td>\n",
       "      <td>41</td>\n",
       "    </tr>\n",
       "    <tr>\n",
       "      <th>6</th>\n",
       "      <td>2113</td>\n",
       "      <td>35</td>\n",
       "    </tr>\n",
       "    <tr>\n",
       "      <th>7</th>\n",
       "      <td>3608</td>\n",
       "      <td>47</td>\n",
       "    </tr>\n",
       "    <tr>\n",
       "      <th>8</th>\n",
       "      <td>2353</td>\n",
       "      <td>32</td>\n",
       "    </tr>\n",
       "    <tr>\n",
       "      <th>9</th>\n",
       "      <td>2851</td>\n",
       "      <td>30</td>\n",
       "    </tr>\n",
       "  </tbody>\n",
       "</table>\n",
       "</div>"
      ],
      "text/plain": [
       "   totwrk  age\n",
       "0    3438   32\n",
       "1    5020   31\n",
       "2    2815   44\n",
       "3    3786   30\n",
       "4    2580   64\n",
       "5    1205   41\n",
       "6    2113   35\n",
       "7    3608   47\n",
       "8    2353   32\n",
       "9    2851   30"
      ]
     },
     "execution_count": 10,
     "metadata": {},
     "output_type": "execute_result"
    }
   ],
   "source": [
    "# Выделим матрицу значений с независимыми переменными\n",
    "X = df[['totwrk', 'age']]\n",
    "X"
   ]
  },
  {
   "cell_type": "code",
   "execution_count": 11,
   "id": "79b1fd8f",
   "metadata": {},
   "outputs": [
    {
     "data": {
      "text/html": [
       "<div>\n",
       "<style scoped>\n",
       "    .dataframe tbody tr th:only-of-type {\n",
       "        vertical-align: middle;\n",
       "    }\n",
       "\n",
       "    .dataframe tbody tr th {\n",
       "        vertical-align: top;\n",
       "    }\n",
       "\n",
       "    .dataframe thead th {\n",
       "        text-align: right;\n",
       "    }\n",
       "</style>\n",
       "<table border=\"1\" class=\"dataframe\">\n",
       "  <thead>\n",
       "    <tr style=\"text-align: right;\">\n",
       "      <th></th>\n",
       "      <th>sleep</th>\n",
       "    </tr>\n",
       "  </thead>\n",
       "  <tbody>\n",
       "    <tr>\n",
       "      <th>0</th>\n",
       "      <td>51.88</td>\n",
       "    </tr>\n",
       "    <tr>\n",
       "      <th>1</th>\n",
       "      <td>48.67</td>\n",
       "    </tr>\n",
       "    <tr>\n",
       "      <th>2</th>\n",
       "      <td>44.50</td>\n",
       "    </tr>\n",
       "    <tr>\n",
       "      <th>3</th>\n",
       "      <td>51.38</td>\n",
       "    </tr>\n",
       "    <tr>\n",
       "      <th>4</th>\n",
       "      <td>57.47</td>\n",
       "    </tr>\n",
       "    <tr>\n",
       "      <th>5</th>\n",
       "      <td>67.72</td>\n",
       "    </tr>\n",
       "    <tr>\n",
       "      <th>6</th>\n",
       "      <td>53.00</td>\n",
       "    </tr>\n",
       "    <tr>\n",
       "      <th>7</th>\n",
       "      <td>48.80</td>\n",
       "    </tr>\n",
       "    <tr>\n",
       "      <th>8</th>\n",
       "      <td>56.13</td>\n",
       "    </tr>\n",
       "    <tr>\n",
       "      <th>9</th>\n",
       "      <td>50.30</td>\n",
       "    </tr>\n",
       "  </tbody>\n",
       "</table>\n",
       "</div>"
      ],
      "text/plain": [
       "   sleep\n",
       "0  51.88\n",
       "1  48.67\n",
       "2  44.50\n",
       "3  51.38\n",
       "4  57.47\n",
       "5  67.72\n",
       "6  53.00\n",
       "7  48.80\n",
       "8  56.13\n",
       "9  50.30"
      ]
     },
     "execution_count": 11,
     "metadata": {},
     "output_type": "execute_result"
    }
   ],
   "source": [
    "# Столбец значений для зависимой переменной выглядит так:\n",
    "Y = df[['sleep']]\n",
    "Y"
   ]
  },
  {
   "cell_type": "code",
   "execution_count": 12,
   "id": "1a5b0a50",
   "metadata": {},
   "outputs": [
    {
     "data": {
      "text/html": [
       "<div>\n",
       "<style scoped>\n",
       "    .dataframe tbody tr th:only-of-type {\n",
       "        vertical-align: middle;\n",
       "    }\n",
       "\n",
       "    .dataframe tbody tr th {\n",
       "        vertical-align: top;\n",
       "    }\n",
       "\n",
       "    .dataframe thead th {\n",
       "        text-align: right;\n",
       "    }\n",
       "</style>\n",
       "<table border=\"1\" class=\"dataframe\">\n",
       "  <thead>\n",
       "    <tr style=\"text-align: right;\">\n",
       "      <th></th>\n",
       "      <th>0</th>\n",
       "      <th>1</th>\n",
       "      <th>2</th>\n",
       "      <th>3</th>\n",
       "      <th>4</th>\n",
       "      <th>5</th>\n",
       "      <th>6</th>\n",
       "      <th>7</th>\n",
       "      <th>8</th>\n",
       "      <th>9</th>\n",
       "    </tr>\n",
       "  </thead>\n",
       "  <tbody>\n",
       "    <tr>\n",
       "      <th>totwrk</th>\n",
       "      <td>3438</td>\n",
       "      <td>5020</td>\n",
       "      <td>2815</td>\n",
       "      <td>3786</td>\n",
       "      <td>2580</td>\n",
       "      <td>1205</td>\n",
       "      <td>2113</td>\n",
       "      <td>3608</td>\n",
       "      <td>2353</td>\n",
       "      <td>2851</td>\n",
       "    </tr>\n",
       "    <tr>\n",
       "      <th>age</th>\n",
       "      <td>32</td>\n",
       "      <td>31</td>\n",
       "      <td>44</td>\n",
       "      <td>30</td>\n",
       "      <td>64</td>\n",
       "      <td>41</td>\n",
       "      <td>35</td>\n",
       "      <td>47</td>\n",
       "      <td>32</td>\n",
       "      <td>30</td>\n",
       "    </tr>\n",
       "  </tbody>\n",
       "</table>\n",
       "</div>"
      ],
      "text/plain": [
       "           0     1     2     3     4     5     6     7     8     9\n",
       "totwrk  3438  5020  2815  3786  2580  1205  2113  3608  2353  2851\n",
       "age       32    31    44    30    64    41    35    47    32    30"
      ]
     },
     "execution_count": 12,
     "metadata": {},
     "output_type": "execute_result"
    }
   ],
   "source": [
    "# Чтобы получить транспонированную матрицу X, применим метод T\n",
    "X.T"
   ]
  },
  {
   "cell_type": "code",
   "execution_count": 13,
   "id": "504c6456",
   "metadata": {},
   "outputs": [
    {
     "data": {
      "text/html": [
       "<div>\n",
       "<style scoped>\n",
       "    .dataframe tbody tr th:only-of-type {\n",
       "        vertical-align: middle;\n",
       "    }\n",
       "\n",
       "    .dataframe tbody tr th {\n",
       "        vertical-align: top;\n",
       "    }\n",
       "\n",
       "    .dataframe thead th {\n",
       "        text-align: right;\n",
       "    }\n",
       "</style>\n",
       "<table border=\"1\" class=\"dataframe\">\n",
       "  <thead>\n",
       "    <tr style=\"text-align: right;\">\n",
       "      <th></th>\n",
       "      <th>totwrk</th>\n",
       "      <th>age</th>\n",
       "    </tr>\n",
       "  </thead>\n",
       "  <tbody>\n",
       "    <tr>\n",
       "      <th>totwrk</th>\n",
       "      <td>98533933</td>\n",
       "      <td>1121958</td>\n",
       "    </tr>\n",
       "    <tr>\n",
       "      <th>age</th>\n",
       "      <td>1121958</td>\n",
       "      <td>15956</td>\n",
       "    </tr>\n",
       "  </tbody>\n",
       "</table>\n",
       "</div>"
      ],
      "text/plain": [
       "          totwrk      age\n",
       "totwrk  98533933  1121958\n",
       "age      1121958    15956"
      ]
     },
     "execution_count": 13,
     "metadata": {},
     "output_type": "execute_result"
    }
   ],
   "source": [
    "# Перемножим исходную матрицу с транспонированной с помощью операции '@'\n",
    "X.T@X"
   ]
  },
  {
   "cell_type": "code",
   "execution_count": 14,
   "id": "ab469e73",
   "metadata": {},
   "outputs": [
    {
     "data": {
      "text/plain": [
       "array([[ 5.09096996e-08, -3.57975337e-06],\n",
       "       [-3.57975337e-06,  3.14385368e-04]])"
      ]
     },
     "execution_count": 14,
     "metadata": {},
     "output_type": "execute_result"
    }
   ],
   "source": [
    "# Обратную матрицу найдём с помощью методов библиотеки numpy\n",
    "np.linalg.inv(X.T@X)"
   ]
  },
  {
   "cell_type": "markdown",
   "id": "a1794ef4",
   "metadata": {},
   "source": [
    "## Теперь у нас есть всё, что нужно для вычисления вектора коэффициентов $\\hat{\\beta}$:\n",
    "## $$\\hat{\\beta} = (X' X)^{-1}(X')Y$$"
   ]
  },
  {
   "cell_type": "code",
   "execution_count": 15,
   "id": "3f1a349d",
   "metadata": {},
   "outputs": [
    {
     "data": {
      "text/html": [
       "<div>\n",
       "<style scoped>\n",
       "    .dataframe tbody tr th:only-of-type {\n",
       "        vertical-align: middle;\n",
       "    }\n",
       "\n",
       "    .dataframe tbody tr th {\n",
       "        vertical-align: top;\n",
       "    }\n",
       "\n",
       "    .dataframe thead th {\n",
       "        text-align: right;\n",
       "    }\n",
       "</style>\n",
       "<table border=\"1\" class=\"dataframe\">\n",
       "  <thead>\n",
       "    <tr style=\"text-align: right;\">\n",
       "      <th></th>\n",
       "      <th>sleep</th>\n",
       "    </tr>\n",
       "  </thead>\n",
       "  <tbody>\n",
       "    <tr>\n",
       "      <th>0</th>\n",
       "      <td>0.004532</td>\n",
       "    </tr>\n",
       "    <tr>\n",
       "      <th>1</th>\n",
       "      <td>0.970893</td>\n",
       "    </tr>\n",
       "  </tbody>\n",
       "</table>\n",
       "</div>"
      ],
      "text/plain": [
       "      sleep\n",
       "0  0.004532\n",
       "1  0.970893"
      ]
     },
     "execution_count": 15,
     "metadata": {},
     "output_type": "execute_result"
    }
   ],
   "source": [
    "beta = np.linalg.inv(X.T @ X) @ X.T @ Y\n",
    "beta"
   ]
  },
  {
   "cell_type": "code",
   "execution_count": 16,
   "id": "14c62905",
   "metadata": {},
   "outputs": [
    {
     "name": "stderr",
     "output_type": "stream",
     "text": [
      "/opt/anaconda3/lib/python3.8/site-packages/scipy/stats/_stats_py.py:1772: UserWarning: kurtosistest only valid for n>=20 ... continuing anyway, n=10\n",
      "  warnings.warn(\"kurtosistest only valid for n>=20 ... continuing \"\n"
     ]
    },
    {
     "data": {
      "text/html": [
       "<table class=\"simpletable\">\n",
       "<tr>\n",
       "     <td></td>       <th>coef</th>     <th>std err</th>      <th>t</th>      <th>P>|t|</th>  <th>[0.025</th>    <th>0.975]</th>  \n",
       "</tr>\n",
       "<tr>\n",
       "  <th>totwrk</th> <td>    0.0045</td> <td>    0.003</td> <td>    1.466</td> <td> 0.181</td> <td>   -0.003</td> <td>    0.012</td>\n",
       "</tr>\n",
       "<tr>\n",
       "  <th>age</th>    <td>    0.9709</td> <td>    0.243</td> <td>    3.997</td> <td> 0.004</td> <td>    0.411</td> <td>    1.531</td>\n",
       "</tr>\n",
       "</table>"
      ],
      "text/plain": [
       "<class 'statsmodels.iolib.table.SimpleTable'>"
      ]
     },
     "execution_count": 16,
     "metadata": {},
     "output_type": "execute_result"
    }
   ],
   "source": [
    "# Тот же результат можно получить с помощью библиотеки smf\n",
    "sleep = smf.ols(formula = \"sleep~-1+totwrk + age\", data = df).fit()\n",
    "sleep.summary().tables[1]"
   ]
  }
 ],
 "metadata": {
  "kernelspec": {
   "display_name": "Python 3",
   "language": "python",
   "name": "python3"
  },
  "language_info": {
   "codemirror_mode": {
    "name": "ipython",
    "version": 3
   },
   "file_extension": ".py",
   "mimetype": "text/x-python",
   "name": "python",
   "nbconvert_exporter": "python",
   "pygments_lexer": "ipython3",
   "version": "3.8.8"
  }
 },
 "nbformat": 4,
 "nbformat_minor": 5
}
