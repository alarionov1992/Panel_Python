{
 "cells": [
  {
   "cell_type": "code",
   "execution_count": 24,
   "id": "9a383438",
   "metadata": {},
   "outputs": [],
   "source": [
    "import pandas as pd\n",
    "import numpy as np\n",
    "import io\n",
    "import statsmodels.formula.api as smf\n",
    "import scipy.stats as stats\n",
    "import re"
   ]
  },
  {
   "cell_type": "code",
   "execution_count": 25,
   "id": "875eb9c4",
   "metadata": {},
   "outputs": [
    {
     "data": {
      "text/plain": [
       "'totwrk                       -0.169***         \\n                              (0.018)          \\n                                               \\nage                           2.689*           \\n                              (1.469)          \\n                                               \\nsouth                        101.568**         \\n                             (41.837)          \\n                                               \\nmale                         87.669**          \\n                             (35.104)          \\n                                               \\nsmsa                         -54.748*          \\n                             (33.123)          \\n                                               \\nyngkid                        -13.962          \\n                             (50.341)          \\n                                               \\nmarr                          31.211           \\n                             (42.233)          \\n                                               \\nConstant                    3450.913***        \\n                             (80.726)   '"
      ]
     },
     "execution_count": 25,
     "metadata": {},
     "output_type": "execute_result"
    }
   ],
   "source": [
    "date_string = '''totwrk                       -0.169***         \n",
    "                              (0.018)          \n",
    "                                               \n",
    "age                           2.689*           \n",
    "                              (1.469)          \n",
    "                                               \n",
    "south                        101.568**         \n",
    "                             (41.837)          \n",
    "                                               \n",
    "male                         87.669**          \n",
    "                             (35.104)          \n",
    "                                               \n",
    "smsa                         -54.748*          \n",
    "                             (33.123)          \n",
    "                                               \n",
    "yngkid                        -13.962          \n",
    "                             (50.341)          \n",
    "                                               \n",
    "marr                          31.211           \n",
    "                             (42.233)          \n",
    "                                               \n",
    "Constant                    3450.913***        \n",
    "                             (80.726)   '''\n",
    "date_string"
   ]
  },
  {
   "cell_type": "code",
   "execution_count": 26,
   "id": "6a53c822",
   "metadata": {},
   "outputs": [
    {
     "data": {
      "text/plain": [
       "['totwrk',\n",
       " '-0.169***',\n",
       " '(0.018)',\n",
       " 'age',\n",
       " '2.689*',\n",
       " '(1.469)',\n",
       " 'south',\n",
       " '101.568**',\n",
       " '(41.837)',\n",
       " 'male',\n",
       " '87.669**',\n",
       " '(35.104)',\n",
       " 'smsa',\n",
       " '-54.748*',\n",
       " '(33.123)',\n",
       " 'yngkid',\n",
       " '-13.962',\n",
       " '(50.341)',\n",
       " 'marr',\n",
       " '31.211',\n",
       " '(42.233)',\n",
       " 'Constant',\n",
       " '3450.913***',\n",
       " '(80.726)']"
      ]
     },
     "execution_count": 26,
     "metadata": {},
     "output_type": "execute_result"
    }
   ],
   "source": [
    "date_string.strip().split()"
   ]
  },
  {
   "cell_type": "code",
   "execution_count": 27,
   "id": "c597b852",
   "metadata": {},
   "outputs": [
    {
     "data": {
      "text/plain": [
       "array([['totwrk', '-0.169***', '(0.018)'],\n",
       "       ['age', '2.689*', '(1.469)'],\n",
       "       ['south', '101.568**', '(41.837)'],\n",
       "       ['male', '87.669**', '(35.104)'],\n",
       "       ['smsa', '-54.748*', '(33.123)'],\n",
       "       ['yngkid', '-13.962', '(50.341)'],\n",
       "       ['marr', '31.211', '(42.233)'],\n",
       "       ['Constant', '3450.913***', '(80.726)']], dtype='<U11')"
      ]
     },
     "execution_count": 27,
     "metadata": {},
     "output_type": "execute_result"
    }
   ],
   "source": [
    "np.reshape(date_string.strip().split(), (8,3))"
   ]
  },
  {
   "cell_type": "code",
   "execution_count": 30,
   "id": "1481f8a5",
   "metadata": {},
   "outputs": [],
   "source": [
    "df = pd.DataFrame(np.reshape(date_string.strip().split(), (8,3)), columns=['name', 'estimate', 'std_err'] )"
   ]
  },
  {
   "cell_type": "code",
   "execution_count": 31,
   "id": "59376c29",
   "metadata": {},
   "outputs": [
    {
     "data": {
      "text/html": [
       "<div>\n",
       "<style scoped>\n",
       "    .dataframe tbody tr th:only-of-type {\n",
       "        vertical-align: middle;\n",
       "    }\n",
       "\n",
       "    .dataframe tbody tr th {\n",
       "        vertical-align: top;\n",
       "    }\n",
       "\n",
       "    .dataframe thead th {\n",
       "        text-align: right;\n",
       "    }\n",
       "</style>\n",
       "<table border=\"1\" class=\"dataframe\">\n",
       "  <thead>\n",
       "    <tr style=\"text-align: right;\">\n",
       "      <th></th>\n",
       "      <th>name</th>\n",
       "      <th>estimate</th>\n",
       "      <th>std_err</th>\n",
       "    </tr>\n",
       "  </thead>\n",
       "  <tbody>\n",
       "    <tr>\n",
       "      <th>0</th>\n",
       "      <td>totwrk</td>\n",
       "      <td>-0.169***</td>\n",
       "      <td>(0.018)</td>\n",
       "    </tr>\n",
       "    <tr>\n",
       "      <th>1</th>\n",
       "      <td>age</td>\n",
       "      <td>2.689*</td>\n",
       "      <td>(1.469)</td>\n",
       "    </tr>\n",
       "    <tr>\n",
       "      <th>2</th>\n",
       "      <td>south</td>\n",
       "      <td>101.568**</td>\n",
       "      <td>(41.837)</td>\n",
       "    </tr>\n",
       "    <tr>\n",
       "      <th>3</th>\n",
       "      <td>male</td>\n",
       "      <td>87.669**</td>\n",
       "      <td>(35.104)</td>\n",
       "    </tr>\n",
       "    <tr>\n",
       "      <th>4</th>\n",
       "      <td>smsa</td>\n",
       "      <td>-54.748*</td>\n",
       "      <td>(33.123)</td>\n",
       "    </tr>\n",
       "    <tr>\n",
       "      <th>5</th>\n",
       "      <td>yngkid</td>\n",
       "      <td>-13.962</td>\n",
       "      <td>(50.341)</td>\n",
       "    </tr>\n",
       "    <tr>\n",
       "      <th>6</th>\n",
       "      <td>marr</td>\n",
       "      <td>31.211</td>\n",
       "      <td>(42.233)</td>\n",
       "    </tr>\n",
       "    <tr>\n",
       "      <th>7</th>\n",
       "      <td>Constant</td>\n",
       "      <td>3450.913***</td>\n",
       "      <td>(80.726)</td>\n",
       "    </tr>\n",
       "  </tbody>\n",
       "</table>\n",
       "</div>"
      ],
      "text/plain": [
       "       name     estimate   std_err\n",
       "0    totwrk    -0.169***   (0.018)\n",
       "1       age       2.689*   (1.469)\n",
       "2     south    101.568**  (41.837)\n",
       "3      male     87.669**  (35.104)\n",
       "4      smsa     -54.748*  (33.123)\n",
       "5    yngkid      -13.962  (50.341)\n",
       "6      marr       31.211  (42.233)\n",
       "7  Constant  3450.913***  (80.726)"
      ]
     },
     "execution_count": 31,
     "metadata": {},
     "output_type": "execute_result"
    }
   ],
   "source": [
    "df"
   ]
  },
  {
   "cell_type": "markdown",
   "id": "dfc13d30",
   "metadata": {},
   "source": [
    "- \\d -- любая цифра.\n",
    "- \\D -- любая не цифра.\n",
    "- \\w -- любая буква.\n",
    "- \\W -- любая не буква.\n",
    "- \\s -- любой пробельный символ, включая пробел\n",
    "- \\S -- все символы, кроме пробельных\n",
    "- \\* -- любое количество вхождений предыдущего символа(группы символов), от 0 до бесконечности(группы символов)\n",
    "- \\+ -- любое количество вхождений предыдущего символа(группы символов), от 1 до бесконечности(группы символов)\n",
    "- ? -- 0 или 1 вхождение предыдущего символа(группы символов)\n",
    "- {n} -- точное количество вхождений - n раз предыдущего символа (группы символов)\n",
    "- {n,m} -- количество вхождений не менее n и не более m раз предыдущего символа\n",
    "- | -- логическое \"ИЛИ\"\n",
    "- [\\,] -- применяется \"ИЛИ\" к набору символов, любой из которых может встретиться в тексте"
   ]
  },
  {
   "cell_type": "markdown",
   "id": "78a6ca93",
   "metadata": {},
   "source": [
    "###### [-+]?\\d+.\\d+--- шаблон, который выделяет из строки десятичную дробь\n",
    "- [-+] -- знак плюс или мину\n",
    "- ? -- знаков может быть один, может не быть вообще\n",
    "- \\d+ --- неопределенное количество цифр.\n",
    "- \\. --- знак точки, для разделения десятичной дроби"
   ]
  },
  {
   "cell_type": "code",
   "execution_count": 35,
   "id": "6b44bdd4",
   "metadata": {},
   "outputs": [],
   "source": [
    "df['num_est'] = df['estimate'].str.extract(r'([-+]?\\d+.\\d+)').astype(float)\n",
    "df['num_str_edd'] = df['std_err'].str.extract(r'([-+]?\\d+.\\d+)').astype(float)"
   ]
  },
  {
   "cell_type": "code",
   "execution_count": 36,
   "id": "efdf33e8",
   "metadata": {},
   "outputs": [
    {
     "data": {
      "text/html": [
       "<div>\n",
       "<style scoped>\n",
       "    .dataframe tbody tr th:only-of-type {\n",
       "        vertical-align: middle;\n",
       "    }\n",
       "\n",
       "    .dataframe tbody tr th {\n",
       "        vertical-align: top;\n",
       "    }\n",
       "\n",
       "    .dataframe thead th {\n",
       "        text-align: right;\n",
       "    }\n",
       "</style>\n",
       "<table border=\"1\" class=\"dataframe\">\n",
       "  <thead>\n",
       "    <tr style=\"text-align: right;\">\n",
       "      <th></th>\n",
       "      <th>name</th>\n",
       "      <th>estimate</th>\n",
       "      <th>std_err</th>\n",
       "      <th>num_est</th>\n",
       "      <th>num_str_edd</th>\n",
       "    </tr>\n",
       "  </thead>\n",
       "  <tbody>\n",
       "    <tr>\n",
       "      <th>0</th>\n",
       "      <td>totwrk</td>\n",
       "      <td>-0.169***</td>\n",
       "      <td>(0.018)</td>\n",
       "      <td>-0.169</td>\n",
       "      <td>0.018</td>\n",
       "    </tr>\n",
       "    <tr>\n",
       "      <th>1</th>\n",
       "      <td>age</td>\n",
       "      <td>2.689*</td>\n",
       "      <td>(1.469)</td>\n",
       "      <td>2.689</td>\n",
       "      <td>1.469</td>\n",
       "    </tr>\n",
       "    <tr>\n",
       "      <th>2</th>\n",
       "      <td>south</td>\n",
       "      <td>101.568**</td>\n",
       "      <td>(41.837)</td>\n",
       "      <td>101.568</td>\n",
       "      <td>41.837</td>\n",
       "    </tr>\n",
       "    <tr>\n",
       "      <th>3</th>\n",
       "      <td>male</td>\n",
       "      <td>87.669**</td>\n",
       "      <td>(35.104)</td>\n",
       "      <td>87.669</td>\n",
       "      <td>35.104</td>\n",
       "    </tr>\n",
       "    <tr>\n",
       "      <th>4</th>\n",
       "      <td>smsa</td>\n",
       "      <td>-54.748*</td>\n",
       "      <td>(33.123)</td>\n",
       "      <td>-54.748</td>\n",
       "      <td>33.123</td>\n",
       "    </tr>\n",
       "    <tr>\n",
       "      <th>5</th>\n",
       "      <td>yngkid</td>\n",
       "      <td>-13.962</td>\n",
       "      <td>(50.341)</td>\n",
       "      <td>-13.962</td>\n",
       "      <td>50.341</td>\n",
       "    </tr>\n",
       "    <tr>\n",
       "      <th>6</th>\n",
       "      <td>marr</td>\n",
       "      <td>31.211</td>\n",
       "      <td>(42.233)</td>\n",
       "      <td>31.211</td>\n",
       "      <td>42.233</td>\n",
       "    </tr>\n",
       "    <tr>\n",
       "      <th>7</th>\n",
       "      <td>Constant</td>\n",
       "      <td>3450.913***</td>\n",
       "      <td>(80.726)</td>\n",
       "      <td>3450.913</td>\n",
       "      <td>80.726</td>\n",
       "    </tr>\n",
       "  </tbody>\n",
       "</table>\n",
       "</div>"
      ],
      "text/plain": [
       "       name     estimate   std_err   num_est  num_str_edd\n",
       "0    totwrk    -0.169***   (0.018)    -0.169        0.018\n",
       "1       age       2.689*   (1.469)     2.689        1.469\n",
       "2     south    101.568**  (41.837)   101.568       41.837\n",
       "3      male     87.669**  (35.104)    87.669       35.104\n",
       "4      smsa     -54.748*  (33.123)   -54.748       33.123\n",
       "5    yngkid      -13.962  (50.341)   -13.962       50.341\n",
       "6      marr       31.211  (42.233)    31.211       42.233\n",
       "7  Constant  3450.913***  (80.726)  3450.913       80.726"
      ]
     },
     "execution_count": 36,
     "metadata": {},
     "output_type": "execute_result"
    }
   ],
   "source": [
    "df"
   ]
  },
  {
   "cell_type": "markdown",
   "id": "d42334f3",
   "metadata": {},
   "source": [
    "# $$\n",
    "P(\\hat{\\beta_1} - t_{cr}\\cdot s_1 < \\beta < \\hat{\\beta_1} + t_{cr} \\cdot s_1) = \\gamma\n",
    "$$"
   ]
  },
  {
   "cell_type": "code",
   "execution_count": 38,
   "id": "93d50a44",
   "metadata": {},
   "outputs": [
    {
     "data": {
      "text/plain": [
       "1.6470395952054095"
      ]
     },
     "execution_count": 38,
     "metadata": {},
     "output_type": "execute_result"
    }
   ],
   "source": [
    "alpha=0.1\n",
    "t_cr = stats.t.ppf(1-alpha/2, 706-8)\n",
    "t_cr"
   ]
  },
  {
   "cell_type": "code",
   "execution_count": 40,
   "id": "849321cf",
   "metadata": {},
   "outputs": [
    {
     "data": {
      "text/html": [
       "<div>\n",
       "<style scoped>\n",
       "    .dataframe tbody tr th:only-of-type {\n",
       "        vertical-align: middle;\n",
       "    }\n",
       "\n",
       "    .dataframe tbody tr th {\n",
       "        vertical-align: top;\n",
       "    }\n",
       "\n",
       "    .dataframe thead th {\n",
       "        text-align: right;\n",
       "    }\n",
       "</style>\n",
       "<table border=\"1\" class=\"dataframe\">\n",
       "  <thead>\n",
       "    <tr style=\"text-align: right;\">\n",
       "      <th></th>\n",
       "      <th>name</th>\n",
       "      <th>estimate</th>\n",
       "      <th>std_err</th>\n",
       "      <th>num_est</th>\n",
       "      <th>num_str_edd</th>\n",
       "      <th>lowe</th>\n",
       "      <th>upper</th>\n",
       "    </tr>\n",
       "  </thead>\n",
       "  <tbody>\n",
       "    <tr>\n",
       "      <th>0</th>\n",
       "      <td>totwrk</td>\n",
       "      <td>-0.169***</td>\n",
       "      <td>(0.018)</td>\n",
       "      <td>-0.169</td>\n",
       "      <td>0.018</td>\n",
       "      <td>-0.20</td>\n",
       "      <td>-0.14</td>\n",
       "    </tr>\n",
       "    <tr>\n",
       "      <th>1</th>\n",
       "      <td>age</td>\n",
       "      <td>2.689*</td>\n",
       "      <td>(1.469)</td>\n",
       "      <td>2.689</td>\n",
       "      <td>1.469</td>\n",
       "      <td>0.27</td>\n",
       "      <td>5.11</td>\n",
       "    </tr>\n",
       "    <tr>\n",
       "      <th>2</th>\n",
       "      <td>south</td>\n",
       "      <td>101.568**</td>\n",
       "      <td>(41.837)</td>\n",
       "      <td>101.568</td>\n",
       "      <td>41.837</td>\n",
       "      <td>32.66</td>\n",
       "      <td>170.48</td>\n",
       "    </tr>\n",
       "    <tr>\n",
       "      <th>3</th>\n",
       "      <td>male</td>\n",
       "      <td>87.669**</td>\n",
       "      <td>(35.104)</td>\n",
       "      <td>87.669</td>\n",
       "      <td>35.104</td>\n",
       "      <td>29.85</td>\n",
       "      <td>145.49</td>\n",
       "    </tr>\n",
       "    <tr>\n",
       "      <th>4</th>\n",
       "      <td>smsa</td>\n",
       "      <td>-54.748*</td>\n",
       "      <td>(33.123)</td>\n",
       "      <td>-54.748</td>\n",
       "      <td>33.123</td>\n",
       "      <td>-109.30</td>\n",
       "      <td>-0.19</td>\n",
       "    </tr>\n",
       "    <tr>\n",
       "      <th>5</th>\n",
       "      <td>yngkid</td>\n",
       "      <td>-13.962</td>\n",
       "      <td>(50.341)</td>\n",
       "      <td>-13.962</td>\n",
       "      <td>50.341</td>\n",
       "      <td>-96.88</td>\n",
       "      <td>68.95</td>\n",
       "    </tr>\n",
       "    <tr>\n",
       "      <th>6</th>\n",
       "      <td>marr</td>\n",
       "      <td>31.211</td>\n",
       "      <td>(42.233)</td>\n",
       "      <td>31.211</td>\n",
       "      <td>42.233</td>\n",
       "      <td>-38.35</td>\n",
       "      <td>100.77</td>\n",
       "    </tr>\n",
       "    <tr>\n",
       "      <th>7</th>\n",
       "      <td>Constant</td>\n",
       "      <td>3450.913***</td>\n",
       "      <td>(80.726)</td>\n",
       "      <td>3450.913</td>\n",
       "      <td>80.726</td>\n",
       "      <td>3317.95</td>\n",
       "      <td>3583.87</td>\n",
       "    </tr>\n",
       "  </tbody>\n",
       "</table>\n",
       "</div>"
      ],
      "text/plain": [
       "       name     estimate   std_err   num_est  num_str_edd     lowe    upper\n",
       "0    totwrk    -0.169***   (0.018)    -0.169        0.018    -0.20    -0.14\n",
       "1       age       2.689*   (1.469)     2.689        1.469     0.27     5.11\n",
       "2     south    101.568**  (41.837)   101.568       41.837    32.66   170.48\n",
       "3      male     87.669**  (35.104)    87.669       35.104    29.85   145.49\n",
       "4      smsa     -54.748*  (33.123)   -54.748       33.123  -109.30    -0.19\n",
       "5    yngkid      -13.962  (50.341)   -13.962       50.341   -96.88    68.95\n",
       "6      marr       31.211  (42.233)    31.211       42.233   -38.35   100.77\n",
       "7  Constant  3450.913***  (80.726)  3450.913       80.726  3317.95  3583.87"
      ]
     },
     "execution_count": 40,
     "metadata": {},
     "output_type": "execute_result"
    }
   ],
   "source": [
    "df['lowe'] = (df['num_est'] - t_cr*df['num_str_edd']).round(2)\n",
    "df['upper'] = (df['num_est'] + t_cr*df['num_str_edd']).round(2)\n",
    "df"
   ]
  },
  {
   "cell_type": "code",
   "execution_count": null,
   "id": "d2c97841",
   "metadata": {},
   "outputs": [],
   "source": []
  }
 ],
 "metadata": {
  "kernelspec": {
   "display_name": "Python 3",
   "language": "python",
   "name": "python3"
  },
  "language_info": {
   "codemirror_mode": {
    "name": "ipython",
    "version": 3
   },
   "file_extension": ".py",
   "mimetype": "text/x-python",
   "name": "python",
   "nbconvert_exporter": "python",
   "pygments_lexer": "ipython3",
   "version": "3.8.8"
  }
 },
 "nbformat": 4,
 "nbformat_minor": 5
}
