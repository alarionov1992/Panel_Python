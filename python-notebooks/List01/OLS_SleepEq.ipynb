{
 "cells": [
  {
   "cell_type": "markdown",
   "id": "0944e69b",
   "metadata": {},
   "source": [
    "# Sleep Equation"
   ]
  },
  {
   "cell_type": "code",
   "execution_count": null,
   "id": "7e309026",
   "metadata": {},
   "outputs": [],
   "source": [
    "import numpy as np # linear algebra \n",
    "import pandas as pd # data processing, CSV file I/O (e.g. pd.read_csv)\n",
    "# stats models: regression fitting\n",
    "import statsmodels.formula.api as smf\n",
    "# data visualization\n",
    "import seaborn as sns"
   ]
  },
  {
   "cell_type": "markdown",
   "id": "9da80796",
   "metadata": {},
   "source": [
    "Загрузим данные их файла `sleep75.csv` и выведем размер датасета"
   ]
  },
  {
   "cell_type": "code",
   "execution_count": null,
   "id": "36fdcdef",
   "metadata": {},
   "outputs": [],
   "source": [
    "df = pd.read_csv('sleep75.csv')\n",
    "df.shape"
   ]
  },
  {
   "cell_type": "markdown",
   "id": "2b30cc53",
   "metadata": {},
   "source": [
    "первые несколько наблюдения"
   ]
  },
  {
   "cell_type": "code",
   "execution_count": null,
   "id": "20789fd7",
   "metadata": {},
   "outputs": [],
   "source": [
    "df.head()"
   ]
  },
  {
   "cell_type": "markdown",
   "id": "db837b2b",
   "metadata": {},
   "source": [
    "## Пример 1 (sleep vs totwrk)\n",
    "\n",
    "построим диаграмму рассеяним **sleep vs totwrk** и вычислим параметры оптимальной прямой"
   ]
  },
  {
   "cell_type": "code",
   "execution_count": null,
   "id": "648ba1b8",
   "metadata": {
    "scrolled": false
   },
   "outputs": [],
   "source": [
    "sns.scatterplot(data=df, y='sleep', x='totwrk')"
   ]
  },
  {
   "cell_type": "markdown",
   "id": "dea07f33",
   "metadata": {},
   "source": [
    "постройте диаграмму рассеяним **sleep vs totwrk** с 'подогнанной' прямой"
   ]
  },
  {
   "cell_type": "code",
   "execution_count": null,
   "id": "821abc75",
   "metadata": {},
   "outputs": [],
   "source": [
    "sns.regplot(data=df, y='sleep', x='totwrk', ci=None, line_kws={\"color\": \"r\"})"
   ]
  },
  {
   "cell_type": "code",
   "execution_count": null,
   "id": "31c4080b",
   "metadata": {},
   "outputs": [],
   "source": [
    "# подгонка прямой\n",
    "fitted_line = smf.ols(formula='sleep~totwrk', data=df).fit()\n",
    "# коэффициенты с округлением\n",
    "fitted_line.params.round(2)"
   ]
  },
  {
   "cell_type": "markdown",
   "id": "657f65ec",
   "metadata": {},
   "source": [
    "## Пример 3 (sleep vs totwrk, totwrk^2)\n",
    "\n",
    "постройте диаграмму рассеяним **sleep vs totwrk** с 'подогнанной' параболой"
   ]
  },
  {
   "cell_type": "code",
   "execution_count": null,
   "id": "2673805a",
   "metadata": {},
   "outputs": [],
   "source": [
    "sns.regplot(data=df, y='sleep', x='totwrk', ci=None, order=2, line_kws={\"color\": \"C1\"})"
   ]
  },
  {
   "cell_type": "markdown",
   "id": "cb633235",
   "metadata": {},
   "source": [
    "найти параметры оптимальной параболы **sleep на totwrk, totwrk^2**"
   ]
  },
  {
   "cell_type": "code",
   "execution_count": null,
   "id": "96bc800d",
   "metadata": {},
   "outputs": [],
   "source": [
    "# подгонка параболы\n",
    "fitted_pol = smf.ols(formula='sleep~totwrk+I(totwrk**2)', data=df).fit()\n",
    "# коэффициенты с округлением\n",
    "fitted_pol.params.round(2)"
   ]
  },
  {
   "cell_type": "markdown",
   "id": "1ebde2d5",
   "metadata": {},
   "source": [
    "## Пример 5 (sleep на totwrk & age)"
   ]
  },
  {
   "cell_type": "code",
   "execution_count": null,
   "id": "65429560",
   "metadata": {},
   "outputs": [],
   "source": [
    "# подгонка плоскости\n",
    "fitted_plane = smf.ols(formula='sleep~totwrk+age', data=df).fit()\n",
    "# коэффициенты с округлением\n",
    "fitted_plane.params.round(2)"
   ]
  },
  {
   "cell_type": "code",
   "execution_count": null,
   "id": "9e333fd4",
   "metadata": {},
   "outputs": [],
   "source": []
  }
 ],
 "metadata": {
  "kernelspec": {
   "display_name": "Python 3 (ipykernel)",
   "language": "python",
   "name": "python3"
  },
  "language_info": {
   "codemirror_mode": {
    "name": "ipython",
    "version": 3
   },
   "file_extension": ".py",
   "mimetype": "text/x-python",
   "name": "python",
   "nbconvert_exporter": "python",
   "pygments_lexer": "ipython3",
   "version": "3.11.1"
  }
 },
 "nbformat": 4,
 "nbformat_minor": 5
}
