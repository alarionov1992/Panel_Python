{
 "cells": [
  {
   "attachments": {},
   "cell_type": "markdown",
   "id": "95ae6717",
   "metadata": {},
   "source": [
    "# Диагностические тесты на автокорреляцию"
   ]
  },
  {
   "cell_type": "code",
   "execution_count": 1,
   "id": "1996acc6",
   "metadata": {},
   "outputs": [],
   "source": [
    "import pandas as pd\n",
    "import numpy as np\n",
    "import statsmodels.formula.api as smf\n",
    "import statsmodels.api as sm\n",
    "import statsmodels.stats.api as sms # тесты\n",
    "from scipy.stats import chi2 # 𝜒2-распределение"
   ]
  },
  {
   "attachments": {},
   "cell_type": "markdown",
   "id": "14edc352",
   "metadata": {},
   "source": [
    "## Icecream equation\n",
    "\n",
    "Рассмотрим набор данных `Icecream`: Недельные данные по потреблению мороженого\n",
    "\n",
    "* cons (потребление мороженого на одного человека в пинтах)\n",
    "* income (средний недельных доход семьи)\n",
    "* price (цена мороженого за пинту)\n",
    "* temp (средняя температура по Фаренгейту)\n",
    "\n",
    "и регрессию **cons на income, price, temp**. Спецификация модели с серийной корреляцией первого порядка\n",
    "\\begin{align*}\n",
    "    cons_t&=\\beta_0+\\beta_1 income_t+\\beta_2 price_t+\\beta_3 temp_t+u_t & u_t=\\rho u_{t-1}+v_t\n",
    "\\end{align*}\n",
    "\n",
    "Результаты подгонки"
   ]
  },
  {
   "cell_type": "code",
   "execution_count": 20,
   "id": "4b492c36",
   "metadata": {},
   "outputs": [
    {
     "data": {
      "text/html": [
       "<table class=\"simpletable\">\n",
       "<caption>OLS Regression Results</caption>\n",
       "<tr>\n",
       "  <th>Dep. Variable:</th>      <td>cons</td>    <th>  R-squared:         </th> <td>   0.719</td>\n",
       "</tr>\n",
       "<tr>\n",
       "  <th>Model:</th>               <td>OLS</td>    <th>  Adj. R-squared:    </th> <td>   0.687</td>\n",
       "</tr>\n",
       "<tr>\n",
       "  <th>No. Observations:</th>  <td>    30</td>   <th>  F-statistic:       </th> <td>   22.17</td>\n",
       "</tr>\n",
       "<tr>\n",
       "  <th>Covariance Type:</th>  <td>nonrobust</td> <th>  Prob (F-statistic):</th> <td>2.45e-07</td>\n",
       "</tr>\n",
       "</table>\n",
       "<table class=\"simpletable\">\n",
       "<tr>\n",
       "      <td></td>         <th>coef</th>     <th>std err</th>      <th>t</th>      <th>P>|t|</th>  <th>[0.025</th>    <th>0.975]</th>  \n",
       "</tr>\n",
       "<tr>\n",
       "  <th>Intercept</th> <td>    0.1973</td> <td>    0.270</td> <td>    0.730</td> <td> 0.472</td> <td>   -0.358</td> <td>    0.753</td>\n",
       "</tr>\n",
       "<tr>\n",
       "  <th>income</th>    <td>    0.0033</td> <td>    0.001</td> <td>    2.824</td> <td> 0.009</td> <td>    0.001</td> <td>    0.006</td>\n",
       "</tr>\n",
       "<tr>\n",
       "  <th>price</th>     <td>   -1.0444</td> <td>    0.834</td> <td>   -1.252</td> <td> 0.222</td> <td>   -2.759</td> <td>    0.671</td>\n",
       "</tr>\n",
       "<tr>\n",
       "  <th>temp</th>      <td>    0.0035</td> <td>    0.000</td> <td>    7.762</td> <td> 0.000</td> <td>    0.003</td> <td>    0.004</td>\n",
       "</tr>\n",
       "</table><br/><br/>Notes:<br/>[1] Standard Errors assume that the covariance matrix of the errors is correctly specified.<br/>[2] The condition number is large, 1.27e+04. This might indicate that there are<br/>strong multicollinearity or other numerical problems."
      ],
      "text/plain": [
       "<class 'statsmodels.iolib.summary.Summary'>\n",
       "\"\"\"\n",
       "                            OLS Regression Results                            \n",
       "==============================================================================\n",
       "Dep. Variable:                   cons   R-squared:                       0.719\n",
       "Model:                            OLS   Adj. R-squared:                  0.687\n",
       "No. Observations:                  30   F-statistic:                     22.17\n",
       "Covariance Type:            nonrobust   Prob (F-statistic):           2.45e-07\n",
       "==============================================================================\n",
       "                 coef    std err          t      P>|t|      [0.025      0.975]\n",
       "------------------------------------------------------------------------------\n",
       "Intercept      0.1973      0.270      0.730      0.472      -0.358       0.753\n",
       "income         0.0033      0.001      2.824      0.009       0.001       0.006\n",
       "price         -1.0444      0.834     -1.252      0.222      -2.759       0.671\n",
       "temp           0.0035      0.000      7.762      0.000       0.003       0.004\n",
       "==============================================================================\n",
       "\n",
       "Notes:\n",
       "[1] Standard Errors assume that the covariance matrix of the errors is correctly specified.\n",
       "[2] The condition number is large, 1.27e+04. This might indicate that there are\n",
       "strong multicollinearity or other numerical problems.\n",
       "\"\"\""
      ]
     },
     "execution_count": 20,
     "metadata": {},
     "output_type": "execute_result"
    }
   ],
   "source": [
    "icecream_df = pd.read_csv('https://raw.githubusercontent.com/artamonoff/Econometrica/master/python-notebooks/data-csv/icecream.csv')\n",
    "mod_ice = smf.ols(formula='cons~income+price+temp', data=icecream_df).fit()\n",
    "mod_ice.summary(slim=True)"
   ]
  },
  {
   "attachments": {},
   "cell_type": "markdown",
   "id": "1829422c",
   "metadata": {},
   "source": [
    "Диагностический DW-тест на серинйю корреляцию: $H_0:\\rho=0$ vs $H_1:\\rho\\ne0$\n",
    "\n",
    "Тестовая статистика"
   ]
  },
  {
   "cell_type": "code",
   "execution_count": 21,
   "id": "9e0bd4c4",
   "metadata": {},
   "outputs": [
    {
     "data": {
      "text/plain": [
       "1.021169312283382"
      ]
     },
     "execution_count": 21,
     "metadata": {},
     "output_type": "execute_result"
    }
   ],
   "source": [
    "sms.durbin_watson(resids=mod_ice.resid)"
   ]
  },
  {
   "attachments": {},
   "cell_type": "markdown",
   "id": "edf128e5",
   "metadata": {},
   "source": [
    "Число наблюдений и число регрессоров"
   ]
  },
  {
   "cell_type": "code",
   "execution_count": 22,
   "id": "91ff5734",
   "metadata": {},
   "outputs": [
    {
     "name": "stdout",
     "output_type": "stream",
     "text": [
      "Число наблюдений= 30.0\n",
      "Число регрессоров= 3.0\n"
     ]
    }
   ],
   "source": [
    "print('Число наблюдений=', mod_ice.nobs)\n",
    "print('Число регрессоров=', mod_ice.df_model)"
   ]
  },
  {
   "attachments": {},
   "cell_type": "markdown",
   "id": "f8b923e7",
   "metadata": {},
   "source": [
    "5%-критические значения: $d_l=1.214$ $d_u=1.650$ (из спец.таблицы)\n",
    "\n",
    "Какие можно сделать выводы?"
   ]
  },
  {
   "attachments": {},
   "cell_type": "markdown",
   "id": "0686ffa5",
   "metadata": {},
   "source": [
    "## Consumption equation 1\n",
    "\n",
    "Для набора данных Consumption рассморим регессию с серийно коррецяией первого порядка\n",
    "\n",
    "Модель с серийной корреляцией первого порядка\n",
    "\\begin{align*}\n",
    "    \\Delta\\log(yd_t)&=\\beta_0+\\beta_1\\Delta\\log(ce_t)+u_t & u_t&=\\rho u_{t-1}+v_t\n",
    "\\end{align*}\n",
    "\n",
    "Загрузим датасет и добавим первые разности переменных"
   ]
  },
  {
   "cell_type": "code",
   "execution_count": 2,
   "id": "c4ce682e",
   "metadata": {},
   "outputs": [
    {
     "data": {
      "text/html": [
       "<div>\n",
       "<style scoped>\n",
       "    .dataframe tbody tr th:only-of-type {\n",
       "        vertical-align: middle;\n",
       "    }\n",
       "\n",
       "    .dataframe tbody tr th {\n",
       "        vertical-align: top;\n",
       "    }\n",
       "\n",
       "    .dataframe thead th {\n",
       "        text-align: right;\n",
       "    }\n",
       "</style>\n",
       "<table border=\"1\" class=\"dataframe\">\n",
       "  <thead>\n",
       "    <tr style=\"text-align: right;\">\n",
       "      <th></th>\n",
       "      <th>Unnamed: 0</th>\n",
       "      <th>yd</th>\n",
       "      <th>ce</th>\n",
       "      <th>d_log_yd</th>\n",
       "      <th>d_log_ce</th>\n",
       "    </tr>\n",
       "  </thead>\n",
       "  <tbody>\n",
       "    <tr>\n",
       "      <th>0</th>\n",
       "      <td>1</td>\n",
       "      <td>59505.0</td>\n",
       "      <td>57168</td>\n",
       "      <td>NaN</td>\n",
       "      <td>NaN</td>\n",
       "    </tr>\n",
       "    <tr>\n",
       "      <th>1</th>\n",
       "      <td>2</td>\n",
       "      <td>59717.4</td>\n",
       "      <td>55464</td>\n",
       "      <td>0.003563</td>\n",
       "      <td>-0.030260</td>\n",
       "    </tr>\n",
       "    <tr>\n",
       "      <th>2</th>\n",
       "      <td>3</td>\n",
       "      <td>59039.1</td>\n",
       "      <td>56332</td>\n",
       "      <td>-0.011423</td>\n",
       "      <td>0.015529</td>\n",
       "    </tr>\n",
       "    <tr>\n",
       "      <th>3</th>\n",
       "      <td>4</td>\n",
       "      <td>61342.6</td>\n",
       "      <td>55836</td>\n",
       "      <td>0.038275</td>\n",
       "      <td>-0.008844</td>\n",
       "    </tr>\n",
       "    <tr>\n",
       "      <th>4</th>\n",
       "      <td>5</td>\n",
       "      <td>60544.6</td>\n",
       "      <td>54488</td>\n",
       "      <td>-0.013094</td>\n",
       "      <td>-0.024438</td>\n",
       "    </tr>\n",
       "  </tbody>\n",
       "</table>\n",
       "</div>"
      ],
      "text/plain": [
       "   Unnamed: 0       yd     ce  d_log_yd  d_log_ce\n",
       "0           1  59505.0  57168       NaN       NaN\n",
       "1           2  59717.4  55464  0.003563 -0.030260\n",
       "2           3  59039.1  56332 -0.011423  0.015529\n",
       "3           4  61342.6  55836  0.038275 -0.008844\n",
       "4           5  60544.6  54488 -0.013094 -0.024438"
      ]
     },
     "execution_count": 2,
     "metadata": {},
     "output_type": "execute_result"
    }
   ],
   "source": [
    "cons_df = pd.read_csv('https://raw.githubusercontent.com/artamonoff/Econometrica/master/python-notebooks/data-csv/Consumption.csv')\n",
    "# добавим первые разности к датасету использую метод .diff()\n",
    "cons_df[['d_log_yd', 'd_log_ce']] = np.log(cons_df[['yd', 'ce']]).diff()\n",
    "cons_df.head()"
   ]
  },
  {
   "cell_type": "code",
   "execution_count": 3,
   "id": "a58a9f10",
   "metadata": {},
   "outputs": [
    {
     "data": {
      "text/plain": [
       "array([<Axes: >, <Axes: >, <Axes: >, <Axes: >, <Axes: >], dtype=object)"
      ]
     },
     "execution_count": 3,
     "metadata": {},
     "output_type": "execute_result"
    },
    {
     "data": {
      "image/png": "[encoded data removed]",
      "text/plain": [
       "<Figure size 640x480 with 5 Axes>"
      ]
     },
     "metadata": {},
     "output_type": "display_data"
    }
   ],
   "source": [
    "cons_df.plot(subplots=True)"
   ]
  },
  {
   "attachments": {},
   "cell_type": "markdown",
   "id": "975612c7",
   "metadata": {},
   "source": [
    "Результаты подгонки"
   ]
  },
  {
   "cell_type": "code",
   "execution_count": 38,
   "id": "fb50c3d7",
   "metadata": {
    "scrolled": false
   },
   "outputs": [
    {
     "data": {
      "text/html": [
       "<table class=\"simpletable\">\n",
       "<caption>OLS Regression Results</caption>\n",
       "<tr>\n",
       "  <th>Dep. Variable:</th>    <td>d_log_yd</td>  <th>  R-squared:         </th> <td>   0.132</td>\n",
       "</tr>\n",
       "<tr>\n",
       "  <th>Model:</th>               <td>OLS</td>    <th>  Adj. R-squared:    </th> <td>   0.128</td>\n",
       "</tr>\n",
       "<tr>\n",
       "  <th>No. Observations:</th>  <td>   199</td>   <th>  F-statistic:       </th> <td>   30.06</td>\n",
       "</tr>\n",
       "<tr>\n",
       "  <th>Covariance Type:</th>  <td>nonrobust</td> <th>  Prob (F-statistic):</th> <td>1.27e-07</td>\n",
       "</tr>\n",
       "</table>\n",
       "<table class=\"simpletable\">\n",
       "<tr>\n",
       "      <td></td>         <th>coef</th>     <th>std err</th>      <th>t</th>      <th>P>|t|</th>  <th>[0.025</th>    <th>0.975]</th>  \n",
       "</tr>\n",
       "<tr>\n",
       "  <th>Intercept</th> <td>    0.0059</td> <td>    0.001</td> <td>    5.252</td> <td> 0.000</td> <td>    0.004</td> <td>    0.008</td>\n",
       "</tr>\n",
       "<tr>\n",
       "  <th>d_log_ce</th>  <td>    0.3706</td> <td>    0.068</td> <td>    5.483</td> <td> 0.000</td> <td>    0.237</td> <td>    0.504</td>\n",
       "</tr>\n",
       "</table><br/><br/>Notes:<br/>[1] Standard Errors assume that the covariance matrix of the errors is correctly specified."
      ],
      "text/plain": [
       "<class 'statsmodels.iolib.summary.Summary'>\n",
       "\"\"\"\n",
       "                            OLS Regression Results                            \n",
       "==============================================================================\n",
       "Dep. Variable:               d_log_yd   R-squared:                       0.132\n",
       "Model:                            OLS   Adj. R-squared:                  0.128\n",
       "No. Observations:                 199   F-statistic:                     30.06\n",
       "Covariance Type:            nonrobust   Prob (F-statistic):           1.27e-07\n",
       "==============================================================================\n",
       "                 coef    std err          t      P>|t|      [0.025      0.975]\n",
       "------------------------------------------------------------------------------\n",
       "Intercept      0.0059      0.001      5.252      0.000       0.004       0.008\n",
       "d_log_ce       0.3706      0.068      5.483      0.000       0.237       0.504\n",
       "==============================================================================\n",
       "\n",
       "Notes:\n",
       "[1] Standard Errors assume that the covariance matrix of the errors is correctly specified.\n",
       "\"\"\""
      ]
     },
     "execution_count": 38,
     "metadata": {},
     "output_type": "execute_result"
    }
   ],
   "source": [
    "mod_cons = smf.ols(formula='d_log_yd~d_log_ce', data=cons_df).fit()\n",
    "mod_cons.summary(slim=True)"
   ]
  },
  {
   "attachments": {},
   "cell_type": "markdown",
   "id": "5690842c",
   "metadata": {},
   "source": [
    "Диагностический DW-тест на серинйю корреляцию: $H_0:\\rho=0$ vs $H_1:\\rho\\ne0$\n",
    "\n",
    "Тестовая статистика"
   ]
  },
  {
   "cell_type": "code",
   "execution_count": 39,
   "id": "d7d9f0f0",
   "metadata": {},
   "outputs": [
    {
     "data": {
      "text/plain": [
       "2.3820741077865417"
      ]
     },
     "execution_count": 39,
     "metadata": {},
     "output_type": "execute_result"
    }
   ],
   "source": [
    "sms.durbin_watson(resids=mod_cons.resid)"
   ]
  },
  {
   "cell_type": "code",
   "execution_count": 40,
   "id": "4311c96b",
   "metadata": {},
   "outputs": [
    {
     "name": "stdout",
     "output_type": "stream",
     "text": [
      "Число наблюдений= 199.0\n",
      "Число регрессоров= 1.0\n"
     ]
    }
   ],
   "source": [
    "print('Число наблюдений=', mod_cons.nobs)\n",
    "print('Число регрессоров=', mod_cons.df_model)"
   ]
  },
  {
   "attachments": {},
   "cell_type": "markdown",
   "id": "3a1a129f",
   "metadata": {},
   "source": [
    "5%-критические значения: $d_l=1.758$ $d_u=1.779$ (из спец.таблицы)\n",
    "\n",
    "Какие можно сделать выводы?\n",
    "\n",
    "Диагностический BG-тест на серийную корреляцию первого порядка $H_0:\\rho=0$ vs $H_1:\\rho\\ne0$"
   ]
  },
  {
   "cell_type": "code",
   "execution_count": 41,
   "id": "0d67b2aa",
   "metadata": {},
   "outputs": [
    {
     "data": {
      "text/plain": [
       "(7.607335705809491, 0.005813131344197056)"
      ]
     },
     "execution_count": 41,
     "metadata": {},
     "output_type": "execute_result"
    }
   ],
   "source": [
    "LM, LMpval, F, Fpval = sms.acorr_breusch_godfrey(mod_cons, nlags=1)\n",
    "LM, LMpval"
   ]
  },
  {
   "attachments": {},
   "cell_type": "markdown",
   "id": "97f037f7",
   "metadata": {},
   "source": [
    "5%-критическое значение $\\chi^2_{df=1}$"
   ]
  },
  {
   "cell_type": "code",
   "execution_count": 29,
   "id": "06027cdd",
   "metadata": {},
   "outputs": [
    {
     "data": {
      "text/plain": [
       "3.841458820694124"
      ]
     },
     "execution_count": 29,
     "metadata": {},
     "output_type": "execute_result"
    }
   ],
   "source": [
    "chi2.ppf(q=1-0.05, df=1)"
   ]
  },
  {
   "attachments": {},
   "cell_type": "markdown",
   "id": "2d990bec",
   "metadata": {},
   "source": [
    "Какие можно сделать выводы?"
   ]
  },
  {
   "attachments": {},
   "cell_type": "markdown",
   "id": "140527cd",
   "metadata": {},
   "source": [
    "## Consumption equation 3\n",
    "\n",
    "Для набора данных Consumption рассморим регессию с серийно коррецяией **третьего** порядка\n",
    "\n",
    "Модель с серийной корреляцией первого порядка\n",
    "\\begin{align*}\n",
    "    \\Delta\\log(yd_t)&=\\beta_0+\\beta_1\\Delta\\log(ce_t)+u_t & u_t&=\\rho_1 u_{t-1}+\\rho_2 u_{t-2}+\\rho_3 u_{t-3}+v_t\n",
    "\\end{align*}\n",
    "\n",
    "Загрузим датасет и добавим первые разности переменных"
   ]
  },
  {
   "cell_type": "code",
   "execution_count": 42,
   "id": "3275c720",
   "metadata": {},
   "outputs": [
    {
     "data": {
      "text/html": [
       "<div>\n",
       "<style scoped>\n",
       "    .dataframe tbody tr th:only-of-type {\n",
       "        vertical-align: middle;\n",
       "    }\n",
       "\n",
       "    .dataframe tbody tr th {\n",
       "        vertical-align: top;\n",
       "    }\n",
       "\n",
       "    .dataframe thead th {\n",
       "        text-align: right;\n",
       "    }\n",
       "</style>\n",
       "<table border=\"1\" class=\"dataframe\">\n",
       "  <thead>\n",
       "    <tr style=\"text-align: right;\">\n",
       "      <th></th>\n",
       "      <th>Unnamed: 0</th>\n",
       "      <th>yd</th>\n",
       "      <th>ce</th>\n",
       "      <th>d_log_yd</th>\n",
       "      <th>d_log_ce</th>\n",
       "    </tr>\n",
       "  </thead>\n",
       "  <tbody>\n",
       "    <tr>\n",
       "      <th>0</th>\n",
       "      <td>1</td>\n",
       "      <td>59505.0</td>\n",
       "      <td>57168</td>\n",
       "      <td>NaN</td>\n",
       "      <td>NaN</td>\n",
       "    </tr>\n",
       "    <tr>\n",
       "      <th>1</th>\n",
       "      <td>2</td>\n",
       "      <td>59717.4</td>\n",
       "      <td>55464</td>\n",
       "      <td>0.003563</td>\n",
       "      <td>-0.030260</td>\n",
       "    </tr>\n",
       "    <tr>\n",
       "      <th>2</th>\n",
       "      <td>3</td>\n",
       "      <td>59039.1</td>\n",
       "      <td>56332</td>\n",
       "      <td>-0.011423</td>\n",
       "      <td>0.015529</td>\n",
       "    </tr>\n",
       "    <tr>\n",
       "      <th>3</th>\n",
       "      <td>4</td>\n",
       "      <td>61342.6</td>\n",
       "      <td>55836</td>\n",
       "      <td>0.038275</td>\n",
       "      <td>-0.008844</td>\n",
       "    </tr>\n",
       "    <tr>\n",
       "      <th>4</th>\n",
       "      <td>5</td>\n",
       "      <td>60544.6</td>\n",
       "      <td>54488</td>\n",
       "      <td>-0.013094</td>\n",
       "      <td>-0.024438</td>\n",
       "    </tr>\n",
       "  </tbody>\n",
       "</table>\n",
       "</div>"
      ],
      "text/plain": [
       "   Unnamed: 0       yd     ce  d_log_yd  d_log_ce\n",
       "0           1  59505.0  57168       NaN       NaN\n",
       "1           2  59717.4  55464  0.003563 -0.030260\n",
       "2           3  59039.1  56332 -0.011423  0.015529\n",
       "3           4  61342.6  55836  0.038275 -0.008844\n",
       "4           5  60544.6  54488 -0.013094 -0.024438"
      ]
     },
     "execution_count": 42,
     "metadata": {},
     "output_type": "execute_result"
    }
   ],
   "source": [
    "cons_df = pd.read_csv('https://raw.githubusercontent.com/artamonoff/Econometrica/master/python-notebooks/data-csv/Consumption.csv')\n",
    "# добавим первые равности к датасету использую метод .diff()\n",
    "cons_df[['d_log_yd', 'd_log_ce']] = np.log(cons_df[['yd', 'ce']]).diff()\n",
    "cons_df.head()"
   ]
  },
  {
   "attachments": {},
   "cell_type": "markdown",
   "id": "049e3041",
   "metadata": {},
   "source": [
    "Результаты подгонки"
   ]
  },
  {
   "cell_type": "code",
   "execution_count": 43,
   "id": "58d01ff1",
   "metadata": {},
   "outputs": [
    {
     "data": {
      "text/html": [
       "<table class=\"simpletable\">\n",
       "<caption>OLS Regression Results</caption>\n",
       "<tr>\n",
       "  <th>Dep. Variable:</th>    <td>d_log_yd</td>  <th>  R-squared:         </th> <td>   0.132</td>\n",
       "</tr>\n",
       "<tr>\n",
       "  <th>Model:</th>               <td>OLS</td>    <th>  Adj. R-squared:    </th> <td>   0.128</td>\n",
       "</tr>\n",
       "<tr>\n",
       "  <th>No. Observations:</th>  <td>   199</td>   <th>  F-statistic:       </th> <td>   30.06</td>\n",
       "</tr>\n",
       "<tr>\n",
       "  <th>Covariance Type:</th>  <td>nonrobust</td> <th>  Prob (F-statistic):</th> <td>1.27e-07</td>\n",
       "</tr>\n",
       "</table>\n",
       "<table class=\"simpletable\">\n",
       "<tr>\n",
       "      <td></td>         <th>coef</th>     <th>std err</th>      <th>t</th>      <th>P>|t|</th>  <th>[0.025</th>    <th>0.975]</th>  \n",
       "</tr>\n",
       "<tr>\n",
       "  <th>Intercept</th> <td>    0.0059</td> <td>    0.001</td> <td>    5.252</td> <td> 0.000</td> <td>    0.004</td> <td>    0.008</td>\n",
       "</tr>\n",
       "<tr>\n",
       "  <th>d_log_ce</th>  <td>    0.3706</td> <td>    0.068</td> <td>    5.483</td> <td> 0.000</td> <td>    0.237</td> <td>    0.504</td>\n",
       "</tr>\n",
       "</table><br/><br/>Notes:<br/>[1] Standard Errors assume that the covariance matrix of the errors is correctly specified."
      ],
      "text/plain": [
       "<class 'statsmodels.iolib.summary.Summary'>\n",
       "\"\"\"\n",
       "                            OLS Regression Results                            \n",
       "==============================================================================\n",
       "Dep. Variable:               d_log_yd   R-squared:                       0.132\n",
       "Model:                            OLS   Adj. R-squared:                  0.128\n",
       "No. Observations:                 199   F-statistic:                     30.06\n",
       "Covariance Type:            nonrobust   Prob (F-statistic):           1.27e-07\n",
       "==============================================================================\n",
       "                 coef    std err          t      P>|t|      [0.025      0.975]\n",
       "------------------------------------------------------------------------------\n",
       "Intercept      0.0059      0.001      5.252      0.000       0.004       0.008\n",
       "d_log_ce       0.3706      0.068      5.483      0.000       0.237       0.504\n",
       "==============================================================================\n",
       "\n",
       "Notes:\n",
       "[1] Standard Errors assume that the covariance matrix of the errors is correctly specified.\n",
       "\"\"\""
      ]
     },
     "execution_count": 43,
     "metadata": {},
     "output_type": "execute_result"
    }
   ],
   "source": [
    "mod_cons = smf.ols(formula='d_log_yd~d_log_ce', data=cons_df).fit()\n",
    "mod_cons.summary(slim=True)"
   ]
  },
  {
   "cell_type": "code",
   "execution_count": 44,
   "id": "250c5daf",
   "metadata": {},
   "outputs": [
    {
     "data": {
      "text/plain": [
       "(9.376799456296979, 0.02467877970741734)"
      ]
     },
     "execution_count": 44,
     "metadata": {},
     "output_type": "execute_result"
    }
   ],
   "source": [
    "LM, LMpval, F, Fpval = sms.acorr_breusch_godfrey(mod_cons, nlags=3)\n",
    "LM, LMpval"
   ]
  },
  {
   "attachments": {},
   "cell_type": "markdown",
   "id": "46b8c7e0",
   "metadata": {},
   "source": [
    "1%-критическое значение $\\chi^2_{df=3}$"
   ]
  },
  {
   "cell_type": "code",
   "execution_count": 35,
   "id": "200a9b66",
   "metadata": {},
   "outputs": [
    {
     "data": {
      "text/plain": [
       "11.344866730144373"
      ]
     },
     "execution_count": 35,
     "metadata": {},
     "output_type": "execute_result"
    }
   ],
   "source": [
    "chi2.ppf(q=1-0.01, df=3)"
   ]
  },
  {
   "attachments": {},
   "cell_type": "markdown",
   "id": "f60ac25b",
   "metadata": {},
   "source": [
    "Какие можно сделать выводы?"
   ]
  }
 ],
 "metadata": {
  "kernelspec": {
   "display_name": "Python 3 (ipykernel)",
   "language": "python",
   "name": "python3"
  },
  "language_info": {
   "codemirror_mode": {
    "name": "ipython",
    "version": 3
   },
   "file_extension": ".py",
   "mimetype": "text/x-python",
   "name": "python",
   "nbconvert_exporter": "python",
   "pygments_lexer": "ipython3",
   "version": "3.9.16"
  }
 },
 "nbformat": 4,
 "nbformat_minor": 5
}
