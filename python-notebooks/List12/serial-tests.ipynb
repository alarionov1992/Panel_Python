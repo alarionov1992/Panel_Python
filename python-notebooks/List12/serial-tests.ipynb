{
 "cells": [
  {
   "attachments": {},
   "cell_type": "markdown",
   "id": "2cf235f4",
   "metadata": {},
   "source": [
    "# Серийная корреляция: оценивание и тестирование гипотез"
   ]
  },
  {
   "cell_type": "code",
   "execution_count": 1,
   "id": "da26bad0",
   "metadata": {},
   "outputs": [],
   "source": [
    "import pandas as pd\n",
    "import numpy as np\n",
    "import statsmodels.formula.api as smf\n",
    "import statsmodels.api as sm\n",
    "import statsmodels.stats.api as sms # тесты\n",
    "from statsmodels.iolib.summary2 import summary_col # вывод подгонки\n",
    "from scipy.stats import t, f # t & F распределения"
   ]
  },
  {
   "attachments": {},
   "cell_type": "markdown",
   "id": "bfa8f2a5",
   "metadata": {},
   "source": [
    "## Mishkin dataset\n",
    "\n",
    "Рассмотрим набор данных `Mishkin`: месячные данные c 1950-2 по 1990-12"
   ]
  },
  {
   "cell_type": "code",
   "execution_count": 7,
   "id": "02084ff8",
   "metadata": {},
   "outputs": [],
   "source": [
    "Mishkin_df = pd.read_csv('https://raw.githubusercontent.com/artamonoff/Econometrica/master/python-notebooks/data-csv/Mishkin.csv')\n",
    "Mishkin_df['dpai3'] = Mishkin_df['pai3'].diff()\n",
    "Mishkin_df['dtb3'] = Mishkin_df['tb3'].diff()\n",
    "Mishkin_df['dlcpi'] = np.log( Mishkin_df['cpi']).diff()\n"
   ]
  },
  {
   "attachments": {},
   "cell_type": "markdown",
   "id": "3cba22ae",
   "metadata": {},
   "source": [
    "Результаты подгонки"
   ]
  },
  {
   "cell_type": "code",
   "execution_count": 14,
   "id": "e96fcbb7",
   "metadata": {},
   "outputs": [],
   "source": [
    "mod = smf.ols(formula='dpai3~dtb3+dlcpi', data=Mishkin_df).fit()\n",
    "mod_hac = smf.ols(formula='dpai3~dtb3+dlcpi', \n",
    "                      data=Mishkin_df).fit(cov_type='HAC', cov_kwds={'maxlags': 7})"
   ]
  },
  {
   "cell_type": "code",
   "execution_count": 15,
   "id": "5381b009",
   "metadata": {},
   "outputs": [
    {
     "data": {
      "text/html": [
       "<table class=\"simpletable\">\n",
       "<tr>\n",
       "         <td></td>          <th>dpai3 I</th>    <th>dpai3 II</th> \n",
       "</tr>\n",
       "<tr>\n",
       "  <th>Intercept</th>        <td>0.1619*</td>    <td>0.1619**</td> \n",
       "</tr>\n",
       "<tr>\n",
       "  <th></th>                <td>(0.0870)</td>    <td>(0.0707)</td> \n",
       "</tr>\n",
       "<tr>\n",
       "  <th>dtb3</th>             <td>0.0810</td>      <td>0.0810</td>  \n",
       "</tr>\n",
       "<tr>\n",
       "  <th></th>                <td>(0.1116)</td>    <td>(0.0824)</td> \n",
       "</tr>\n",
       "<tr>\n",
       "  <th>dlcpi</th>          <td>-44.8229***</td> <td>-44.8229**</td>\n",
       "</tr>\n",
       "<tr>\n",
       "  <th></th>                <td>(17.1297)</td>   <td>(19.0424)</td>\n",
       "</tr>\n",
       "<tr>\n",
       "  <th>R-squared</th>        <td>0.0145</td>      <td>0.0145</td>  \n",
       "</tr>\n",
       "<tr>\n",
       "  <th>R-squared Adj.</th>   <td>0.0104</td>      <td>0.0104</td>  \n",
       "</tr>\n",
       "</table>"
      ],
      "text/plain": [
       "<class 'statsmodels.iolib.summary2.Summary'>\n",
       "\"\"\"\n",
       "\n",
       "=====================================\n",
       "                 dpai3 I    dpai3 II \n",
       "-------------------------------------\n",
       "Intercept      0.1619*     0.1619**  \n",
       "               (0.0870)    (0.0707)  \n",
       "dtb3           0.0810      0.0810    \n",
       "               (0.1116)    (0.0824)  \n",
       "dlcpi          -44.8229*** -44.8229**\n",
       "               (17.1297)   (19.0424) \n",
       "R-squared      0.0145      0.0145    \n",
       "R-squared Adj. 0.0104      0.0104    \n",
       "=====================================\n",
       "Standard errors in parentheses.\n",
       "* p<.1, ** p<.05, ***p<.01\n",
       "\"\"\""
      ]
     },
     "execution_count": 15,
     "metadata": {},
     "output_type": "execute_result"
    }
   ],
   "source": [
    "summary_col(results=[mod, mod_hac], stars=True)"
   ]
  },
  {
   "cell_type": "code",
   "execution_count": null,
   "id": "5beba16c",
   "metadata": {},
   "outputs": [],
   "source": []
  }
 ],
 "metadata": {
  "kernelspec": {
   "display_name": "Python 3 (ipykernel)",
   "language": "python",
   "name": "python3"
  },
  "language_info": {
   "codemirror_mode": {
    "name": "ipython",
    "version": 3
   },
   "file_extension": ".py",
   "mimetype": "text/x-python",
   "name": "python",
   "nbconvert_exporter": "python",
   "pygments_lexer": "ipython3",
   "version": "3.9.16"
  }
 },
 "nbformat": 4,
 "nbformat_minor": 5
}
