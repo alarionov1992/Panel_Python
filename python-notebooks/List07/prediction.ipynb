{
 "cells": [
  {
   "cell_type": "markdown",
   "id": "6d9993e1",
   "metadata": {},
   "source": [
    "# Прогнозирование для модели регрессии\n",
    "Рассморим модель регрессии \n",
    "\\begin{align*}\n",
    "    (\\log)y&=\\beta_0+\\beta_1x_1+\\cdots+\\beta_kx_k+u=x'\\beta+u & \n",
    "    x&=\\begin{pmatrix}1 & x_1 & \\cdots & x_k \\end{pmatrix}^\\top &\n",
    "    \\beta &= \\begin{pmatrix} \\beta_0 & \\beta_1 & \\cdots & \\beta_k \\end{pmatrix}^\\top\n",
    "\\end{align*}\n",
    "Оценки коэффициентов на данных $\\hat{\\beta}=\\begin{pmatrix} \\hat{\\beta}_0 & \\hat{\\beta}_1 & \\cdots & \\hat{\\beta}_k \\end{pmatrix}^\\top$.\n",
    "\n",
    "Пусть заданы значения предикторов $x=\\begin{pmatrix}1 & x_1 & \\cdots & x_k \\end{pmatrix}^\\top$. Тогда **оптимальный линейной прогноз**\n",
    "$$ \\hat{y}=(\\exp)x'\\hat{\\beta}=(\\exp)(\\hat{\\beta}_0+\\hat{\\beta}_1x_1+\\cdots+\\hat{\\beta}_kx_k) $$"
   ]
  },
  {
   "cell_type": "code",
   "execution_count": null,
   "id": "a3a94823",
   "metadata": {},
   "outputs": [],
   "source": [
    "import pandas as pd\n",
    "import numpy as np\n",
    "import statsmodels.formula.api as smf\n",
    "import statsmodels.api as sm"
   ]
  },
  {
   "cell_type": "markdown",
   "id": "28909538",
   "metadata": {},
   "source": [
    "## Sleep equation\n",
    "Для набора данных `sleep75` рассмотрим линейную регрессию\n",
    "**sleep на totwrk, age, south, male, smsa, yngkid, marr**\n",
    "\n",
    "Результаты подгонки (коэффициенты)"
   ]
  },
  {
   "cell_type": "code",
   "execution_count": null,
   "id": "614d8c52",
   "metadata": {},
   "outputs": [],
   "source": [
    "sleep_df = pd.read_csv('https://raw.githubusercontent.com/artamonoff/Econometrica/master/python-notebooks/data-csv/sleep75.csv')\n",
    "mod1 = smf.ols(formula='sleep~totwrk+age+south+male+smsa+yngkid+marr', data=sleep_df).fit()\n",
    "mod1.params"
   ]
  },
  {
   "cell_type": "markdown",
   "id": "c40d0f2b",
   "metadata": {},
   "source": [
    "Рассморим трёх людей с характеристиками"
   ]
  },
  {
   "cell_type": "code",
   "execution_count": null,
   "id": "5c6acba0",
   "metadata": {},
   "outputs": [],
   "source": [
    "new_df = pd.DataFrame( {'totwrk': [2150, 1950, 2240], 'age': [37, 28, 26], 'south': [0, 1, 0], \n",
    "                        'male': [1, 1, 0], 'smsa': [1, 0, 1], 'yngkid': [0, 1, 0], 'marr': [1, 0, 0] } )\n",
    "new_df"
   ]
  },
  {
   "cell_type": "markdown",
   "id": "bf37ca03",
   "metadata": {},
   "source": [
    "Построим прогноз используя .predict()"
   ]
  },
  {
   "cell_type": "code",
   "execution_count": null,
   "id": "a3e2465c",
   "metadata": {
    "scrolled": true
   },
   "outputs": [],
   "source": [
    "mod1.predict(exog=new_df, transform=True)"
   ]
  },
  {
   "cell_type": "markdown",
   "id": "6bf6a03a",
   "metadata": {},
   "source": [
    "Непосредственное вычисление $\\hat{\\beta}_0+\\hat{\\beta}_1x_1+\\cdots+\\hat{\\beta}_kx_k$ для каждого наблюдения.\n",
    "\n",
    "В матричном виде $X\\hat{\\beta}$, где $X$ состоит из значений переменных по столбцам + первый столбец из единиц для учёта $\\beta_0$"
   ]
  },
  {
   "cell_type": "code",
   "execution_count": null,
   "id": "589460f3",
   "metadata": {},
   "outputs": [],
   "source": [
    "X = sm.add_constant(new_df)\n",
    "np.dot(X, mod1.params)"
   ]
  },
  {
   "cell_type": "markdown",
   "id": "a261259b",
   "metadata": {},
   "source": [
    "## Output equation\n",
    "Для набора данных `Labour` рассмотрим линейную регрессию **log(output) на log(capital), log(labour)**.\n",
    "\n",
    "Результаты подгонки (коэффициенты)"
   ]
  },
  {
   "cell_type": "code",
   "execution_count": null,
   "id": "e49df338",
   "metadata": {},
   "outputs": [],
   "source": [
    "labour_df = pd.read_csv('https://raw.githubusercontent.com/artamonoff/Econometrica/master/python-notebooks/data-csv/Labour.csv')\n",
    "mod2 = smf.ols(formula='np.log(output)~np.log(capital)+np.log(labour)', data=labour_df).fit()\n",
    "mod2.params"
   ]
  },
  {
   "cell_type": "markdown",
   "id": "a0e47ec5",
   "metadata": {},
   "source": [
    "Рассмотрим три фирмы с характеристиками"
   ]
  },
  {
   "cell_type": "code",
   "execution_count": null,
   "id": "06fea32d",
   "metadata": {},
   "outputs": [],
   "source": [
    "new_df = pd.DataFrame( {'capital': [2.97, 10.45, 3.85], 'labour': [85, 60, 105]} )\n",
    "new_df"
   ]
  },
  {
   "cell_type": "code",
   "execution_count": null,
   "id": "e61e0857",
   "metadata": {},
   "outputs": [],
   "source": [
    "np.exp( mod2.predict(exog=new_df, transform=True) )"
   ]
  },
  {
   "cell_type": "code",
   "execution_count": null,
   "id": "5adbf769",
   "metadata": {},
   "outputs": [],
   "source": [
    "# Непосредственное вычисление без преодразования: transform=False\n",
    "np.exp( mod2.predict(exog=sm.add_constant(np.log(new_df)), transform=False) )"
   ]
  }
 ],
 "metadata": {
  "kernelspec": {
   "display_name": "Python 3 (ipykernel)",
   "language": "python",
   "name": "python3"
  },
  "language_info": {
   "codemirror_mode": {
    "name": "ipython",
    "version": 3
   },
   "file_extension": ".py",
   "mimetype": "text/x-python",
   "name": "python",
   "nbconvert_exporter": "python",
   "pygments_lexer": "ipython3",
   "version": "3.9.16"
  }
 },
 "nbformat": 4,
 "nbformat_minor": 5
}
