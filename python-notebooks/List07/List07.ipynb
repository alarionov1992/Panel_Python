{
 "cells": [
  {
   "cell_type": "code",
   "execution_count": 4,
   "id": "bc2d61a7",
   "metadata": {},
   "outputs": [],
   "source": [
    "import numpy as np\n",
    "import re"
   ]
  },
  {
   "cell_type": "code",
   "execution_count": 5,
   "id": "4db0d557",
   "metadata": {},
   "outputs": [],
   "source": [
    "date_string = '''totwrk                       -0.169***         \n",
    "                              (0.018)          \n",
    "                                               \n",
    "age                           2.689*           \n",
    "                              (1.469)          \n",
    "                                               \n",
    "south                        101.568**         \n",
    "                             (41.837)          \n",
    "                                               \n",
    "male                         87.669**          \n",
    "                             (35.104)          \n",
    "                                               \n",
    "smsa                         -54.748*          \n",
    "                             (33.123)          \n",
    "                                               \n",
    "yngkid                        -13.962          \n",
    "                             (50.341)          \n",
    "                                               \n",
    "marr                          31.211           \n",
    "                             (42.233)          \n",
    "                                               \n",
    "Constant                    3450.913***        \n",
    "                             (80.726)'''"
   ]
  },
  {
   "cell_type": "code",
   "execution_count": 6,
   "id": "e18bd18f",
   "metadata": {},
   "outputs": [
    {
     "data": {
      "text/plain": [
       "['-0.169',\n",
       " '0.018',\n",
       " '2.689',\n",
       " '1.469',\n",
       " '101.568',\n",
       " '41.837',\n",
       " '87.669',\n",
       " '35.104',\n",
       " '-54.748',\n",
       " '33.123',\n",
       " '-13.962',\n",
       " '50.341',\n",
       " '31.211',\n",
       " '42.233',\n",
       " '3450.913',\n",
       " '80.726']"
      ]
     },
     "execution_count": 6,
     "metadata": {},
     "output_type": "execute_result"
    }
   ],
   "source": [
    "# Выделим числа из строки с помощью регулярных выражений и составим из них список\n",
    "digital_date = re.findall(r'([-+]?\\d+.\\d+)',date_string)\n",
    "digital_date"
   ]
  },
  {
   "cell_type": "code",
   "execution_count": 7,
   "id": "abde63ff",
   "metadata": {},
   "outputs": [
    {
     "data": {
      "text/plain": [
       "array([['-0.169', '0.018'],\n",
       "       ['2.689', '1.469'],\n",
       "       ['101.568', '41.837'],\n",
       "       ['87.669', '35.104'],\n",
       "       ['-54.748', '33.123'],\n",
       "       ['-13.962', '50.341'],\n",
       "       ['31.211', '42.233'],\n",
       "       ['3450.913', '80.726']], dtype='<U8')"
      ]
     },
     "execution_count": 7,
     "metadata": {},
     "output_type": "execute_result"
    }
   ],
   "source": [
    "# Из одномерного списка сделаем двумерный список типа размерности (8,2)\n",
    "# 8 --- количество коэффицентов, включая константу\n",
    "# 2 --- потому что строка содержит оценку коэффицента и его ошибку\n",
    "# так как исходны список содержит оценки коэффицентов и их ошибки\n",
    "coeff_mxt = np.reshape(digital_date,(8,2))\n",
    "coeff_mxt"
   ]
  },
  {
   "cell_type": "code",
   "execution_count": 8,
   "id": "51ea66ef",
   "metadata": {},
   "outputs": [],
   "source": [
    "ppl_string = '''totwrk age south male smsa yngkid marr\n",
    "----------------------------------------\n",
    "1  2150  37    0    1    1     0     1  \n",
    "2  1950  28    1    1    0     1     0  \n",
    "3  2240  26    0    0    1     0     0 '''"
   ]
  },
  {
   "cell_type": "code",
   "execution_count": 9,
   "id": "2e91cd40",
   "metadata": {},
   "outputs": [
    {
     "data": {
      "text/plain": [
       "['1',\n",
       " '2150',\n",
       " '37',\n",
       " '0',\n",
       " '1',\n",
       " '1',\n",
       " '0',\n",
       " '1',\n",
       " '2',\n",
       " '1950',\n",
       " '28',\n",
       " '1',\n",
       " '1',\n",
       " '0',\n",
       " '1',\n",
       " '0',\n",
       " '3',\n",
       " '2240',\n",
       " '26',\n",
       " '0',\n",
       " '0',\n",
       " '1',\n",
       " '0',\n",
       " '0']"
      ]
     },
     "execution_count": 9,
     "metadata": {},
     "output_type": "execute_result"
    }
   ],
   "source": [
    "# Создадим список из чисел, содержащихся в строке\n",
    "ppl_lst = re.findall(r'([-+]?\\d+)', ppl_string)\n",
    "ppl_lst"
   ]
  },
  {
   "cell_type": "code",
   "execution_count": 10,
   "id": "699b37ab",
   "metadata": {},
   "outputs": [
    {
     "data": {
      "text/plain": [
       "array([['1', '2150', '37', '0', '1', '1', '0', '1'],\n",
       "       ['2', '1950', '28', '1', '1', '0', '1', '0'],\n",
       "       ['3', '2240', '26', '0', '0', '1', '0', '0']], dtype='<U4')"
      ]
     },
     "execution_count": 10,
     "metadata": {},
     "output_type": "execute_result"
    }
   ],
   "source": [
    "# Преобразуем список в двумерный массив: 3 строки, 8 столбцов.\n",
    "# 3 -- количество измерений, для которых нам необходим найти предсказанное значение\n",
    "# 8 столбцов в исходной таблице, включая столбец с нумерацией строк\n",
    "ppl_mxt = np.reshape(ppl_lst,(3,8))\n",
    "ppl_mxt"
   ]
  },
  {
   "cell_type": "code",
   "execution_count": 11,
   "id": "68e85c61",
   "metadata": {},
   "outputs": [
    {
     "data": {
      "text/plain": [
       "array([['2150', '37', '0', '1', '1', '0', '1'],\n",
       "       ['1950', '28', '1', '1', '0', '1', '0'],\n",
       "       ['2240', '26', '0', '0', '1', '0', '0']], dtype='<U4')"
      ]
     },
     "execution_count": 11,
     "metadata": {},
     "output_type": "execute_result"
    }
   ],
   "source": [
    "# Необходимо удалить первый столбец, так как это нумерация строк\n",
    "ppl_mxt = np.delete(ppl_mxt,0,1)\n",
    "ppl_mxt"
   ]
  },
  {
   "cell_type": "code",
   "execution_count": 12,
   "id": "bcd7cc34",
   "metadata": {},
   "outputs": [
    {
     "data": {
      "text/plain": [
       "array([['2150', '37', '0', '1', '1', '0', '1', '1.0'],\n",
       "       ['1950', '28', '1', '1', '0', '1', '0', '1.0'],\n",
       "       ['2240', '26', '0', '0', '1', '0', '0', '1.0']], dtype='<U32')"
      ]
     },
     "execution_count": 12,
     "metadata": {},
     "output_type": "execute_result"
    }
   ],
   "source": [
    "# Теперь необходимо добавить столбец из единиц для того,\n",
    "#  чтобы совпадало количество столбцов в матрице с количестом элементов \n",
    "ppl_mxt = np.c_[ppl_mxt,np.ones(3)]\n",
    "ppl_mxt"
   ]
  },
  {
   "cell_type": "code",
   "execution_count": 14,
   "id": "362ccd85",
   "metadata": {},
   "outputs": [
    {
     "data": {
      "text/plain": [
       "(3, 8)"
      ]
     },
     "execution_count": 14,
     "metadata": {},
     "output_type": "execute_result"
    }
   ],
   "source": [
    "ppl_mxt.shape"
   ]
  },
  {
   "cell_type": "code",
   "execution_count": 15,
   "id": "661d619d",
   "metadata": {},
   "outputs": [
    {
     "data": {
      "text/plain": [
       "(8, 2)"
      ]
     },
     "execution_count": 15,
     "metadata": {},
     "output_type": "execute_result"
    }
   ],
   "source": [
    "coeff_mxt.shape"
   ]
  },
  {
   "cell_type": "code",
   "execution_count": 16,
   "id": "71f43afc",
   "metadata": {},
   "outputs": [],
   "source": [
    "#Неообходимо преобразование типов данных\n",
    "coeff_mxt = coeff_mxt.astype(float)\n",
    "ppl_mxt = ppl_mxt.astype(float)"
   ]
  },
  {
   "cell_type": "code",
   "execution_count": 17,
   "id": "dcf5fb5e",
   "metadata": {},
   "outputs": [
    {
     "name": "stdout",
     "output_type": "stream",
     "text": [
      "[[3251.188  284.239]\n",
      " [3371.93   284.24 ]\n",
      " [3087.519  192.363]]\n"
     ]
    }
   ],
   "source": [
    "# результатом произведения двух матриц будут два столбца\n",
    "# 1й равен произведению значений измерений и коэффициентов\n",
    "# 2й равен произведению значений измерений и ошибок коэффициентов\n",
    "print(np.matmul(ppl_mxt,coeff_mxt))"
   ]
  },
  {
   "cell_type": "code",
   "execution_count": null,
   "id": "8f9967dc",
   "metadata": {},
   "outputs": [],
   "source": []
  }
 ],
 "metadata": {
  "kernelspec": {
   "display_name": "Python 3",
   "language": "python",
   "name": "python3"
  },
  "language_info": {
   "codemirror_mode": {
    "name": "ipython",
    "version": 3
   },
   "file_extension": ".py",
   "mimetype": "text/x-python",
   "name": "python",
   "nbconvert_exporter": "python",
   "pygments_lexer": "ipython3",
   "version": "3.8.8"
  }
 },
 "nbformat": 4,
 "nbformat_minor": 5
}
