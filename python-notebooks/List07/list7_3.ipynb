{
 "cells": [
  {
   "attachments": {},
   "cell_type": "markdown",
   "metadata": {},
   "source": [
    "## Листок 7: Прогнозирование\n",
    "\n",
    "### Ссылка на листки, ноутбуки и данные\n",
    "\n",
    "https://github.com/artamonoff/Econometrica"
   ]
  },
  {
   "attachments": {},
   "cell_type": "markdown",
   "metadata": {},
   "source": [
    "## Ссылки на документацию\n",
    "\n",
    "https://www.statsmodels.org/stable/generated/statsmodels.regression.linear_model.OLSResults.html#statsmodels.regression.linear_model.OLSResults\n",
    "\n",
    "https://tedboy.github.io/statsmodels_doc/index.html"
   ]
  },
  {
   "cell_type": "code",
   "execution_count": 39,
   "metadata": {},
   "outputs": [],
   "source": [
    "import pandas as pd\n",
    "import numpy as np\n",
    "import io\n",
    "# import statsmodels.api as sm \n",
    "import statsmodels.formula.api as smf\n",
    "from statsmodels.iolib.summary2 import summary_params # вывод результатов тестирования\n",
    "from statsmodels.iolib.summary2 import summary_col # вывод результатов тестирования"
   ]
  },
  {
   "attachments": {},
   "cell_type": "markdown",
   "metadata": {},
   "source": [
    "## 1 sleep equation #1"
   ]
  },
  {
   "cell_type": "code",
   "execution_count": 21,
   "metadata": {},
   "outputs": [
    {
     "data": {
      "text/plain": [
       "(706, 34)"
      ]
     },
     "execution_count": 21,
     "metadata": {},
     "output_type": "execute_result"
    }
   ],
   "source": [
    "data1 = pd.read_csv('https://raw.githubusercontent.com/artamonoff/Econometrica/master/python-notebooks/data-csv/sleep75.csv')\n",
    "data1.shape"
   ]
  },
  {
   "cell_type": "code",
   "execution_count": 22,
   "metadata": {},
   "outputs": [],
   "source": [
    "# Модель 1\n",
    "# Создаем спецификацию модели через формулу и подгоняем модель\n",
    "Sleep_eq1 = smf.ols(formula = 'sleep~totwrk+age+south+male+smsa+yngkid+marr', data = data1).fit()"
   ]
  },
  {
   "cell_type": "code",
   "execution_count": 23,
   "metadata": {},
   "outputs": [
    {
     "data": {
      "text/html": [
       "<table class=\"simpletable\">\n",
       "<caption>OLS Regression Results</caption>\n",
       "<tr>\n",
       "  <th>Dep. Variable:</th>          <td>sleep</td>      <th>  R-squared:         </th> <td>   0.131</td> \n",
       "</tr>\n",
       "<tr>\n",
       "  <th>Model:</th>                   <td>OLS</td>       <th>  Adj. R-squared:    </th> <td>   0.123</td> \n",
       "</tr>\n",
       "<tr>\n",
       "  <th>Method:</th>             <td>Least Squares</td>  <th>  F-statistic:       </th> <td>   15.06</td> \n",
       "</tr>\n",
       "<tr>\n",
       "  <th>Date:</th>             <td>Mon, 03 Apr 2023</td> <th>  Prob (F-statistic):</th> <td>2.14e-18</td> \n",
       "</tr>\n",
       "<tr>\n",
       "  <th>Time:</th>                 <td>21:19:24</td>     <th>  Log-Likelihood:    </th> <td> -5255.9</td> \n",
       "</tr>\n",
       "<tr>\n",
       "  <th>No. Observations:</th>      <td>   706</td>      <th>  AIC:               </th> <td>1.053e+04</td>\n",
       "</tr>\n",
       "<tr>\n",
       "  <th>Df Residuals:</th>          <td>   698</td>      <th>  BIC:               </th> <td>1.056e+04</td>\n",
       "</tr>\n",
       "<tr>\n",
       "  <th>Df Model:</th>              <td>     7</td>      <th>                     </th>     <td> </td>    \n",
       "</tr>\n",
       "<tr>\n",
       "  <th>Covariance Type:</th>      <td>nonrobust</td>    <th>                     </th>     <td> </td>    \n",
       "</tr>\n",
       "</table>\n",
       "<table class=\"simpletable\">\n",
       "<tr>\n",
       "      <td></td>         <th>coef</th>     <th>std err</th>      <th>t</th>      <th>P>|t|</th>  <th>[0.025</th>    <th>0.975]</th>  \n",
       "</tr>\n",
       "<tr>\n",
       "  <th>Intercept</th> <td> 3450.9128</td> <td>   80.726</td> <td>   42.748</td> <td> 0.000</td> <td> 3292.418</td> <td> 3609.408</td>\n",
       "</tr>\n",
       "<tr>\n",
       "  <th>totwrk</th>    <td>   -0.1692</td> <td>    0.018</td> <td>   -9.372</td> <td> 0.000</td> <td>   -0.205</td> <td>   -0.134</td>\n",
       "</tr>\n",
       "<tr>\n",
       "  <th>age</th>       <td>    2.6891</td> <td>    1.469</td> <td>    1.830</td> <td> 0.068</td> <td>   -0.195</td> <td>    5.574</td>\n",
       "</tr>\n",
       "<tr>\n",
       "  <th>south</th>     <td>  101.5685</td> <td>   41.837</td> <td>    2.428</td> <td> 0.015</td> <td>   19.427</td> <td>  183.710</td>\n",
       "</tr>\n",
       "<tr>\n",
       "  <th>male</th>      <td>   87.6690</td> <td>   35.104</td> <td>    2.497</td> <td> 0.013</td> <td>   18.747</td> <td>  156.591</td>\n",
       "</tr>\n",
       "<tr>\n",
       "  <th>smsa</th>      <td>  -54.7476</td> <td>   33.123</td> <td>   -1.653</td> <td> 0.099</td> <td> -119.780</td> <td>   10.285</td>\n",
       "</tr>\n",
       "<tr>\n",
       "  <th>yngkid</th>    <td>  -13.9624</td> <td>   50.341</td> <td>   -0.277</td> <td> 0.782</td> <td> -112.801</td> <td>   84.876</td>\n",
       "</tr>\n",
       "<tr>\n",
       "  <th>marr</th>      <td>   31.2106</td> <td>   42.233</td> <td>    0.739</td> <td> 0.460</td> <td>  -51.709</td> <td>  114.130</td>\n",
       "</tr>\n",
       "</table>\n",
       "<table class=\"simpletable\">\n",
       "<tr>\n",
       "  <th>Omnibus:</th>       <td>62.368</td> <th>  Durbin-Watson:     </th> <td>   1.947</td>\n",
       "</tr>\n",
       "<tr>\n",
       "  <th>Prob(Omnibus):</th> <td> 0.000</td> <th>  Jarque-Bera (JB):  </th> <td> 169.049</td>\n",
       "</tr>\n",
       "<tr>\n",
       "  <th>Skew:</th>          <td>-0.445</td> <th>  Prob(JB):          </th> <td>1.96e-37</td>\n",
       "</tr>\n",
       "<tr>\n",
       "  <th>Kurtosis:</th>      <td> 5.226</td> <th>  Cond. No.          </th> <td>1.26e+04</td>\n",
       "</tr>\n",
       "</table><br/><br/>Notes:<br/>[1] Standard Errors assume that the covariance matrix of the errors is correctly specified.<br/>[2] The condition number is large, 1.26e+04. This might indicate that there are<br/>strong multicollinearity or other numerical problems."
      ],
      "text/plain": [
       "<class 'statsmodels.iolib.summary.Summary'>\n",
       "\"\"\"\n",
       "                            OLS Regression Results                            \n",
       "==============================================================================\n",
       "Dep. Variable:                  sleep   R-squared:                       0.131\n",
       "Model:                            OLS   Adj. R-squared:                  0.123\n",
       "Method:                 Least Squares   F-statistic:                     15.06\n",
       "Date:                Mon, 03 Apr 2023   Prob (F-statistic):           2.14e-18\n",
       "Time:                        21:19:24   Log-Likelihood:                -5255.9\n",
       "No. Observations:                 706   AIC:                         1.053e+04\n",
       "Df Residuals:                     698   BIC:                         1.056e+04\n",
       "Df Model:                           7                                         \n",
       "Covariance Type:            nonrobust                                         \n",
       "==============================================================================\n",
       "                 coef    std err          t      P>|t|      [0.025      0.975]\n",
       "------------------------------------------------------------------------------\n",
       "Intercept   3450.9128     80.726     42.748      0.000    3292.418    3609.408\n",
       "totwrk        -0.1692      0.018     -9.372      0.000      -0.205      -0.134\n",
       "age            2.6891      1.469      1.830      0.068      -0.195       5.574\n",
       "south        101.5685     41.837      2.428      0.015      19.427     183.710\n",
       "male          87.6690     35.104      2.497      0.013      18.747     156.591\n",
       "smsa         -54.7476     33.123     -1.653      0.099    -119.780      10.285\n",
       "yngkid       -13.9624     50.341     -0.277      0.782    -112.801      84.876\n",
       "marr          31.2106     42.233      0.739      0.460     -51.709     114.130\n",
       "==============================================================================\n",
       "Omnibus:                       62.368   Durbin-Watson:                   1.947\n",
       "Prob(Omnibus):                  0.000   Jarque-Bera (JB):              169.049\n",
       "Skew:                          -0.445   Prob(JB):                     1.96e-37\n",
       "Kurtosis:                       5.226   Cond. No.                     1.26e+04\n",
       "==============================================================================\n",
       "\n",
       "Notes:\n",
       "[1] Standard Errors assume that the covariance matrix of the errors is correctly specified.\n",
       "[2] The condition number is large, 1.26e+04. This might indicate that there are\n",
       "strong multicollinearity or other numerical problems.\n",
       "\"\"\""
      ]
     },
     "execution_count": 23,
     "metadata": {},
     "output_type": "execute_result"
    }
   ],
   "source": [
    "Sleep_eq1.summary()"
   ]
  },
  {
   "cell_type": "code",
   "execution_count": 24,
   "metadata": {},
   "outputs": [
    {
     "data": {
      "text/html": [
       "<table class=\"simpletable\">\n",
       "<tr>\n",
       "         <td></td>          <th>sleep</th>  \n",
       "</tr>\n",
       "<tr>\n",
       "  <th>Intercept</th>      <td>3450.9128</td>\n",
       "</tr>\n",
       "<tr>\n",
       "  <th></th>               <td>(80.7262)</td>\n",
       "</tr>\n",
       "<tr>\n",
       "  <th>totwrk</th>          <td>-0.1692</td> \n",
       "</tr>\n",
       "<tr>\n",
       "  <th></th>               <td>(0.0181)</td> \n",
       "</tr>\n",
       "<tr>\n",
       "  <th>age</th>             <td>2.6891</td>  \n",
       "</tr>\n",
       "<tr>\n",
       "  <th></th>               <td>(1.4692)</td> \n",
       "</tr>\n",
       "<tr>\n",
       "  <th>south</th>          <td>101.5685</td> \n",
       "</tr>\n",
       "<tr>\n",
       "  <th></th>               <td>(41.8368)</td>\n",
       "</tr>\n",
       "<tr>\n",
       "  <th>male</th>            <td>87.6690</td> \n",
       "</tr>\n",
       "<tr>\n",
       "  <th></th>               <td>(35.1041)</td>\n",
       "</tr>\n",
       "<tr>\n",
       "  <th>smsa</th>           <td>-54.7476</td> \n",
       "</tr>\n",
       "<tr>\n",
       "  <th></th>               <td>(33.1230)</td>\n",
       "</tr>\n",
       "<tr>\n",
       "  <th>yngkid</th>         <td>-13.9624</td> \n",
       "</tr>\n",
       "<tr>\n",
       "  <th></th>               <td>(50.3412)</td>\n",
       "</tr>\n",
       "<tr>\n",
       "  <th>marr</th>            <td>31.2106</td> \n",
       "</tr>\n",
       "<tr>\n",
       "  <th></th>               <td>(42.2331)</td>\n",
       "</tr>\n",
       "<tr>\n",
       "  <th>R-squared</th>       <td>0.1312</td>  \n",
       "</tr>\n",
       "<tr>\n",
       "  <th>R-squared Adj.</th>  <td>0.1225</td>  \n",
       "</tr>\n",
       "</table>"
      ],
      "text/plain": [
       "<class 'statsmodels.iolib.summary2.Summary'>\n",
       "\"\"\"\n",
       "\n",
       "========================\n",
       "                 sleep  \n",
       "------------------------\n",
       "Intercept      3450.9128\n",
       "               (80.7262)\n",
       "totwrk         -0.1692  \n",
       "               (0.0181) \n",
       "age            2.6891   \n",
       "               (1.4692) \n",
       "south          101.5685 \n",
       "               (41.8368)\n",
       "male           87.6690  \n",
       "               (35.1041)\n",
       "smsa           -54.7476 \n",
       "               (33.1230)\n",
       "yngkid         -13.9624 \n",
       "               (50.3412)\n",
       "marr           31.2106  \n",
       "               (42.2331)\n",
       "R-squared      0.1312   \n",
       "R-squared Adj. 0.1225   \n",
       "========================\n",
       "Standard errors in\n",
       "parentheses.\n",
       "\"\"\""
      ]
     },
     "execution_count": 24,
     "metadata": {},
     "output_type": "execute_result"
    }
   ],
   "source": [
    "summary_col(Sleep_eq1, stars=None)"
   ]
  },
  {
   "cell_type": "code",
   "execution_count": 25,
   "metadata": {},
   "outputs": [
    {
     "name": "stdout",
     "output_type": "stream",
     "text": [
      "\n",
      "===========================\n",
      "                  sleep    \n",
      "---------------------------\n",
      "Intercept      3450.9128***\n",
      "               (80.7262)   \n",
      "totwrk         -0.1692***  \n",
      "               (0.0181)    \n",
      "age            2.6891*     \n",
      "               (1.4692)    \n",
      "south          101.5685**  \n",
      "               (41.8368)   \n",
      "male           87.6690**   \n",
      "               (35.1041)   \n",
      "smsa           -54.7476*   \n",
      "               (33.1230)   \n",
      "yngkid         -13.9624    \n",
      "               (50.3412)   \n",
      "marr           31.2106     \n",
      "               (42.2331)   \n",
      "R-squared      0.1312      \n",
      "R-squared Adj. 0.1225      \n",
      "===========================\n",
      "Standard errors in\n",
      "parentheses.\n",
      "* p<.1, ** p<.05, ***p<.01\n"
     ]
    }
   ],
   "source": [
    "print(summary_col(Sleep_eq1, stars=True))"
   ]
  },
  {
   "attachments": {},
   "cell_type": "markdown",
   "metadata": {},
   "source": [
    "Example (forecast through the matrix):  https://www.statology.org/statsmodels-predict/"
   ]
  },
  {
   "cell_type": "code",
   "execution_count": 47,
   "metadata": {},
   "outputs": [
    {
     "data": {
      "text/html": [
       "<div>\n",
       "<style scoped>\n",
       "    .dataframe tbody tr th:only-of-type {\n",
       "        vertical-align: middle;\n",
       "    }\n",
       "\n",
       "    .dataframe tbody tr th {\n",
       "        vertical-align: top;\n",
       "    }\n",
       "\n",
       "    .dataframe thead th {\n",
       "        text-align: right;\n",
       "    }\n",
       "</style>\n",
       "<table border=\"1\" class=\"dataframe\">\n",
       "  <thead>\n",
       "    <tr style=\"text-align: right;\">\n",
       "      <th></th>\n",
       "      <th>totwrk</th>\n",
       "      <th>age</th>\n",
       "      <th>south</th>\n",
       "      <th>male</th>\n",
       "      <th>smsa</th>\n",
       "      <th>yngkid</th>\n",
       "      <th>marr</th>\n",
       "    </tr>\n",
       "  </thead>\n",
       "  <tbody>\n",
       "    <tr>\n",
       "      <th>0</th>\n",
       "      <td>2150</td>\n",
       "      <td>37</td>\n",
       "      <td>0</td>\n",
       "      <td>1</td>\n",
       "      <td>1</td>\n",
       "      <td>0</td>\n",
       "      <td>1</td>\n",
       "    </tr>\n",
       "    <tr>\n",
       "      <th>1</th>\n",
       "      <td>1950</td>\n",
       "      <td>28</td>\n",
       "      <td>1</td>\n",
       "      <td>1</td>\n",
       "      <td>0</td>\n",
       "      <td>1</td>\n",
       "      <td>0</td>\n",
       "    </tr>\n",
       "    <tr>\n",
       "      <th>2</th>\n",
       "      <td>2240</td>\n",
       "      <td>26</td>\n",
       "      <td>0</td>\n",
       "      <td>0</td>\n",
       "      <td>1</td>\n",
       "      <td>0</td>\n",
       "      <td>0</td>\n",
       "    </tr>\n",
       "  </tbody>\n",
       "</table>\n",
       "</div>"
      ],
      "text/plain": [
       "   totwrk  age  south  male  smsa  yngkid  marr\n",
       "0    2150   37      0     1     1       0     1\n",
       "1    1950   28      1     1     0       1     0\n",
       "2    2240   26      0     0     1       0     0"
      ]
     },
     "execution_count": 47,
     "metadata": {},
     "output_type": "execute_result"
    }
   ],
   "source": [
    "data_string = '''№  totwrk age south male smsa yngkid marr\n",
    "1  2150  37    0    1    1     0     1  \n",
    "2  1950  28    1    1    0     1     0  \n",
    "3  2240  26    0    0    1     0     0'''\n",
    "wn_df = pd.read_csv(io.StringIO(data_string), sep='\\s+')\n",
    "wn_df.drop(columns='№', inplace=True)\n",
    "wn_df"
   ]
  },
  {
   "cell_type": "code",
   "execution_count": 26,
   "metadata": {},
   "outputs": [
    {
     "data": {
      "text/html": [
       "<div>\n",
       "<style scoped>\n",
       "    .dataframe tbody tr th:only-of-type {\n",
       "        vertical-align: middle;\n",
       "    }\n",
       "\n",
       "    .dataframe tbody tr th {\n",
       "        vertical-align: top;\n",
       "    }\n",
       "\n",
       "    .dataframe thead th {\n",
       "        text-align: right;\n",
       "    }\n",
       "</style>\n",
       "<table border=\"1\" class=\"dataframe\">\n",
       "  <thead>\n",
       "    <tr style=\"text-align: right;\">\n",
       "      <th></th>\n",
       "      <th>totwrk</th>\n",
       "      <th>age</th>\n",
       "      <th>south</th>\n",
       "      <th>male</th>\n",
       "      <th>smsa</th>\n",
       "      <th>yngkid</th>\n",
       "      <th>marr</th>\n",
       "    </tr>\n",
       "  </thead>\n",
       "  <tbody>\n",
       "    <tr>\n",
       "      <th>0</th>\n",
       "      <td>2150</td>\n",
       "      <td>37</td>\n",
       "      <td>0</td>\n",
       "      <td>1</td>\n",
       "      <td>1</td>\n",
       "      <td>0</td>\n",
       "      <td>1</td>\n",
       "    </tr>\n",
       "    <tr>\n",
       "      <th>1</th>\n",
       "      <td>1950</td>\n",
       "      <td>28</td>\n",
       "      <td>1</td>\n",
       "      <td>1</td>\n",
       "      <td>0</td>\n",
       "      <td>1</td>\n",
       "      <td>0</td>\n",
       "    </tr>\n",
       "    <tr>\n",
       "      <th>2</th>\n",
       "      <td>2240</td>\n",
       "      <td>26</td>\n",
       "      <td>0</td>\n",
       "      <td>0</td>\n",
       "      <td>1</td>\n",
       "      <td>0</td>\n",
       "      <td>0</td>\n",
       "    </tr>\n",
       "  </tbody>\n",
       "</table>\n",
       "</div>"
      ],
      "text/plain": [
       "   totwrk  age  south  male  smsa  yngkid  marr\n",
       "0    2150   37      0     1     1       0     1\n",
       "1    1950   28      1     1     0       1     0\n",
       "2    2240   26      0     0     1       0     0"
      ]
     },
     "execution_count": 26,
     "metadata": {},
     "output_type": "execute_result"
    }
   ],
   "source": [
    "#create new DataFrame\n",
    "sleep_new = pd.DataFrame({'totwrk': [2150, 1950, 2240],\n",
    "                       'age': [37, 28, 26],\n",
    "                       'south': [0, 1, 0],\n",
    "                       'male': [1, 1, 0],\n",
    "                       'smsa': [1, 0, 1],\n",
    "                       'yngkid': [0, 1, 0],\n",
    "                       'marr': [1, 0, 0]})\n",
    "#view new DataFrame\n",
    "sleep_new"
   ]
  },
  {
   "cell_type": "code",
   "execution_count": 27,
   "metadata": {},
   "outputs": [
    {
     "data": {
      "text/plain": [
       "0    3250.68\n",
       "1    3371.46\n",
       "2    3086.98\n",
       "dtype: float64"
      ]
     },
     "execution_count": 27,
     "metadata": {},
     "output_type": "execute_result"
    }
   ],
   "source": [
    "#predict sleep\n",
    "Sleep_eq1.predict(sleep_new).round(2)"
   ]
  },
  {
   "attachments": {},
   "cell_type": "markdown",
   "metadata": {},
   "source": [
    "## 3 wage equation #1"
   ]
  },
  {
   "cell_type": "code",
   "execution_count": 28,
   "metadata": {},
   "outputs": [
    {
     "data": {
      "text/plain": [
       "(935, 17)"
      ]
     },
     "execution_count": 28,
     "metadata": {},
     "output_type": "execute_result"
    }
   ],
   "source": [
    "data3 = pd.read_csv('https://raw.githubusercontent.com/artamonoff/Econometrica/master/python-notebooks/data-csv/wage2.csv')\n",
    "data3.shape"
   ]
  },
  {
   "cell_type": "code",
   "execution_count": 29,
   "metadata": {},
   "outputs": [],
   "source": [
    "Wage_eq1=smf.ols(formula='np.log(wage)~age+IQ+south+married+urban', data = data3).fit()"
   ]
  },
  {
   "cell_type": "code",
   "execution_count": 30,
   "metadata": {},
   "outputs": [
    {
     "data": {
      "text/html": [
       "<table class=\"simpletable\">\n",
       "<tr>\n",
       "         <td></td>        <th>np.log(wage)</th>\n",
       "</tr>\n",
       "<tr>\n",
       "  <th>Intercept</th>        <td>4.9740***</td> \n",
       "</tr>\n",
       "<tr>\n",
       "  <th></th>                 <td>(0.1654)</td>  \n",
       "</tr>\n",
       "<tr>\n",
       "  <th>age</th>              <td>0.0213***</td> \n",
       "</tr>\n",
       "<tr>\n",
       "  <th></th>                 <td>(0.0040)</td>  \n",
       "</tr>\n",
       "<tr>\n",
       "  <th>IQ</th>               <td>0.0082***</td> \n",
       "</tr>\n",
       "<tr>\n",
       "  <th></th>                 <td>(0.0008)</td>  \n",
       "</tr>\n",
       "<tr>\n",
       "  <th>south</th>           <td>-0.0990***</td> \n",
       "</tr>\n",
       "<tr>\n",
       "  <th></th>                 <td>(0.0268)</td>  \n",
       "</tr>\n",
       "<tr>\n",
       "  <th>married</th>          <td>0.2010***</td> \n",
       "</tr>\n",
       "<tr>\n",
       "  <th></th>                 <td>(0.0402)</td>  \n",
       "</tr>\n",
       "<tr>\n",
       "  <th>urban</th>            <td>0.1750***</td> \n",
       "</tr>\n",
       "<tr>\n",
       "  <th></th>                 <td>(0.0276)</td>  \n",
       "</tr>\n",
       "<tr>\n",
       "  <th>R-squared</th>         <td>0.1996</td>   \n",
       "</tr>\n",
       "<tr>\n",
       "  <th>R-squared Adj.</th>    <td>0.1953</td>   \n",
       "</tr>\n",
       "</table>"
      ],
      "text/plain": [
       "<class 'statsmodels.iolib.summary2.Summary'>\n",
       "\"\"\"\n",
       "\n",
       "===========================\n",
       "               np.log(wage)\n",
       "---------------------------\n",
       "Intercept      4.9740***   \n",
       "               (0.1654)    \n",
       "age            0.0213***   \n",
       "               (0.0040)    \n",
       "IQ             0.0082***   \n",
       "               (0.0008)    \n",
       "south          -0.0990***  \n",
       "               (0.0268)    \n",
       "married        0.2010***   \n",
       "               (0.0402)    \n",
       "urban          0.1750***   \n",
       "               (0.0276)    \n",
       "R-squared      0.1996      \n",
       "R-squared Adj. 0.1953      \n",
       "===========================\n",
       "Standard errors in\n",
       "parentheses.\n",
       "* p<.1, ** p<.05, ***p<.01\n",
       "\"\"\""
      ]
     },
     "execution_count": 30,
     "metadata": {},
     "output_type": "execute_result"
    }
   ],
   "source": [
    "summary_col(Wage_eq1, stars=True)"
   ]
  },
  {
   "cell_type": "code",
   "execution_count": 31,
   "metadata": {},
   "outputs": [
    {
     "name": "stdout",
     "output_type": "stream",
     "text": [
      "\n",
      "===========================\n",
      "               np.log(wage)\n",
      "---------------------------\n",
      "Intercept      4.9740***   \n",
      "               (0.1654)    \n",
      "age            0.0213***   \n",
      "               (0.0040)    \n",
      "IQ             0.0082***   \n",
      "               (0.0008)    \n",
      "south          -0.0990***  \n",
      "               (0.0268)    \n",
      "married        0.2010***   \n",
      "               (0.0402)    \n",
      "urban          0.1750***   \n",
      "               (0.0276)    \n",
      "R-squared      0.1996      \n",
      "R-squared Adj. 0.1953      \n",
      "===========================\n",
      "Standard errors in\n",
      "parentheses.\n",
      "* p<.1, ** p<.05, ***p<.01\n"
     ]
    }
   ],
   "source": [
    "print(summary_col(Wage_eq1, stars=True))"
   ]
  },
  {
   "cell_type": "code",
   "execution_count": 46,
   "metadata": {},
   "outputs": [
    {
     "data": {
      "text/html": [
       "<div>\n",
       "<style scoped>\n",
       "    .dataframe tbody tr th:only-of-type {\n",
       "        vertical-align: middle;\n",
       "    }\n",
       "\n",
       "    .dataframe tbody tr th {\n",
       "        vertical-align: top;\n",
       "    }\n",
       "\n",
       "    .dataframe thead th {\n",
       "        text-align: right;\n",
       "    }\n",
       "</style>\n",
       "<table border=\"1\" class=\"dataframe\">\n",
       "  <thead>\n",
       "    <tr style=\"text-align: right;\">\n",
       "      <th></th>\n",
       "      <th>age</th>\n",
       "      <th>IQ</th>\n",
       "      <th>south</th>\n",
       "      <th>married</th>\n",
       "      <th>urban</th>\n",
       "    </tr>\n",
       "  </thead>\n",
       "  <tbody>\n",
       "    <tr>\n",
       "      <th>0</th>\n",
       "      <td>36</td>\n",
       "      <td>105</td>\n",
       "      <td>1</td>\n",
       "      <td>1</td>\n",
       "      <td>1</td>\n",
       "    </tr>\n",
       "    <tr>\n",
       "      <th>1</th>\n",
       "      <td>29</td>\n",
       "      <td>123</td>\n",
       "      <td>0</td>\n",
       "      <td>1</td>\n",
       "      <td>0</td>\n",
       "    </tr>\n",
       "    <tr>\n",
       "      <th>2</th>\n",
       "      <td>25</td>\n",
       "      <td>112</td>\n",
       "      <td>1</td>\n",
       "      <td>0</td>\n",
       "      <td>1</td>\n",
       "    </tr>\n",
       "  </tbody>\n",
       "</table>\n",
       "</div>"
      ],
      "text/plain": [
       "   age   IQ  south  married  urban\n",
       "0   36  105      1        1      1\n",
       "1   29  123      0        1      0\n",
       "2   25  112      1        0      1"
      ]
     },
     "execution_count": 46,
     "metadata": {},
     "output_type": "execute_result"
    }
   ],
   "source": [
    "data_wage= '''№ age IQ  south married urban\n",
    "1 36  105   1      1      1  \n",
    "2 29  123   0      1      0  \n",
    "3 25  112   1      0      1'''\n",
    "wg_nw = pd.read_csv(io.StringIO(data_wage), sep='\\s+')\n",
    "wg_nw.drop(columns='№',inplace=True)\n",
    "wg_nw"
   ]
  },
  {
   "cell_type": "code",
   "execution_count": 32,
   "metadata": {},
   "outputs": [
    {
     "data": {
      "text/html": [
       "<div>\n",
       "<style scoped>\n",
       "    .dataframe tbody tr th:only-of-type {\n",
       "        vertical-align: middle;\n",
       "    }\n",
       "\n",
       "    .dataframe tbody tr th {\n",
       "        vertical-align: top;\n",
       "    }\n",
       "\n",
       "    .dataframe thead th {\n",
       "        text-align: right;\n",
       "    }\n",
       "</style>\n",
       "<table border=\"1\" class=\"dataframe\">\n",
       "  <thead>\n",
       "    <tr style=\"text-align: right;\">\n",
       "      <th></th>\n",
       "      <th>age</th>\n",
       "      <th>IQ</th>\n",
       "      <th>south</th>\n",
       "      <th>married</th>\n",
       "      <th>urban</th>\n",
       "    </tr>\n",
       "  </thead>\n",
       "  <tbody>\n",
       "    <tr>\n",
       "      <th>0</th>\n",
       "      <td>36</td>\n",
       "      <td>105</td>\n",
       "      <td>1</td>\n",
       "      <td>1</td>\n",
       "      <td>1</td>\n",
       "    </tr>\n",
       "    <tr>\n",
       "      <th>1</th>\n",
       "      <td>29</td>\n",
       "      <td>123</td>\n",
       "      <td>0</td>\n",
       "      <td>1</td>\n",
       "      <td>0</td>\n",
       "    </tr>\n",
       "    <tr>\n",
       "      <th>2</th>\n",
       "      <td>25</td>\n",
       "      <td>112</td>\n",
       "      <td>1</td>\n",
       "      <td>0</td>\n",
       "      <td>1</td>\n",
       "    </tr>\n",
       "  </tbody>\n",
       "</table>\n",
       "</div>"
      ],
      "text/plain": [
       "   age   IQ  south  married  urban\n",
       "0   36  105      1        1      1\n",
       "1   29  123      0        1      0\n",
       "2   25  112      1        0      1"
      ]
     },
     "execution_count": 32,
     "metadata": {},
     "output_type": "execute_result"
    }
   ],
   "source": [
    "Wage_new = pd.DataFrame({'age': [36,29,25],\n",
    "                        'IQ': [105,123,112],\n",
    "                        'south': [1,0,1],\n",
    "                        'married': [1,1,0],\n",
    "                        'urban': [1,0,1]})\n",
    "Wage_new"
   ]
  },
  {
   "cell_type": "code",
   "execution_count": 33,
   "metadata": {},
   "outputs": [
    {
     "data": {
      "text/plain": [
       "0    6.877240\n",
       "1    6.800093\n",
       "2    6.499888\n",
       "dtype: float64"
      ]
     },
     "execution_count": 33,
     "metadata": {},
     "output_type": "execute_result"
    }
   ],
   "source": [
    "# predict log(wage)\n",
    "LOG_wage = Wage_eq1.predict(Wage_new)\n",
    "LOG_wage"
   ]
  },
  {
   "cell_type": "code",
   "execution_count": 34,
   "metadata": {},
   "outputs": [
    {
     "data": {
      "text/plain": [
       "pandas.core.series.Series"
      ]
     },
     "execution_count": 34,
     "metadata": {},
     "output_type": "execute_result"
    }
   ],
   "source": [
    "type(LOG_wage)"
   ]
  },
  {
   "cell_type": "code",
   "execution_count": 35,
   "metadata": {},
   "outputs": [
    {
     "data": {
      "text/html": [
       "<div>\n",
       "<style scoped>\n",
       "    .dataframe tbody tr th:only-of-type {\n",
       "        vertical-align: middle;\n",
       "    }\n",
       "\n",
       "    .dataframe tbody tr th {\n",
       "        vertical-align: top;\n",
       "    }\n",
       "\n",
       "    .dataframe thead th {\n",
       "        text-align: right;\n",
       "    }\n",
       "</style>\n",
       "<table border=\"1\" class=\"dataframe\">\n",
       "  <thead>\n",
       "    <tr style=\"text-align: right;\">\n",
       "      <th></th>\n",
       "      <th>np.log(wage)</th>\n",
       "    </tr>\n",
       "  </thead>\n",
       "  <tbody>\n",
       "    <tr>\n",
       "      <th>0</th>\n",
       "      <td>6.877240</td>\n",
       "    </tr>\n",
       "    <tr>\n",
       "      <th>1</th>\n",
       "      <td>6.800093</td>\n",
       "    </tr>\n",
       "    <tr>\n",
       "      <th>2</th>\n",
       "      <td>6.499888</td>\n",
       "    </tr>\n",
       "  </tbody>\n",
       "</table>\n",
       "</div>"
      ],
      "text/plain": [
       "   np.log(wage)\n",
       "0      6.877240\n",
       "1      6.800093\n",
       "2      6.499888"
      ]
     },
     "execution_count": 35,
     "metadata": {},
     "output_type": "execute_result"
    }
   ],
   "source": [
    "#Convert pandas Series to DataFrame\n",
    "# через конструктор\n",
    "pd.DataFrame({'np.log(wage)': LOG_wage.values})"
   ]
  },
  {
   "cell_type": "code",
   "execution_count": 36,
   "metadata": {},
   "outputs": [
    {
     "data": {
      "text/html": [
       "<div>\n",
       "<style scoped>\n",
       "    .dataframe tbody tr th:only-of-type {\n",
       "        vertical-align: middle;\n",
       "    }\n",
       "\n",
       "    .dataframe tbody tr th {\n",
       "        vertical-align: top;\n",
       "    }\n",
       "\n",
       "    .dataframe thead th {\n",
       "        text-align: right;\n",
       "    }\n",
       "</style>\n",
       "<table border=\"1\" class=\"dataframe\">\n",
       "  <thead>\n",
       "    <tr style=\"text-align: right;\">\n",
       "      <th></th>\n",
       "      <th>np.log(wage)</th>\n",
       "    </tr>\n",
       "  </thead>\n",
       "  <tbody>\n",
       "    <tr>\n",
       "      <th>0</th>\n",
       "      <td>6.877240</td>\n",
       "    </tr>\n",
       "    <tr>\n",
       "      <th>1</th>\n",
       "      <td>6.800093</td>\n",
       "    </tr>\n",
       "    <tr>\n",
       "      <th>2</th>\n",
       "      <td>6.499888</td>\n",
       "    </tr>\n",
       "  </tbody>\n",
       "</table>\n",
       "</div>"
      ],
      "text/plain": [
       "   np.log(wage)\n",
       "0      6.877240\n",
       "1      6.800093\n",
       "2      6.499888"
      ]
     },
     "execution_count": 36,
     "metadata": {},
     "output_type": "execute_result"
    }
   ],
   "source": [
    "#Convert pandas Series to DataFrame\n",
    "# через функцию конвертации\n",
    "LOG_wage.to_frame(name='np.log(wage)')"
   ]
  },
  {
   "cell_type": "code",
   "execution_count": 37,
   "metadata": {},
   "outputs": [
    {
     "data": {
      "text/plain": [
       "0    969.95\n",
       "1    897.93\n",
       "2    665.07\n",
       "dtype: float64"
      ]
     },
     "execution_count": 37,
     "metadata": {},
     "output_type": "execute_result"
    }
   ],
   "source": [
    "# predict wage\n",
    "np.exp(LOG_wage).round(2)"
   ]
  },
  {
   "cell_type": "code",
   "execution_count": 38,
   "metadata": {},
   "outputs": [
    {
     "data": {
      "text/html": [
       "<div>\n",
       "<style scoped>\n",
       "    .dataframe tbody tr th:only-of-type {\n",
       "        vertical-align: middle;\n",
       "    }\n",
       "\n",
       "    .dataframe tbody tr th {\n",
       "        vertical-align: top;\n",
       "    }\n",
       "\n",
       "    .dataframe thead th {\n",
       "        text-align: right;\n",
       "    }\n",
       "</style>\n",
       "<table border=\"1\" class=\"dataframe\">\n",
       "  <thead>\n",
       "    <tr style=\"text-align: right;\">\n",
       "      <th></th>\n",
       "      <th>wage</th>\n",
       "    </tr>\n",
       "  </thead>\n",
       "  <tbody>\n",
       "    <tr>\n",
       "      <th>0</th>\n",
       "      <td>969.95</td>\n",
       "    </tr>\n",
       "    <tr>\n",
       "      <th>1</th>\n",
       "      <td>897.93</td>\n",
       "    </tr>\n",
       "    <tr>\n",
       "      <th>2</th>\n",
       "      <td>665.07</td>\n",
       "    </tr>\n",
       "  </tbody>\n",
       "</table>\n",
       "</div>"
      ],
      "text/plain": [
       "     wage\n",
       "0  969.95\n",
       "1  897.93\n",
       "2  665.07"
      ]
     },
     "execution_count": 38,
     "metadata": {},
     "output_type": "execute_result"
    }
   ],
   "source": [
    "# predict wage\n",
    "np.exp(LOG_wage).round(2).to_frame(name='wage')"
   ]
  }
 ],
 "metadata": {
  "kernelspec": {
   "display_name": "Python 3",
   "language": "python",
   "name": "python3"
  },
  "language_info": {
   "codemirror_mode": {
    "name": "ipython",
    "version": 3
   },
   "file_extension": ".py",
   "mimetype": "text/x-python",
   "name": "python",
   "nbconvert_exporter": "python",
   "pygments_lexer": "ipython3",
   "version": "3.8.8"
  },
  "orig_nbformat": 4
 },
 "nbformat": 4,
 "nbformat_minor": 2
}
