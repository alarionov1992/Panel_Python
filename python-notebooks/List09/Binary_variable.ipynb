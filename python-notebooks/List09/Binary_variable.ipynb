{
 "cells": [
  {
   "cell_type": "code",
   "execution_count": null,
   "id": "27999011",
   "metadata": {},
   "outputs": [],
   "source": [
    "import pandas as pd\n",
    "import numpy as np\n",
    "import statsmodels.formula.api as smf\n",
    "import seaborn as sns\n",
    "import re\n",
    "import scipy.stats as stats"
   ]
  },
  {
   "cell_type": "markdown",
   "id": "df500bb0",
   "metadata": {},
   "source": [
    "# Задачи по эконометрике. Структурные сдвиги.\n",
    "## Структурные сдвиги\n",
    "### Графики"
   ]
  },
  {
   "cell_type": "code",
   "execution_count": null,
   "id": "034d4c2a",
   "metadata": {},
   "outputs": [],
   "source": [
    "df = pd.read_csv('https://raw.githubusercontent.com/ryupepa/Econometrica/master/python-notebooks/data-csv/sleep75.csv')\n",
    "df"
   ]
  },
  {
   "cell_type": "markdown",
   "id": "a725af1a",
   "metadata": {},
   "source": [
    "#### В этом задании мы с вами знакомимся с методом библиотекм seaborn, который называется lmplot()\n",
    "#### Данный метод отличает то, что он позволяет обрабатывать категориальные переменные с помощью аргумента 'hue='.\n",
    "#### Docstring:\n",
    "'''When thinking about how to assign variables to different facets, a general\n",
    "rule is that it makes sense to use ``hue`` for the most important\n",
    "comparison, followed by ``col`` and ``row``. However, always think about\n",
    "your particular dataset and the goals of the visualization you are\n",
    "creating.'''"
   ]
  },
  {
   "cell_type": "code",
   "execution_count": null,
   "id": "2baff46b",
   "metadata": {},
   "outputs": [],
   "source": [
    "sns.lmplot(x='totwrk', y='sleep', hue='south', data=df);"
   ]
  },
  {
   "cell_type": "code",
   "execution_count": null,
   "id": "5e094e5d",
   "metadata": {},
   "outputs": [],
   "source": [
    "sns.lmplot(x=\"age\", y=\"sleep\", hue=\"male\", data=df);"
   ]
  },
  {
   "cell_type": "code",
   "execution_count": null,
   "id": "3e33547d",
   "metadata": {},
   "outputs": [],
   "source": [
    "# Если необходимо для каждой категории данных построить отдельный график, можно воспользоваться аргументов col=''\n",
    "# Получаем два графика, разделенные категорией 'male', на каждом из которых изображены категории данных 'south'\n",
    "sns.lmplot(x=\"age\", y=\"sleep\", hue=\"south\",col='male', data=df);"
   ]
  },
  {
   "cell_type": "code",
   "execution_count": null,
   "id": "3348fed2",
   "metadata": {},
   "outputs": [],
   "source": [
    "# Эти же данные можно изобразить на каждом отдельном графике с помощью метода row=''\n",
    "# Например в каждой строке будет различное значение переменной 'smsa'\n",
    "sns.lmplot(x=\"age\", y=\"sleep\",hue='south', row=\"smsa\",col='male', data=df);"
   ]
  },
  {
   "cell_type": "code",
   "execution_count": null,
   "id": "db1f4b51",
   "metadata": {},
   "outputs": [],
   "source": [
    "date_string = '''R2                      0.115          0.126  '''\n",
    "rest, unrest =np.float_(re.findall(r'([-+]?\\d+.\\d+)', date_string)) "
   ]
  },
  {
   "cell_type": "markdown",
   "id": "3603e621",
   "metadata": {},
   "source": [
    "$$\n",
    "F_{nabl} = \\frac{R_{ur}^2 - R_{r}^2}{1-R_{un}^2}\\cdot \\frac{n-m}{q}.\n",
    "$$\n",
    "$$\n",
    "F_{nabl} = \\frac{RSS_{r}-RSS_{ur}}{RSS_{ur}}\\cdot\\frac{n-m}{q}.\n",
    "$$"
   ]
  },
  {
   "cell_type": "code",
   "execution_count": null,
   "id": "6334591d",
   "metadata": {},
   "outputs": [],
   "source": [
    "F_obs = (unrest - rest)/(1-unrest)*(706-8)/4\n",
    "F_obs.round(2)"
   ]
  },
  {
   "cell_type": "markdown",
   "id": "0c31e79e",
   "metadata": {},
   "source": [
    "$$\n",
    "F \\sim_{H_0} F_{q,n-m}\n",
    "$$\n",
    "$F_{кр} = F(\\alpha;q,n-m)$"
   ]
  },
  {
   "cell_type": "code",
   "execution_count": null,
   "id": "ca4765e5",
   "metadata": {},
   "outputs": [],
   "source": [
    "alpha = 0.05 # Уровень значимости\n",
    "#stats.f.ppf(alpha, q,df)\n",
    "F_cr = stats.f.ppf(1-alpha,4,706-8)\n",
    "F_cr"
   ]
  },
  {
   "cell_type": "markdown",
   "id": "67002107",
   "metadata": {},
   "source": [
    "$F_{obs} < F_{cr}$ - данные согласуются с нулеовой гипотезой при заданном уровне значимости"
   ]
  },
  {
   "cell_type": "markdown",
   "id": "adcea2b0",
   "metadata": {},
   "source": [
    "## Небинарные качественные переменные\n",
    "### diamond equation"
   ]
  },
  {
   "cell_type": "code",
   "execution_count": null,
   "id": "1c749db8",
   "metadata": {},
   "outputs": [],
   "source": [
    "df = pd.read_csv('https://raw.githubusercontent.com/ryupepa/Econometrica/master/python-notebooks/data-csv/Diamond.csv')\n",
    "# Метод .loc[] фильтрует данные таблицы по строкам и столбцам.\n",
    "# Метод  \"df.loc[:,['carat']]\" делает срез данных и означает,\n",
    "# что из датафрейма выбираются все строки(это делается с помощью знака \":\") столбца \"carat\".\n",
    "df_all = pd.get_dummies(df.loc[:,['carat','colour','certification','price']])\n",
    "df_all"
   ]
  },
  {
   "cell_type": "code",
   "execution_count": null,
   "id": "14bcfdc2",
   "metadata": {},
   "outputs": [],
   "source": [
    "model_d = smf.ols(formula='np.log(price)~carat+I(carat**2)+colour_E+colour_F+colour_G+colour_H+colour_I+certification_HRD+certification_IGI',data=df_all).fit()\n",
    "model_d.params"
   ]
  },
  {
   "cell_type": "code",
   "execution_count": null,
   "id": "45cd9045",
   "metadata": {},
   "outputs": [],
   "source": [
    "model_d.f_test('colour_E=colour_F=colour_G=colour_H=colour_I=0')"
   ]
  },
  {
   "cell_type": "code",
   "execution_count": null,
   "id": "df43eb8c",
   "metadata": {},
   "outputs": [],
   "source": [
    "stats.f.ppf(1-0.01,5,len(df_all)-5).round(2)"
   ]
  },
  {
   "cell_type": "markdown",
   "id": "ad57a0ff",
   "metadata": {},
   "source": [
    "$F_{cr} < F_{obs} \\Rightarrow $ Гипотеза $H_0$ о совместной незначимости коэффициентов отвергается."
   ]
  },
  {
   "cell_type": "code",
   "execution_count": null,
   "id": "3eca2681",
   "metadata": {},
   "outputs": [],
   "source": []
  }
 ],
 "metadata": {
  "kernelspec": {
   "display_name": "Python 3 (ipykernel)",
   "language": "python",
   "name": "python3"
  },
  "language_info": {
   "codemirror_mode": {
    "name": "ipython",
    "version": 3
   },
   "file_extension": ".py",
   "mimetype": "text/x-python",
   "name": "python",
   "nbconvert_exporter": "python",
   "pygments_lexer": "ipython3",
   "version": "3.8.8"
  }
 },
 "nbformat": 4,
 "nbformat_minor": 5
}
