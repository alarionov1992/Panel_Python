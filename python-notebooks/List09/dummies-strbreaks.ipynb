{
 "cells": [
  {
   "cell_type": "markdown",
   "id": "7cc14583",
   "metadata": {},
   "source": [
    "# Бинарные переменные: структурные сдвиги"
   ]
  },
  {
   "cell_type": "code",
   "execution_count": 1,
   "id": "b56f44d3",
   "metadata": {},
   "outputs": [],
   "source": [
    "import pandas as pd\n",
    "import numpy as np\n",
    "import statsmodels.formula.api as smf\n",
    "import statsmodels.api as sm\n",
    "from statsmodels.iolib.summary2 import summary_col # вывод подгонки\n",
    "from scipy.stats import f # F-распределение"
   ]
  },
  {
   "cell_type": "markdown",
   "id": "de3ba534",
   "metadata": {},
   "source": [
    "## Sleep equation with structural breaks\n",
    "Для набора данных `sleep75` рассмотрим линейную регрессию **sleep на totwrk, age, smsa**: исходную и со структурными сдвигами относительно гендерной переменной."
   ]
  },
  {
   "cell_type": "code",
   "execution_count": 4,
   "id": "fc719734",
   "metadata": {},
   "outputs": [],
   "source": [
    "sleep_df = pd.read_csv('https://raw.githubusercontent.com/artamonoff/Econometrica/master/python-notebooks/data-csv/sleep75.csv')"
   ]
  },
  {
   "cell_type": "code",
   "execution_count": 7,
   "id": "5073302b",
   "metadata": {},
   "outputs": [
    {
     "data": {
      "text/html": [
       "<table class=\"simpletable\">\n",
       "<tr>\n",
       "         <td></td>           <th>sleep I</th>     <th>sleep II</th>  \n",
       "</tr>\n",
       "<tr>\n",
       "  <th>totwrk</th>          <td>-0.1504***</td>   <td>-0.1431***</td> \n",
       "</tr>\n",
       "<tr>\n",
       "  <th></th>                 <td>(0.0167)</td>     <td>(0.0262)</td>  \n",
       "</tr>\n",
       "<tr>\n",
       "  <th>age</th>              <td>2.9974**</td>      <td>1.7040</td>   \n",
       "</tr>\n",
       "<tr>\n",
       "  <th></th>                 <td>(1.3929)</td>     <td>(2.0853)</td>  \n",
       "</tr>\n",
       "<tr>\n",
       "  <th>smsa</th>            <td>-73.5012**</td>    <td>-56.6489</td>  \n",
       "</tr>\n",
       "<tr>\n",
       "  <th></th>                 <td>(32.2188)</td>    <td>(48.9017)</td> \n",
       "</tr>\n",
       "<tr>\n",
       "  <th>male</th>                 <td></td>         <td>135.1996</td>  \n",
       "</tr>\n",
       "<tr>\n",
       "  <th></th>                     <td></td>        <td>(143.8322)</td> \n",
       "</tr>\n",
       "<tr>\n",
       "  <th>totwrk:male</th>          <td></td>          <td>-0.0452</td>  \n",
       "</tr>\n",
       "<tr>\n",
       "  <th></th>                     <td></td>         <td>(0.0364)</td>  \n",
       "</tr>\n",
       "<tr>\n",
       "  <th>age:male</th>             <td></td>          <td>1.4996</td>   \n",
       "</tr>\n",
       "<tr>\n",
       "  <th></th>                     <td></td>         <td>(2.8248)</td>  \n",
       "</tr>\n",
       "<tr>\n",
       "  <th>smsa:male</th>            <td></td>         <td>-34.7350</td>  \n",
       "</tr>\n",
       "<tr>\n",
       "  <th></th>                     <td></td>         <td>(64.9380)</td> \n",
       "</tr>\n",
       "<tr>\n",
       "  <th>Intercept</th>      <td>3498.6705***</td> <td>3486.9727***</td>\n",
       "</tr>\n",
       "<tr>\n",
       "  <th></th>                 <td>(69.1327)</td>    <td>(92.4179)</td> \n",
       "</tr>\n",
       "<tr>\n",
       "  <th>R-squared</th>         <td>0.1154</td>       <td>0.1261</td>   \n",
       "</tr>\n",
       "<tr>\n",
       "  <th>R-squared Adj.</th>    <td>0.1116</td>       <td>0.1173</td>   \n",
       "</tr>\n",
       "</table>"
      ],
      "text/plain": [
       "<class 'statsmodels.iolib.summary2.Summary'>\n",
       "\"\"\"\n",
       "\n",
       "========================================\n",
       "                 sleep I      sleep II  \n",
       "----------------------------------------\n",
       "totwrk         -0.1504***   -0.1431***  \n",
       "               (0.0167)     (0.0262)    \n",
       "age            2.9974**     1.7040      \n",
       "               (1.3929)     (2.0853)    \n",
       "smsa           -73.5012**   -56.6489    \n",
       "               (32.2188)    (48.9017)   \n",
       "male                        135.1996    \n",
       "                            (143.8322)  \n",
       "totwrk:male                 -0.0452     \n",
       "                            (0.0364)    \n",
       "age:male                    1.4996      \n",
       "                            (2.8248)    \n",
       "smsa:male                   -34.7350    \n",
       "                            (64.9380)   \n",
       "Intercept      3498.6705*** 3486.9727***\n",
       "               (69.1327)    (92.4179)   \n",
       "R-squared      0.1154       0.1261      \n",
       "R-squared Adj. 0.1116       0.1173      \n",
       "========================================\n",
       "Standard errors in parentheses.\n",
       "* p<.1, ** p<.05, ***p<.01\n",
       "\"\"\""
      ]
     },
     "execution_count": 7,
     "metadata": {},
     "output_type": "execute_result"
    }
   ],
   "source": [
    "mod =smf.ols(formula='sleep~totwrk+age+smsa', data=sleep_df).fit()\n",
    "mod_brks = smf.ols(formula='sleep~totwrk+age+smsa+male+totwrk:male+age:male+smsa:male', data=sleep_df).fit()\n",
    "summary_col([mod, mod_brks], stars=True, \n",
    "            regressor_order=['totwrk', 'age', 'smsa', 'male', 'totwrk:male', 'age:male', 'smsa:male'])"
   ]
  },
  {
   "cell_type": "markdown",
   "id": "832bae09",
   "metadata": {},
   "source": [
    "Значимость стурктурныз сдвигов"
   ]
  },
  {
   "cell_type": "code",
   "execution_count": 8,
   "id": "d4dd10a6",
   "metadata": {},
   "outputs": [
    {
     "data": {
      "text/plain": [
       "(2.133770322256609, 0.07502519049985751, 4.0)"
      ]
     },
     "execution_count": 8,
     "metadata": {},
     "output_type": "execute_result"
    }
   ],
   "source": [
    "mod_brks.compare_f_test(mod)"
   ]
  },
  {
   "cell_type": "markdown",
   "id": "c4582afa",
   "metadata": {},
   "source": [
    "5%-критическое значение"
   ]
  },
  {
   "cell_type": "code",
   "execution_count": 9,
   "id": "443dfcab",
   "metadata": {},
   "outputs": [
    {
     "data": {
      "text/plain": [
       "2.384692685857469"
      ]
     },
     "execution_count": 9,
     "metadata": {},
     "output_type": "execute_result"
    }
   ],
   "source": [
    "f.ppf(q=1-0.05, dfn=4, dfd=mod_brks.df_resid)"
   ]
  },
  {
   "cell_type": "code",
   "execution_count": null,
   "id": "0ebb1d68",
   "metadata": {},
   "outputs": [],
   "source": []
  }
 ],
 "metadata": {
  "kernelspec": {
   "display_name": "Python 3 (ipykernel)",
   "language": "python",
   "name": "python3"
  },
  "language_info": {
   "codemirror_mode": {
    "name": "ipython",
    "version": 3
   },
   "file_extension": ".py",
   "mimetype": "text/x-python",
   "name": "python",
   "nbconvert_exporter": "python",
   "pygments_lexer": "ipython3",
   "version": "3.9.16"
  }
 },
 "nbformat": 4,
 "nbformat_minor": 5
}
