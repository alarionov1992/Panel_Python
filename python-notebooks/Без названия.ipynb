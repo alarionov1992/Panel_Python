{
 "cells": [
  {
   "cell_type": "code",
   "execution_count": 11,
   "id": "2aa24f99",
   "metadata": {},
   "outputs": [],
   "source": [
    "import pandas as pd\n",
    "import numpy as np\n",
    "import io\n",
    "import re\n",
    "import statsmodels.formula.api as smf"
   ]
  },
  {
   "cell_type": "code",
   "execution_count": 70,
   "id": "d312a794",
   "metadata": {},
   "outputs": [],
   "source": [
    "date_string = '''totwrk                       -0.169***         \n",
    "                              (0.018)          \n",
    "                                               \n",
    "age                           2.689*           \n",
    "                              (1.469)          \n",
    "                                               \n",
    "south                        101.568**         \n",
    "                             (41.837)          \n",
    "                                               \n",
    "male                         87.669**          \n",
    "                             (35.104)          \n",
    "                                               \n",
    "smsa                         -54.748*          \n",
    "                             (33.123)          \n",
    "                                               \n",
    "yngkid                        -13.962          \n",
    "                             (50.341)          \n",
    "                                               \n",
    "marr                          31.211           \n",
    "                             (42.233)          \n",
    "                                               \n",
    "Constant                    3450.913***        \n",
    "                             (80.726)   '''"
   ]
  },
  {
   "cell_type": "code",
   "execution_count": 79,
   "id": "fe41fd5f",
   "metadata": {},
   "outputs": [
    {
     "data": {
      "text/plain": [
       "array([['totwrk', '-0.169***', '(0.018)'],\n",
       "       ['age', '2.689*', '(1.469)'],\n",
       "       ['south', '101.568**', '(41.837)'],\n",
       "       ['male', '87.669**', '(35.104)'],\n",
       "       ['smsa', '-54.748*', '(33.123)'],\n",
       "       ['yngkid', '-13.962', '(50.341)'],\n",
       "       ['marr', '31.211', '(42.233)'],\n",
       "       ['Constant', '3450.913***', '(80.726)']], dtype='<U11')"
      ]
     },
     "execution_count": 79,
     "metadata": {},
     "output_type": "execute_result"
    }
   ],
   "source": [
    "np.reshape(date_string.strip().split(), (8,3))"
   ]
  },
  {
   "cell_type": "code",
   "execution_count": 104,
   "id": "f9893276",
   "metadata": {},
   "outputs": [
    {
     "data": {
      "text/plain": [
       "['-0.169',\n",
       " '0.018',\n",
       " '2.689',\n",
       " '1.469',\n",
       " '101.568',\n",
       " '41.837',\n",
       " '87.669',\n",
       " '35.104',\n",
       " '-54.748',\n",
       " '33.123',\n",
       " '-13.962',\n",
       " '50.341',\n",
       " '31.211',\n",
       " '42.233',\n",
       " '3450.913',\n",
       " '80.726']"
      ]
     },
     "execution_count": 104,
     "metadata": {},
     "output_type": "execute_result"
    }
   ],
   "source": [
    "re.findall(r'([-+]?\\d+\\.\\d+)', date_string)"
   ]
  },
  {
   "cell_type": "code",
   "execution_count": 91,
   "id": "0e89f275",
   "metadata": {},
   "outputs": [
    {
     "data": {
      "text/plain": [
       "['-54.748']"
      ]
     },
     "execution_count": 91,
     "metadata": {},
     "output_type": "execute_result"
    }
   ],
   "source": [
    "re.findall(r'[-+]?[.]?[\\d]+[\\.]?\\d*', '''-54.748*''')"
   ]
  },
  {
   "cell_type": "code",
   "execution_count": 72,
   "id": "803b24f6",
   "metadata": {},
   "outputs": [
    {
     "data": {
      "text/plain": [
       "['-0.169',\n",
       " '0.018',\n",
       " '2.689',\n",
       " '1.469',\n",
       " '101.568',\n",
       " '41.837',\n",
       " '87.669',\n",
       " '35.104',\n",
       " '-54.748',\n",
       " '33.123',\n",
       " '-13.962',\n",
       " '50.341',\n",
       " '31.211',\n",
       " '42.233',\n",
       " '3450.913',\n",
       " '80.726']"
      ]
     },
     "execution_count": 72,
     "metadata": {},
     "output_type": "execute_result"
    }
   ],
   "source": [
    "re.findall(r'[-+]?[.]?[\\d+]+[\\.]?\\d*(?:[eE][-+]?\\d+)?', date_string)"
   ]
  },
  {
   "cell_type": "code",
   "execution_count": 73,
   "id": "9909a7ec",
   "metadata": {},
   "outputs": [
    {
     "data": {
      "text/html": [
       "<div>\n",
       "<style scoped>\n",
       "    .dataframe tbody tr th:only-of-type {\n",
       "        vertical-align: middle;\n",
       "    }\n",
       "\n",
       "    .dataframe tbody tr th {\n",
       "        vertical-align: top;\n",
       "    }\n",
       "\n",
       "    .dataframe thead th {\n",
       "        text-align: right;\n",
       "    }\n",
       "</style>\n",
       "<table border=\"1\" class=\"dataframe\">\n",
       "  <thead>\n",
       "    <tr style=\"text-align: right;\">\n",
       "      <th></th>\n",
       "      <th>0</th>\n",
       "      <th>1</th>\n",
       "    </tr>\n",
       "  </thead>\n",
       "  <tbody>\n",
       "    <tr>\n",
       "      <th>0</th>\n",
       "      <td>totwrk</td>\n",
       "      <td>-0.169***</td>\n",
       "    </tr>\n",
       "    <tr>\n",
       "      <th>1</th>\n",
       "      <td>(0.018)</td>\n",
       "      <td>NaN</td>\n",
       "    </tr>\n",
       "    <tr>\n",
       "      <th>2</th>\n",
       "      <td>age</td>\n",
       "      <td>2.689*</td>\n",
       "    </tr>\n",
       "    <tr>\n",
       "      <th>3</th>\n",
       "      <td>(1.469)</td>\n",
       "      <td>NaN</td>\n",
       "    </tr>\n",
       "    <tr>\n",
       "      <th>4</th>\n",
       "      <td>south</td>\n",
       "      <td>101.568**</td>\n",
       "    </tr>\n",
       "    <tr>\n",
       "      <th>5</th>\n",
       "      <td>(41.837)</td>\n",
       "      <td>NaN</td>\n",
       "    </tr>\n",
       "    <tr>\n",
       "      <th>6</th>\n",
       "      <td>male</td>\n",
       "      <td>87.669**</td>\n",
       "    </tr>\n",
       "    <tr>\n",
       "      <th>7</th>\n",
       "      <td>(35.104)</td>\n",
       "      <td>NaN</td>\n",
       "    </tr>\n",
       "    <tr>\n",
       "      <th>8</th>\n",
       "      <td>smsa</td>\n",
       "      <td>-54.748*</td>\n",
       "    </tr>\n",
       "    <tr>\n",
       "      <th>9</th>\n",
       "      <td>(33.123)</td>\n",
       "      <td>NaN</td>\n",
       "    </tr>\n",
       "    <tr>\n",
       "      <th>10</th>\n",
       "      <td>yngkid</td>\n",
       "      <td>-13.962</td>\n",
       "    </tr>\n",
       "    <tr>\n",
       "      <th>11</th>\n",
       "      <td>(50.341)</td>\n",
       "      <td>NaN</td>\n",
       "    </tr>\n",
       "    <tr>\n",
       "      <th>12</th>\n",
       "      <td>marr</td>\n",
       "      <td>31.211</td>\n",
       "    </tr>\n",
       "    <tr>\n",
       "      <th>13</th>\n",
       "      <td>(42.233)</td>\n",
       "      <td>NaN</td>\n",
       "    </tr>\n",
       "    <tr>\n",
       "      <th>14</th>\n",
       "      <td>Constant</td>\n",
       "      <td>3450.913***</td>\n",
       "    </tr>\n",
       "    <tr>\n",
       "      <th>15</th>\n",
       "      <td>(80.726)</td>\n",
       "      <td>NaN</td>\n",
       "    </tr>\n",
       "  </tbody>\n",
       "</table>\n",
       "</div>"
      ],
      "text/plain": [
       "           0            1\n",
       "0     totwrk    -0.169***\n",
       "1    (0.018)          NaN\n",
       "2        age       2.689*\n",
       "3    (1.469)          NaN\n",
       "4      south    101.568**\n",
       "5   (41.837)          NaN\n",
       "6       male     87.669**\n",
       "7   (35.104)          NaN\n",
       "8       smsa     -54.748*\n",
       "9   (33.123)          NaN\n",
       "10    yngkid      -13.962\n",
       "11  (50.341)          NaN\n",
       "12      marr       31.211\n",
       "13  (42.233)          NaN\n",
       "14  Constant  3450.913***\n",
       "15  (80.726)          NaN"
      ]
     },
     "execution_count": 73,
     "metadata": {},
     "output_type": "execute_result"
    }
   ],
   "source": [
    "df = pd.read_csv(io.StringIO(date_string),header=None, sep='\\s+')\n",
    "df"
   ]
  },
  {
   "cell_type": "code",
   "execution_count": 74,
   "id": "61426d8e",
   "metadata": {},
   "outputs": [
    {
     "data": {
      "text/plain": [
       "array([['totwrk', '-0.169***', '(0.018)'],\n",
       "       ['age', '2.689*', '(1.469)'],\n",
       "       ['south', '101.568**', '(41.837)'],\n",
       "       ['male', '87.669**', '(35.104)'],\n",
       "       ['smsa', '-54.748*', '(33.123)'],\n",
       "       ['yngkid', '-13.962', '(50.341)'],\n",
       "       ['marr', '31.211', '(42.233)'],\n",
       "       ['Constant', '3450.913***', '(80.726)']], dtype='<U11')"
      ]
     },
     "execution_count": 74,
     "metadata": {},
     "output_type": "execute_result"
    }
   ],
   "source": [
    "np.reshape(date_string.strip().split(), (8,3))"
   ]
  },
  {
   "cell_type": "code",
   "execution_count": 75,
   "id": "7fcaf75d",
   "metadata": {},
   "outputs": [],
   "source": [
    "df = pd.DataFrame(np.reshape(date_string.strip().split(), (8,3)), columns = ['Column_A','Column_B','Column_C'])"
   ]
  },
  {
   "cell_type": "code",
   "execution_count": 76,
   "id": "edcfd1b5",
   "metadata": {},
   "outputs": [
    {
     "data": {
      "text/html": [
       "<div>\n",
       "<style scoped>\n",
       "    .dataframe tbody tr th:only-of-type {\n",
       "        vertical-align: middle;\n",
       "    }\n",
       "\n",
       "    .dataframe tbody tr th {\n",
       "        vertical-align: top;\n",
       "    }\n",
       "\n",
       "    .dataframe thead th {\n",
       "        text-align: right;\n",
       "    }\n",
       "</style>\n",
       "<table border=\"1\" class=\"dataframe\">\n",
       "  <thead>\n",
       "    <tr style=\"text-align: right;\">\n",
       "      <th></th>\n",
       "      <th>Column_A</th>\n",
       "      <th>Column_B</th>\n",
       "      <th>Column_C</th>\n",
       "    </tr>\n",
       "  </thead>\n",
       "  <tbody>\n",
       "    <tr>\n",
       "      <th>0</th>\n",
       "      <td>totwrk</td>\n",
       "      <td>-0.169***</td>\n",
       "      <td>(0.018)</td>\n",
       "    </tr>\n",
       "    <tr>\n",
       "      <th>1</th>\n",
       "      <td>age</td>\n",
       "      <td>2.689*</td>\n",
       "      <td>(1.469)</td>\n",
       "    </tr>\n",
       "    <tr>\n",
       "      <th>2</th>\n",
       "      <td>south</td>\n",
       "      <td>101.568**</td>\n",
       "      <td>(41.837)</td>\n",
       "    </tr>\n",
       "    <tr>\n",
       "      <th>3</th>\n",
       "      <td>male</td>\n",
       "      <td>87.669**</td>\n",
       "      <td>(35.104)</td>\n",
       "    </tr>\n",
       "    <tr>\n",
       "      <th>4</th>\n",
       "      <td>smsa</td>\n",
       "      <td>-54.748*</td>\n",
       "      <td>(33.123)</td>\n",
       "    </tr>\n",
       "    <tr>\n",
       "      <th>5</th>\n",
       "      <td>yngkid</td>\n",
       "      <td>-13.962</td>\n",
       "      <td>(50.341)</td>\n",
       "    </tr>\n",
       "    <tr>\n",
       "      <th>6</th>\n",
       "      <td>marr</td>\n",
       "      <td>31.211</td>\n",
       "      <td>(42.233)</td>\n",
       "    </tr>\n",
       "    <tr>\n",
       "      <th>7</th>\n",
       "      <td>Constant</td>\n",
       "      <td>3450.913***</td>\n",
       "      <td>(80.726)</td>\n",
       "    </tr>\n",
       "  </tbody>\n",
       "</table>\n",
       "</div>"
      ],
      "text/plain": [
       "   Column_A     Column_B  Column_C\n",
       "0    totwrk    -0.169***   (0.018)\n",
       "1       age       2.689*   (1.469)\n",
       "2     south    101.568**  (41.837)\n",
       "3      male     87.669**  (35.104)\n",
       "4      smsa     -54.748*  (33.123)\n",
       "5    yngkid      -13.962  (50.341)\n",
       "6      marr       31.211  (42.233)\n",
       "7  Constant  3450.913***  (80.726)"
      ]
     },
     "execution_count": 76,
     "metadata": {},
     "output_type": "execute_result"
    }
   ],
   "source": [
    "df"
   ]
  },
  {
   "cell_type": "code",
   "execution_count": 88,
   "id": "5d6d1991",
   "metadata": {},
   "outputs": [
    {
     "data": {
      "text/html": [
       "<div>\n",
       "<style scoped>\n",
       "    .dataframe tbody tr th:only-of-type {\n",
       "        vertical-align: middle;\n",
       "    }\n",
       "\n",
       "    .dataframe tbody tr th {\n",
       "        vertical-align: top;\n",
       "    }\n",
       "\n",
       "    .dataframe thead th {\n",
       "        text-align: right;\n",
       "    }\n",
       "</style>\n",
       "<table border=\"1\" class=\"dataframe\">\n",
       "  <thead>\n",
       "    <tr style=\"text-align: right;\">\n",
       "      <th></th>\n",
       "      <th>Column_A</th>\n",
       "      <th>Column_B</th>\n",
       "      <th>Column_C</th>\n",
       "    </tr>\n",
       "  </thead>\n",
       "  <tbody>\n",
       "    <tr>\n",
       "      <th>0</th>\n",
       "      <td>totwrk</td>\n",
       "      <td>-0.169***</td>\n",
       "      <td>(0.018)</td>\n",
       "    </tr>\n",
       "    <tr>\n",
       "      <th>1</th>\n",
       "      <td>age</td>\n",
       "      <td>2.689*</td>\n",
       "      <td>(1.469)</td>\n",
       "    </tr>\n",
       "    <tr>\n",
       "      <th>2</th>\n",
       "      <td>south</td>\n",
       "      <td>101.568**</td>\n",
       "      <td>(41.837)</td>\n",
       "    </tr>\n",
       "    <tr>\n",
       "      <th>3</th>\n",
       "      <td>male</td>\n",
       "      <td>87.669**</td>\n",
       "      <td>(35.104)</td>\n",
       "    </tr>\n",
       "    <tr>\n",
       "      <th>4</th>\n",
       "      <td>smsa</td>\n",
       "      <td>-54.748*</td>\n",
       "      <td>(33.123)</td>\n",
       "    </tr>\n",
       "    <tr>\n",
       "      <th>5</th>\n",
       "      <td>yngkid</td>\n",
       "      <td>-13.962</td>\n",
       "      <td>(50.341)</td>\n",
       "    </tr>\n",
       "    <tr>\n",
       "      <th>6</th>\n",
       "      <td>marr</td>\n",
       "      <td>31.211</td>\n",
       "      <td>(42.233)</td>\n",
       "    </tr>\n",
       "    <tr>\n",
       "      <th>7</th>\n",
       "      <td>Constant</td>\n",
       "      <td>3450.913***</td>\n",
       "      <td>(80.726)</td>\n",
       "    </tr>\n",
       "  </tbody>\n",
       "</table>\n",
       "</div>"
      ],
      "text/plain": [
       "   Column_A     Column_B  Column_C\n",
       "0    totwrk    -0.169***   (0.018)\n",
       "1       age       2.689*   (1.469)\n",
       "2     south    101.568**  (41.837)\n",
       "3      male     87.669**  (35.104)\n",
       "4      smsa     -54.748*  (33.123)\n",
       "5    yngkid      -13.962  (50.341)\n",
       "6      marr       31.211  (42.233)\n",
       "7  Constant  3450.913***  (80.726)"
      ]
     },
     "execution_count": 88,
     "metadata": {},
     "output_type": "execute_result"
    }
   ],
   "source": [
    "df"
   ]
  },
  {
   "cell_type": "code",
   "execution_count": 97,
   "id": "6b438c36",
   "metadata": {},
   "outputs": [
    {
     "ename": "ValueError",
     "evalue": "pattern contains no capture groups",
     "output_type": "error",
     "traceback": [
      "\u001b[0;31m---------------------------------------------------------------------------\u001b[0m",
      "\u001b[0;31mValueError\u001b[0m                                Traceback (most recent call last)",
      "\u001b[0;32m<ipython-input-97-47b10b4501c4>\u001b[0m in \u001b[0;36m<module>\u001b[0;34m\u001b[0m\n\u001b[0;32m----> 1\u001b[0;31m \u001b[0mdf\u001b[0m\u001b[0;34m[\u001b[0m\u001b[0;34m\"1\"\u001b[0m\u001b[0;34m]\u001b[0m \u001b[0;34m=\u001b[0m \u001b[0mpd\u001b[0m\u001b[0;34m.\u001b[0m\u001b[0mto_numeric\u001b[0m\u001b[0;34m(\u001b[0m\u001b[0mdf\u001b[0m\u001b[0;34m[\u001b[0m\u001b[0;34m\"Column_C\"\u001b[0m\u001b[0;34m]\u001b[0m\u001b[0;34m.\u001b[0m\u001b[0mstr\u001b[0m\u001b[0;34m.\u001b[0m\u001b[0mextract\u001b[0m\u001b[0;34m(\u001b[0m\u001b[0;34mr'[-+]?(?:\\d*\\.*\\d+)'\u001b[0m\u001b[0;34m)\u001b[0m\u001b[0;34m,\u001b[0m \u001b[0merrors\u001b[0m\u001b[0;34m=\u001b[0m\u001b[0;34m\"coerce\"\u001b[0m\u001b[0;34m)\u001b[0m\u001b[0;34m.\u001b[0m\u001b[0mastype\u001b[0m\u001b[0;34m(\u001b[0m\u001b[0mfloat\u001b[0m\u001b[0;34m)\u001b[0m\u001b[0;34m\u001b[0m\u001b[0;34m\u001b[0m\u001b[0m\n\u001b[0m\u001b[1;32m      2\u001b[0m \u001b[0mdf\u001b[0m\u001b[0;34m\u001b[0m\u001b[0;34m\u001b[0m\u001b[0m\n",
      "\u001b[0;32m/opt/anaconda3/lib/python3.8/site-packages/pandas/core/strings/accessor.py\u001b[0m in \u001b[0;36mwrapper\u001b[0;34m(self, *args, **kwargs)\u001b[0m\n\u001b[1;32m    127\u001b[0m                 )\n\u001b[1;32m    128\u001b[0m                 \u001b[0;32mraise\u001b[0m \u001b[0mTypeError\u001b[0m\u001b[0;34m(\u001b[0m\u001b[0mmsg\u001b[0m\u001b[0;34m)\u001b[0m\u001b[0;34m\u001b[0m\u001b[0;34m\u001b[0m\u001b[0m\n\u001b[0;32m--> 129\u001b[0;31m             \u001b[0;32mreturn\u001b[0m \u001b[0mfunc\u001b[0m\u001b[0;34m(\u001b[0m\u001b[0mself\u001b[0m\u001b[0;34m,\u001b[0m \u001b[0;34m*\u001b[0m\u001b[0margs\u001b[0m\u001b[0;34m,\u001b[0m \u001b[0;34m**\u001b[0m\u001b[0mkwargs\u001b[0m\u001b[0;34m)\u001b[0m\u001b[0;34m\u001b[0m\u001b[0;34m\u001b[0m\u001b[0m\n\u001b[0m\u001b[1;32m    130\u001b[0m \u001b[0;34m\u001b[0m\u001b[0m\n\u001b[1;32m    131\u001b[0m         \u001b[0mwrapper\u001b[0m\u001b[0;34m.\u001b[0m\u001b[0m__name__\u001b[0m \u001b[0;34m=\u001b[0m \u001b[0mfunc_name\u001b[0m\u001b[0;34m\u001b[0m\u001b[0;34m\u001b[0m\u001b[0m\n",
      "\u001b[0;32m/opt/anaconda3/lib/python3.8/site-packages/pandas/core/strings/accessor.py\u001b[0m in \u001b[0;36mextract\u001b[0;34m(self, pat, flags, expand)\u001b[0m\n\u001b[1;32m   2607\u001b[0m         \u001b[0mregex\u001b[0m \u001b[0;34m=\u001b[0m \u001b[0mre\u001b[0m\u001b[0;34m.\u001b[0m\u001b[0mcompile\u001b[0m\u001b[0;34m(\u001b[0m\u001b[0mpat\u001b[0m\u001b[0;34m,\u001b[0m \u001b[0mflags\u001b[0m\u001b[0;34m=\u001b[0m\u001b[0mflags\u001b[0m\u001b[0;34m)\u001b[0m\u001b[0;34m\u001b[0m\u001b[0;34m\u001b[0m\u001b[0m\n\u001b[1;32m   2608\u001b[0m         \u001b[0;32mif\u001b[0m \u001b[0mregex\u001b[0m\u001b[0;34m.\u001b[0m\u001b[0mgroups\u001b[0m \u001b[0;34m==\u001b[0m \u001b[0;36m0\u001b[0m\u001b[0;34m:\u001b[0m\u001b[0;34m\u001b[0m\u001b[0;34m\u001b[0m\u001b[0m\n\u001b[0;32m-> 2609\u001b[0;31m             \u001b[0;32mraise\u001b[0m \u001b[0mValueError\u001b[0m\u001b[0;34m(\u001b[0m\u001b[0;34m\"pattern contains no capture groups\"\u001b[0m\u001b[0;34m)\u001b[0m\u001b[0;34m\u001b[0m\u001b[0;34m\u001b[0m\u001b[0m\n\u001b[0m\u001b[1;32m   2610\u001b[0m \u001b[0;34m\u001b[0m\u001b[0m\n\u001b[1;32m   2611\u001b[0m         \u001b[0;32mif\u001b[0m \u001b[0;32mnot\u001b[0m \u001b[0mexpand\u001b[0m \u001b[0;32mand\u001b[0m \u001b[0mregex\u001b[0m\u001b[0;34m.\u001b[0m\u001b[0mgroups\u001b[0m \u001b[0;34m>\u001b[0m \u001b[0;36m1\u001b[0m \u001b[0;32mand\u001b[0m \u001b[0misinstance\u001b[0m\u001b[0;34m(\u001b[0m\u001b[0mself\u001b[0m\u001b[0;34m.\u001b[0m\u001b[0m_data\u001b[0m\u001b[0;34m,\u001b[0m \u001b[0mABCIndex\u001b[0m\u001b[0;34m)\u001b[0m\u001b[0;34m:\u001b[0m\u001b[0;34m\u001b[0m\u001b[0;34m\u001b[0m\u001b[0m\n",
      "\u001b[0;31mValueError\u001b[0m: pattern contains no capture groups"
     ]
    }
   ],
   "source": [
    "df[\"1\"] = pd.to_numeric(df[\"Column_C\"].str.extract(r'[-+]?(?:\\d*\\.*\\d+)'), errors=\"coerce\").astype(float)\n",
    "df"
   ]
  },
  {
   "cell_type": "code",
   "execution_count": 98,
   "id": "c32db40b",
   "metadata": {},
   "outputs": [],
   "source": [
    "df['Extracted_Float']=df['Column_C'].str.extract(r\"(\\d+\\.\\d+)\")"
   ]
  },
  {
   "cell_type": "code",
   "execution_count": 99,
   "id": "619ac01c",
   "metadata": {},
   "outputs": [
    {
     "data": {
      "text/html": [
       "<div>\n",
       "<style scoped>\n",
       "    .dataframe tbody tr th:only-of-type {\n",
       "        vertical-align: middle;\n",
       "    }\n",
       "\n",
       "    .dataframe tbody tr th {\n",
       "        vertical-align: top;\n",
       "    }\n",
       "\n",
       "    .dataframe thead th {\n",
       "        text-align: right;\n",
       "    }\n",
       "</style>\n",
       "<table border=\"1\" class=\"dataframe\">\n",
       "  <thead>\n",
       "    <tr style=\"text-align: right;\">\n",
       "      <th></th>\n",
       "      <th>Column_A</th>\n",
       "      <th>Column_B</th>\n",
       "      <th>Column_C</th>\n",
       "      <th>Extracted_Float</th>\n",
       "    </tr>\n",
       "  </thead>\n",
       "  <tbody>\n",
       "    <tr>\n",
       "      <th>0</th>\n",
       "      <td>totwrk</td>\n",
       "      <td>-0.169***</td>\n",
       "      <td>(0.018)</td>\n",
       "      <td>0.018</td>\n",
       "    </tr>\n",
       "    <tr>\n",
       "      <th>1</th>\n",
       "      <td>age</td>\n",
       "      <td>2.689*</td>\n",
       "      <td>(1.469)</td>\n",
       "      <td>1.469</td>\n",
       "    </tr>\n",
       "    <tr>\n",
       "      <th>2</th>\n",
       "      <td>south</td>\n",
       "      <td>101.568**</td>\n",
       "      <td>(41.837)</td>\n",
       "      <td>41.837</td>\n",
       "    </tr>\n",
       "    <tr>\n",
       "      <th>3</th>\n",
       "      <td>male</td>\n",
       "      <td>87.669**</td>\n",
       "      <td>(35.104)</td>\n",
       "      <td>35.104</td>\n",
       "    </tr>\n",
       "    <tr>\n",
       "      <th>4</th>\n",
       "      <td>smsa</td>\n",
       "      <td>-54.748*</td>\n",
       "      <td>(33.123)</td>\n",
       "      <td>33.123</td>\n",
       "    </tr>\n",
       "    <tr>\n",
       "      <th>5</th>\n",
       "      <td>yngkid</td>\n",
       "      <td>-13.962</td>\n",
       "      <td>(50.341)</td>\n",
       "      <td>50.341</td>\n",
       "    </tr>\n",
       "    <tr>\n",
       "      <th>6</th>\n",
       "      <td>marr</td>\n",
       "      <td>31.211</td>\n",
       "      <td>(42.233)</td>\n",
       "      <td>42.233</td>\n",
       "    </tr>\n",
       "    <tr>\n",
       "      <th>7</th>\n",
       "      <td>Constant</td>\n",
       "      <td>3450.913***</td>\n",
       "      <td>(80.726)</td>\n",
       "      <td>80.726</td>\n",
       "    </tr>\n",
       "  </tbody>\n",
       "</table>\n",
       "</div>"
      ],
      "text/plain": [
       "   Column_A     Column_B  Column_C Extracted_Float\n",
       "0    totwrk    -0.169***   (0.018)           0.018\n",
       "1       age       2.689*   (1.469)           1.469\n",
       "2     south    101.568**  (41.837)          41.837\n",
       "3      male     87.669**  (35.104)          35.104\n",
       "4      smsa     -54.748*  (33.123)          33.123\n",
       "5    yngkid      -13.962  (50.341)          50.341\n",
       "6      marr       31.211  (42.233)          42.233\n",
       "7  Constant  3450.913***  (80.726)          80.726"
      ]
     },
     "execution_count": 99,
     "metadata": {},
     "output_type": "execute_result"
    }
   ],
   "source": [
    "df"
   ]
  },
  {
   "cell_type": "code",
   "execution_count": 102,
   "id": "6775bdc0",
   "metadata": {},
   "outputs": [],
   "source": [
    "df['Extracted_Float']=df['Column_B'].str.extract(r\"([-+]?\\d+\\.\\d+)\")"
   ]
  },
  {
   "cell_type": "code",
   "execution_count": 103,
   "id": "1c436263",
   "metadata": {},
   "outputs": [
    {
     "data": {
      "text/html": [
       "<div>\n",
       "<style scoped>\n",
       "    .dataframe tbody tr th:only-of-type {\n",
       "        vertical-align: middle;\n",
       "    }\n",
       "\n",
       "    .dataframe tbody tr th {\n",
       "        vertical-align: top;\n",
       "    }\n",
       "\n",
       "    .dataframe thead th {\n",
       "        text-align: right;\n",
       "    }\n",
       "</style>\n",
       "<table border=\"1\" class=\"dataframe\">\n",
       "  <thead>\n",
       "    <tr style=\"text-align: right;\">\n",
       "      <th></th>\n",
       "      <th>Column_A</th>\n",
       "      <th>Column_B</th>\n",
       "      <th>Column_C</th>\n",
       "      <th>Extracted_Float</th>\n",
       "    </tr>\n",
       "  </thead>\n",
       "  <tbody>\n",
       "    <tr>\n",
       "      <th>0</th>\n",
       "      <td>totwrk</td>\n",
       "      <td>-0.169***</td>\n",
       "      <td>(0.018)</td>\n",
       "      <td>-0.169</td>\n",
       "    </tr>\n",
       "    <tr>\n",
       "      <th>1</th>\n",
       "      <td>age</td>\n",
       "      <td>2.689*</td>\n",
       "      <td>(1.469)</td>\n",
       "      <td>2.689</td>\n",
       "    </tr>\n",
       "    <tr>\n",
       "      <th>2</th>\n",
       "      <td>south</td>\n",
       "      <td>101.568**</td>\n",
       "      <td>(41.837)</td>\n",
       "      <td>101.568</td>\n",
       "    </tr>\n",
       "    <tr>\n",
       "      <th>3</th>\n",
       "      <td>male</td>\n",
       "      <td>87.669**</td>\n",
       "      <td>(35.104)</td>\n",
       "      <td>87.669</td>\n",
       "    </tr>\n",
       "    <tr>\n",
       "      <th>4</th>\n",
       "      <td>smsa</td>\n",
       "      <td>-54.748*</td>\n",
       "      <td>(33.123)</td>\n",
       "      <td>-54.748</td>\n",
       "    </tr>\n",
       "    <tr>\n",
       "      <th>5</th>\n",
       "      <td>yngkid</td>\n",
       "      <td>-13.962</td>\n",
       "      <td>(50.341)</td>\n",
       "      <td>-13.962</td>\n",
       "    </tr>\n",
       "    <tr>\n",
       "      <th>6</th>\n",
       "      <td>marr</td>\n",
       "      <td>31.211</td>\n",
       "      <td>(42.233)</td>\n",
       "      <td>31.211</td>\n",
       "    </tr>\n",
       "    <tr>\n",
       "      <th>7</th>\n",
       "      <td>Constant</td>\n",
       "      <td>3450.913***</td>\n",
       "      <td>(80.726)</td>\n",
       "      <td>3450.913</td>\n",
       "    </tr>\n",
       "  </tbody>\n",
       "</table>\n",
       "</div>"
      ],
      "text/plain": [
       "   Column_A     Column_B  Column_C Extracted_Float\n",
       "0    totwrk    -0.169***   (0.018)          -0.169\n",
       "1       age       2.689*   (1.469)           2.689\n",
       "2     south    101.568**  (41.837)         101.568\n",
       "3      male     87.669**  (35.104)          87.669\n",
       "4      smsa     -54.748*  (33.123)         -54.748\n",
       "5    yngkid      -13.962  (50.341)         -13.962\n",
       "6      marr       31.211  (42.233)          31.211\n",
       "7  Constant  3450.913***  (80.726)        3450.913"
      ]
     },
     "execution_count": 103,
     "metadata": {},
     "output_type": "execute_result"
    }
   ],
   "source": [
    "df"
   ]
  },
  {
   "cell_type": "code",
   "execution_count": 105,
   "id": "5eb4fbf4",
   "metadata": {},
   "outputs": [],
   "source": [
    "ddd = '''totwrk                -0.149***      -0.149***  \n",
    "                       (0.026)        (0.017)   \n",
    "                                                \n",
    "age                     -6.259        -6.359    \n",
    "                       (11.192)      (11.239)   \n",
    "                                                \n",
    "I(age2)                 0.107          0.112    \n",
    "                       (0.134)        (0.134)   \n",
    "                                                \n",
    "male                  161.890**                 \n",
    "                       (82.177)                 \n",
    "                                                \n",
    "south                 112.144***    108.387***  \n",
    "                       (40.717)      (40.743)   \n",
    "                                                \n",
    "totwrk:male             -0.035                  \n",
    "                       (0.036)                  \n",
    "                                                \n",
    "Constant             3587.178***    3625.984*** \n",
    "                      (220.238)      (219.314)  '''"
   ]
  },
  {
   "cell_type": "code",
   "execution_count": 107,
   "id": "3ca36244",
   "metadata": {},
   "outputs": [
    {
     "ename": "ValueError",
     "evalue": "cannot reshape array of size 31 into shape (7,3)",
     "output_type": "error",
     "traceback": [
      "\u001b[0;31m---------------------------------------------------------------------------\u001b[0m",
      "\u001b[0;31mValueError\u001b[0m                                Traceback (most recent call last)",
      "\u001b[0;32m<ipython-input-107-f419be7136e3>\u001b[0m in \u001b[0;36m<module>\u001b[0;34m\u001b[0m\n\u001b[0;32m----> 1\u001b[0;31m \u001b[0mnp\u001b[0m\u001b[0;34m.\u001b[0m\u001b[0mreshape\u001b[0m\u001b[0;34m(\u001b[0m\u001b[0mddd\u001b[0m\u001b[0;34m.\u001b[0m\u001b[0mstrip\u001b[0m\u001b[0;34m(\u001b[0m\u001b[0;34m)\u001b[0m\u001b[0;34m.\u001b[0m\u001b[0msplit\u001b[0m\u001b[0;34m(\u001b[0m\u001b[0;34m)\u001b[0m\u001b[0;34m,\u001b[0m \u001b[0;34m(\u001b[0m\u001b[0;36m7\u001b[0m\u001b[0;34m,\u001b[0m\u001b[0;36m3\u001b[0m\u001b[0;34m)\u001b[0m\u001b[0;34m)\u001b[0m\u001b[0;34m\u001b[0m\u001b[0;34m\u001b[0m\u001b[0m\n\u001b[0m",
      "\u001b[0;32m/opt/anaconda3/lib/python3.8/site-packages/numpy/core/overrides.py\u001b[0m in \u001b[0;36mreshape\u001b[0;34m(*args, **kwargs)\u001b[0m\n",
      "\u001b[0;32m/opt/anaconda3/lib/python3.8/site-packages/numpy/core/fromnumeric.py\u001b[0m in \u001b[0;36mreshape\u001b[0;34m(a, newshape, order)\u001b[0m\n\u001b[1;32m    296\u001b[0m            [5, 6]])\n\u001b[1;32m    297\u001b[0m     \"\"\"\n\u001b[0;32m--> 298\u001b[0;31m     \u001b[0;32mreturn\u001b[0m \u001b[0m_wrapfunc\u001b[0m\u001b[0;34m(\u001b[0m\u001b[0ma\u001b[0m\u001b[0;34m,\u001b[0m \u001b[0;34m'reshape'\u001b[0m\u001b[0;34m,\u001b[0m \u001b[0mnewshape\u001b[0m\u001b[0;34m,\u001b[0m \u001b[0morder\u001b[0m\u001b[0;34m=\u001b[0m\u001b[0morder\u001b[0m\u001b[0;34m)\u001b[0m\u001b[0;34m\u001b[0m\u001b[0;34m\u001b[0m\u001b[0m\n\u001b[0m\u001b[1;32m    299\u001b[0m \u001b[0;34m\u001b[0m\u001b[0m\n\u001b[1;32m    300\u001b[0m \u001b[0;34m\u001b[0m\u001b[0m\n",
      "\u001b[0;32m/opt/anaconda3/lib/python3.8/site-packages/numpy/core/fromnumeric.py\u001b[0m in \u001b[0;36m_wrapfunc\u001b[0;34m(obj, method, *args, **kwds)\u001b[0m\n\u001b[1;32m     52\u001b[0m     \u001b[0mbound\u001b[0m \u001b[0;34m=\u001b[0m \u001b[0mgetattr\u001b[0m\u001b[0;34m(\u001b[0m\u001b[0mobj\u001b[0m\u001b[0;34m,\u001b[0m \u001b[0mmethod\u001b[0m\u001b[0;34m,\u001b[0m \u001b[0;32mNone\u001b[0m\u001b[0;34m)\u001b[0m\u001b[0;34m\u001b[0m\u001b[0;34m\u001b[0m\u001b[0m\n\u001b[1;32m     53\u001b[0m     \u001b[0;32mif\u001b[0m \u001b[0mbound\u001b[0m \u001b[0;32mis\u001b[0m \u001b[0;32mNone\u001b[0m\u001b[0;34m:\u001b[0m\u001b[0;34m\u001b[0m\u001b[0;34m\u001b[0m\u001b[0m\n\u001b[0;32m---> 54\u001b[0;31m         \u001b[0;32mreturn\u001b[0m \u001b[0m_wrapit\u001b[0m\u001b[0;34m(\u001b[0m\u001b[0mobj\u001b[0m\u001b[0;34m,\u001b[0m \u001b[0mmethod\u001b[0m\u001b[0;34m,\u001b[0m \u001b[0;34m*\u001b[0m\u001b[0margs\u001b[0m\u001b[0;34m,\u001b[0m \u001b[0;34m**\u001b[0m\u001b[0mkwds\u001b[0m\u001b[0;34m)\u001b[0m\u001b[0;34m\u001b[0m\u001b[0;34m\u001b[0m\u001b[0m\n\u001b[0m\u001b[1;32m     55\u001b[0m \u001b[0;34m\u001b[0m\u001b[0m\n\u001b[1;32m     56\u001b[0m     \u001b[0;32mtry\u001b[0m\u001b[0;34m:\u001b[0m\u001b[0;34m\u001b[0m\u001b[0;34m\u001b[0m\u001b[0m\n",
      "\u001b[0;32m/opt/anaconda3/lib/python3.8/site-packages/numpy/core/fromnumeric.py\u001b[0m in \u001b[0;36m_wrapit\u001b[0;34m(obj, method, *args, **kwds)\u001b[0m\n\u001b[1;32m     41\u001b[0m     \u001b[0;32mexcept\u001b[0m \u001b[0mAttributeError\u001b[0m\u001b[0;34m:\u001b[0m\u001b[0;34m\u001b[0m\u001b[0;34m\u001b[0m\u001b[0m\n\u001b[1;32m     42\u001b[0m         \u001b[0mwrap\u001b[0m \u001b[0;34m=\u001b[0m \u001b[0;32mNone\u001b[0m\u001b[0;34m\u001b[0m\u001b[0;34m\u001b[0m\u001b[0m\n\u001b[0;32m---> 43\u001b[0;31m     \u001b[0mresult\u001b[0m \u001b[0;34m=\u001b[0m \u001b[0mgetattr\u001b[0m\u001b[0;34m(\u001b[0m\u001b[0masarray\u001b[0m\u001b[0;34m(\u001b[0m\u001b[0mobj\u001b[0m\u001b[0;34m)\u001b[0m\u001b[0;34m,\u001b[0m \u001b[0mmethod\u001b[0m\u001b[0;34m)\u001b[0m\u001b[0;34m(\u001b[0m\u001b[0;34m*\u001b[0m\u001b[0margs\u001b[0m\u001b[0;34m,\u001b[0m \u001b[0;34m**\u001b[0m\u001b[0mkwds\u001b[0m\u001b[0;34m)\u001b[0m\u001b[0;34m\u001b[0m\u001b[0;34m\u001b[0m\u001b[0m\n\u001b[0m\u001b[1;32m     44\u001b[0m     \u001b[0;32mif\u001b[0m \u001b[0mwrap\u001b[0m\u001b[0;34m:\u001b[0m\u001b[0;34m\u001b[0m\u001b[0;34m\u001b[0m\u001b[0m\n\u001b[1;32m     45\u001b[0m         \u001b[0;32mif\u001b[0m \u001b[0;32mnot\u001b[0m \u001b[0misinstance\u001b[0m\u001b[0;34m(\u001b[0m\u001b[0mresult\u001b[0m\u001b[0;34m,\u001b[0m \u001b[0mmu\u001b[0m\u001b[0;34m.\u001b[0m\u001b[0mndarray\u001b[0m\u001b[0;34m)\u001b[0m\u001b[0;34m:\u001b[0m\u001b[0;34m\u001b[0m\u001b[0;34m\u001b[0m\u001b[0m\n",
      "\u001b[0;31mValueError\u001b[0m: cannot reshape array of size 31 into shape (7,3)"
     ]
    }
   ],
   "source": [
    "np.reshape(ddd.strip().split(), (7,3))"
   ]
  },
  {
   "cell_type": "code",
   "execution_count": null,
   "id": "eb234dfd",
   "metadata": {},
   "outputs": [],
   "source": []
  }
 ],
 "metadata": {
  "kernelspec": {
   "display_name": "Python 3",
   "language": "python",
   "name": "python3"
  },
  "language_info": {
   "codemirror_mode": {
    "name": "ipython",
    "version": 3
   },
   "file_extension": ".py",
   "mimetype": "text/x-python",
   "name": "python",
   "nbconvert_exporter": "python",
   "pygments_lexer": "ipython3",
   "version": "3.8.8"
  }
 },
 "nbformat": 4,
 "nbformat_minor": 5
}
