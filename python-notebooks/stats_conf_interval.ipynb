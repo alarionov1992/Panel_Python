{
 "cells": [
  {
   "cell_type": "code",
   "execution_count": 69,
   "id": "c468c4db",
   "metadata": {},
   "outputs": [],
   "source": [
    "import scipy.stats as stats\n",
    "import numpy as np\n",
    "import matplotlib.pyplot as plt\n",
    "import random\n",
    "from pylab import rcParams\n",
    "%matplotlib inline\n",
    "rcParams['figure.figsize'] = 11,7"
   ]
  },
  {
   "attachments": {},
   "cell_type": "markdown",
   "id": "78886ff3",
   "metadata": {},
   "source": [
    "## Создадим набор случайных чисел из миллиона элементов"
   ]
  },
  {
   "cell_type": "code",
   "execution_count": null,
   "id": "fc20695c",
   "metadata": {},
   "outputs": [],
   "source": [
    "N = 10000000 #Создадим случайные массив чисел \n",
    "x = np.random.randint(-100, 100, N) # Значения для игра выбереме случайным образом."
   ]
  },
  {
   "cell_type": "markdown",
   "id": "7f856607",
   "metadata": {},
   "source": [
    "## Создадим выборку из 50-ти элементов для 50-ти интервалов."
   ]
  },
  {
   "cell_type": "code",
   "execution_count": 113,
   "id": "8e6245dd",
   "metadata": {},
   "outputs": [],
   "source": [
    "lv =50 # размер выборки\n",
    "vyborki = []\n",
    "means_val = []\n",
    "stan_err = []\n",
    "for i in range(0, lv):\n",
    "    vyborki.append(random.choices(x, k=lv))"
   ]
  },
  {
   "cell_type": "markdown",
   "id": "663124ea",
   "metadata": {},
   "source": [
    "## Для каждого из интервалов найдём его среднее значение и исправленную выборчную дисперсию"
   ]
  },
  {
   "cell_type": "code",
   "execution_count": 83,
   "id": "f4eff4c5",
   "metadata": {},
   "outputs": [],
   "source": [
    "t = stats.t.ppf(0.975,lv-1) # Из таблицы Стьюдента берем значение\n",
    "for item in vyborki:\n",
    "    means_val.append(np.mean(item)) # Для каждого интервала находим среднее значение\n",
    "    stan_err.append(np.sqrt(np.var(item, ddof=1))/np.sqrt(lv)) # Для каждого интервала находим среднее выборочное отклонение"
   ]
  },
  {
   "cell_type": "markdown",
   "id": "b719d880",
   "metadata": {},
   "source": [
    "# Отобразим доверительные интервалы"
   ]
  },
  {
   "cell_type": "code",
   "execution_count": 112,
   "id": "ddafc88f",
   "metadata": {},
   "outputs": [
    {
     "data": {
      "image/png": "[encoded data removed]",
      "text/plain": [
       "<Figure size 792x504 with 1 Axes>"
      ]
     },
     "metadata": {
      "needs_background": "light"
     },
     "output_type": "display_data"
    }
   ],
   "source": [
    "fig, ax = plt.subplots()\n",
    "legends = ['Mean value']\n",
    "for j in range(0, lv):\n",
    "    ax.hlines(j,means_val[j] - t*stan_err[j],  means_val[j] + t*stan_err[j], color='blue', linestyles='-') \n",
    "ax.axvline(x=np.mean(x), color='red',label='Mean value' )\n",
    "ax.legend()\n",
    "plt.show()"
   ]
  },
  {
   "attachments": {},
   "cell_type": "markdown",
   "id": "7265b333",
   "metadata": {},
   "source": [
    "# Три интервала из 50ти не пересекаются с средним значением генеральной выборки. Другими словами, 5% интервалов не содержат истинное значение среднего значение генеральной выборки."
   ]
  }
 ],
 "metadata": {
  "kernelspec": {
   "display_name": "Python 3",
   "language": "python",
   "name": "python3"
  },
  "language_info": {
   "codemirror_mode": {
    "name": "ipython",
    "version": 3
   },
   "file_extension": ".py",
   "mimetype": "text/x-python",
   "name": "python",
   "nbconvert_exporter": "python",
   "pygments_lexer": "ipython3",
   "version": "3.8.8"
  }
 },
 "nbformat": 4,
 "nbformat_minor": 5
}
