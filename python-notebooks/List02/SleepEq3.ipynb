{
 "cells": [
  {
   "cell_type": "markdown",
   "id": "f3a94e68",
   "metadata": {},
   "source": [
    "# Sleep Equation (Модель1)\n",
    "На датасете `sleep75` рассмотрим региессию **sleep на log(hrwage), smsa, totwrk, male, marr, age, south, yngkid**\n",
    "\n",
    "Спецификация: $sleep=\\beta_0+\\beta_1\\log(hrwage)+\\cdots+u$"
   ]
  },
  {
   "cell_type": "code",
   "execution_count": null,
   "id": "c036c61d",
   "metadata": {},
   "outputs": [],
   "source": [
    "import numpy as np # linear algebra \n",
    "import pandas as pd # data processing, CSV file I/O (e.g. pd.read_csv)\n",
    "# stats models: regression fitting via formulas\n",
    "import statsmodels.formula.api as smf\n",
    "# stats models: regression fitting via matrices of regression design\n",
    "import statsmodels.api as sm"
   ]
  },
  {
   "cell_type": "code",
   "execution_count": null,
   "id": "0207aa35",
   "metadata": {},
   "outputs": [],
   "source": [
    "df = pd.read_csv('sleep75.csv')\n",
    "# Описательные статистики по переменным модели\n",
    "df[['sleep', 'hrwage', 'smsa', 'totwrk', 'male', 'marr', 'age', 'south', 'yngkid']].describe()"
   ]
  },
  {
   "cell_type": "markdown",
   "id": "60bd9292",
   "metadata": {},
   "source": [
    "*Замечание*: есть пропущенные значения по hrwage\n",
    "## Первый способ оценивания: \n",
    "через спецификацию"
   ]
  },
  {
   "cell_type": "code",
   "execution_count": null,
   "id": "7ce41475",
   "metadata": {},
   "outputs": [],
   "source": [
    "# специфицируем моделл через формулу\n",
    "sleep_eq1 = smf.ols(formula='sleep~np.log(hrwage)+smsa+totwrk+male+marr+age+south+yngkid', data=df).fit()\n",
    "# Коэфициенты модели с округление\n",
    "sleep_eq1.params.round(2)"
   ]
  },
  {
   "cell_type": "code",
   "execution_count": null,
   "id": "f44f3c3c",
   "metadata": {},
   "outputs": [],
   "source": [
    "# Число наблюдений, под которые подгонялась модель\n",
    "sleep_eq1.nobs"
   ]
  },
  {
   "cell_type": "markdown",
   "id": "4ab0e8a8",
   "metadata": {},
   "source": [
    "*Вывод*: наблюдения с пропущенными значениями были удалены при оценивании модели"
   ]
  },
  {
   "cell_type": "code",
   "execution_count": null,
   "id": "a327e5bf",
   "metadata": {},
   "outputs": [],
   "source": [
    "# Альтеративно\n",
    "sleep_eq2 = sm.OLS.from_formula(formula='sleep~np.log(hrwage)+smsa+totwrk+male+marr+age+south+yngkid', \n",
    "                                data=df).fit()\n",
    "# Коэфициенты модели с округление\n",
    "sleep_eq2.params.round(2)"
   ]
  },
  {
   "cell_type": "markdown",
   "id": "10bd99e1",
   "metadata": {},
   "source": [
    "## Второй способ оценивания: \n",
    "через матрицы ргерессионного дизайна $\\mathbf{y}, \\mathbf{X}$"
   ]
  },
  {
   "cell_type": "code",
   "execution_count": null,
   "id": "0e1f6f28",
   "metadata": {},
   "outputs": [],
   "source": [
    "# Зададим матрицы регрессионного дизайна\n",
    "y = df['sleep'] # зависимая переменная\n",
    "# в исходом датасете есть переменная lhrwage=log(hrwage)\n",
    "# регрессоры с добавленным столбом единиц\n",
    "X = sm.add_constant(df[['lhrwage', 'smsa', 'totwrk', 'male', 'marr', 'age', 'south', 'yngkid']])  \n",
    "X.tail(n=7)"
   ]
  },
  {
   "cell_type": "code",
   "execution_count": null,
   "id": "21d3f0f3",
   "metadata": {},
   "outputs": [],
   "source": [
    "# Погоним модель (удалим пропущенные наблюдения с missing='drop')\n",
    "sleep_eq3 = sm.OLS(y, X, missing='drop').fit()\n",
    "# Коэфициенты модели с округление\n",
    "sleep_eq3.params.round(2)"
   ]
  },
  {
   "cell_type": "code",
   "execution_count": null,
   "id": "9ae478e8",
   "metadata": {},
   "outputs": [],
   "source": []
  }
 ],
 "metadata": {
  "kernelspec": {
   "display_name": "Python 3 (ipykernel)",
   "language": "python",
   "name": "python3"
  },
  "language_info": {
   "codemirror_mode": {
    "name": "ipython",
    "version": 3
   },
   "file_extension": ".py",
   "mimetype": "text/x-python",
   "name": "python",
   "nbconvert_exporter": "python",
   "pygments_lexer": "ipython3",
   "version": "3.9.16"
  }
 },
 "nbformat": 4,
 "nbformat_minor": 5
}
