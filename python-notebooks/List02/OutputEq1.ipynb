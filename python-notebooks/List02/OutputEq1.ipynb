{
 "cells": [
  {
   "cell_type": "markdown",
   "id": "8963830d",
   "metadata": {},
   "source": [
    "# Output Equation (Модель1)\n",
    "\n",
    "На датасете `Labour` рассмотрим региессию **log(output) на log(capital), log(labour)**\n",
    "\n",
    "Спецификация: $\\log(output)=\\beta_0+\\beta_1\\log(capital)+\\beta_2log(labour)+u$"
   ]
  },
  {
   "cell_type": "code",
   "execution_count": null,
   "id": "f9ec2d61",
   "metadata": {},
   "outputs": [],
   "source": [
    "import numpy as np # linear algebra \n",
    "import pandas as pd # data processing, CSV file I/O (e.g. pd.read_csv)\n",
    "# stats models: regression fitting via formulas\n",
    "import statsmodels.formula.api as smf\n",
    "# stats models: regression fitting via matrices of regression design\n",
    "import statsmodels.api as sm"
   ]
  },
  {
   "cell_type": "code",
   "execution_count": null,
   "id": "1d0ee57e",
   "metadata": {},
   "outputs": [],
   "source": [
    "df = pd.read_csv('Labour.csv')\n",
    "df.head()"
   ]
  },
  {
   "cell_type": "markdown",
   "id": "a23ff2d0",
   "metadata": {},
   "source": [
    "## Первый способ оценивания: \n",
    "через спецификацию"
   ]
  },
  {
   "cell_type": "code",
   "execution_count": null,
   "id": "ddd1e245",
   "metadata": {},
   "outputs": [],
   "source": [
    "# специфицируем модель через формулу\n",
    "output_eq1 = smf.ols(formula='np.log(output)~np.log(capital)+np.log(labour)', data=df).fit()\n",
    "# Коэфициенты модели с округление\n",
    "output_eq1.params.round(2)"
   ]
  },
  {
   "cell_type": "code",
   "execution_count": null,
   "id": "982d93d2",
   "metadata": {},
   "outputs": [],
   "source": [
    "# специфицируем модель через формулу\n",
    "sleep_eq2 = smf.ols(formula='np.log(output)~np.log(capital)+np.log(labour)', data=df).fit()\n",
    "# Коэфициенты модели с округление\n",
    "sleep_eq2.params.round(2)"
   ]
  },
  {
   "cell_type": "markdown",
   "id": "9b370fa4",
   "metadata": {},
   "source": [
    "## Второй способ оценивания: \n",
    "через матрицы ргерессионного дизайна $\\mathbf{y}, \\mathbf{X}$\n",
    "\n",
    "**Проблема**: При составлении матриц регрессионного дизайна нужно преобразовать данные (логарифмировать)"
   ]
  },
  {
   "cell_type": "code",
   "execution_count": null,
   "id": "c1582083",
   "metadata": {},
   "outputs": [],
   "source": [
    "# Зададим матрицы регрессионного дизайна\n",
    "y = np.log(df['output']) # зависимая переменная\n",
    "# логаримируем данные\n",
    "X = pd.DataFrame(data={'l_capital': np.log(df['capital']), 'l_labour': np.log(df['labour'])} )\n",
    "X = sm.add_constant(X)\n",
    "#X = sm.add_constant(df[['totwrk', 'male']]) # регрессоры с добавленным столбом единиц\n",
    "X.head(n=7)"
   ]
  },
  {
   "cell_type": "code",
   "execution_count": null,
   "id": "5e0c0509",
   "metadata": {},
   "outputs": [],
   "source": [
    "# Погоним модель\n",
    "sleep_eq3 = sm.OLS(y, X).fit()\n",
    "# Коэфициенты модели с округление\n",
    "sleep_eq3.params.round(2)"
   ]
  }
 ],
 "metadata": {
  "kernelspec": {
   "display_name": "Python 3 (ipykernel)",
   "language": "python",
   "name": "python3"
  },
  "language_info": {
   "codemirror_mode": {
    "name": "ipython",
    "version": 3
   },
   "file_extension": ".py",
   "mimetype": "text/x-python",
   "name": "python",
   "nbconvert_exporter": "python",
   "pygments_lexer": "ipython3",
   "version": "3.9.16"
  }
 },
 "nbformat": 4,
 "nbformat_minor": 5
}
