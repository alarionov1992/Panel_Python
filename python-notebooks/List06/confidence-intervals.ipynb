{
 "cells": [
  {
   "cell_type": "markdown",
   "id": "8f6fa9be",
   "metadata": {},
   "source": [
    "# Доверительные интервалы\n",
    "Пусть $\\gamma$ – доверительная вероятность и $t_{cr}=t_{df=n-k-1}(\\alpha=1-\\gamma)$\n",
    "\n",
    "Доверительный интервал для коэффициента $\\beta$: \n",
    "$$\\left(\\hat{\\beta}-t_{cr}\\cdot s.e.(\\beta)\\, ,\\, \\hat{\\beta}+t_{cr}\\cdot s.e.(\\beta)\\right)$$"
   ]
  },
  {
   "cell_type": "code",
   "execution_count": null,
   "id": "0cbe2277",
   "metadata": {},
   "outputs": [],
   "source": [
    "import pandas as pd\n",
    "import numpy as np\n",
    "import statsmodels.formula.api as smf\n",
    "import statsmodels.api as sm\n",
    "from statsmodels.iolib.summary2 import summary_col # вывод подгонки\n",
    "from scipy.stats import t # t-распределение"
   ]
  },
  {
   "cell_type": "markdown",
   "id": "e6cc26b9",
   "metadata": {},
   "source": [
    "## Output equation\n",
    "\n",
    "Для набора данных `Labour` рассмотрим регрессию **log(output) на log(capital) и log(labour)**\n",
    "\n",
    "Результаты подгонки"
   ]
  },
  {
   "cell_type": "code",
   "execution_count": null,
   "id": "0bab8927",
   "metadata": {},
   "outputs": [],
   "source": [
    "labour_df = pd.read_csv('https://raw.githubusercontent.com/artamonoff/Econometrica/master/python-notebooks/data-csv/Labour.csv')\n",
    "mod = smf.ols(formula='np.log(output)~np.log(capital)+np.log(labour)', data=labour_df).fit()\n",
    "mod.summary(slim=True)"
   ]
  },
  {
   "cell_type": "markdown",
   "id": "69d32a8e",
   "metadata": {},
   "source": [
    "Построим 95%-доверительные интервалы для каждого коэффициента ($\\gamma=0.95$, $\\alpha=0.05$)"
   ]
  },
  {
   "cell_type": "code",
   "execution_count": null,
   "id": "d3971288",
   "metadata": {},
   "outputs": [],
   "source": [
    "mod.conf_int(alpha=0.05)"
   ]
  },
  {
   "cell_type": "code",
   "execution_count": null,
   "id": "453d0e9b",
   "metadata": {},
   "outputs": [],
   "source": [
    "# ручное построение c.i.\n",
    "t_cr = t.ppf(q=1-0.05/2, df=mod.df_resid)\n",
    "mod.params-mod.bse*t_cr, mod.params+mod.bse*t_cr"
   ]
  },
  {
   "cell_type": "markdown",
   "id": "725eb900",
   "metadata": {},
   "source": [
    "Построим 90%-доверительные интервалы для каждого коэффициента ($\\gamma=0.90$, $\\alpha=0.10$)"
   ]
  },
  {
   "cell_type": "code",
   "execution_count": null,
   "id": "ddc91230",
   "metadata": {},
   "outputs": [],
   "source": [
    "mod.conf_int(alpha=0.10)"
   ]
  }
 ],
 "metadata": {
  "kernelspec": {
   "display_name": "Python 3 (ipykernel)",
   "language": "python",
   "name": "python3"
  },
  "language_info": {
   "codemirror_mode": {
    "name": "ipython",
    "version": 3
   },
   "file_extension": ".py",
   "mimetype": "text/x-python",
   "name": "python",
   "nbconvert_exporter": "python",
   "pygments_lexer": "ipython3",
   "version": "3.9.16"
  }
 },
 "nbformat": 4,
 "nbformat_minor": 5
}
