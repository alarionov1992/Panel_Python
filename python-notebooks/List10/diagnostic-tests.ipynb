{
 "cells": [
  {
   "cell_type": "markdown",
   "id": "f568527e",
   "metadata": {},
   "source": [
    "# Тесты на спецификацию"
   ]
  },
  {
   "cell_type": "code",
   "execution_count": 3,
   "id": "2436c44c",
   "metadata": {},
   "outputs": [],
   "source": [
    "import pandas as pd\n",
    "import numpy as np\n",
    "import statsmodels.formula.api as smf\n",
    "import statsmodels.api as sm\n",
    "from statsmodels.stats.diagnostic import linear_reset\n",
    "from statsmodels.stats.diagnostic import linear_rainbow\n",
    "from statsmodels.stats.diagnostic import linear_harvey_collier"
   ]
  },
  {
   "cell_type": "markdown",
   "id": "8526b3a4",
   "metadata": {},
   "source": [
    "## Sleep equation\n",
    "Для набора данных `sleep75` рассмотрим линейную регрессию **sleep на totwrk, age, smsa, male, south, marr**."
   ]
  },
  {
   "cell_type": "code",
   "execution_count": 7,
   "id": "fe190f7f",
   "metadata": {},
   "outputs": [
    {
     "data": {
      "text/html": [
       "<table class=\"simpletable\">\n",
       "<caption>OLS Regression Results</caption>\n",
       "<tr>\n",
       "  <th>Dep. Variable:</th>      <td>sleep</td>   <th>  R-squared:         </th> <td>   0.131</td>\n",
       "</tr>\n",
       "<tr>\n",
       "  <th>Model:</th>               <td>OLS</td>    <th>  Adj. R-squared:    </th> <td>   0.124</td>\n",
       "</tr>\n",
       "<tr>\n",
       "  <th>No. Observations:</th>  <td>   706</td>   <th>  F-statistic:       </th> <td>   17.59</td>\n",
       "</tr>\n",
       "<tr>\n",
       "  <th>Covariance Type:</th>  <td>nonrobust</td> <th>  Prob (F-statistic):</th> <td>5.04e-19</td>\n",
       "</tr>\n",
       "</table>\n",
       "<table class=\"simpletable\">\n",
       "<tr>\n",
       "      <td></td>         <th>coef</th>     <th>std err</th>      <th>t</th>      <th>P>|t|</th>  <th>[0.025</th>    <th>0.975]</th>  \n",
       "</tr>\n",
       "<tr>\n",
       "  <th>Intercept</th> <td> 3445.1856</td> <td>   77.989</td> <td>   44.175</td> <td> 0.000</td> <td> 3292.065</td> <td> 3598.306</td>\n",
       "</tr>\n",
       "<tr>\n",
       "  <th>totwrk</th>    <td>   -0.1690</td> <td>    0.018</td> <td>   -9.376</td> <td> 0.000</td> <td>   -0.204</td> <td>   -0.134</td>\n",
       "</tr>\n",
       "<tr>\n",
       "  <th>age</th>       <td>    2.8239</td> <td>    1.386</td> <td>    2.038</td> <td> 0.042</td> <td>    0.104</td> <td>    5.544</td>\n",
       "</tr>\n",
       "<tr>\n",
       "  <th>smsa</th>      <td>  -54.4945</td> <td>   33.089</td> <td>   -1.647</td> <td> 0.100</td> <td> -119.459</td> <td>   10.470</td>\n",
       "</tr>\n",
       "<tr>\n",
       "  <th>male</th>      <td>   86.5495</td> <td>   34.848</td> <td>    2.484</td> <td> 0.013</td> <td>   18.130</td> <td>  154.969</td>\n",
       "</tr>\n",
       "<tr>\n",
       "  <th>south</th>     <td>  100.8918</td> <td>   41.738</td> <td>    2.417</td> <td> 0.016</td> <td>   18.945</td> <td>  182.839</td>\n",
       "</tr>\n",
       "<tr>\n",
       "  <th>marr</th>      <td>   29.7490</td> <td>   41.875</td> <td>    0.710</td> <td> 0.478</td> <td>  -52.468</td> <td>  111.966</td>\n",
       "</tr>\n",
       "</table><br/><br/>Notes:<br/>[1] Standard Errors assume that the covariance matrix of the errors is correctly specified.<br/>[2] The condition number is large, 1.21e+04. This might indicate that there are<br/>strong multicollinearity or other numerical problems."
      ],
      "text/plain": [
       "<class 'statsmodels.iolib.summary.Summary'>\n",
       "\"\"\"\n",
       "                            OLS Regression Results                            \n",
       "==============================================================================\n",
       "Dep. Variable:                  sleep   R-squared:                       0.131\n",
       "Model:                            OLS   Adj. R-squared:                  0.124\n",
       "No. Observations:                 706   F-statistic:                     17.59\n",
       "Covariance Type:            nonrobust   Prob (F-statistic):           5.04e-19\n",
       "==============================================================================\n",
       "                 coef    std err          t      P>|t|      [0.025      0.975]\n",
       "------------------------------------------------------------------------------\n",
       "Intercept   3445.1856     77.989     44.175      0.000    3292.065    3598.306\n",
       "totwrk        -0.1690      0.018     -9.376      0.000      -0.204      -0.134\n",
       "age            2.8239      1.386      2.038      0.042       0.104       5.544\n",
       "smsa         -54.4945     33.089     -1.647      0.100    -119.459      10.470\n",
       "male          86.5495     34.848      2.484      0.013      18.130     154.969\n",
       "south        100.8918     41.738      2.417      0.016      18.945     182.839\n",
       "marr          29.7490     41.875      0.710      0.478     -52.468     111.966\n",
       "==============================================================================\n",
       "\n",
       "Notes:\n",
       "[1] Standard Errors assume that the covariance matrix of the errors is correctly specified.\n",
       "[2] The condition number is large, 1.21e+04. This might indicate that there are\n",
       "strong multicollinearity or other numerical problems.\n",
       "\"\"\""
      ]
     },
     "execution_count": 7,
     "metadata": {},
     "output_type": "execute_result"
    }
   ],
   "source": [
    "sleep_df = pd.read_csv('https://raw.githubusercontent.com/artamonoff/Econometrica/master/python-notebooks/data-csv/sleep75.csv')\n",
    "mod = smf.ols(formula='sleep~totwrk+age+smsa+male+south+marr', data=sleep_df).fit()\n",
    "mod.summary(slim=True)"
   ]
  },
  {
   "cell_type": "markdown",
   "id": "407829c5",
   "metadata": {},
   "source": [
    "### Диагностические тесты\n",
    "RESET-тест (неробастный!) со степенями главных компонент (до 4й)"
   ]
  },
  {
   "cell_type": "code",
   "execution_count": 18,
   "id": "577c4e32",
   "metadata": {},
   "outputs": [
    {
     "data": {
      "text/plain": [
       "<class 'statsmodels.stats.contrast.ContrastResults'>\n",
       "<F test: F=1.2888612386548581, p=0.27713744409804125, df_denom=696, df_num=3>"
      ]
     },
     "execution_count": 18,
     "metadata": {},
     "output_type": "execute_result"
    }
   ],
   "source": [
    "linear_reset(mod, power=4, test_type='princomp', use_f=True)"
   ]
  },
  {
   "cell_type": "markdown",
   "id": "7c7ff50f",
   "metadata": {},
   "source": [
    "Rainbow-test на линейность по `totwrk` (выбираем половину выборки)"
   ]
  },
  {
   "cell_type": "code",
   "execution_count": 13,
   "id": "2c4210cc",
   "metadata": {},
   "outputs": [
    {
     "data": {
      "text/plain": [
       "(1.19190387193752, 0.05072936852430077)"
      ]
     },
     "execution_count": 13,
     "metadata": {},
     "output_type": "execute_result"
    }
   ],
   "source": [
    "linear_rainbow(mod, order_by='totwrk', frac=0.5)"
   ]
  }
 ],
 "metadata": {
  "kernelspec": {
   "display_name": "Python 3 (ipykernel)",
   "language": "python",
   "name": "python3"
  },
  "language_info": {
   "codemirror_mode": {
    "name": "ipython",
    "version": 3
   },
   "file_extension": ".py",
   "mimetype": "text/x-python",
   "name": "python",
   "nbconvert_exporter": "python",
   "pygments_lexer": "ipython3",
   "version": "3.9.16"
  }
 },
 "nbformat": 4,
 "nbformat_minor": 5
}
