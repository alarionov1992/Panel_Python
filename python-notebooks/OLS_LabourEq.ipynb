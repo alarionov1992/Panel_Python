{
 "cells": [
  {
   "cell_type": "markdown",
   "id": "c9b000da",
   "metadata": {},
   "source": [
    "# Labour Equation"
   ]
  },
  {
   "cell_type": "code",
   "execution_count": null,
   "id": "ee1293ca",
   "metadata": {},
   "outputs": [],
   "source": [
    "import numpy as np # linear algebra \n",
    "import pandas as pd # data processing, CSV file I/O (e.g. pd.read_csv)\n",
    "# stats models: regression fitting\n",
    "import statsmodels.formula.api as smf\n",
    "# data visualization\n",
    "import seaborn as sns"
   ]
  },
  {
   "cell_type": "markdown",
   "id": "eb6ebf43",
   "metadata": {},
   "source": [
    "Загрузим данные их файла `Labour.csv` и выведем размер датасета"
   ]
  },
  {
   "cell_type": "code",
   "execution_count": null,
   "id": "175c0cb1",
   "metadata": {},
   "outputs": [],
   "source": [
    "df = pd.read_csv('Labour.csv')\n",
    "df.shape"
   ]
  },
  {
   "cell_type": "markdown",
   "id": "3b6b24dc",
   "metadata": {},
   "source": [
    "первые несколько наблюдения"
   ]
  },
  {
   "cell_type": "code",
   "execution_count": null,
   "id": "e9633922",
   "metadata": {},
   "outputs": [],
   "source": [
    "df.head()"
   ]
  },
  {
   "cell_type": "markdown",
   "id": "cca03c65",
   "metadata": {},
   "source": [
    "## Несколько гистограмм"
   ]
  },
  {
   "cell_type": "code",
   "execution_count": null,
   "id": "75c538f6",
   "metadata": {},
   "outputs": [],
   "source": [
    "sns.histplot(data=df, x='output')"
   ]
  },
  {
   "cell_type": "code",
   "execution_count": null,
   "id": "f3a2a26c",
   "metadata": {},
   "outputs": [],
   "source": [
    "sns.histplot(data=df, x='output', log_scale=True)"
   ]
  },
  {
   "cell_type": "markdown",
   "id": "77dafc38",
   "metadata": {},
   "source": [
    "## Пример 1: output vs capital\n",
    "Построим диаграмму рассеяния **output vs capital** и вычислим параметры оптимальной прямой"
   ]
  },
  {
   "cell_type": "code",
   "execution_count": null,
   "id": "fd2d10a7",
   "metadata": {},
   "outputs": [],
   "source": [
    "sns.regplot(data=df, x='capital', y='output', ci=None, line_kws={\"color\": \"r\"})"
   ]
  },
  {
   "cell_type": "code",
   "execution_count": null,
   "id": "b962e155",
   "metadata": {},
   "outputs": [],
   "source": [
    "# подгонка прямой\n",
    "fitted_line = smf.ols(formula='output~capital', data=df).fit()\n",
    "# коэффициенты с округлением\n",
    "fitted_line.params.round(2)"
   ]
  },
  {
   "cell_type": "markdown",
   "id": "eb006261",
   "metadata": {},
   "source": [
    "## Пример:  log(output) vs log(capital)\n",
    "Построим диаграмму рассеяния **log(output) vs log(capital)** и вычислим параметры оптимальной прямой"
   ]
  },
  {
   "cell_type": "code",
   "execution_count": null,
   "id": "f1abd1a3",
   "metadata": {},
   "outputs": [],
   "source": [
    "sns.regplot(x=np.log(df['capital']), y=np.log(df['output']), ci=None, line_kws={\"color\": \"r\"})"
   ]
  },
  {
   "cell_type": "code",
   "execution_count": null,
   "id": "77d44174",
   "metadata": {},
   "outputs": [],
   "source": [
    "# подгонка прямой\n",
    "fitted_line = smf.ols(formula='np.log(output)~np.log(capital)', data=df).fit()\n",
    "# коэффициенты с округлением\n",
    "fitted_line.params.round(2)"
   ]
  }
 ],
 "metadata": {
  "kernelspec": {
   "display_name": "Python 3 (ipykernel)",
   "language": "python",
   "name": "python3"
  },
  "language_info": {
   "codemirror_mode": {
    "name": "ipython",
    "version": 3
   },
   "file_extension": ".py",
   "mimetype": "text/x-python",
   "name": "python",
   "nbconvert_exporter": "python",
   "pygments_lexer": "ipython3",
   "version": "3.11.1"
  }
 },
 "nbformat": 4,
 "nbformat_minor": 5
}
