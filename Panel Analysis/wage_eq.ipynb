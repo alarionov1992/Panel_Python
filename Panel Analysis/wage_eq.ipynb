{
 "cells": [
  {
   "cell_type": "markdown",
   "id": "3d0ef778",
   "metadata": {},
   "source": [
    "# Panel analysis with Python"
   ]
  },
  {
   "cell_type": "code",
   "execution_count": null,
   "id": "1b49ddc4",
   "metadata": {},
   "outputs": [],
   "source": [
    "import pandas as pd\n",
    "from linearmodels import PooledOLS # Pooled model\n",
    "from linearmodels import PanelOLS # Fixed-effect model\n",
    "from linearmodels import RandomEffects # Random-effect model\n",
    "from linearmodels.panel import compare # сравнение моделей\n",
    "import seaborn as sns # data visualization\n",
    "# conda install -c conda-forge linearmodels"
   ]
  },
  {
   "cell_type": "code",
   "execution_count": null,
   "id": "dd61a590",
   "metadata": {},
   "outputs": [],
   "source": [
    "# Загрузим данные\n",
    "wages = pd.read_csv('Wages.csv')\n",
    "wages.head()"
   ]
  },
  {
   "cell_type": "code",
   "execution_count": null,
   "id": "02772134",
   "metadata": {},
   "outputs": [],
   "source": [
    "# Размер датасета\n",
    "wages.shape"
   ]
  },
  {
   "cell_type": "code",
   "execution_count": null,
   "id": "28ca444d",
   "metadata": {},
   "outputs": [],
   "source": [
    "# Преобразуем в формат панельных данных: DataFrame с двумя индексами\n",
    "# Задаём индексы: сначала индивидуальный, затем временной\n",
    "wages_panel = wages.set_index(['id', 'time'])\n",
    "wages_panel"
   ]
  },
  {
   "cell_type": "markdown",
   "id": "00e0434e",
   "metadata": {},
   "source": [
    "## Wage equation #1 (с количественными)\n",
    "Рассморим регрессию **lwage на ed, exp, exp^2, wks**"
   ]
  },
  {
   "cell_type": "code",
   "execution_count": null,
   "id": "e99c0b97",
   "metadata": {},
   "outputs": [],
   "source": [
    "sns.scatterplot(data=wages, y='lwage', x='ed')"
   ]
  },
  {
   "cell_type": "code",
   "execution_count": null,
   "id": "f893d040",
   "metadata": {},
   "outputs": [],
   "source": [
    "sns.regplot(data=wages, y='lwage', x='ed', ci=None, line_kws={\"color\": \"r\"})"
   ]
  },
  {
   "cell_type": "code",
   "execution_count": null,
   "id": "f57f8a16",
   "metadata": {},
   "outputs": [],
   "source": [
    "sns.regplot(data=wages, y='lwage', x='exp', ci=None, line_kws={\"color\": \"r\"}, order=2)"
   ]
  },
  {
   "cell_type": "markdown",
   "id": "3e858f46",
   "metadata": {},
   "source": [
    "### Pooling model"
   ]
  },
  {
   "cell_type": "code",
   "execution_count": null,
   "id": "eb4ca0a2",
   "metadata": {},
   "outputs": [],
   "source": [
    "# Pooling model\n",
    "pool_mod = PooledOLS.from_formula(formula='lwage~1+ed+exp+I(exp**2)+wks', data=wages_panel).fit()\n",
    "# Коэффициенты\n",
    "pool_mod.params"
   ]
  },
  {
   "cell_type": "code",
   "execution_count": null,
   "id": "bd6b0e7b",
   "metadata": {
    "scrolled": false
   },
   "outputs": [],
   "source": [
    "# Отчёт подгонки\n",
    "pool_mod.summary"
   ]
  },
  {
   "cell_type": "markdown",
   "id": "1fdc2c77",
   "metadata": {},
   "source": [
    "### RE-model"
   ]
  },
  {
   "cell_type": "code",
   "execution_count": null,
   "id": "7f1a82b9",
   "metadata": {},
   "outputs": [],
   "source": [
    "# RE-model\n",
    "re_mod = RandomEffects.from_formula(formula='lwage~1+ed+exp+I(exp**2)+wks', data=wages_panel).fit()\n",
    "# Коэффициенты с округление\n",
    "re_mod.params.round(3)"
   ]
  },
  {
   "cell_type": "code",
   "execution_count": null,
   "id": "b44f9767",
   "metadata": {},
   "outputs": [],
   "source": [
    "re_mod.summary"
   ]
  },
  {
   "cell_type": "markdown",
   "id": "20e70fac",
   "metadata": {},
   "source": [
    "### FE-model"
   ]
  },
  {
   "cell_type": "code",
   "execution_count": null,
   "id": "899df729",
   "metadata": {},
   "outputs": [],
   "source": [
    "# FE-model\n",
    "# 'lwage~1+ed+exp+I(exp**2)+wks+EntityEffects' не работает, т.к. ed постоянно во времени!\n",
    "fe_mod = PanelOLS.from_formula(formula='lwage~1+exp+I(exp**2)+wks+EntityEffects', data=wages_panel).fit()\n",
    "# Коэффициенты с округление\n",
    "fe_mod.params.round(3)"
   ]
  },
  {
   "cell_type": "code",
   "execution_count": null,
   "id": "bb26e712",
   "metadata": {},
   "outputs": [],
   "source": [
    "fe_mod.summary"
   ]
  },
  {
   "cell_type": "code",
   "execution_count": null,
   "id": "07b11eef",
   "metadata": {},
   "outputs": [],
   "source": [
    "# Сравнение моделей\n",
    "compare({'Pool': pool_mod, 'RE': re_mod, 'FE': fe_mod}, start=True)"
   ]
  },
  {
   "cell_type": "markdown",
   "id": "69f3ac64",
   "metadata": {},
   "source": [
    "## Wage equation #2 (с качественными)\n",
    "Рассморим регрессию **lwage на ed, exp, exp^2, wks, south, smsa**"
   ]
  },
  {
   "cell_type": "code",
   "execution_count": null,
   "id": "bb7852b9",
   "metadata": {
    "scrolled": false
   },
   "outputs": [],
   "source": [
    "# Качественные: \n",
    "# Переведем качественные в бинарные\n",
    "wages = wages.join(pd.get_dummies(wages['south'], prefix='south'), how='right')\n",
    "wages = wages.join(pd.get_dummies(wages['smsa'], prefix='smsa'), how='right')\n",
    "wages.drop(['south', 'smsa'], axis=1)\n",
    "# преобразуем в формат панельных данных\n",
    "wages_panel = wages.set_index(['id', 'time'])\n",
    "wages_panel.head()"
   ]
  },
  {
   "cell_type": "code",
   "execution_count": null,
   "id": "4a72e3c8",
   "metadata": {},
   "outputs": [],
   "source": [
    "# RE-модель\n",
    "re_mod = RandomEffects.from_formula(formula='lwage~1+ed+exp+I(exp**2)+wks+south_yes+smsa_yes', \n",
    "                                    data=wages_panel).fit()\n",
    "# Коэффициенты с округление\n",
    "re_mod.params.round(3)"
   ]
  },
  {
   "cell_type": "code",
   "execution_count": null,
   "id": "f36a1ffc",
   "metadata": {},
   "outputs": [],
   "source": [
    "## FE-модель\n",
    "fe_mod = PanelOLS.from_formula(formula='lwage~1+exp+I(exp**2)+wks+south_yes+smsa_yes+EntityEffects', \n",
    "                                    data=wages_panel).fit()\n",
    "# Коэффициенты с округление\n",
    "fe_mod.params.round(3)"
   ]
  }
 ],
 "metadata": {
  "kernelspec": {
   "display_name": "Python 3 (ipykernel)",
   "language": "python",
   "name": "python3"
  },
  "language_info": {
   "codemirror_mode": {
    "name": "ipython",
    "version": 3
   },
   "file_extension": ".py",
   "mimetype": "text/x-python",
   "name": "python",
   "nbconvert_exporter": "python",
   "pygments_lexer": "ipython3",
   "version": "3.9.16"
  }
 },
 "nbformat": 4,
 "nbformat_minor": 5
}
