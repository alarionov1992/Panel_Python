{
 "cells": [
  {
   "cell_type": "markdown",
   "id": "5e1a4ef0",
   "metadata": {},
   "source": [
    "# t-тест для панельных регрессий\n",
    "на примере панели `Wages`"
   ]
  },
  {
   "cell_type": "code",
   "execution_count": null,
   "id": "ea23d7a8",
   "metadata": {},
   "outputs": [],
   "source": [
    "import pandas as pd\n",
    "from linearmodels import PooledOLS # Pooled model\n",
    "from linearmodels import PanelOLS # Fixed-effect model\n",
    "from linearmodels import RandomEffects # Random-effect model\n",
    "from linearmodels.panel import compare # сравнение моделей\n",
    "# import seaborn as sns # data visualization\n",
    "# conda install -c conda-forge linearmodels"
   ]
  },
  {
   "cell_type": "code",
   "execution_count": null,
   "id": "66234488",
   "metadata": {},
   "outputs": [],
   "source": [
    "# Загрузим данные\n",
    "wages = pd.read_csv('Wages.csv')\n",
    "# Задаём структурк панельных данных\n",
    "wages_panel = wages.set_index(['id', 'time'])"
   ]
  },
  {
   "cell_type": "code",
   "execution_count": null,
   "id": "603bae9e",
   "metadata": {},
   "outputs": [],
   "source": [
    "# Pooling model\n",
    "# Default s.e.\n",
    "pool_mod_default = PooledOLS.from_formula(formula='lwage~1+ed+exp+I(exp**2)+wks', data=wages_panel).fit()\n",
    "# Arellano-Bond s.e. (с кластеризацией по индивидуумам)\n",
    "pool_mod_AB = PooledOLS.from_formula(formula='lwage~1+ed+exp+I(exp**2)+wks', data=wages_panel).fit(cov_type='clustered', cluster_entity=True)\n",
    "# Driscoll-Kraay s.e.\n",
    "pool_mod_DK = PooledOLS.from_formula(formula='lwage~1+ed+exp+I(exp**2)+wks', data=wages_panel).fit(cov_type='kernel', kernel='qs')"
   ]
  },
  {
   "cell_type": "code",
   "execution_count": null,
   "id": "048c6306",
   "metadata": {},
   "outputs": [],
   "source": [
    "compare({'Default':pool_mod_default, 'AB':pool_mod_AB, 'DK':pool_mod_DK }, stars=True, precision='std-errors')"
   ]
  },
  {
   "cell_type": "code",
   "execution_count": null,
   "id": "3eeca391",
   "metadata": {},
   "outputs": [],
   "source": [
    "# RE models\n",
    "# Default s.e.\n",
    "re_mod_default = RandomEffects.from_formula(formula='lwage~1+ed+exp+I(exp**2)+wks', data=wages_panel).fit()\n",
    "# Arellano-Bond s.e. (с кластеризацией по индивидуумам)\n",
    "re_mod_AB = RandomEffects.from_formula(formula='lwage~1+ed+exp+I(exp**2)+wks', data=wages_panel).fit(cov_type='clustered', cluster_entity=True)\n",
    "# Driscoll-Kraay s.e.\n",
    "re_mod_DK = RandomEffects.from_formula(formula='lwage~1+ed+exp+I(exp**2)+wks', data=wages_panel).fit(cov_type='kernel')"
   ]
  },
  {
   "cell_type": "code",
   "execution_count": null,
   "id": "33f1a926",
   "metadata": {},
   "outputs": [],
   "source": [
    "compare({'Default':re_mod_default, 'AB':re_mod_AB, 'DK':re_mod_DK }, stars=True, precision='std-errors')"
   ]
  }
 ],
 "metadata": {
  "kernelspec": {
   "display_name": "Python 3 (ipykernel)",
   "language": "python",
   "name": "python3"
  },
  "language_info": {
   "codemirror_mode": {
    "name": "ipython",
    "version": 3
   },
   "file_extension": ".py",
   "mimetype": "text/x-python",
   "name": "python",
   "nbconvert_exporter": "python",
   "pygments_lexer": "ipython3",
   "version": "3.9.16"
  }
 },
 "nbformat": 4,
 "nbformat_minor": 5
}
