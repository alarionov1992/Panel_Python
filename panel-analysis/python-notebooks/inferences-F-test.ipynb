{
 "cells": [
  {
   "cell_type": "markdown",
   "metadata": {},
   "source": [
    "# F-тест для панельных регрессий\n",
    "на примере панели `Wages`"
   ]
  },
  {
   "cell_type": "code",
   "execution_count": null,
   "metadata": {},
   "outputs": [],
   "source": [
    "import pandas as pd\n",
    "from linearmodels import PooledOLS # Pooled model\n",
    "from linearmodels import PanelOLS # Fixed-effect model\n",
    "from linearmodels import RandomEffects # Random-effect model\n",
    "from linearmodels.panel import compare # сравнение моделей\n",
    "# Критические значения\n",
    "from scipy.stats import f \n",
    "from scipy.stats import chi2"
   ]
  },
  {
   "cell_type": "code",
   "execution_count": null,
   "metadata": {},
   "outputs": [],
   "source": [
    "# Загрузим данные\n",
    "wages = pd.read_csv('Wages.csv')\n",
    "# Задаём структурк панельных данных\n",
    "wages_panel = wages.set_index(['id', 'time'])"
   ]
  },
  {
   "cell_type": "code",
   "execution_count": null,
   "metadata": {},
   "outputs": [],
   "source": [
    "# Pooling model\n",
    "# Default s.e.\n",
    "pool_default = PooledOLS.from_formula(formula='lwage~1+ed+exp+I(exp**2)+wks', data=wages_panel).fit()\n",
    "# Arellano-Bond s.e. (с кластеризацией по индивидуумам)\n",
    "pool_AB = PooledOLS.from_formula(formula='lwage~1+ed+exp+I(exp**2)+wks', data=wages_panel).fit(cov_type='clustered', cluster_entity=True)\n",
    "# Driscoll-Kraay s.e.\n",
    "pool_DK = PooledOLS.from_formula(formula='lwage~1+ed+exp+I(exp**2)+wks', data=wages_panel).fit(cov_type='kernel')"
   ]
  },
  {
   "cell_type": "markdown",
   "metadata": {},
   "source": [
    "## Значимость регрессии \n",
    "$H_0:\\beta_1=\\cdots=\\beta_k=0$"
   ]
  },
  {
   "cell_type": "code",
   "execution_count": null,
   "metadata": {},
   "outputs": [],
   "source": [
    "pool_default.f_statistic"
   ]
  },
  {
   "cell_type": "code",
   "execution_count": null,
   "metadata": {},
   "outputs": [],
   "source": [
    "pool_AB.f_statistic"
   ]
  },
  {
   "cell_type": "code",
   "execution_count": null,
   "metadata": {},
   "outputs": [],
   "source": [
    "pool_AB.f_statistic_robust"
   ]
  },
  {
   "cell_type": "code",
   "execution_count": null,
   "metadata": {},
   "outputs": [],
   "source": [
    "pool_DK.f_statistic_robust"
   ]
  },
  {
   "cell_type": "code",
   "execution_count": null,
   "metadata": {},
   "outputs": [],
   "source": [
    "# критичекие значение F-распределения\n",
    "f.ppf(q=1-0.05, dfn=4, dfd=4160)"
   ]
  },
  {
   "cell_type": "markdown",
   "metadata": {},
   "source": [
    "## Совместная значимость \n",
    "нескольких коэффициентов $H_0:\\beta_{exp}=\\beta_{exp^2}=0$"
   ]
  },
  {
   "cell_type": "code",
   "execution_count": null,
   "metadata": {},
   "outputs": [],
   "source": [
    "pool_AB.wald_test(formula='exp=I(exp**2)=0')"
   ]
  },
  {
   "cell_type": "code",
   "execution_count": null,
   "metadata": {},
   "outputs": [],
   "source": [
    "pool_DK.wald_test(formula='exp=I(exp**2)=0')"
   ]
  },
  {
   "cell_type": "code",
   "execution_count": null,
   "metadata": {},
   "outputs": [],
   "source": [
    "# критичекие значение chi2-распределения\n",
    "chi2.ppf(q=1-0.05, df=2)"
   ]
  }
 ],
 "metadata": {
  "kernelspec": {
   "display_name": "Python 3 (ipykernel)",
   "language": "python",
   "name": "python3"
  },
  "language_info": {
   "codemirror_mode": {
    "name": "ipython",
    "version": 3
   },
   "file_extension": ".py",
   "mimetype": "text/x-python",
   "name": "python",
   "nbconvert_exporter": "python",
   "pygments_lexer": "ipython3",
   "version": "3.9.16"
  }
 },
 "nbformat": 4,
 "nbformat_minor": 2
}
