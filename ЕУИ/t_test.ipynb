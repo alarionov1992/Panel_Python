{
  "nbformat": 4,
  "nbformat_minor": 0,
  "metadata": {
    "colab": {
      "provenance": []
    },
    "kernelspec": {
      "name": "python3",
      "display_name": "Python 3"
    },
    "language_info": {
      "name": "python"
    }
  },
  "cells": [
    {
      "cell_type": "markdown",
      "source": [
        "# t-тест\n"
      ],
      "metadata": {
        "id": "EksBkpqjEj-u"
      }
    },
    {
      "cell_type": "code",
      "execution_count": 1,
      "metadata": {
        "id": "ObVQAsmAEius"
      },
      "outputs": [],
      "source": [
        "import numpy as np\n",
        "import pandas as pd\n",
        "import statsmodels.formula.api as smf\n",
        "from scipy.stats import t # t-distribution"
      ]
    },
    {
      "cell_type": "markdown",
      "source": [
        "## sleep equation\n",
        "Значимость влияния `union`\n",
        "\n",
        "контрольные переменные `totwrk, age, male`\n",
        "\n",
        "Неробастный тест"
      ],
      "metadata": {
        "id": "NQUlwQTSE_1x"
      }
    },
    {
      "cell_type": "code",
      "source": [
        "sleep_df = pd.read_csv('https://raw.githubusercontent.com/artamonoff/Econometrica/master/python-notebooks/data-csv/sleep75.csv')\n",
        "mod1 = smf.ols(formula='sleep~union+totwrk+age+male', data=sleep_df).fit()\n",
        "mod1.summary(slim=True)"
      ],
      "metadata": {
        "colab": {
          "base_uri": "https://localhost:8080/",
          "height": 356
        },
        "id": "EhYF-npDFQ1n",
        "outputId": "3e304cc9-f4e1-4a38-bdb8-ead6b14e1a2e"
      },
      "execution_count": 3,
      "outputs": [
        {
          "output_type": "execute_result",
          "data": {
            "text/plain": [
              "<class 'statsmodels.iolib.summary.Summary'>\n",
              "\"\"\"\n",
              "                            OLS Regression Results                            \n",
              "==============================================================================\n",
              "Dep. Variable:                  sleep   R-squared:                       0.117\n",
              "Model:                            OLS   Adj. R-squared:                  0.112\n",
              "No. Observations:                 706   F-statistic:                     23.14\n",
              "Covariance Type:            nonrobust   Prob (F-statistic):           5.50e-18\n",
              "==============================================================================\n",
              "                 coef    std err          t      P>|t|      [0.025      0.975]\n",
              "------------------------------------------------------------------------------\n",
              "Intercept   3461.4144     68.709     50.378      0.000    3326.514    3596.315\n",
              "union         10.2120     38.236      0.267      0.789     -64.859      85.283\n",
              "totwrk        -0.1658      0.018     -9.205      0.000      -0.201      -0.130\n",
              "age            2.7495      1.396      1.970      0.049       0.009       5.490\n",
              "male          84.7408     34.424      2.462      0.014      17.155     152.327\n",
              "==============================================================================\n",
              "\n",
              "Notes:\n",
              "[1] Standard Errors assume that the covariance matrix of the errors is correctly specified.\n",
              "[2] The condition number is large, 1.02e+04. This might indicate that there are\n",
              "strong multicollinearity or other numerical problems.\n",
              "\"\"\""
            ],
            "text/html": [
              "<table class=\"simpletable\">\n",
              "<caption>OLS Regression Results</caption>\n",
              "<tr>\n",
              "  <th>Dep. Variable:</th>      <td>sleep</td>   <th>  R-squared:         </th> <td>   0.117</td>\n",
              "</tr>\n",
              "<tr>\n",
              "  <th>Model:</th>               <td>OLS</td>    <th>  Adj. R-squared:    </th> <td>   0.112</td>\n",
              "</tr>\n",
              "<tr>\n",
              "  <th>No. Observations:</th>  <td>   706</td>   <th>  F-statistic:       </th> <td>   23.14</td>\n",
              "</tr>\n",
              "<tr>\n",
              "  <th>Covariance Type:</th>  <td>nonrobust</td> <th>  Prob (F-statistic):</th> <td>5.50e-18</td>\n",
              "</tr>\n",
              "</table>\n",
              "<table class=\"simpletable\">\n",
              "<tr>\n",
              "      <td></td>         <th>coef</th>     <th>std err</th>      <th>t</th>      <th>P>|t|</th>  <th>[0.025</th>    <th>0.975]</th>  \n",
              "</tr>\n",
              "<tr>\n",
              "  <th>Intercept</th> <td> 3461.4144</td> <td>   68.709</td> <td>   50.378</td> <td> 0.000</td> <td> 3326.514</td> <td> 3596.315</td>\n",
              "</tr>\n",
              "<tr>\n",
              "  <th>union</th>     <td>   10.2120</td> <td>   38.236</td> <td>    0.267</td> <td> 0.789</td> <td>  -64.859</td> <td>   85.283</td>\n",
              "</tr>\n",
              "<tr>\n",
              "  <th>totwrk</th>    <td>   -0.1658</td> <td>    0.018</td> <td>   -9.205</td> <td> 0.000</td> <td>   -0.201</td> <td>   -0.130</td>\n",
              "</tr>\n",
              "<tr>\n",
              "  <th>age</th>       <td>    2.7495</td> <td>    1.396</td> <td>    1.970</td> <td> 0.049</td> <td>    0.009</td> <td>    5.490</td>\n",
              "</tr>\n",
              "<tr>\n",
              "  <th>male</th>      <td>   84.7408</td> <td>   34.424</td> <td>    2.462</td> <td> 0.014</td> <td>   17.155</td> <td>  152.327</td>\n",
              "</tr>\n",
              "</table><br/><br/>Notes:<br/>[1] Standard Errors assume that the covariance matrix of the errors is correctly specified.<br/>[2] The condition number is large, 1.02e+04. This might indicate that there are<br/>strong multicollinearity or other numerical problems."
            ]
          },
          "metadata": {},
          "execution_count": 3
        }
      ]
    },
    {
      "cell_type": "markdown",
      "source": [
        "Имеем: $\\hat{\\beta}_{union}=10.2120$, s.e.($\\beta$)=38.236, $t=\\frac{\\hat{\\beta}}{s.e.(\\beta)}=0.267$, $P_{union}=0.789$=78.9%\n",
        "\n",
        "Уровень значимости $\\alpha$=5%=0.05\n",
        "\n",
        "Вывод: $P_{union}>\\alpha$ => **коэфициент незначим!**, т.е. гипотеза о том, что `union` не влияет на `sleep`, не отвергается/согласуется с наблюдениями"
      ],
      "metadata": {
        "id": "l25-FN7EGFXI"
      }
    },
    {
      "cell_type": "code",
      "source": [],
      "metadata": {
        "id": "SIf0nGFbFcVt"
      },
      "execution_count": null,
      "outputs": []
    }
  ]
}