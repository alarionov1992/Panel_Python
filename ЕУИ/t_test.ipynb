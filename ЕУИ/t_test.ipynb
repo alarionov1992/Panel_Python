{
  "nbformat": 4,
  "nbformat_minor": 0,
  "metadata": {
    "colab": {
      "provenance": []
    },
    "kernelspec": {
      "name": "python3",
      "display_name": "Python 3"
    },
    "language_info": {
      "name": "python"
    }
  },
  "cells": [
    {
      "cell_type": "markdown",
      "source": [
        "# t-тест\n"
      ],
      "metadata": {
        "id": "EksBkpqjEj-u"
      }
    },
    {
      "cell_type": "code",
      "execution_count": null,
      "metadata": {
        "id": "ObVQAsmAEius"
      },
      "outputs": [],
      "source": [
        "import numpy as np\n",
        "import pandas as pd\n",
        "import statsmodels.formula.api as smf\n",
        "from scipy.stats import t # t-distribution"
      ]
    },
    {
      "cell_type": "markdown",
      "source": [
        "## sleep equation\n",
        "Значимость влияния `union`\n",
        "\n",
        "контрольные переменные `totwrk, age, male`\n",
        "\n",
        "Неробастный тест"
      ],
      "metadata": {
        "id": "NQUlwQTSE_1x"
      }
    },
    {
      "cell_type": "code",
      "source": [
        "sleep_df = pd.read_csv('https://raw.githubusercontent.com/artamonoff/Econometrica/master/python-notebooks/data-csv/sleep75.csv')\n",
        "mod1 = smf.ols(formula='sleep~union+totwrk+age+male', data=sleep_df).fit()\n",
        "mod1.summary(slim=True)"
      ],
      "metadata": {
        "colab": {
          "base_uri": "https://localhost:8080/",
          "height": 356
        },
        "id": "EhYF-npDFQ1n",
        "outputId": "63418224-eacf-4f0b-8e3a-e94f7e654495"
      },
      "execution_count": null,
      "outputs": [
        {
          "output_type": "execute_result",
          "data": {
            "text/plain": [
              "<class 'statsmodels.iolib.summary.Summary'>\n",
              "\"\"\"\n",
              "                            OLS Regression Results                            \n",
              "==============================================================================\n",
              "Dep. Variable:                  sleep   R-squared:                       0.117\n",
              "Model:                            OLS   Adj. R-squared:                  0.112\n",
              "No. Observations:                 706   F-statistic:                     23.14\n",
              "Covariance Type:            nonrobust   Prob (F-statistic):           5.50e-18\n",
              "==============================================================================\n",
              "                 coef    std err          t      P>|t|      [0.025      0.975]\n",
              "------------------------------------------------------------------------------\n",
              "Intercept   3461.4144     68.709     50.378      0.000    3326.514    3596.315\n",
              "union         10.2120     38.236      0.267      0.789     -64.859      85.283\n",
              "totwrk        -0.1658      0.018     -9.205      0.000      -0.201      -0.130\n",
              "age            2.7495      1.396      1.970      0.049       0.009       5.490\n",
              "male          84.7408     34.424      2.462      0.014      17.155     152.327\n",
              "==============================================================================\n",
              "\n",
              "Notes:\n",
              "[1] Standard Errors assume that the covariance matrix of the errors is correctly specified.\n",
              "[2] The condition number is large, 1.02e+04. This might indicate that there are\n",
              "strong multicollinearity or other numerical problems.\n",
              "\"\"\""
            ],
            "text/html": [
              "<table class=\"simpletable\">\n",
              "<caption>OLS Regression Results</caption>\n",
              "<tr>\n",
              "  <th>Dep. Variable:</th>      <td>sleep</td>   <th>  R-squared:         </th> <td>   0.117</td>\n",
              "</tr>\n",
              "<tr>\n",
              "  <th>Model:</th>               <td>OLS</td>    <th>  Adj. R-squared:    </th> <td>   0.112</td>\n",
              "</tr>\n",
              "<tr>\n",
              "  <th>No. Observations:</th>  <td>   706</td>   <th>  F-statistic:       </th> <td>   23.14</td>\n",
              "</tr>\n",
              "<tr>\n",
              "  <th>Covariance Type:</th>  <td>nonrobust</td> <th>  Prob (F-statistic):</th> <td>5.50e-18</td>\n",
              "</tr>\n",
              "</table>\n",
              "<table class=\"simpletable\">\n",
              "<tr>\n",
              "      <td></td>         <th>coef</th>     <th>std err</th>      <th>t</th>      <th>P>|t|</th>  <th>[0.025</th>    <th>0.975]</th>  \n",
              "</tr>\n",
              "<tr>\n",
              "  <th>Intercept</th> <td> 3461.4144</td> <td>   68.709</td> <td>   50.378</td> <td> 0.000</td> <td> 3326.514</td> <td> 3596.315</td>\n",
              "</tr>\n",
              "<tr>\n",
              "  <th>union</th>     <td>   10.2120</td> <td>   38.236</td> <td>    0.267</td> <td> 0.789</td> <td>  -64.859</td> <td>   85.283</td>\n",
              "</tr>\n",
              "<tr>\n",
              "  <th>totwrk</th>    <td>   -0.1658</td> <td>    0.018</td> <td>   -9.205</td> <td> 0.000</td> <td>   -0.201</td> <td>   -0.130</td>\n",
              "</tr>\n",
              "<tr>\n",
              "  <th>age</th>       <td>    2.7495</td> <td>    1.396</td> <td>    1.970</td> <td> 0.049</td> <td>    0.009</td> <td>    5.490</td>\n",
              "</tr>\n",
              "<tr>\n",
              "  <th>male</th>      <td>   84.7408</td> <td>   34.424</td> <td>    2.462</td> <td> 0.014</td> <td>   17.155</td> <td>  152.327</td>\n",
              "</tr>\n",
              "</table><br/><br/>Notes:<br/>[1] Standard Errors assume that the covariance matrix of the errors is correctly specified.<br/>[2] The condition number is large, 1.02e+04. This might indicate that there are<br/>strong multicollinearity or other numerical problems."
            ]
          },
          "metadata": {},
          "execution_count": 2
        }
      ]
    },
    {
      "cell_type": "markdown",
      "source": [
        "Имеем: $\\hat{\\beta}_{union}=10.2120$, s.e.($\\beta$)=38.236, $t=\\frac{\\hat{\\beta}}{s.e.(\\beta)}=0.267$, $P_{union}=0.789$=78.9%\n",
        "\n",
        "Уровень значимости $\\alpha$=5%=0.05\n",
        "\n",
        "Вывод: $P_{union}>\\alpha$ => **коэфициент незначим!**, т.е. гипотеза о том, что `union` не влияет на `sleep`, не отвергается/согласуется с наблюдениями"
      ],
      "metadata": {
        "id": "l25-FN7EGFXI"
      }
    },
    {
      "cell_type": "code",
      "source": [
        "# Необходимое критическое значения, df= .df_resid\n",
        "t.ppf(q=1-0.05/2, df=mod1.df_resid)"
      ],
      "metadata": {
        "id": "SIf0nGFbFcVt",
        "colab": {
          "base_uri": "https://localhost:8080/"
        },
        "outputId": "e50b154d-341b-404d-b2c4-a35a815f875a"
      },
      "execution_count": null,
      "outputs": [
        {
          "output_type": "execute_result",
          "data": {
            "text/plain": [
              "1.9633538601819327"
            ]
          },
          "metadata": {},
          "execution_count": 3
        }
      ]
    },
    {
      "cell_type": "markdown",
      "source": [
        "$t_{cr}\\approx1.96$, $t=0.267$, $|t|<t_{cr}$ => коэффициент незначим (t-статистика \"маленькая\")"
      ],
      "metadata": {
        "id": "EGEBwWQUboU1"
      }
    },
    {
      "cell_type": "markdown",
      "source": [
        "## sleep equation 2\n",
        "\n",
        "Рассморим модель `sleep` на `totwrk, totwrk^2` (объясняющие), `age, male, smsa, south` (контрольные)\n",
        "\n",
        "Посмотрим на значимость `totwrk^2`"
      ],
      "metadata": {
        "id": "z4d6RwACckEs"
      }
    },
    {
      "cell_type": "code",
      "source": [
        "sleep_df = pd.read_csv('https://raw.githubusercontent.com/artamonoff/Econometrica/master/python-notebooks/data-csv/sleep75.csv')\n",
        "mod2 = smf.ols(formula='sleep~totwrk+I(totwrk**2)+age+male+smsa+south', data=sleep_df).fit()\n",
        "print(mod2.summary(slim=True))"
      ],
      "metadata": {
        "colab": {
          "base_uri": "https://localhost:8080/"
        },
        "id": "2A0-bsP1bl_9",
        "outputId": "f3632bca-9ff7-4b68-8755-d882096b3cc1"
      },
      "execution_count": null,
      "outputs": [
        {
          "output_type": "stream",
          "name": "stdout",
          "text": [
            "                            OLS Regression Results                            \n",
            "==============================================================================\n",
            "Dep. Variable:                  sleep   R-squared:                       0.134\n",
            "Model:                            OLS   Adj. R-squared:                  0.127\n",
            "No. Observations:                 706   F-statistic:                     18.05\n",
            "Covariance Type:            nonrobust   Prob (F-statistic):           1.58e-19\n",
            "==================================================================================\n",
            "                     coef    std err          t      P>|t|      [0.025      0.975]\n",
            "----------------------------------------------------------------------------------\n",
            "Intercept       3414.1444     76.730     44.495      0.000    3263.495    3564.794\n",
            "totwrk            -0.0940      0.048     -1.956      0.051      -0.188       0.000\n",
            "I(totwrk ** 2) -1.899e-05   1.11e-05     -1.708      0.088   -4.08e-05    2.84e-06\n",
            "age                2.8387      1.383      2.052      0.041       0.123       5.554\n",
            "male              90.7097     34.155      2.656      0.008      23.651     157.769\n",
            "smsa             -60.5233     32.952     -1.837      0.067    -125.220       4.173\n",
            "south             92.4519     41.826      2.210      0.027      10.333     174.571\n",
            "==================================================================================\n",
            "\n",
            "Notes:\n",
            "[1] Standard Errors assume that the covariance matrix of the errors is correctly specified.\n",
            "[2] The condition number is large, 3.33e+07. This might indicate that there are\n",
            "strong multicollinearity or other numerical problems.\n"
          ]
        }
      ]
    },
    {
      "cell_type": "markdown",
      "source": [
        "$\\beta_{totwrk^2}\\approx -1.899*10^{-5}=-0.00001899$, $P_{totwrk^2}=0.088=8.8\\%$, $t_{totwrk^2}=-1.708$\n",
        "\n",
        "Пусть уровень значимости 10%=0.1"
      ],
      "metadata": {
        "id": "yD4mF1cleHaY"
      }
    },
    {
      "cell_type": "code",
      "source": [
        "# критическое значение\n",
        "t.ppf(q=1-0.10/2, df=mod2.df_resid)"
      ],
      "metadata": {
        "colab": {
          "base_uri": "https://localhost:8080/"
        },
        "id": "SA8EXZ4kePVL",
        "outputId": "77949924-9381-4ae6-9cf5-98bee6997c68"
      },
      "execution_count": null,
      "outputs": [
        {
          "output_type": "execute_result",
          "data": {
            "text/plain": [
              "1.6470364637535286"
            ]
          },
          "metadata": {},
          "execution_count": 5
        }
      ]
    },
    {
      "cell_type": "markdown",
      "source": [
        "$t_{cr}\\approx 1.65$\n",
        "\n",
        "Имеем: $|t|>t_{cr}$, $P<\\alpha$ => коэффициент значим! Зависимость сна от занятости нелинейная (непостоянное предельное значение!)"
      ],
      "metadata": {
        "id": "ufhdVaaAfbh2"
      }
    },
    {
      "cell_type": "markdown",
      "source": [
        "## sleep equation 2 (робастный тест)\n",
        "Рассморим модель `sleep` на `totwrk, totwrk^2` (объясняющие), `age, male, smsa, south` (контрольные)\n",
        "\n",
        "Посмотрим на значимость `totwrk^2` (с поправкой на гетероскедастичность)"
      ],
      "metadata": {
        "id": "d88R19ctgFRq"
      }
    },
    {
      "cell_type": "code",
      "source": [
        "sleep_df = pd.read_csv('https://raw.githubusercontent.com/artamonoff/Econometrica/master/python-notebooks/data-csv/sleep75.csv')\n",
        "mod3 = smf.ols(formula='sleep~totwrk+I(totwrk**2)+age+male+smsa+south', data=sleep_df).fit(cov_type='HC3')\n",
        "print(mod3.summary(slim=True))"
      ],
      "metadata": {
        "colab": {
          "base_uri": "https://localhost:8080/"
        },
        "id": "zYYPzgUafYsZ",
        "outputId": "98ee7b7f-badb-42a7-9996-871690f59219"
      },
      "execution_count": null,
      "outputs": [
        {
          "output_type": "stream",
          "name": "stdout",
          "text": [
            "                            OLS Regression Results                            \n",
            "==============================================================================\n",
            "Dep. Variable:                  sleep   R-squared:                       0.134\n",
            "Model:                            OLS   Adj. R-squared:                  0.127\n",
            "No. Observations:                 706   F-statistic:                     14.08\n",
            "Covariance Type:                  HC3   Prob (F-statistic):           3.57e-15\n",
            "==================================================================================\n",
            "                     coef    std err          z      P>|z|      [0.025      0.975]\n",
            "----------------------------------------------------------------------------------\n",
            "Intercept       3414.1444     82.857     41.205      0.000    3251.747    3576.542\n",
            "totwrk            -0.0940      0.063     -1.500      0.134      -0.217       0.029\n",
            "I(totwrk ** 2) -1.899e-05   1.57e-05     -1.208      0.227   -4.98e-05    1.18e-05\n",
            "age                2.8387      1.354      2.097      0.036       0.186       5.492\n",
            "male              90.7097     35.513      2.554      0.011      21.106     160.314\n",
            "smsa             -60.5233     32.793     -1.846      0.065    -124.797       3.750\n",
            "south             92.4519     42.349      2.183      0.029       9.450     175.454\n",
            "==================================================================================\n",
            "\n",
            "Notes:\n",
            "[1] Standard Errors are heteroscedasticity robust (HC3)\n",
            "[2] The condition number is large, 3.33e+07. This might indicate that there are\n",
            "strong multicollinearity or other numerical problems.\n"
          ]
        }
      ]
    },
    {
      "cell_type": "markdown",
      "source": [
        "$robust-P_{totwrk^2}=0.227=22.7\\%$, $robust-t_{totwrk^2}=-1.208$. Критическое значение то же\n",
        "\n",
        "Вывод: коэффициент незначим!"
      ],
      "metadata": {
        "id": "_0GksoT3hL-x"
      }
    },
    {
      "cell_type": "code",
      "source": [],
      "metadata": {
        "id": "QrZ5TonkhTm0"
      },
      "execution_count": null,
      "outputs": []
    }
  ]
}