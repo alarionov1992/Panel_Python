{
  "nbformat": 4,
  "nbformat_minor": 0,
  "metadata": {
    "colab": {
      "provenance": []
    },
    "kernelspec": {
      "name": "python3",
      "display_name": "Python 3"
    },
    "language_info": {
      "name": "python"
    }
  },
  "cells": [
    {
      "cell_type": "markdown",
      "source": [
        "# F-тест: совместная значимость"
      ],
      "metadata": {
        "id": "aGzRBhzEyCco"
      }
    },
    {
      "cell_type": "code",
      "execution_count": 2,
      "metadata": {
        "id": "tcZ4_ZNkx-6i"
      },
      "outputs": [],
      "source": [
        "import numpy as np\n",
        "import pandas as pd\n",
        "import statsmodels.formula.api as smf\n",
        "from scipy.stats import f # F-distribution"
      ]
    },
    {
      "cell_type": "markdown",
      "source": [
        "# product function\n",
        "\n",
        "Рассмотрим модель `log(output)` на `log(capital), log(labour), log(wage)` (модель с постоянной эластичностью)\n",
        "\n",
        "Расширим её, добавив квадраты предикторов `log^2(capital), log^2(labour), log^2(wage)`\n",
        "\n",
        "Уровень значимости $\\alpha=5\\%$\n",
        "\n",
        "Неробастные тесты"
      ],
      "metadata": {
        "id": "kymcFhyeyPTJ"
      }
    },
    {
      "cell_type": "code",
      "source": [
        "labour_df = pd.read_csv('https://raw.githubusercontent.com/artamonoff/Econometrica/master/python-notebooks/data-csv/Labour.csv')\n",
        "mod1 = smf.ols(formula='np.log(output)~np.log(capital)+np.log(labour)+np.log(wage)+I(np.log(capital)**2)+I(np.log(labour)**2)+I(np.log(wage)**2)', \n",
        "               data=labour_df).fit()\n",
        "print(mod1.summary(slim=True))"
      ],
      "metadata": {
        "colab": {
          "base_uri": "https://localhost:8080/"
        },
        "id": "fux5yEQayTq_",
        "outputId": "da2f0d67-8c02-4015-f384-49e54057dea0"
      },
      "execution_count": 7,
      "outputs": [
        {
          "output_type": "stream",
          "name": "stdout",
          "text": [
            "                            OLS Regression Results                            \n",
            "==============================================================================\n",
            "Dep. Variable:         np.log(output)   R-squared:                       0.896\n",
            "Model:                            OLS   Adj. R-squared:                  0.895\n",
            "No. Observations:                 569   F-statistic:                     805.2\n",
            "Covariance Type:            nonrobust   Prob (F-statistic):          3.40e-272\n",
            "===========================================================================================\n",
            "                              coef    std err          t      P>|t|      [0.025      0.975]\n",
            "-------------------------------------------------------------------------------------------\n",
            "Intercept                  -3.5683      1.129     -3.161      0.002      -5.786      -1.351\n",
            "np.log(capital)             0.1404      0.014      9.754      0.000       0.112       0.169\n",
            "np.log(labour)              0.4716      0.071      6.642      0.000       0.332       0.611\n",
            "np.log(wage)                0.4762      0.604      0.789      0.430      -0.709       1.662\n",
            "I(np.log(capital) ** 2)     0.0071      0.004      1.583      0.114      -0.002       0.016\n",
            "I(np.log(labour) ** 2)      0.0275      0.008      3.368      0.001       0.011       0.044\n",
            "I(np.log(wage) ** 2)        0.0516      0.082      0.628      0.531      -0.110       0.213\n",
            "===========================================================================================\n",
            "\n",
            "Notes:\n",
            "[1] Standard Errors assume that the covariance matrix of the errors is correctly specified.\n",
            "[2] The condition number is large, 2.22e+03. This might indicate that there are\n",
            "strong multicollinearity or other numerical problems.\n"
          ]
        }
      ]
    },
    {
      "cell_type": "markdown",
      "source": [
        "Значимость квадратов предикторов\n",
        "\n",
        "- np.log(capital) ** 2 __незначим__\n",
        "- np.log(labour) ** 2 __значим__\n",
        "- np.log(wage) ** 2 __незначим__\n",
        "\n",
        "Далее, np.log(wage) незначим, np.log(wage) ** 2 незначим"
      ],
      "metadata": {
        "id": "sPOPmA3I1DUP"
      }
    },
    {
      "cell_type": "markdown",
      "source": [
        "Гипотеза: зарплата не влияет на выпуск\n",
        "\n",
        "Для нашей модели это означает $H_0:\\beta_{\\log wage}=\\beta_{\\log wage**2}\n",
        "=0$\n",
        "\n",
        "Используем метод `.f_test()`"
      ],
      "metadata": {
        "id": "0ABz2I4p2HzH"
      }
    },
    {
      "cell_type": "code",
      "source": [
        "mod1.f_test('np.log(wage)=I(np.log(wage) ** 2)=0')"
      ],
      "metadata": {
        "colab": {
          "base_uri": "https://localhost:8080/"
        },
        "id": "c39H8LAM0PjM",
        "outputId": "107f3c0a-9262-4ae8-8b52-fa0ade66e3b1"
      },
      "execution_count": 8,
      "outputs": [
        {
          "output_type": "execute_result",
          "data": {
            "text/plain": [
              "<class 'statsmodels.stats.contrast.ContrastResults'>\n",
              "<F test: F=108.87883200392028, p=1.084532228455783e-40, df_denom=562, df_num=2>"
            ]
          },
          "metadata": {},
          "execution_count": 8
        }
      ]
    },
    {
      "cell_type": "markdown",
      "source": [
        "Для этой гипотезы $P=1.85*10^{40}<\\alpha=5\\%$ => гипотеза отвергается, влияние зарплаты значимо!"
      ],
      "metadata": {
        "id": "9VVYcKaw3JNj"
      }
    },
    {
      "cell_type": "markdown",
      "source": [
        "Робастные тесты с поправкой на гетероскедастичность"
      ],
      "metadata": {
        "id": "no_w7_FH3nYz"
      }
    },
    {
      "cell_type": "code",
      "source": [
        "labour_df = pd.read_csv('https://raw.githubusercontent.com/artamonoff/Econometrica/master/python-notebooks/data-csv/Labour.csv')\n",
        "mod2 = smf.ols(formula='np.log(output)~np.log(capital)+np.log(labour)+np.log(wage)+I(np.log(capital)**2)+I(np.log(labour)**2)+I(np.log(wage)**2)', \n",
        "               data=labour_df).fit(cov_type='HC3')\n",
        "print(mod2.summary(slim=True))"
      ],
      "metadata": {
        "colab": {
          "base_uri": "https://localhost:8080/"
        },
        "id": "OB3g1mhe3XbZ",
        "outputId": "6142f539-b39c-44e8-e513-0397025a3dea"
      },
      "execution_count": 12,
      "outputs": [
        {
          "output_type": "stream",
          "name": "stdout",
          "text": [
            "                            OLS Regression Results                            \n",
            "==============================================================================\n",
            "Dep. Variable:         np.log(output)   R-squared:                       0.896\n",
            "Model:                            OLS   Adj. R-squared:                  0.895\n",
            "No. Observations:                 569   F-statistic:                     489.4\n",
            "Covariance Type:                  HC3   Prob (F-statistic):          2.00e-219\n",
            "===========================================================================================\n",
            "                              coef    std err          z      P>|z|      [0.025      0.975]\n",
            "-------------------------------------------------------------------------------------------\n",
            "Intercept                  -3.5683      1.651     -2.161      0.031      -6.805      -0.332\n",
            "np.log(capital)             0.1404      0.030      4.720      0.000       0.082       0.199\n",
            "np.log(labour)              0.4716      0.198      2.387      0.017       0.084       0.859\n",
            "np.log(wage)                0.4762      0.895      0.532      0.595      -1.278       2.231\n",
            "I(np.log(capital) ** 2)     0.0071      0.009      0.831      0.406      -0.010       0.024\n",
            "I(np.log(labour) ** 2)      0.0275      0.020      1.376      0.169      -0.012       0.067\n",
            "I(np.log(wage) ** 2)        0.0516      0.126      0.410      0.682      -0.195       0.298\n",
            "===========================================================================================\n",
            "\n",
            "Notes:\n",
            "[1] Standard Errors are heteroscedasticity robust (HC3)\n",
            "[2] The condition number is large, 2.22e+03. This might indicate that there are\n",
            "strong multicollinearity or other numerical problems.\n"
          ]
        }
      ]
    },
    {
      "cell_type": "markdown",
      "source": [],
      "metadata": {
        "id": "dXw8Mnhr4mug"
      }
    },
    {
      "cell_type": "markdown",
      "source": [
        "Гипотеза: постоянная эластичность по всем предикторам\n",
        "\n",
        "В рамках молдели $H_0:\\beta_{\\log capital **2}=\\beta_{\\log labour **2}=\\beta_{\\log wage **2}=0$"
      ],
      "metadata": {
        "id": "EuDY51PE4pnX"
      }
    },
    {
      "cell_type": "code",
      "source": [
        "mod2.f_test('I(np.log(capital) ** 2)=I(np.log(labour) ** 2)=I(np.log(wage) ** 2)=0')"
      ],
      "metadata": {
        "colab": {
          "base_uri": "https://localhost:8080/"
        },
        "id": "vXPw8kgA3z1G",
        "outputId": "6fa84bd0-44ff-472f-f562-cecfc3c0bec8"
      },
      "execution_count": 10,
      "outputs": [
        {
          "output_type": "execute_result",
          "data": {
            "text/plain": [
              "<class 'statsmodels.stats.contrast.ContrastResults'>\n",
              "<F test: F=2.0641355692913224, p=0.10389780068289836, df_denom=562, df_num=3>"
            ]
          },
          "metadata": {},
          "execution_count": 10
        }
      ]
    },
    {
      "cell_type": "markdown",
      "source": [
        "$P=10.4\\%>\\alpha=5\\%$ => гипотеза не овергается, нелинейные эффеты незначимы!"
      ],
      "metadata": {
        "id": "3I00y1pG5wD5"
      }
    },
    {
      "cell_type": "code",
      "source": [],
      "metadata": {
        "id": "WlcMiwZk5rVr"
      },
      "execution_count": null,
      "outputs": []
    }
  ]
}