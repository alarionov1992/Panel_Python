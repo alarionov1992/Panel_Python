{
  "nbformat": 4,
  "nbformat_minor": 0,
  "metadata": {
    "colab": {
      "provenance": []
    },
    "kernelspec": {
      "name": "python3",
      "display_name": "Python 3"
    },
    "language_info": {
      "name": "python"
    }
  },
  "cells": [
    {
      "cell_type": "markdown",
      "source": [
        "# F-тест: значимость регрессии"
      ],
      "metadata": {
        "id": "hKdXRG1Jl_Er"
      }
    },
    {
      "cell_type": "code",
      "execution_count": 1,
      "metadata": {
        "id": "wiH2jjVil0eU"
      },
      "outputs": [],
      "source": [
        "import numpy as np\n",
        "import pandas as pd\n",
        "import statsmodels.formula.api as smf\n",
        "from scipy.stats import f # F-distribution"
      ]
    },
    {
      "cell_type": "markdown",
      "source": [
        "## sleep equation 1\n",
        "Регрессия `sleep` на `totwrk, age, male, smsa`\n",
        "\n",
        "Неробастный тест"
      ],
      "metadata": {
        "id": "khuDMnC8mPR4"
      }
    },
    {
      "cell_type": "code",
      "source": [
        "sleep_df = pd.read_csv('https://raw.githubusercontent.com/artamonoff/Econometrica/master/python-notebooks/data-csv/sleep75.csv')\n",
        "mod1 = smf.ols(formula='sleep~totwrk+age+male+smsa', data=sleep_df).fit()\n",
        "print(mod1.summary(slim=True))"
      ],
      "metadata": {
        "colab": {
          "base_uri": "https://localhost:8080/"
        },
        "id": "wqkdBOp_mR0M",
        "outputId": "44858b43-f353-42e3-ca12-848031dc657e"
      },
      "execution_count": 4,
      "outputs": [
        {
          "output_type": "stream",
          "name": "stdout",
          "text": [
            "                            OLS Regression Results                            \n",
            "==============================================================================\n",
            "Dep. Variable:                  sleep   R-squared:                       0.123\n",
            "Model:                            OLS   Adj. R-squared:                  0.118\n",
            "No. Observations:                 706   F-statistic:                     24.68\n",
            "Covariance Type:            nonrobust   Prob (F-statistic):           3.89e-19\n",
            "==============================================================================\n",
            "                 coef    std err          t      P>|t|      [0.025      0.975]\n",
            "------------------------------------------------------------------------------\n",
            "Intercept   3494.2231     68.889     50.722      0.000    3358.970    3629.477\n",
            "totwrk        -0.1677      0.018     -9.337      0.000      -0.203      -0.132\n",
            "age            2.8065      1.390      2.020      0.044       0.078       5.535\n",
            "male          86.9084     34.266      2.536      0.011      19.632     154.185\n",
            "smsa         -75.2858     32.103     -2.345      0.019    -138.315     -12.257\n",
            "==============================================================================\n",
            "\n",
            "Notes:\n",
            "[1] Standard Errors assume that the covariance matrix of the errors is correctly specified.\n",
            "[2] The condition number is large, 1.02e+04. This might indicate that there are\n",
            "strong multicollinearity or other numerical problems.\n"
          ]
        }
      ]
    },
    {
      "cell_type": "markdown",
      "source": [
        "Значимость регрессии $H_0:\\beta_{totwrk}=\\beta_{age}=\\beta_{male}=\\beta_{smsa}=0$\n",
        "\n",
        "$F=24.68$, $P=3.89*10^{-19}$\n",
        "\n",
        "Уроыен значимости 5%=0.05\n",
        "\n",
        "Вывод: $P<\\alpha$ => регрессия значима! ($H_0$ отвергется)"
      ],
      "metadata": {
        "id": "5rF5u11smytT"
      }
    },
    {
      "cell_type": "code",
      "source": [
        "# Критическое значение  df1=4=.df_model, df2=n-k-1=706-4-1=.df_resid\n",
        "f.ppf(q=1-0.05, dfn=mod1.df_model, dfd=mod1.df_resid)"
      ],
      "metadata": {
        "colab": {
          "base_uri": "https://localhost:8080/"
        },
        "id": "QDkwZv61mq6F",
        "outputId": "067e7e79-0491-40d4-c7de-9ee445886d03"
      },
      "execution_count": 5,
      "outputs": [
        {
          "output_type": "execute_result",
          "data": {
            "text/plain": [
              "2.384637913666586"
            ]
          },
          "metadata": {},
          "execution_count": 5
        }
      ]
    },
    {
      "cell_type": "markdown",
      "source": [
        "$F=24.68>F_{cr}=2.38$ => регрессия значима!"
      ],
      "metadata": {
        "id": "ZFdALR6cou19"
      }
    },
    {
      "cell_type": "markdown",
      "source": [
        "Робастный F-тест"
      ],
      "metadata": {
        "id": "l8Z9K2Ldouth"
      }
    },
    {
      "cell_type": "code",
      "source": [
        "sleep_df = pd.read_csv('https://raw.githubusercontent.com/artamonoff/Econometrica/master/python-notebooks/data-csv/sleep75.csv')\n",
        "mod2 = smf.ols(formula='sleep~totwrk+age+male+smsa', data=sleep_df).fit(cov_type='HC3')\n",
        "print(mod2.summary(slim=True))"
      ],
      "metadata": {
        "colab": {
          "base_uri": "https://localhost:8080/"
        },
        "id": "sEWJvLzao-ZS",
        "outputId": "a7f716c8-78c1-483f-b1e7-2cd716156439"
      },
      "execution_count": 6,
      "outputs": [
        {
          "output_type": "stream",
          "name": "stdout",
          "text": [
            "                            OLS Regression Results                            \n",
            "==============================================================================\n",
            "Dep. Variable:                  sleep   R-squared:                       0.123\n",
            "Model:                            OLS   Adj. R-squared:                  0.118\n",
            "No. Observations:                 706   F-statistic:                     19.88\n",
            "Covariance Type:                  HC3   Prob (F-statistic):           1.63e-15\n",
            "==============================================================================\n",
            "                 coef    std err          z      P>|z|      [0.025      0.975]\n",
            "------------------------------------------------------------------------------\n",
            "Intercept   3494.2231     72.998     47.868      0.000    3351.150    3637.296\n",
            "totwrk        -0.1677      0.020     -8.213      0.000      -0.208      -0.128\n",
            "age            2.8065      1.366      2.054      0.040       0.129       5.484\n",
            "male          86.9084     35.438      2.452      0.014      17.451     156.366\n",
            "smsa         -75.2858     31.476     -2.392      0.017    -136.978     -13.593\n",
            "==============================================================================\n",
            "\n",
            "Notes:\n",
            "[1] Standard Errors are heteroscedasticity robust (HC3)\n",
            "[2] The condition number is large, 1.02e+04. This might indicate that there are\n",
            "strong multicollinearity or other numerical problems.\n"
          ]
        }
      ]
    },
    {
      "cell_type": "markdown",
      "source": [
        "Вывод: регрессия значима!"
      ],
      "metadata": {
        "id": "LhhvWs9OpNnP"
      }
    },
    {
      "cell_type": "markdown",
      "source": [
        "## sleep equation 2\n",
        "Регрессия `sleep` на `union, south, marr, log(hrwage)`\n",
        "\n",
        "Неробастный тест"
      ],
      "metadata": {
        "id": "0EWlvx0guhRA"
      }
    },
    {
      "cell_type": "code",
      "source": [
        "sleep_df = pd.read_csv('https://raw.githubusercontent.com/artamonoff/Econometrica/master/python-notebooks/data-csv/sleep75.csv')\n",
        "mod3 = smf.ols(formula='sleep~union+south+marr+np.log(hrwage)', data=sleep_df).fit()\n",
        "print(mod3.summary(slim=True))"
      ],
      "metadata": {
        "colab": {
          "base_uri": "https://localhost:8080/"
        },
        "id": "zRfjFR_TpGHA",
        "outputId": "70532c32-b192-40ca-8af6-235fc551b7b5"
      },
      "execution_count": 7,
      "outputs": [
        {
          "output_type": "stream",
          "name": "stdout",
          "text": [
            "                            OLS Regression Results                            \n",
            "==============================================================================\n",
            "Dep. Variable:                  sleep   R-squared:                       0.013\n",
            "Model:                            OLS   Adj. R-squared:                  0.006\n",
            "No. Observations:                 532   F-statistic:                     1.746\n",
            "Covariance Type:            nonrobust   Prob (F-statistic):              0.138\n",
            "==================================================================================\n",
            "                     coef    std err          t      P>|t|      [0.025      0.975]\n",
            "----------------------------------------------------------------------------------\n",
            "Intercept       3249.7952     60.892     53.370      0.000    3130.175    3369.415\n",
            "union             21.3754     45.135      0.474      0.636     -67.292     110.043\n",
            "south             68.1007     46.083      1.478      0.140     -22.429     158.631\n",
            "marr              72.4004     48.346      1.498      0.135     -22.575     167.376\n",
            "np.log(hrwage)   -47.7370     29.681     -1.608      0.108    -106.044      10.570\n",
            "==================================================================================\n",
            "\n",
            "Notes:\n",
            "[1] Standard Errors assume that the covariance matrix of the errors is correctly specified.\n"
          ]
        }
      ]
    },
    {
      "cell_type": "markdown",
      "source": [
        "$P=0.138=13.8\\%$\n",
        "\n",
        "Уровень значимости $\\alpha=5\\%$\n",
        "\n",
        "$P>\\alpha$ => регрессия незначима!"
      ],
      "metadata": {
        "id": "kI4DXyeXv6ru"
      }
    },
    {
      "cell_type": "code",
      "source": [
        "# Критическое значение\n",
        "f.ppf(q=1-0.05, dfn=mod3.df_model, dfd=mod3.df_resid)"
      ],
      "metadata": {
        "colab": {
          "base_uri": "https://localhost:8080/"
        },
        "id": "YJ9Fcvscv_WL",
        "outputId": "a9c939b9-3264-4562-9b90-a1274341d43f"
      },
      "execution_count": 8,
      "outputs": [
        {
          "output_type": "execute_result",
          "data": {
            "text/plain": [
              "2.388849582894386"
            ]
          },
          "metadata": {},
          "execution_count": 8
        }
      ]
    },
    {
      "cell_type": "markdown",
      "source": [
        "$F=1.746>F_{cr}=2.39$ => регрессия незначима!\n",
        "\n",
        "Робастный тест"
      ],
      "metadata": {
        "id": "TTaqYXYHwnWF"
      }
    },
    {
      "cell_type": "code",
      "source": [
        "sleep_df = pd.read_csv('https://raw.githubusercontent.com/artamonoff/Econometrica/master/python-notebooks/data-csv/sleep75.csv')\n",
        "mod4 = smf.ols(formula='sleep~union+south+marr+np.log(hrwage)', data=sleep_df).fit(cov_type='HC3')\n",
        "print(mod4.summary(slim=True))"
      ],
      "metadata": {
        "colab": {
          "base_uri": "https://localhost:8080/"
        },
        "id": "SsdG7iIVwlln",
        "outputId": "ce065666-456d-4eb4-e718-033a20f0ceca"
      },
      "execution_count": 9,
      "outputs": [
        {
          "output_type": "stream",
          "name": "stdout",
          "text": [
            "                            OLS Regression Results                            \n",
            "==============================================================================\n",
            "Dep. Variable:                  sleep   R-squared:                       0.013\n",
            "Model:                            OLS   Adj. R-squared:                  0.006\n",
            "No. Observations:                 532   F-statistic:                     1.611\n",
            "Covariance Type:                  HC3   Prob (F-statistic):              0.170\n",
            "==================================================================================\n",
            "                     coef    std err          z      P>|z|      [0.025      0.975]\n",
            "----------------------------------------------------------------------------------\n",
            "Intercept       3249.7952     62.741     51.797      0.000    3126.825    3372.765\n",
            "union             21.3754     44.723      0.478      0.633     -66.281     109.032\n",
            "south             68.1007     44.879      1.517      0.129     -19.861     156.063\n",
            "marr              72.4004     49.853      1.452      0.146     -25.310     170.111\n",
            "np.log(hrwage)   -47.7370     30.501     -1.565      0.118    -107.518      12.044\n",
            "==================================================================================\n",
            "\n",
            "Notes:\n",
            "[1] Standard Errors are heteroscedasticity robust (HC3)\n"
          ]
        }
      ]
    },
    {
      "cell_type": "code",
      "source": [],
      "metadata": {
        "id": "qc4iuzn1xgB2"
      },
      "execution_count": null,
      "outputs": []
    }
  ]
}