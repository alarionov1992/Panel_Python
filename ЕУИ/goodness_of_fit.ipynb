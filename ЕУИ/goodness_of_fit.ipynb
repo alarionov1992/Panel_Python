{
  "nbformat": 4,
  "nbformat_minor": 0,
  "metadata": {
    "colab": {
      "provenance": []
    },
    "kernelspec": {
      "name": "python3",
      "display_name": "Python 3"
    },
    "language_info": {
      "name": "python"
    }
  },
  "cells": [
    {
      "cell_type": "markdown",
      "source": [
        "# Качество подгонки модели\n",
        "датасет `sleep75`"
      ],
      "metadata": {
        "id": "2gFtfcvWoZRi"
      }
    },
    {
      "cell_type": "code",
      "execution_count": 1,
      "metadata": {
        "id": "oZyI4h_OoPRe"
      },
      "outputs": [],
      "source": [
        "import numpy as np\n",
        "import pandas as pd\n",
        "import statsmodels.formula.api as smf"
      ]
    },
    {
      "cell_type": "code",
      "source": [
        "sleep_df = pd.read_csv('https://raw.githubusercontent.com/artamonoff/Econometrica/master/python-notebooks/data-csv/sleep75.csv')\n",
        "mod1 = smf.ols(formula='sleep~totwrk+age', data=sleep_df).fit()\n",
        "mod1.summary(slim=True)"
      ],
      "metadata": {
        "colab": {
          "base_uri": "https://localhost:8080/",
          "height": 313
        },
        "id": "qw7NVDOLo3s-",
        "outputId": "fccd0514-68e0-49f6-9ab7-c221ca945653"
      },
      "execution_count": 3,
      "outputs": [
        {
          "output_type": "execute_result",
          "data": {
            "text/plain": [
              "<class 'statsmodels.iolib.summary.Summary'>\n",
              "\"\"\"\n",
              "                            OLS Regression Results                            \n",
              "==============================================================================\n",
              "Dep. Variable:                  sleep   R-squared:                       0.109\n",
              "Model:                            OLS   Adj. R-squared:                  0.106\n",
              "No. Observations:                 706   F-statistic:                     42.93\n",
              "Covariance Type:            nonrobust   Prob (F-statistic):           2.56e-18\n",
              "==============================================================================\n",
              "                 coef    std err          t      P>|t|      [0.025      0.975]\n",
              "------------------------------------------------------------------------------\n",
              "Intercept   3469.2006     68.118     50.929      0.000    3335.462    3602.939\n",
              "totwrk        -0.1490      0.017     -8.912      0.000      -0.182      -0.116\n",
              "age            2.9239      1.397      2.093      0.037       0.182       5.666\n",
              "==============================================================================\n",
              "\n",
              "Notes:\n",
              "[1] Standard Errors assume that the covariance matrix of the errors is correctly specified.\n",
              "[2] The condition number is large,  1e+04. This might indicate that there are\n",
              "strong multicollinearity or other numerical problems.\n",
              "\"\"\""
            ],
            "text/html": [
              "<table class=\"simpletable\">\n",
              "<caption>OLS Regression Results</caption>\n",
              "<tr>\n",
              "  <th>Dep. Variable:</th>      <td>sleep</td>   <th>  R-squared:         </th> <td>   0.109</td>\n",
              "</tr>\n",
              "<tr>\n",
              "  <th>Model:</th>               <td>OLS</td>    <th>  Adj. R-squared:    </th> <td>   0.106</td>\n",
              "</tr>\n",
              "<tr>\n",
              "  <th>No. Observations:</th>  <td>   706</td>   <th>  F-statistic:       </th> <td>   42.93</td>\n",
              "</tr>\n",
              "<tr>\n",
              "  <th>Covariance Type:</th>  <td>nonrobust</td> <th>  Prob (F-statistic):</th> <td>2.56e-18</td>\n",
              "</tr>\n",
              "</table>\n",
              "<table class=\"simpletable\">\n",
              "<tr>\n",
              "      <td></td>         <th>coef</th>     <th>std err</th>      <th>t</th>      <th>P>|t|</th>  <th>[0.025</th>    <th>0.975]</th>  \n",
              "</tr>\n",
              "<tr>\n",
              "  <th>Intercept</th> <td> 3469.2006</td> <td>   68.118</td> <td>   50.929</td> <td> 0.000</td> <td> 3335.462</td> <td> 3602.939</td>\n",
              "</tr>\n",
              "<tr>\n",
              "  <th>totwrk</th>    <td>   -0.1490</td> <td>    0.017</td> <td>   -8.912</td> <td> 0.000</td> <td>   -0.182</td> <td>   -0.116</td>\n",
              "</tr>\n",
              "<tr>\n",
              "  <th>age</th>       <td>    2.9239</td> <td>    1.397</td> <td>    2.093</td> <td> 0.037</td> <td>    0.182</td> <td>    5.666</td>\n",
              "</tr>\n",
              "</table><br/><br/>Notes:<br/>[1] Standard Errors assume that the covariance matrix of the errors is correctly specified.<br/>[2] The condition number is large,  1e+04. This might indicate that there are<br/>strong multicollinearity or other numerical problems."
            ]
          },
          "metadata": {},
          "execution_count": 3
        }
      ]
    },
    {
      "cell_type": "markdown",
      "source": [
        "$R^2=0.109$ Интерпретация: продолжительность сна `sleep` объясняется моделью (т.е. занятостью и возрастом, `totwrk,age`) на 10.9%\n",
        "\n",
        "$adj.R^2=0.106$ **неинтерпретируем!**"
      ],
      "metadata": {
        "id": "LOV1HR22poc8"
      }
    },
    {
      "cell_type": "code",
      "source": [
        "mod2 = smf.ols(formula='sleep~totwrk+age+male+south+marr', data=sleep_df).fit()\n",
        "mod2.summary(slim=True)"
      ],
      "metadata": {
        "colab": {
          "base_uri": "https://localhost:8080/",
          "height": 377
        },
        "id": "G8DD3stspSrT",
        "outputId": "2bd7d4da-1634-494f-dba7-59df88cef6f2"
      },
      "execution_count": 5,
      "outputs": [
        {
          "output_type": "execute_result",
          "data": {
            "text/plain": [
              "<class 'statsmodels.iolib.summary.Summary'>\n",
              "\"\"\"\n",
              "                            OLS Regression Results                            \n",
              "==============================================================================\n",
              "Dep. Variable:                  sleep   R-squared:                       0.128\n",
              "Model:                            OLS   Adj. R-squared:                  0.122\n",
              "No. Observations:                 706   F-statistic:                     20.51\n",
              "Covariance Type:            nonrobust   Prob (F-statistic):           3.86e-19\n",
              "==============================================================================\n",
              "                 coef    std err          t      P>|t|      [0.025      0.975]\n",
              "------------------------------------------------------------------------------\n",
              "Intercept   3415.3209     75.944     44.971      0.000    3266.215    3564.427\n",
              "totwrk        -0.1679      0.018     -9.311      0.000      -0.203      -0.133\n",
              "age            2.7779      1.387      2.003      0.046       0.055       5.501\n",
              "male          85.0091     34.878      2.437      0.015      16.531     153.488\n",
              "south        117.3091     40.580      2.891      0.004      37.637     196.982\n",
              "marr          36.3932     41.732      0.872      0.383     -45.541     118.327\n",
              "==============================================================================\n",
              "\n",
              "Notes:\n",
              "[1] Standard Errors assume that the covariance matrix of the errors is correctly specified.\n",
              "[2] The condition number is large, 1.17e+04. This might indicate that there are\n",
              "strong multicollinearity or other numerical problems.\n",
              "\"\"\""
            ],
            "text/html": [
              "<table class=\"simpletable\">\n",
              "<caption>OLS Regression Results</caption>\n",
              "<tr>\n",
              "  <th>Dep. Variable:</th>      <td>sleep</td>   <th>  R-squared:         </th> <td>   0.128</td>\n",
              "</tr>\n",
              "<tr>\n",
              "  <th>Model:</th>               <td>OLS</td>    <th>  Adj. R-squared:    </th> <td>   0.122</td>\n",
              "</tr>\n",
              "<tr>\n",
              "  <th>No. Observations:</th>  <td>   706</td>   <th>  F-statistic:       </th> <td>   20.51</td>\n",
              "</tr>\n",
              "<tr>\n",
              "  <th>Covariance Type:</th>  <td>nonrobust</td> <th>  Prob (F-statistic):</th> <td>3.86e-19</td>\n",
              "</tr>\n",
              "</table>\n",
              "<table class=\"simpletable\">\n",
              "<tr>\n",
              "      <td></td>         <th>coef</th>     <th>std err</th>      <th>t</th>      <th>P>|t|</th>  <th>[0.025</th>    <th>0.975]</th>  \n",
              "</tr>\n",
              "<tr>\n",
              "  <th>Intercept</th> <td> 3415.3209</td> <td>   75.944</td> <td>   44.971</td> <td> 0.000</td> <td> 3266.215</td> <td> 3564.427</td>\n",
              "</tr>\n",
              "<tr>\n",
              "  <th>totwrk</th>    <td>   -0.1679</td> <td>    0.018</td> <td>   -9.311</td> <td> 0.000</td> <td>   -0.203</td> <td>   -0.133</td>\n",
              "</tr>\n",
              "<tr>\n",
              "  <th>age</th>       <td>    2.7779</td> <td>    1.387</td> <td>    2.003</td> <td> 0.046</td> <td>    0.055</td> <td>    5.501</td>\n",
              "</tr>\n",
              "<tr>\n",
              "  <th>male</th>      <td>   85.0091</td> <td>   34.878</td> <td>    2.437</td> <td> 0.015</td> <td>   16.531</td> <td>  153.488</td>\n",
              "</tr>\n",
              "<tr>\n",
              "  <th>south</th>     <td>  117.3091</td> <td>   40.580</td> <td>    2.891</td> <td> 0.004</td> <td>   37.637</td> <td>  196.982</td>\n",
              "</tr>\n",
              "<tr>\n",
              "  <th>marr</th>      <td>   36.3932</td> <td>   41.732</td> <td>    0.872</td> <td> 0.383</td> <td>  -45.541</td> <td>  118.327</td>\n",
              "</tr>\n",
              "</table><br/><br/>Notes:<br/>[1] Standard Errors assume that the covariance matrix of the errors is correctly specified.<br/>[2] The condition number is large, 1.17e+04. This might indicate that there are<br/>strong multicollinearity or other numerical problems."
            ]
          },
          "metadata": {},
          "execution_count": 5
        }
      ]
    },
    {
      "cell_type": "code",
      "source": [
        "labour_df = pd.read_csv('https://raw.githubusercontent.com/artamonoff/Econometrica/master/python-notebooks/data-csv/Labour.csv')\n",
        "mod3 = smf.ols(formula='np.log(output)~np.log(capital)+np.log(labour)', data=labour_df).fit()\n",
        "mod3.summary(slim=True)"
      ],
      "metadata": {
        "colab": {
          "base_uri": "https://localhost:8080/",
          "height": 279
        },
        "id": "pCjL9MfcrrfM",
        "outputId": "79bdef8d-1887-4ecb-8455-7f3f3f0dd8d4"
      },
      "execution_count": 6,
      "outputs": [
        {
          "output_type": "execute_result",
          "data": {
            "text/plain": [
              "<class 'statsmodels.iolib.summary.Summary'>\n",
              "\"\"\"\n",
              "                            OLS Regression Results                            \n",
              "==============================================================================\n",
              "Dep. Variable:         np.log(output)   R-squared:                       0.838\n",
              "Model:                            OLS   Adj. R-squared:                  0.837\n",
              "No. Observations:                 569   F-statistic:                     1462.\n",
              "Covariance Type:            nonrobust   Prob (F-statistic):          2.64e-224\n",
              "===================================================================================\n",
              "                      coef    std err          t      P>|t|      [0.025      0.975]\n",
              "-----------------------------------------------------------------------------------\n",
              "Intercept          -1.7115      0.097    -17.697      0.000      -1.901      -1.522\n",
              "np.log(capital)     0.2076      0.017     12.077      0.000       0.174       0.241\n",
              "np.log(labour)      0.7148      0.023     30.890      0.000       0.669       0.760\n",
              "===================================================================================\n",
              "\n",
              "Notes:\n",
              "[1] Standard Errors assume that the covariance matrix of the errors is correctly specified.\n",
              "\"\"\""
            ],
            "text/html": [
              "<table class=\"simpletable\">\n",
              "<caption>OLS Regression Results</caption>\n",
              "<tr>\n",
              "  <th>Dep. Variable:</th>    <td>np.log(output)</td> <th>  R-squared:         </th> <td>   0.838</td> \n",
              "</tr>\n",
              "<tr>\n",
              "  <th>Model:</th>                  <td>OLS</td>      <th>  Adj. R-squared:    </th> <td>   0.837</td> \n",
              "</tr>\n",
              "<tr>\n",
              "  <th>No. Observations:</th>     <td>   569</td>     <th>  F-statistic:       </th> <td>   1462.</td> \n",
              "</tr>\n",
              "<tr>\n",
              "  <th>Covariance Type:</th>     <td>nonrobust</td>   <th>  Prob (F-statistic):</th> <td>2.64e-224</td>\n",
              "</tr>\n",
              "</table>\n",
              "<table class=\"simpletable\">\n",
              "<tr>\n",
              "         <td></td>            <th>coef</th>     <th>std err</th>      <th>t</th>      <th>P>|t|</th>  <th>[0.025</th>    <th>0.975]</th>  \n",
              "</tr>\n",
              "<tr>\n",
              "  <th>Intercept</th>       <td>   -1.7115</td> <td>    0.097</td> <td>  -17.697</td> <td> 0.000</td> <td>   -1.901</td> <td>   -1.522</td>\n",
              "</tr>\n",
              "<tr>\n",
              "  <th>np.log(capital)</th> <td>    0.2076</td> <td>    0.017</td> <td>   12.077</td> <td> 0.000</td> <td>    0.174</td> <td>    0.241</td>\n",
              "</tr>\n",
              "<tr>\n",
              "  <th>np.log(labour)</th>  <td>    0.7148</td> <td>    0.023</td> <td>   30.890</td> <td> 0.000</td> <td>    0.669</td> <td>    0.760</td>\n",
              "</tr>\n",
              "</table><br/><br/>Notes:<br/>[1] Standard Errors assume that the covariance matrix of the errors is correctly specified."
            ]
          },
          "metadata": {},
          "execution_count": 6
        }
      ]
    },
    {
      "cell_type": "markdown",
      "source": [
        "$R^2=0.838$: Выпуск объясняется капиталом и трудом на 83.8%"
      ],
      "metadata": {
        "id": "D5V0EmjqtidP"
      }
    },
    {
      "cell_type": "code",
      "source": [
        "mod4 = smf.ols(formula='np.log(output)~np.log(capital)+np.log(labour)+np.log(wage)', data=labour_df).fit()\n",
        "mod4.summary(slim=True)"
      ],
      "metadata": {
        "colab": {
          "base_uri": "https://localhost:8080/",
          "height": 300
        },
        "id": "r_zUpWB5tiHP",
        "outputId": "6b50bf9f-caac-4c4b-8aa0-de7f1a4a734c"
      },
      "execution_count": 7,
      "outputs": [
        {
          "output_type": "execute_result",
          "data": {
            "text/plain": [
              "<class 'statsmodels.iolib.summary.Summary'>\n",
              "\"\"\"\n",
              "                            OLS Regression Results                            \n",
              "==============================================================================\n",
              "Dep. Variable:         np.log(output)   R-squared:                       0.888\n",
              "Model:                            OLS   Adj. R-squared:                  0.888\n",
              "No. Observations:                 569   F-statistic:                     1499.\n",
              "Covariance Type:            nonrobust   Prob (F-statistic):          1.65e-268\n",
              "===================================================================================\n",
              "                      coef    std err          t      P>|t|      [0.025      0.975]\n",
              "-----------------------------------------------------------------------------------\n",
              "Intercept          -5.0073      0.221    -22.649      0.000      -5.442      -4.573\n",
              "np.log(capital)     0.1493      0.015     10.141      0.000       0.120       0.178\n",
              "np.log(labour)      0.7204      0.019     37.487      0.000       0.683       0.758\n",
              "np.log(wage)        0.9214      0.058     16.001      0.000       0.808       1.034\n",
              "===================================================================================\n",
              "\n",
              "Notes:\n",
              "[1] Standard Errors assume that the covariance matrix of the errors is correctly specified.\n",
              "\"\"\""
            ],
            "text/html": [
              "<table class=\"simpletable\">\n",
              "<caption>OLS Regression Results</caption>\n",
              "<tr>\n",
              "  <th>Dep. Variable:</th>    <td>np.log(output)</td> <th>  R-squared:         </th> <td>   0.888</td> \n",
              "</tr>\n",
              "<tr>\n",
              "  <th>Model:</th>                  <td>OLS</td>      <th>  Adj. R-squared:    </th> <td>   0.888</td> \n",
              "</tr>\n",
              "<tr>\n",
              "  <th>No. Observations:</th>     <td>   569</td>     <th>  F-statistic:       </th> <td>   1499.</td> \n",
              "</tr>\n",
              "<tr>\n",
              "  <th>Covariance Type:</th>     <td>nonrobust</td>   <th>  Prob (F-statistic):</th> <td>1.65e-268</td>\n",
              "</tr>\n",
              "</table>\n",
              "<table class=\"simpletable\">\n",
              "<tr>\n",
              "         <td></td>            <th>coef</th>     <th>std err</th>      <th>t</th>      <th>P>|t|</th>  <th>[0.025</th>    <th>0.975]</th>  \n",
              "</tr>\n",
              "<tr>\n",
              "  <th>Intercept</th>       <td>   -5.0073</td> <td>    0.221</td> <td>  -22.649</td> <td> 0.000</td> <td>   -5.442</td> <td>   -4.573</td>\n",
              "</tr>\n",
              "<tr>\n",
              "  <th>np.log(capital)</th> <td>    0.1493</td> <td>    0.015</td> <td>   10.141</td> <td> 0.000</td> <td>    0.120</td> <td>    0.178</td>\n",
              "</tr>\n",
              "<tr>\n",
              "  <th>np.log(labour)</th>  <td>    0.7204</td> <td>    0.019</td> <td>   37.487</td> <td> 0.000</td> <td>    0.683</td> <td>    0.758</td>\n",
              "</tr>\n",
              "<tr>\n",
              "  <th>np.log(wage)</th>    <td>    0.9214</td> <td>    0.058</td> <td>   16.001</td> <td> 0.000</td> <td>    0.808</td> <td>    1.034</td>\n",
              "</tr>\n",
              "</table><br/><br/>Notes:<br/>[1] Standard Errors assume that the covariance matrix of the errors is correctly specified."
            ]
          },
          "metadata": {},
          "execution_count": 7
        }
      ]
    }
  ]
}