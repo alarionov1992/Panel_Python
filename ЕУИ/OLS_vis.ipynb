{
 "cells": [
  {
   "cell_type": "code",
   "execution_count": null,
   "id": "31d79854",
   "metadata": {},
   "outputs": [],
   "source": [
    "import numpy as np\n",
    "import pandas as pd\n",
    "import matplotlib.pyplot as plt\n",
    "import statsmodels.formula.api as smf"
   ]
  },
  {
   "cell_type": "code",
   "execution_count": null,
   "id": "611d48ba",
   "metadata": {},
   "outputs": [],
   "source": [
    "# Загрузим данные\n",
    "df = pd.read_csv('https://raw.githubusercontent.com/artamonoff/Econometrica/master/python-notebooks/data-csv/sleep75.csv')\n",
    "# выберем первые несколько наблюдений по переменным sleep & totwrk\n",
    "n = 15\n",
    "df = df[['sleep', 'totwrk']].iloc[:n]\n",
    "df"
   ]
  },
  {
   "cell_type": "code",
   "execution_count": null,
   "id": "ef033c17",
   "metadata": {},
   "outputs": [],
   "source": [
    "beta0 = 3500\n",
    "beta1 = -0.1\n",
    "X = np.linspace(df['totwrk'].min(), df['totwrk'].max(), 10)\n",
    "Y = beta0+beta1*X\n",
    "\n",
    "fig, ax = plt.subplots()\n",
    "ax.plot(X, Y, color = 'blue')\n",
    "ax.scatter(x=df['totwrk'], y=df['sleep'], color='black')\n",
    "ax.vlines(df['totwrk'], beta0+beta1*df['totwrk'], df['sleep'], colors='r', linestyles='--')\n",
    "\n",
    "ax.legend( ['Line (y='+str(beta0)+str(beta1)+'x)', 'Observations', 'Residuals'])\n",
    "\n",
    "plt.show()"
   ]
  },
  {
   "attachments": {},
   "cell_type": "markdown",
   "id": "309a8ec1",
   "metadata": {},
   "source": [
    "Сумма квадратов остатков (ошибок прогнозов)"
   ]
  },
  {
   "cell_type": "code",
   "execution_count": null,
   "id": "4bd4f73d",
   "metadata": {},
   "outputs": [],
   "source": [
    "np.sum( (df['sleep']-beta0-beta1*df['totwrk'])**2 ).round(2)"
   ]
  },
  {
   "cell_type": "code",
   "execution_count": null,
   "id": "0fb4e13f",
   "metadata": {},
   "outputs": [],
   "source": [
    "beta0 = 2500\n",
    "beta1 = 0.2\n",
    "X = np.linspace(df['totwrk'].min(), df['totwrk'].max(), 10)\n",
    "Y = beta0+beta1*X\n",
    "\n",
    "fig, ax = plt.subplots()\n",
    "ax.plot(X, Y, color = 'blue')\n",
    "ax.scatter(x=df['totwrk'], y=df['sleep'], color='black')\n",
    "ax.vlines(df['totwrk'], beta0+beta1*df['totwrk'], df['sleep'], colors='r', linestyles='--')\n",
    "\n",
    "ax.legend( ['Line (y='+str(beta0)+'+'+str(beta1)+'x)', 'Observations', 'Residuals'])\n",
    "\n",
    "plt.show()"
   ]
  },
  {
   "attachments": {},
   "cell_type": "markdown",
   "id": "7fc162a2",
   "metadata": {},
   "source": [
    "Сумма квадратов остатков (ошибок прогнозов)"
   ]
  },
  {
   "cell_type": "code",
   "execution_count": null,
   "id": "190bfcd5",
   "metadata": {},
   "outputs": [],
   "source": [
    "np.sum( (df['sleep']-beta0-beta1*df['totwrk'])**2 ).round(2)"
   ]
  },
  {
   "cell_type": "code",
   "execution_count": null,
   "id": "29f57d78",
   "metadata": {},
   "outputs": [],
   "source": [
    "# подгонка прямой\n",
    "fitted_line = smf.ols(formula='sleep~totwrk', data=df).fit()\n",
    "beta0 = fitted_line.params[0]\n",
    "beta1 = fitted_line.params[1]\n",
    "X = np.linspace(df['totwrk'].min(), df['totwrk'].max(), 10)\n",
    "Y = beta0+beta1*X\n",
    "\n",
    "fig, ax = plt.subplots()\n",
    "ax.plot(X, Y, color = 'green')\n",
    "ax.scatter(x=df['totwrk'], y=df['sleep'], color='black')\n",
    "ax.vlines(df['totwrk'], beta0+beta1*df['totwrk'], df['sleep'], colors='r', linestyles='--')\n",
    "\n",
    "ax.legend( ['Line (y='+str(beta0)+str(beta1)+'x)', 'Observations', 'Residuals'])\n",
    "\n",
    "plt.show()"
   ]
  },
  {
   "attachments": {},
   "cell_type": "markdown",
   "id": "da48c017",
   "metadata": {},
   "source": [
    "Сумма квадратов остатков (ошибок прогнозов)"
   ]
  },
  {
   "cell_type": "code",
   "execution_count": null,
   "id": "9762f01c",
   "metadata": {},
   "outputs": [],
   "source": [
    "np.sum( (df['sleep']-beta0-beta1*df['totwrk'])**2 ).round(2)"
   ]
  }
 ],
 "metadata": {
  "kernelspec": {
   "display_name": "Python 3 (ipykernel)",
   "language": "python",
   "name": "python3"
  },
  "language_info": {
   "codemirror_mode": {
    "name": "ipython",
    "version": 3
   },
   "file_extension": ".py",
   "mimetype": "text/x-python",
   "name": "python",
   "nbconvert_exporter": "python",
   "pygments_lexer": "ipython3",
   "version": "3.9.16"
  }
 },
 "nbformat": 4,
 "nbformat_minor": 5
}
